{
 "cells": [
  {
   "cell_type": "markdown",
   "id": "565607b0",
   "metadata": {},
   "source": [
    "#### Random: that can not be predicted logically.\n",
    "    If there is a program to generate random number it can be predicted, thus it is not truly random(Psuedo Random).\n",
    "    In order to generate a truly random number on our computers we need to get the random data from some outside source. This outside source is generally our keystrokes, mouse movements, data on network etc.\n",
    "    We do not need truly random numbers, unless its related to security (e.g. encryption keys) or the basis of application is the randomness (e.g. Digital roulette wheels)."
   ]
  },
  {
   "cell_type": "code",
   "execution_count": 1,
   "id": "fe61db9c",
   "metadata": {},
   "outputs": [
    {
     "name": "stdout",
     "output_type": "stream",
     "text": [
      "54\n"
     ]
    }
   ],
   "source": [
    "from numpy import random\n",
    "import numpy as np\n",
    "#randint() method returns a random integer from 0 to n.\n",
    "x = random.randint(100)\n",
    "print(x)"
   ]
  },
  {
   "cell_type": "code",
   "execution_count": 2,
   "id": "5dd7f6f5",
   "metadata": {},
   "outputs": [
    {
     "name": "stdout",
     "output_type": "stream",
     "text": [
      "0.6993190161386489\n"
     ]
    }
   ],
   "source": [
    "#rand() method returns a random float between 0 and 1.\n",
    "x = random.rand()\n",
    "print(x)"
   ]
  },
  {
   "cell_type": "markdown",
   "id": "638cf3da",
   "metadata": {},
   "source": [
    "##### Generate Random Array"
   ]
  },
  {
   "cell_type": "code",
   "execution_count": 3,
   "id": "7be0d0ba",
   "metadata": {},
   "outputs": [
    {
     "name": "stdout",
     "output_type": "stream",
     "text": [
      "[57 80 17 76 50]\n"
     ]
    }
   ],
   "source": [
    "#Generate a 1-D array containing 5 random integers from 0 to 100:\n",
    "x=random.randint(100, size=(5))\n",
    "print(x)"
   ]
  },
  {
   "cell_type": "code",
   "execution_count": 4,
   "id": "ae0c9464",
   "metadata": {},
   "outputs": [
    {
     "name": "stdout",
     "output_type": "stream",
     "text": [
      "[[80  5 50 11 99]\n",
      " [21 97 81 74 47]\n",
      " [13 23 17 18 60]]\n"
     ]
    }
   ],
   "source": [
    "#Generate a 2-D array with 3 rows, each row containing 5 random integers from 0 to 100:\n",
    "x=random.randint(100, size=(3,5))\n",
    "print(x)"
   ]
  },
  {
   "cell_type": "code",
   "execution_count": 5,
   "id": "fa61705e",
   "metadata": {},
   "outputs": [
    {
     "name": "stdout",
     "output_type": "stream",
     "text": [
      "[0.80411034 0.62148162 0.51946358 0.34264645 0.62780271]\n"
     ]
    }
   ],
   "source": [
    "#Generate a 1-D array containing 5 random floats:\n",
    "x = random.rand(5)\n",
    "print(x)"
   ]
  },
  {
   "cell_type": "code",
   "execution_count": 7,
   "id": "eb452e81",
   "metadata": {},
   "outputs": [
    {
     "name": "stdout",
     "output_type": "stream",
     "text": [
      "[[0.84082572 0.33813326 0.37554405 0.88982549 0.94861293]\n",
      " [0.51444096 0.78537129 0.32500214 0.46471428 0.49286215]\n",
      " [0.18105531 0.73171239 0.03478016 0.89807103 0.74515095]]\n"
     ]
    }
   ],
   "source": [
    "#Generate a 2-D array with 3 rows, each row containing 5 random numbers:\n",
    "x = random.rand(3, 5)\n",
    "print(x)"
   ]
  },
  {
   "cell_type": "markdown",
   "id": "802f825d",
   "metadata": {},
   "source": [
    "##### Generate Random Number From Array\n",
    "The choice() method takes an array as a parameter and randomly returns one of the values."
   ]
  },
  {
   "cell_type": "code",
   "execution_count": 10,
   "id": "2e3fb125",
   "metadata": {},
   "outputs": [
    {
     "name": "stdout",
     "output_type": "stream",
     "text": [
      "[[3 5 7 7 3]\n",
      " [3 7 5 7 3]\n",
      " [5 5 7 5 9]]\n"
     ]
    }
   ],
   "source": [
    "x = random.choice([3, 5, 7, 9], size=(3, 5))\n",
    "print(x)"
   ]
  },
  {
   "cell_type": "markdown",
   "id": "4ee211e4",
   "metadata": {},
   "source": [
    "### Random Distribution\n",
    "A random distribution is a set of random numbers that follow a certain probability density function.\n",
    "\n",
    "The choice() method allows us to specify the probability for each value."
   ]
  },
  {
   "cell_type": "code",
   "execution_count": 14,
   "id": "c05c13b4",
   "metadata": {
    "scrolled": true
   },
   "outputs": [
    {
     "name": "stdout",
     "output_type": "stream",
     "text": [
      "[7 7 7 7 5 3 5 3 7 7 5 7 7 7 7 7 3 7 5 7 7 7 7 7 3 7 3 5 7 7 7 7 7 5 7 7 7\n",
      " 5 7 7 7 5 5 5 7 3 7 7 7 5 5 7 7 7 5 7 7 7 7 7 7 7 7 7 7 7 7 5 5 7 7 7 7 3\n",
      " 5 7 3 7 7 5 5 7 7 7 7 7 3 5 7 7 7 3 7 7 7 7 7 5 7 5]\n"
     ]
    }
   ],
   "source": [
    "x = random.choice([3, 5, 7, 9], p=[0.1, 0.3, 0.6, 0.0], size=(100))\n",
    "print(x)"
   ]
  },
  {
   "cell_type": "code",
   "execution_count": 16,
   "id": "bd19669f",
   "metadata": {},
   "outputs": [
    {
     "name": "stdout",
     "output_type": "stream",
     "text": [
      "[[5 7 7 7 7]\n",
      " [7 3 7 7 7]\n",
      " [3 5 7 7 7]]\n"
     ]
    }
   ],
   "source": [
    "x = random.choice([3, 5, 7, 9], p=[0.1, 0.3, 0.6, 0.0], size=(3, 5))\n",
    "print(x)"
   ]
  },
  {
   "cell_type": "markdown",
   "id": "2e5cdf5a",
   "metadata": {},
   "source": [
    "### Shuffle / Permutation arrays\n",
    "Shuffle means changing arrangement of elements in-place. i.e. in the array itself.\n",
    "The shuffle() method makes changes to the original array.\n",
    "\n",
    "The permutation() method returns a re-arranged array (and leaves the original array un-changed)."
   ]
  },
  {
   "cell_type": "code",
   "execution_count": 22,
   "id": "d05199ed",
   "metadata": {},
   "outputs": [
    {
     "name": "stdout",
     "output_type": "stream",
     "text": [
      "[4 2 3 5 1]\n"
     ]
    }
   ],
   "source": [
    "arr = np.array([1, 2, 3, 4, 5])\n",
    "random.shuffle(arr)\n",
    "print(arr)"
   ]
  },
  {
   "cell_type": "code",
   "execution_count": 25,
   "id": "b9967898",
   "metadata": {},
   "outputs": [
    {
     "name": "stdout",
     "output_type": "stream",
     "text": [
      "[2 1 4 3 5]\n",
      "[1 2 3 4 5]\n"
     ]
    }
   ],
   "source": [
    "arr = np.array([1, 2, 3, 4, 5])\n",
    "print(random.permutation(arr))\n",
    "print(arr)"
   ]
  },
  {
   "cell_type": "markdown",
   "id": "5afa7abd",
   "metadata": {},
   "source": [
    "### Visualize Distributions With Seaborn\n",
    "Seaborn is a library that uses Matplotlib underneath to plot graphs. It will be used to visualize random distributions.\n",
    "\n",
    "Distplot stands for distribution plot, it takes as input an array and plots a curve corresponding to the distribution of points in the array."
   ]
  },
  {
   "cell_type": "code",
   "execution_count": 26,
   "id": "6538630c",
   "metadata": {},
   "outputs": [],
   "source": [
    "import matplotlib.pyplot as plt\n",
    "import seaborn as sns"
   ]
  },
  {
   "cell_type": "code",
   "execution_count": 27,
   "id": "be565adf",
   "metadata": {},
   "outputs": [
    {
     "name": "stderr",
     "output_type": "stream",
     "text": [
      "C:\\Users\\admin\\anaconda3\\lib\\site-packages\\seaborn\\distributions.py:2557: FutureWarning: `distplot` is a deprecated function and will be removed in a future version. Please adapt your code to use either `displot` (a figure-level function with similar flexibility) or `histplot` (an axes-level function for histograms).\n",
      "  warnings.warn(msg, FutureWarning)\n"
     ]
    },
    {
     "data": {
      "image/png": "[encoded data removed]",
      "text/plain": [
       "<Figure size 432x288 with 1 Axes>"
      ]
     },
     "metadata": {
      "needs_background": "light"
     },
     "output_type": "display_data"
    }
   ],
   "source": [
    "sns.distplot([0, 1, 2, 3, 4, 5])\n",
    "plt.show()"
   ]
  },
  {
   "cell_type": "code",
   "execution_count": 29,
   "id": "9192605e",
   "metadata": {},
   "outputs": [
    {
     "name": "stderr",
     "output_type": "stream",
     "text": [
      "C:\\Users\\admin\\anaconda3\\lib\\site-packages\\seaborn\\distributions.py:2557: FutureWarning: `distplot` is a deprecated function and will be removed in a future version. Please adapt your code to use either `displot` (a figure-level function with similar flexibility) or `kdeplot` (an axes-level function for kernel density plots).\n",
      "  warnings.warn(msg, FutureWarning)\n"
     ]
    },
    {
     "data": {
      "image/png": "[encoded data removed]",
      "text/plain": [
       "<Figure size 432x288 with 1 Axes>"
      ]
     },
     "metadata": {
      "needs_background": "light"
     },
     "output_type": "display_data"
    }
   ],
   "source": [
    "#Without histogram\n",
    "sns.distplot([0, 1, 2, 3, 4, 5], hist=False)\n",
    "plt.show()"
   ]
  },
  {
   "cell_type": "markdown",
   "id": "70294d72",
   "metadata": {},
   "source": [
    "## The Normal Distribution is one of the most important distributions.\n",
    "Use the random.normal() method to get a Normal Data Distribution.\n",
    "\n",
    "It has three parameters:\n",
    "\n",
    "    loc - (Mean) where the peak of the bell exists.\n",
    "    scale - (Standard Deviation) how flat the graph distribution should be.\n",
    "    size - The shape of the returned array."
   ]
  },
  {
   "cell_type": "code",
   "execution_count": 38,
   "id": "0b737556",
   "metadata": {},
   "outputs": [
    {
     "name": "stdout",
     "output_type": "stream",
     "text": [
      "[[ 1.02307955  0.63844158  0.67051095]\n",
      " [-0.75167719  0.69799801  1.63845513]]\n"
     ]
    },
    {
     "name": "stderr",
     "output_type": "stream",
     "text": [
      "C:\\Users\\admin\\anaconda3\\lib\\site-packages\\seaborn\\distributions.py:2557: FutureWarning: `distplot` is a deprecated function and will be removed in a future version. Please adapt your code to use either `displot` (a figure-level function with similar flexibility) or `histplot` (an axes-level function for histograms).\n",
      "  warnings.warn(msg, FutureWarning)\n"
     ]
    },
    {
     "data": {
      "image/png": "[encoded data removed]",
      "text/plain": [
       "<Figure size 432x288 with 1 Axes>"
      ]
     },
     "metadata": {
      "needs_background": "light"
     },
     "output_type": "display_data"
    }
   ],
   "source": [
    "#Generate a random normal distribution of size 2x3:\n",
    "x = random.normal(size=(2, 3))\n",
    "print(x)\n",
    "sns.distplot(x)\n",
    "plt.show()"
   ]
  },
  {
   "cell_type": "code",
   "execution_count": 37,
   "id": "9c150117",
   "metadata": {},
   "outputs": [
    {
     "name": "stdout",
     "output_type": "stream",
     "text": [
      "[[ 0.53367903  1.68511101  1.38057978]\n",
      " [ 0.17325989 -1.42993368  1.72208796]]\n"
     ]
    },
    {
     "name": "stderr",
     "output_type": "stream",
     "text": [
      "C:\\Users\\admin\\anaconda3\\lib\\site-packages\\seaborn\\distributions.py:2557: FutureWarning: `distplot` is a deprecated function and will be removed in a future version. Please adapt your code to use either `displot` (a figure-level function with similar flexibility) or `histplot` (an axes-level function for histograms).\n",
      "  warnings.warn(msg, FutureWarning)\n"
     ]
    },
    {
     "data": {
      "image/png": "[encoded data removed]",
      "text/plain": [
       "<Figure size 432x288 with 1 Axes>"
      ]
     },
     "metadata": {
      "needs_background": "light"
     },
     "output_type": "display_data"
    }
   ],
   "source": [
    "#Generate a random normal distribution of size 2x3 with mean at 1 and standard deviation of 2:\n",
    "x = random.normal(loc=1, scale=2, size=(2, 3))\n",
    "print(x)\n",
    "sns.distplot(x)\n",
    "plt.show()"
   ]
  },
  {
   "cell_type": "markdown",
   "id": "b4f98ccf",
   "metadata": {},
   "source": [
    "### Binomial Distribution is a Discrete Distribution.\n",
    "\n",
    "It describes the outcome of binary scenarios, e.g. toss of a coin, it will either be head or tails. It has three parameters:\n",
    "\n",
    "    n - number of trials.\n",
    "    p - probability of occurence of each trial (e.g. for toss of a coin 0.5 each).\n",
    "    size - The shape of the returned array."
   ]
  },
  {
   "cell_type": "code",
   "execution_count": 47,
   "id": "04bb1691",
   "metadata": {},
   "outputs": [
    {
     "data": {
      "image/png": "[encoded data removed]",
      "text/plain": [
       "<Figure size 432x288 with 1 Axes>"
      ]
     },
     "metadata": {
      "needs_background": "light"
     },
     "output_type": "display_data"
    }
   ],
   "source": [
    "from numpy import random\n",
    "import matplotlib.pyplot as plt\n",
    "import seaborn as sns\n",
    "#Given 10 trials for coin toss generate 10 data points:\n",
    "x = random.binomial(n=10, p=0.5, size=1000)\n",
    "\n",
    "sns.distplot(x,kde=False)\n",
    "plt.show()"
   ]
  },
  {
   "cell_type": "code",
   "execution_count": 48,
   "id": "4129c8a9",
   "metadata": {
    "scrolled": true
   },
   "outputs": [
    {
     "name": "stderr",
     "output_type": "stream",
     "text": [
      "C:\\Users\\admin\\anaconda3\\lib\\site-packages\\seaborn\\distributions.py:2557: FutureWarning: `distplot` is a deprecated function and will be removed in a future version. Please adapt your code to use either `displot` (a figure-level function with similar flexibility) or `kdeplot` (an axes-level function for kernel density plots).\n",
      "  warnings.warn(msg, FutureWarning)\n",
      "C:\\Users\\admin\\anaconda3\\lib\\site-packages\\seaborn\\distributions.py:2557: FutureWarning: `distplot` is a deprecated function and will be removed in a future version. Please adapt your code to use either `displot` (a figure-level function with similar flexibility) or `kdeplot` (an axes-level function for kernel density plots).\n",
      "  warnings.warn(msg, FutureWarning)\n"
     ]
    },
    {
     "data": {
      "image/png": "[encoded data removed]",
      "text/plain": [
       "<Figure size 432x288 with 1 Axes>"
      ]
     },
     "metadata": {
      "needs_background": "light"
     },
     "output_type": "display_data"
    }
   ],
   "source": [
    "\"\"\"The main difference is that normal distribution is continous whereas binomial is discrete,\n",
    "but if there are enough data points it will be quite similar to normal distribution with certain loc and scale.\"\"\"\n",
    "sns.distplot(random.normal(loc=50, scale=5, size=1000), hist=False, label='normal')\n",
    "sns.distplot(random.binomial(n=100, p=0.5, size=1000), hist=False, label='binomial')\n",
    "\n",
    "plt.show()"
   ]
  },
  {
   "cell_type": "markdown",
   "id": "88df1cd6",
   "metadata": {},
   "source": [
    "### Poisson Distribution is a Discrete Distribution.\n",
    "It estimates how many times an event can happen in a specified time. e.g. If someone eats twice a day what is probability he will eat thrice?\n",
    "It has two parameters:\n",
    "\n",
    "    lam - rate or known number of occurences e.g. 2 for above problem.\n",
    "    size - The shape of the returned array."
   ]
  },
  {
   "cell_type": "code",
   "execution_count": 50,
   "id": "cf950050",
   "metadata": {},
   "outputs": [
    {
     "name": "stdout",
     "output_type": "stream",
     "text": [
      "[2 2 3 3 6 1 2 1 5 2]\n"
     ]
    }
   ],
   "source": [
    "from numpy import random\n",
    "x = random.poisson(lam=2, size=10)\n",
    "print(x)"
   ]
  },
  {
   "cell_type": "code",
   "execution_count": 51,
   "id": "c313a35a",
   "metadata": {},
   "outputs": [
    {
     "name": "stderr",
     "output_type": "stream",
     "text": [
      "C:\\Users\\admin\\anaconda3\\lib\\site-packages\\seaborn\\distributions.py:2557: FutureWarning: `distplot` is a deprecated function and will be removed in a future version. Please adapt your code to use either `displot` (a figure-level function with similar flexibility) or `histplot` (an axes-level function for histograms).\n",
      "  warnings.warn(msg, FutureWarning)\n"
     ]
    },
    {
     "data": {
      "image/png": "[encoded data removed]",
      "text/plain": [
       "<Figure size 432x288 with 1 Axes>"
      ]
     },
     "metadata": {
      "needs_background": "light"
     },
     "output_type": "display_data"
    }
   ],
   "source": [
    "sns.distplot(random.poisson(lam=2, size=1000), kde=False)\n",
    "plt.show()"
   ]
  },
  {
   "cell_type": "code",
   "execution_count": 52,
   "id": "c3b6089d",
   "metadata": {},
   "outputs": [
    {
     "name": "stderr",
     "output_type": "stream",
     "text": [
      "C:\\Users\\admin\\anaconda3\\lib\\site-packages\\seaborn\\distributions.py:2557: FutureWarning: `distplot` is a deprecated function and will be removed in a future version. Please adapt your code to use either `displot` (a figure-level function with similar flexibility) or `kdeplot` (an axes-level function for kernel density plots).\n",
      "  warnings.warn(msg, FutureWarning)\n",
      "C:\\Users\\admin\\anaconda3\\lib\\site-packages\\seaborn\\distributions.py:2557: FutureWarning: `distplot` is a deprecated function and will be removed in a future version. Please adapt your code to use either `displot` (a figure-level function with similar flexibility) or `kdeplot` (an axes-level function for kernel density plots).\n",
      "  warnings.warn(msg, FutureWarning)\n"
     ]
    },
    {
     "data": {
      "image/png": "[encoded data removed]",
      "text/plain": [
       "<Figure size 432x288 with 1 Axes>"
      ]
     },
     "metadata": {
      "needs_background": "light"
     },
     "output_type": "display_data"
    }
   ],
   "source": [
    "\"\"\"Normal distribution is continous whereas poisson is discrete.\n",
    "But we can see that similar to binomial for a large enough poisson distribution \n",
    "it will become similar to normal distribution with certain std dev and mean.\"\"\"\n",
    "sns.distplot(random.normal(loc=50, scale=7, size=1000), hist=False, label='normal')\n",
    "sns.distplot(random.poisson(lam=50, size=1000), hist=False, label='poisson')\n",
    "\n",
    "plt.show()"
   ]
  },
  {
   "cell_type": "code",
   "execution_count": null,
   "id": "e53bf15d",
   "metadata": {},
   "outputs": [],
   "source": []
  }
 ],
 "metadata": {
  "kernelspec": {
   "display_name": "Python 3 (ipykernel)",
   "language": "python",
   "name": "python3"
  },
  "language_info": {
   "codemirror_mode": {
    "name": "ipython",
    "version": 3
   },
   "file_extension": ".py",
   "mimetype": "text/x-python",
   "name": "python",
   "nbconvert_exporter": "python",
   "pygments_lexer": "ipython3",
   "version": "3.9.13"
  }
 },
 "nbformat": 4,
 "nbformat_minor": 5
}

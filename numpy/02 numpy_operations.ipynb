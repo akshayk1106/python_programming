{
 "cells": [
  {
   "cell_type": "markdown",
   "id": "47619a91-59b7-4b61-a9a5-31922ef78fe5",
   "metadata": {},
   "source": []
  },
  {
   "cell_type": "markdown",
   "id": "091c147b-5b5e-48fb-a76a-e002f25ffa2e",
   "metadata": {},
   "source": [
    "### <mark> copy and view\n",
    "\n",
    "copy()\n",
    "\n",
    "    -if change in one, No change in other\n",
    "\n",
    "view()\n",
    "\n",
    "    -creates a reference of existing array\n",
    "    -if change in one, there is change in other"
   ]
  },
  {
   "cell_type": "code",
   "execution_count": 2,
   "id": "a41171b7-7cd1-4de0-bca1-fd98b25e939b",
   "metadata": {},
   "outputs": [
    {
     "data": {
      "text/plain": [
       "array([1, 2, 3])"
      ]
     },
     "execution_count": 2,
     "metadata": {},
     "output_type": "execute_result"
    }
   ],
   "source": [
    "import numpy as np\n",
    "v=np.array([1,2,3])\n",
    "c=np.copy(v)\n",
    "c"
   ]
  },
  {
   "cell_type": "code",
   "execution_count": 3,
   "id": "9cd7c3b0-a8e4-4bc2-be77-bbd288ed9d9e",
   "metadata": {},
   "outputs": [
    {
     "name": "stdout",
     "output_type": "stream",
     "text": [
      "c [99  2  3]\n",
      "v [1 2 3]\n"
     ]
    }
   ],
   "source": [
    "c[0]=99\n",
    "print(\"c\", c)\n",
    "print(\"v\", v)"
   ]
  },
  {
   "cell_type": "code",
   "execution_count": 4,
   "id": "a5328f9b-8769-473c-80ad-cef1489dfa58",
   "metadata": {},
   "outputs": [
    {
     "data": {
      "text/plain": [
       "array([1, 2, 3])"
      ]
     },
     "execution_count": 4,
     "metadata": {},
     "output_type": "execute_result"
    }
   ],
   "source": [
    "v=np.array([1,2,3])\n",
    "c=v.view()\n",
    "c"
   ]
  },
  {
   "cell_type": "code",
   "execution_count": 5,
   "id": "45774225-1887-48f0-a42c-79a13734601c",
   "metadata": {},
   "outputs": [
    {
     "name": "stdout",
     "output_type": "stream",
     "text": [
      "c [99  2  3]\n",
      "v [99  2  3]\n"
     ]
    }
   ],
   "source": [
    "c[0]=99\n",
    "print(\"c\", c)\n",
    "print(\"v\", v)"
   ]
  },
  {
   "cell_type": "code",
   "execution_count": 6,
   "id": "53fbc95d-51e0-4cd2-89d2-74929ec3e847",
   "metadata": {},
   "outputs": [
    {
     "name": "stdout",
     "output_type": "stream",
     "text": [
      "c [99  0  3]\n",
      "v [99  0  3]\n"
     ]
    }
   ],
   "source": [
    "v[1]=0\n",
    "print(\"c\", c)\n",
    "print(\"v\", v)"
   ]
  },
  {
   "cell_type": "code",
   "execution_count": null,
   "id": "cc80f29b-5dd9-4ae8-b26d-8d308efdc5c7",
   "metadata": {},
   "outputs": [],
   "source": []
  },
  {
   "cell_type": "markdown",
   "id": "c3f0a8b9-1062-4c54-b3f7-433aab86ed1e",
   "metadata": {},
   "source": [
    "## <mark> Filter using np.where\n",
    "    \n",
    "    where(condition, [x, y], /)\n",
    "\n",
    "    returns: An array with elements from `x` where `condition` is True, and elements\n",
    "    from `y` elsewhere.\n",
    "    \n",
    "    x and y needs to be of same shape\n",
    "    \n",
    "    you can use broadcast value also"
   ]
  },
  {
   "cell_type": "code",
   "execution_count": 70,
   "id": "e9ef3841-241b-4d2d-bab0-7eb3ecadd6ce",
   "metadata": {},
   "outputs": [
    {
     "name": "stdout",
     "output_type": "stream",
     "text": [
      "[41 43]\n"
     ]
    }
   ],
   "source": [
    "arr = np.array([41, 42, 43, 44])\n",
    "x = [True, False, True, False]\n",
    "newarr = arr[x]\n",
    "print(newarr)"
   ]
  },
  {
   "cell_type": "code",
   "execution_count": 2,
   "id": "b7e73170-e36d-4b51-b6fc-aff4591b430a",
   "metadata": {},
   "outputs": [],
   "source": [
    "import numpy as np\n",
    "arr = np.array([[1, 2, 3],\n",
    "       [4, 5, 6],\n",
    "       [7, 1, 0]])"
   ]
  },
  {
   "cell_type": "code",
   "execution_count": 51,
   "id": "c8b54386-498e-4665-8994-345227be24ae",
   "metadata": {},
   "outputs": [
    {
     "data": {
      "text/plain": [
       "(array([1, 2], dtype=int64), array([2, 0], dtype=int64))"
      ]
     },
     "execution_count": 51,
     "metadata": {},
     "output_type": "execute_result"
    }
   ],
   "source": [
    "# np.where: Returns element's index depending on `condition`.\n",
    "np.where(arr>5)"
   ]
  },
  {
   "cell_type": "code",
   "execution_count": 52,
   "id": "b1b21011-1444-450a-a5ee-e317b92d11f1",
   "metadata": {},
   "outputs": [
    {
     "data": {
      "text/plain": [
       "array([ 0,  1,  2,  3,  4, 50, 60, 70, 80, 90])"
      ]
     },
     "execution_count": 52,
     "metadata": {},
     "output_type": "execute_result"
    }
   ],
   "source": [
    "a = np.arange(10)\n",
    "np.where(a < 5, a, 10*a)"
   ]
  },
  {
   "cell_type": "code",
   "execution_count": 48,
   "id": "cf220daf-bfd8-44d1-85c6-5554b4b79843",
   "metadata": {},
   "outputs": [
    {
     "data": {
      "text/plain": [
       "(array([2, 3, 4], dtype=int64),)"
      ]
     },
     "execution_count": 48,
     "metadata": {},
     "output_type": "execute_result"
    }
   ],
   "source": [
    "p=np.array([11,21,31,41,51])\n",
    "x=np.where(p>23)\n",
    "x"
   ]
  },
  {
   "cell_type": "code",
   "execution_count": 3,
   "id": "0102a077-75e7-4bd8-86ec-382f18b78f1c",
   "metadata": {},
   "outputs": [
    {
     "data": {
      "text/plain": [
       "array([11, 21, 20, 44, 66])"
      ]
     },
     "execution_count": 3,
     "metadata": {},
     "output_type": "execute_result"
    }
   ],
   "source": [
    "p=np.array([11, 21, 311, 411, 511])\n",
    "q=np.array([13, 24, 20, 44, 66])\n",
    "x=np.where(p<23, p, q)\n",
    "x\n",
    "\n",
    "# p and q needs to be of same shape"
   ]
  },
  {
   "cell_type": "code",
   "execution_count": 61,
   "id": "c3e44408-c310-46ca-933d-33b3e8c5561c",
   "metadata": {},
   "outputs": [
    {
     "data": {
      "text/plain": [
       "array([[ 0,  1,  2],\n",
       "       [ 0,  2, -1],\n",
       "       [ 0,  3, -1]])"
      ]
     },
     "execution_count": 61,
     "metadata": {},
     "output_type": "execute_result"
    }
   ],
   "source": [
    "a = np.array([[0, 1, 2],\n",
    "               [0, 2, 4],\n",
    "               [0, 3, 6]])\n",
    "\n",
    "np.where(a < 4, a, -1)  # -1 is broadcast"
   ]
  },
  {
   "cell_type": "code",
   "execution_count": 60,
   "id": "ea828fc8-b21c-4da5-9655-15a5f3d3d138",
   "metadata": {},
   "outputs": [
    {
     "name": "stdout",
     "output_type": "stream",
     "text": [
      "b:  (array([3, 4], dtype=int64),)\n",
      "c:  [61 60]\n"
     ]
    }
   ],
   "source": [
    "a=np.array([66,65,67,61,60,69])\n",
    "b=np.where(a<65)\n",
    "print(\"b: \",b)\n",
    "\n",
    "c=a[np.where(a<65)]\n",
    "print(\"c: \",c)"
   ]
  },
  {
   "cell_type": "code",
   "execution_count": 62,
   "id": "1f734325-6d0c-4342-ab0b-18bf69979548",
   "metadata": {},
   "outputs": [
    {
     "name": "stdout",
     "output_type": "stream",
     "text": [
      "5 is found at index:  (array([4], dtype=int64),)\n",
      "[4]\n"
     ]
    }
   ],
   "source": [
    "# finding the index of the value\n",
    "\n",
    "a = numpy.array([1, 2, 3, 4, 5])\n",
    "\n",
    "print(\"5 is found at index: \", numpy.where(a == 5))\n",
    "print(numpy.where(a == 5)[0])"
   ]
  },
  {
   "cell_type": "code",
   "execution_count": null,
   "id": "987aa4e2-026e-487d-a430-da9e85a4c882",
   "metadata": {},
   "outputs": [],
   "source": [
    "abc=np.arange(100,120,2)\n",
    "print('abc: ', abc)\n",
    "\n",
    "xyz=np.arange(1,20,1)\n",
    "x=np.where(abc%2==0)\n",
    "print('indices: ',x)\n",
    "\n",
    "print('Filtered new array:\\n', np.array(abc[x]))"
   ]
  },
  {
   "cell_type": "markdown",
   "id": "bad6956b-5b5d-4ba0-8e41-9ba1df12565b",
   "metadata": {},
   "source": [
    "##### <mark> searching arrays for a particular value"
   ]
  },
  {
   "cell_type": "code",
   "execution_count": 71,
   "id": "083b0251-a2d7-4827-bd3e-ff9ce1c304b8",
   "metadata": {},
   "outputs": [
    {
     "name": "stdout",
     "output_type": "stream",
     "text": [
      "4 is found at index:  (array([3, 5, 6], dtype=int64),)\n",
      "Even are found at index:  (array([ 1,  3,  5,  6,  7,  9, 11], dtype=int64),)\n"
     ]
    }
   ],
   "source": [
    "import numpy as np\n",
    "\n",
    "arr = np.array([1, 2, 3, 4, 5, 4, 4,6,7,8,9,10])\n",
    "\n",
    "x = np.where(arr == 4)\n",
    "print(\"4 is found at index: \",x)\n",
    "\n",
    "x = np.where(arr%2 == 0)\n",
    "print(\"Even are found at index: \",x)"
   ]
  },
  {
   "cell_type": "code",
   "execution_count": 72,
   "id": "3c305ca3-7ea2-4041-98d2-e119beb44bf9",
   "metadata": {},
   "outputs": [
    {
     "name": "stdout",
     "output_type": "stream",
     "text": [
      "[6 7 8 9]\n",
      "4\n",
      "[ 6  7  8  9 10]\n"
     ]
    }
   ],
   "source": [
    "\"\"\"searchsorted()\n",
    "There is a method called searchsorted() which performs a binary search in the array, \n",
    "and returns the index where the specified value would be inserted to maintain the search order.\n",
    "The searchsorted() method is assumed to be used on sorted arrays.\n",
    "\"\"\"\n",
    "\n",
    "#Find the indexes where the value 7 should be inserted:\n",
    "arr = np.array([6, 7, 8, 9])\n",
    "print(arr)\n",
    "x = np.searchsorted(arr, 10)\n",
    "print(x)\n",
    "print(np.insert(arr,x,10))"
   ]
  },
  {
   "cell_type": "code",
   "execution_count": 73,
   "id": "6d3de198-bcc2-4fbc-a553-74a8051e1aab",
   "metadata": {},
   "outputs": [
    {
     "name": "stdout",
     "output_type": "stream",
     "text": [
      "2\n"
     ]
    }
   ],
   "source": [
    "#Find the indexes where the value 7 should be inserted, starting from the right:\n",
    "arr = np.array([6, 7, 8, 9])\n",
    "x = np.searchsorted(arr, 7, side='right')\n",
    "print(x)"
   ]
  },
  {
   "cell_type": "code",
   "execution_count": 74,
   "id": "c9cc5fd1-cdaf-4e6a-b980-092873f209c6",
   "metadata": {},
   "outputs": [
    {
     "name": "stdout",
     "output_type": "stream",
     "text": [
      "[1 3 5 7]\n",
      "insert at: [1 2 3]\n",
      "[1 2 3 4 5 6 7]\n"
     ]
    }
   ],
   "source": [
    "#Multiple values: Find the indexes where the values 2, 4, and 6 should be inserted:\n",
    "arr = np.array([1, 3, 5, 7])\n",
    "print(arr)\n",
    "x = np.searchsorted(arr, [2, 4, 6])\n",
    "print(\"insert at:\",x)\n",
    "print(np.insert(arr,x,[2, 4, 6]))"
   ]
  },
  {
   "cell_type": "code",
   "execution_count": null,
   "id": "ad7f673a-aaf3-4f6d-ab76-9de76358b081",
   "metadata": {},
   "outputs": [],
   "source": []
  },
  {
   "cell_type": "markdown",
   "id": "f648435f-8c0d-474e-9156-31e442e7d6a5",
   "metadata": {},
   "source": [
    "## <mark> Axis in numpy\n",
    "\n",
    "#### 2-D:\n",
    "A Matrix is an example of two-dimensional data. Matrix is a collection of vectors and has a shape of (N,M) , where N is the number of vectors in it and M is the number of scalars in each vector.\n",
    "\n",
    "The shape of the following example matrix would be(2,3).\n",
    "\n",
    "[[1,2,3],\n",
    " [4,5,6]]\n",
    "\n",
    "Matrix is a 2-dimensional data so it has 2 axes. \n",
    "\n",
    "Taking sum across axis-0 means we are summing all vectors together.\n",
    "\n",
    "data = [[1,2,3],[4,5,6]]\n",
    "np.sum(data, axis=0)\n",
    "\n",
    "->[5, 7, 9]\n",
    "\n",
    "Taking sum across axis-1 means, we are summing all scalars inside a vector.\n",
    "\n",
    "data = [[1,2,3],[4,5,6]]\n",
    "np.sum(data, axis=1)\n",
    "\n",
    "->[6, 15]"
   ]
  },
  {
   "cell_type": "markdown",
   "id": "ba62e403-2fa7-4255-9512-330fc3fed919",
   "metadata": {},
   "source": [
    "### 3-D:\n",
    "Similarly, 3D data is a collection of 2D data-points(matrix). The shape of 3D data would be (N,M,P). There would be N matrices of shape (M,P).\n",
    "\n",
    "The shape of the following 3-dimensional data would be(2,2,3).\n",
    "\n",
    "[[[1,1,1],\n",
    "  [3,3,3]],\n",
    " [[2,2,2],\n",
    "  [4,4,4]]]\n",
    "  \n",
    "Applying sum function across axis-0 means you are summing all matrices together.\n",
    "\n",
    "Applying sum function across axis-1 means you are summing all vectors inside each metrics.\n",
    "\n",
    "Applying sum function across axis-2 means you are summing all scalars inside each Vector."
   ]
  },
  {
   "cell_type": "markdown",
   "id": "b2cd5d3d-dd31-481b-82de-7a2357a89d40",
   "metadata": {},
   "source": [
    "##### Axis operations in NumPY:\n",
    "\n",
    "    1D -> [1,2,3,4,5] -> shape(5,) [Axis 0]\n",
    "    2D -> [[1,2,3,4,5],[4,5,6,7,8]] -> shape(2,5) [Axis 0, Axis 1]\n",
    "    3D -> [[[1,2],[3,4],[5,6]]] -> shape(1,3,2) [Axis 0, Axis 1, Axis 2]\n",
    "    \n",
    "    while sorting, adding remember:\n",
    "    axis 0 -columnswise\n",
    "    axis 1-rowwise"
   ]
  },
  {
   "cell_type": "markdown",
   "id": "d2d7d298-f76e-4702-97d2-915c2d84ce63",
   "metadata": {},
   "source": [
    "##### Axis in Pandas\n",
    "Similarly in Pandas, you can handle **Series as 1D** Dimensional data and **Dataframe as 2D** Dimensional data.\n",
    "\n",
    "For example, in Dataframe, **ROWS ARE CONSIDERED ALONG AXIS=0** and **COLUMNS ALONG AXIS=1.** Applying any function across axis-0 means you are performing computation between all rows and applying a function across axis-1 means you are performing computation between all columns."
   ]
  },
  {
   "cell_type": "code",
   "execution_count": 26,
   "id": "e212762b-050e-4a82-8362-54732679c412",
   "metadata": {},
   "outputs": [],
   "source": [
    "import numpy as np"
   ]
  },
  {
   "cell_type": "code",
   "execution_count": 27,
   "id": "7aa42c9f-6e7d-4637-a99a-3fb83f1c5356",
   "metadata": {},
   "outputs": [
    {
     "name": "stdout",
     "output_type": "stream",
     "text": [
      "Array: 4\n",
      "Dim: 0\n",
      "Shape: ()\n"
     ]
    }
   ],
   "source": [
    "#Scalar\n",
    "k=np.array(4)\n",
    "print(\"Array:\",k)\n",
    "print(\"Dim:\",k.ndim)\n",
    "print(\"Shape:\",k.shape)"
   ]
  },
  {
   "cell_type": "code",
   "execution_count": 28,
   "id": "3cc7f2b1-9bc5-4e84-bd88-90f6d8de569c",
   "metadata": {},
   "outputs": [
    {
     "name": "stdout",
     "output_type": "stream",
     "text": [
      "Array: [4 5]\n",
      "Dim: 1\n",
      "Shape: (2,)\n"
     ]
    }
   ],
   "source": [
    "#1D vector\n",
    "k=np.array([4,5])\n",
    "print(\"Array:\",k)\n",
    "print(\"Dim:\",k.ndim)\n",
    "print(\"Shape:\",k.shape)"
   ]
  },
  {
   "cell_type": "code",
   "execution_count": 29,
   "id": "91f70421-873a-4316-ae75-60160ff9990d",
   "metadata": {},
   "outputs": [
    {
     "name": "stdout",
     "output_type": "stream",
     "text": [
      "Array K: [[4 5]\n",
      " [6 7]]\n",
      "Dim K: 2\n",
      "Shape K: (2, 2) \n",
      "\n",
      "Array Y: [[4 5]]\n",
      "Dim Y: 2\n",
      "Shape Y: (1, 2)\n"
     ]
    }
   ],
   "source": [
    "#2D matrix\n",
    "k=np.array([[4,5],[6,7,]])\n",
    "print(\"Array K:\",k)\n",
    "print(\"Dim K:\",k.ndim)\n",
    "print(\"Shape K:\",k.shape,'\\n')\n",
    "\n",
    "y=np.array([[4,5]])\n",
    "print(\"Array Y:\",y)\n",
    "print(\"Dim Y:\",y.ndim)\n",
    "print(\"Shape Y:\",y.shape)"
   ]
  },
  {
   "cell_type": "code",
   "execution_count": 30,
   "id": "c460ff0a-b728-4121-8561-f6be2c05adaa",
   "metadata": {},
   "outputs": [
    {
     "name": "stdout",
     "output_type": "stream",
     "text": [
      "Array K: [[[4 5]\n",
      "  [6 7]]]\n",
      "Dim K: 3\n",
      "Shape K: (1, 2, 2) \n",
      "\n"
     ]
    }
   ],
   "source": [
    "#3D\n",
    "k=np.array([[[4,5],[6,7,]]])\n",
    "print(\"Array K:\",k)\n",
    "print(\"Dim K:\",k.ndim)\n",
    "print(\"Shape K:\",k.shape,'\\n')"
   ]
  },
  {
   "cell_type": "code",
   "execution_count": 31,
   "id": "58a5f136-3dbb-48de-854c-97d367b8d238",
   "metadata": {},
   "outputs": [
    {
     "name": "stdout",
     "output_type": "stream",
     "text": [
      "[[[1 1 1]\n",
      "  [3 3 3]]\n",
      "\n",
      " [[2 2 2]\n",
      "  [4 4 4]]]\n",
      "Shape is : (2, 2, 3)\n"
     ]
    }
   ],
   "source": [
    "d3=np.array([[[1,1,1], [3,3,3]], [[2,2,2], [4,4,4]]])\n",
    "print(d3)\n",
    "\"\"\"(2,2,3)\n",
    "It contains Two matrices, \n",
    "each containing TWO vectors \n",
    "which in turn containing THREE scalars each\"\"\"\n",
    "print(\"Shape is :\", d3.shape)"
   ]
  },
  {
   "cell_type": "markdown",
   "id": "faca85e2-14ff-4a75-86d4-79bd2f3c8a98",
   "metadata": {},
   "source": [
    "### <mark> Sum along axis in arrays"
   ]
  },
  {
   "cell_type": "code",
   "execution_count": 32,
   "id": "65779cf2-52b9-4acb-ace3-426df4338aa5",
   "metadata": {},
   "outputs": [
    {
     "data": {
      "text/plain": [
       "array([[3, 3, 3],\n",
       "       [7, 7, 7]])"
      ]
     },
     "execution_count": 32,
     "metadata": {},
     "output_type": "execute_result"
    }
   ],
   "source": [
    "np.sum(d3, axis=0)\n",
    "#Applying sum function across axis-0 means you are summing all matrices together."
   ]
  },
  {
   "cell_type": "code",
   "execution_count": 33,
   "id": "3637a705-4253-4f10-8b85-fc3b2efb0a7c",
   "metadata": {},
   "outputs": [
    {
     "data": {
      "text/plain": [
       "array([[4, 4, 4],\n",
       "       [6, 6, 6]])"
      ]
     },
     "execution_count": 33,
     "metadata": {},
     "output_type": "execute_result"
    }
   ],
   "source": [
    "np.sum(d3, axis=1)\n",
    "#Applying sum function across axis-1 means you are summing all vectors inside each metrics."
   ]
  },
  {
   "cell_type": "code",
   "execution_count": 34,
   "id": "78949e17-2c63-4546-a996-60bc63334202",
   "metadata": {},
   "outputs": [
    {
     "data": {
      "text/plain": [
       "array([[ 3,  9],\n",
       "       [ 6, 12]])"
      ]
     },
     "execution_count": 34,
     "metadata": {},
     "output_type": "execute_result"
    }
   ],
   "source": [
    "np.sum(d3,axis=2)\n",
    "#Applying sum function across axis-2 means you are summing all scalars inside each Vector."
   ]
  },
  {
   "cell_type": "code",
   "execution_count": 4,
   "id": "3658682b-e82f-42fc-a840-b442762b3d79",
   "metadata": {},
   "outputs": [
    {
     "name": "stdout",
     "output_type": "stream",
     "text": [
      "[[[ 1  2  3  4]\n",
      "  [ 5  6  7  8]\n",
      "  [ 9 10 11 12]]\n",
      "\n",
      " [[13 14 15 16]\n",
      "  [17 18 19 20]\n",
      "  [21 22 23 24]]]\n"
     ]
    }
   ],
   "source": [
    "import numpy as np\n",
    "arr=np.arange(1,25).reshape(2,3,4)\n",
    "print(arr)"
   ]
  },
  {
   "cell_type": "code",
   "execution_count": 5,
   "id": "e0ed72f4-6058-4f7e-b166-906d8eeb7aa2",
   "metadata": {},
   "outputs": [
    {
     "data": {
      "text/plain": [
       "array([[14, 16, 18, 20],\n",
       "       [22, 24, 26, 28],\n",
       "       [30, 32, 34, 36]])"
      ]
     },
     "execution_count": 5,
     "metadata": {},
     "output_type": "execute_result"
    }
   ],
   "source": [
    "np.sum(arr,axis=0)"
   ]
  },
  {
   "cell_type": "code",
   "execution_count": 6,
   "id": "71a99330-e804-498a-8622-4fb6f8d64e1d",
   "metadata": {},
   "outputs": [
    {
     "data": {
      "text/plain": [
       "array([[15, 18, 21, 24],\n",
       "       [51, 54, 57, 60]])"
      ]
     },
     "execution_count": 6,
     "metadata": {},
     "output_type": "execute_result"
    }
   ],
   "source": [
    "np.sum(arr,axis=1)"
   ]
  },
  {
   "cell_type": "code",
   "execution_count": 69,
   "id": "64016d03-b0a0-4b96-8eff-d1f1d9476186",
   "metadata": {},
   "outputs": [
    {
     "data": {
      "text/plain": [
       "array([[10, 26, 42],\n",
       "       [58, 74, 90]])"
      ]
     },
     "execution_count": 69,
     "metadata": {},
     "output_type": "execute_result"
    }
   ],
   "source": [
    "np.sum(arr,axis=2)"
   ]
  },
  {
   "cell_type": "code",
   "execution_count": null,
   "id": "c40a2a42-9eb8-41df-a5c8-e5e04e00b664",
   "metadata": {},
   "outputs": [],
   "source": []
  },
  {
   "cell_type": "markdown",
   "id": "c491aa6f-ac4e-42ef-bb31-e31dd78b6661",
   "metadata": {
    "tags": []
   },
   "source": [
    "## <mark> Sorting\n",
    "\n",
    "##### axis in np.array sorting\n",
    "for numpy:\n",
    "\n",
    "    axis 0: means through columns\n",
    "    axis 1: means through rows"
   ]
  },
  {
   "cell_type": "code",
   "execution_count": 7,
   "id": "83257096-67e2-4b9e-9a15-7c543cd2fc2b",
   "metadata": {},
   "outputs": [
    {
     "data": {
      "text/plain": [
       "(1, 1, 4)"
      ]
     },
     "execution_count": 7,
     "metadata": {},
     "output_type": "execute_result"
    }
   ],
   "source": [
    "import numpy as np\n",
    "\n",
    "a3=np.array([[[100,23,3,49]]])\n",
    "a3.shape"
   ]
  },
  {
   "cell_type": "code",
   "execution_count": 8,
   "id": "0e23e412-7447-4f73-a05f-69127fb942a5",
   "metadata": {},
   "outputs": [
    {
     "data": {
      "text/plain": [
       "array([[[  3,  23,  49, 100]]])"
      ]
     },
     "execution_count": 8,
     "metadata": {},
     "output_type": "execute_result"
    }
   ],
   "source": [
    "a3.sort()\n",
    "a3"
   ]
  },
  {
   "cell_type": "code",
   "execution_count": 9,
   "id": "90e3ba09-8c89-4b64-a819-0aed824de9f4",
   "metadata": {},
   "outputs": [
    {
     "name": "stdout",
     "output_type": "stream",
     "text": [
      "[[ 55  96  14]\n",
      " [ 23 410  96]]\n"
     ]
    }
   ],
   "source": [
    "b2=np.array([[55,96,14],[23,410,96]])\n",
    "print(b2)"
   ]
  },
  {
   "cell_type": "code",
   "execution_count": 10,
   "id": "ebc92f88-a2fc-4c47-96a7-c0a6e9028955",
   "metadata": {},
   "outputs": [
    {
     "data": {
      "text/plain": [
       "array([[ 23,  96,  14],\n",
       "       [ 55, 410,  96]])"
      ]
     },
     "execution_count": 10,
     "metadata": {},
     "output_type": "execute_result"
    }
   ],
   "source": [
    "np.sort(b2, axis=0) #Columnwise"
   ]
  },
  {
   "cell_type": "code",
   "execution_count": 11,
   "id": "163b2741-2531-400e-aa0f-3f51a99b63bb",
   "metadata": {},
   "outputs": [
    {
     "data": {
      "text/plain": [
       "array([[ 14,  55,  96],\n",
       "       [ 23,  96, 410]])"
      ]
     },
     "execution_count": 11,
     "metadata": {},
     "output_type": "execute_result"
    }
   ],
   "source": [
    "np.sort(b2, axis=1) #Row wise"
   ]
  },
  {
   "cell_type": "code",
   "execution_count": 12,
   "id": "c3014e9a-d869-43ca-af4d-5dae738d0d28",
   "metadata": {},
   "outputs": [
    {
     "data": {
      "text/plain": [
       "(1, 3)"
      ]
     },
     "execution_count": 12,
     "metadata": {},
     "output_type": "execute_result"
    }
   ],
   "source": [
    "bb2=np.array([[42,36,98]])\n",
    "bb2.shape"
   ]
  },
  {
   "cell_type": "code",
   "execution_count": 13,
   "id": "fdb3c788-a615-44e4-a004-268638a6fd5b",
   "metadata": {},
   "outputs": [
    {
     "data": {
      "text/plain": [
       "array([[36, 42, 98]])"
      ]
     },
     "execution_count": 13,
     "metadata": {},
     "output_type": "execute_result"
    }
   ],
   "source": [
    "np.sort(bb2, axis=1)"
   ]
  },
  {
   "cell_type": "code",
   "execution_count": 14,
   "id": "4de1c9e5-47be-4e67-a1e7-f49e90b40d63",
   "metadata": {},
   "outputs": [
    {
     "data": {
      "text/plain": [
       "array([[42, 36, 98]])"
      ]
     },
     "execution_count": 14,
     "metadata": {},
     "output_type": "execute_result"
    }
   ],
   "source": [
    "np.sort(bb2, axis=0)"
   ]
  },
  {
   "cell_type": "code",
   "execution_count": null,
   "id": "3a2efe9e-6e20-41e7-8a2a-779702eb712f",
   "metadata": {},
   "outputs": [],
   "source": []
  },
  {
   "cell_type": "markdown",
   "id": "65371c9d-0226-499d-946a-e5731e131022",
   "metadata": {},
   "source": [
    "## <mark> array manipulations\n",
    "\n",
    "    reshape\n",
    "    resize\n",
    "    ravel\n",
    "    transpose\n",
    "    \n",
    "    append\n",
    "    insert\n",
    "    delete"
   ]
  },
  {
   "cell_type": "code",
   "execution_count": 39,
   "id": "b348fd4e-c152-40c0-b5a1-60cbd4d0a656",
   "metadata": {},
   "outputs": [
    {
     "data": {
      "text/plain": [
       "array([1, 2, 3])"
      ]
     },
     "execution_count": 39,
     "metadata": {},
     "output_type": "execute_result"
    }
   ],
   "source": [
    "import numpy as np\n",
    "a = np.array([1, 2, 3])\n",
    "a"
   ]
  },
  {
   "cell_type": "code",
   "execution_count": 40,
   "id": "5329ab4c-3c4e-4aa6-a260-4ecb91b0f0d3",
   "metadata": {},
   "outputs": [
    {
     "name": "stdout",
     "output_type": "stream",
     "text": [
      "[ 1  2  3 10 11 12]\n"
     ]
    }
   ],
   "source": [
    "# Append values to the end of an array.\n",
    "newArray = np.append (a, [10, 11, 12])\n",
    "\n",
    "print(newArray)"
   ]
  },
  {
   "cell_type": "code",
   "execution_count": 41,
   "id": "e7d0d2ca-3794-416b-a5ab-b50023cc087a",
   "metadata": {},
   "outputs": [
    {
     "name": "stdout",
     "output_type": "stream",
     "text": [
      "a \n",
      " [[1 2 3]\n",
      " [4 5 6]]\n",
      "b \n",
      " [[400]\n",
      " [800]]\n",
      "New \n",
      " [[  1   2   3 400]\n",
      " [  4   5   6 800]]\n"
     ]
    }
   ],
   "source": [
    "# Adding column\n",
    "import numpy\n",
    "\n",
    "a = numpy.array([[1, 2, 3], [4, 5, 6]])\n",
    "\n",
    "b = numpy.array([[400], [800]])\n",
    "print(\"a \\n\",a)\n",
    "print(\"b \\n\",b)\n",
    "newArray = numpy.append(a, b, axis = 1)\n",
    "\n",
    "print(\"New \\n\",newArray)"
   ]
  },
  {
   "cell_type": "raw",
   "id": "a6582373-7469-47b7-bb0c-a23143c5acd3",
   "metadata": {},
   "source": [
    "In NumPy, we can also use the insert() method to insert an element or column. The difference between the insert() and the append() method is that we can specify at which index we want to add an element when using the insert() method but the append() method adds a value to the end of the array."
   ]
  },
  {
   "cell_type": "code",
   "execution_count": 42,
   "id": "022559be-5cda-4e17-872d-9446375846a4",
   "metadata": {},
   "outputs": [
    {
     "name": "stdout",
     "output_type": "stream",
     "text": [
      "[ 1 90  2  3]\n"
     ]
    }
   ],
   "source": [
    "ac = numpy.array([1, 2, 3])\n",
    "\n",
    "newArray = numpy.insert(ac, 1, 90)\n",
    "print(newArray)"
   ]
  },
  {
   "cell_type": "code",
   "execution_count": 43,
   "id": "5ca54f31-c1f1-4c36-b796-3aaf37a57226",
   "metadata": {},
   "outputs": [
    {
     "data": {
      "text/plain": [
       "array([[ 1,  2,  3],\n",
       "       [ 4,  5,  6],\n",
       "       [50, 60, 70]])"
      ]
     },
     "execution_count": 43,
     "metadata": {},
     "output_type": "execute_result"
    }
   ],
   "source": [
    "#append a row\n",
    "a = numpy.array([[1, 2, 3], [4, 5, 6]])\n",
    "\n",
    "newArray = numpy.append(a, [[50, 60, 70]], axis = 0)\n",
    "newArray"
   ]
  },
  {
   "cell_type": "code",
   "execution_count": 44,
   "id": "a2edfff0-26cf-4598-b75f-1b1e7acc67cc",
   "metadata": {},
   "outputs": [
    {
     "name": "stdout",
     "output_type": "stream",
     "text": [
      "The new array =  [ 1  2  3  4  5 10 20 30 40 50]\n"
     ]
    }
   ],
   "source": [
    "#Append NumPy array to another\n",
    "a = numpy.array([1, 2, 3, 4, 5])\n",
    "\n",
    "b = numpy.array([10, 20, 30, 40, 50])\n",
    "\n",
    "newArray = numpy.append(a, b)\n",
    "\n",
    "print(\"The new array = \", newArray)"
   ]
  },
  {
   "cell_type": "code",
   "execution_count": 45,
   "id": "3d37f159-2410-4e74-a087-742cb83ea006",
   "metadata": {},
   "outputs": [
    {
     "name": "stdout",
     "output_type": "stream",
     "text": [
      "[11 33]\n"
     ]
    }
   ],
   "source": [
    "import numpy\n",
    "\n",
    "a = numpy.array([11, 22, 33])\n",
    "\n",
    "newArray = numpy.delete(a, 1, axis = 0)\n",
    "print(newArray)"
   ]
  },
  {
   "cell_type": "code",
   "execution_count": 46,
   "id": "731cd724-6c57-4008-aa00-b7faf568f800",
   "metadata": {},
   "outputs": [
    {
     "name": "stdout",
     "output_type": "stream",
     "text": [
      "[11 33]\n"
     ]
    }
   ],
   "source": [
    "#@if you dont know the index\n",
    "a = numpy.array([11, 22, 33])\n",
    "\n",
    "newArray = numpy.delete(a, np.where(a==22), axis = 0)\n",
    "print(newArray)"
   ]
  },
  {
   "cell_type": "code",
   "execution_count": 47,
   "id": "3349a836-2497-4da1-bef1-b0b776c86ffc",
   "metadata": {},
   "outputs": [
    {
     "name": "stdout",
     "output_type": "stream",
     "text": [
      "[[ 1  2  3]\n",
      " [10 20 30]]\n"
     ]
    }
   ],
   "source": [
    "#Delet a row\n",
    "a = numpy.array([[1, 2, 3], [4, 5, 6], [10, 20, 30]])\n",
    "\n",
    "newArray = numpy.delete(a, 1, axis = 0)\n",
    "print(newArray)"
   ]
  },
  {
   "cell_type": "code",
   "execution_count": null,
   "id": "d2a90dd8-b340-4376-8dca-5a24c08ed702",
   "metadata": {},
   "outputs": [],
   "source": []
  },
  {
   "cell_type": "markdown",
   "id": "8953aa5d-55f3-4690-8904-17fc78d929da",
   "metadata": {},
   "source": [
    "### <mark> Applying function to all array elements\n",
    "\n",
    "Unlike in list(where iteration must be done), a function can be directly applied on all elements of an array"
   ]
  },
  {
   "cell_type": "code",
   "execution_count": 64,
   "id": "dcc195e4-6104-4550-8a24-4f6194bb3280",
   "metadata": {},
   "outputs": [
    {
     "name": "stdout",
     "output_type": "stream",
     "text": [
      "Array after addition function:  [3 4 5 6 7 8]\n"
     ]
    }
   ],
   "source": [
    "import numpy\n",
    "\n",
    "addition = lambda x: x + 2\n",
    "\n",
    "a = numpy.array([1, 2, 3, 4, 5, 6])\n",
    "\n",
    "print(\"Array after addition function: \", addition(a))"
   ]
  },
  {
   "cell_type": "markdown",
   "id": "9521f755-01ca-4994-91f5-c3ccf85e61da",
   "metadata": {},
   "source": [
    "### <mark> Iterating through an array\n",
    "\n",
    "    - using for loop\n",
    "    - using for loop and arr.ravel()\n",
    "    - using np.nditer(array)  :Efficient multi-dimensional iterator object to iterate over arrays\n",
    "    - using np.ndenumerate(arr)  :helps get index of element while interating"
   ]
  },
  {
   "cell_type": "code",
   "execution_count": 77,
   "id": "9e690ea4-b2ba-46e2-84df-f9f5ffb3f073",
   "metadata": {},
   "outputs": [
    {
     "name": "stdout",
     "output_type": "stream",
     "text": [
      "1.2.3.4.5.6.7.8.9.10.11.12."
     ]
    }
   ],
   "source": [
    "import numpy as np\n",
    "arr = np.array([[[1, 2, 3], [4, 5, 6]], [[7, 8, 9], [10, 11, 12]]])\n",
    "\n",
    "for x in arr:\n",
    "    for y in x:\n",
    "        for z in y:\n",
    "              print(z,end=\".\")"
   ]
  },
  {
   "cell_type": "code",
   "execution_count": 78,
   "id": "df021792-2ad0-4633-9aee-eef52f0ade64",
   "metadata": {},
   "outputs": [
    {
     "name": "stdout",
     "output_type": "stream",
     "text": [
      "1.2.3.4.5.6.7.8."
     ]
    }
   ],
   "source": [
    "arr = np.array([[[1, 2], [3, 4]], [[5, 6], [7, 8]]])\n",
    "\n",
    "for x in arr.ravel():\n",
    "    print(x,end=\".\")"
   ]
  },
  {
   "cell_type": "code",
   "execution_count": 80,
   "id": "bb74a6c9-3ab4-4414-bf4b-3d8dcebde1a5",
   "metadata": {},
   "outputs": [
    {
     "name": "stdout",
     "output_type": "stream",
     "text": [
      "1.2.3.4.5.6.7.8."
     ]
    }
   ],
   "source": [
    "arr = np.array([[[1, 2], [3, 4]], [[5, 6], [7, 8]]])\n",
    "\n",
    "for x in np.nditer(arr):\n",
    "    print(x, end=\".\")"
   ]
  },
  {
   "cell_type": "code",
   "execution_count": 7,
   "id": "77b5f93c-5684-4ef3-8fcc-4d5bb96a7a53",
   "metadata": {},
   "outputs": [
    {
     "name": "stdout",
     "output_type": "stream",
     "text": [
      "[[1 3]\n",
      " [5 7]]\n",
      "1\n",
      "3\n",
      "5\n",
      "7\n"
     ]
    }
   ],
   "source": [
    "# iterating through different stepsize\n",
    "arr = np.array([[1, 2, 3, 4], [5, 6, 7, 8]])\n",
    "print(arr[:, ::2])\n",
    "for x in np.nditer(arr[:, ::2]):\n",
    "    print(x)"
   ]
  },
  {
   "cell_type": "code",
   "execution_count": 76,
   "id": "55532a8a-ef81-4eb3-80ea-d319442d5a7a",
   "metadata": {},
   "outputs": [
    {
     "name": "stdout",
     "output_type": "stream",
     "text": [
      "(0,) 1\n",
      "(1,) 2\n",
      "(2,) 3\n"
     ]
    }
   ],
   "source": [
    "arr = np.array([1, 2, 3])\n",
    "\n",
    "for idx, x in np.ndenumerate(arr):\n",
    "    print(idx, x)"
   ]
  },
  {
   "cell_type": "code",
   "execution_count": 81,
   "id": "735f8e58-8339-4452-953c-ea114272d1b9",
   "metadata": {},
   "outputs": [
    {
     "name": "stdout",
     "output_type": "stream",
     "text": [
      "(0, 0) 15\n",
      "(0, 1) 26\n",
      "(1, 0) 50\n",
      "(1, 1) 60\n"
     ]
    }
   ],
   "source": [
    "arr = np.array([[15, 26], [50, 60]])\n",
    "\n",
    "for idx, x in np.ndenumerate(arr):\n",
    "    print(idx, x)"
   ]
  },
  {
   "cell_type": "markdown",
   "id": "7e107bac-1e19-47d1-98bc-d2da414e2f98",
   "metadata": {},
   "source": [
    "## <mark> Joining Arrays\n",
    "\n",
    "    concatenate\n",
    "    hstack\n",
    "    vstack\n",
    "    \n",
    "\"\"\"We pass a sequence of arrays that we want to join to the concatenate() function, \n",
    "along with the axis. \n",
    "If axis is not explicitly passed, it is taken as 0.\"\"\"\n",
    "    \n",
    "\"\"\"\n",
    "Stacking is same as concatenation, the only difference is that stacking is done along a new axis.\n",
    "We can concatenate two 1-D arrays along the second axis which would result in putting \n",
    "them one over the other, ie. stacking.\n",
    "We pass a sequence of arrays that we want to join to the stack() method along with the axis. \n",
    "If axis is not explicitly passed it is taken as 0.\n",
    "\"\"\""
   ]
  },
  {
   "cell_type": "code",
   "execution_count": 82,
   "id": "54af394f-3b5f-4f9e-94fe-6b97a45a8684",
   "metadata": {},
   "outputs": [
    {
     "name": "stdout",
     "output_type": "stream",
     "text": [
      "[1 2 3 4 5 6]\n"
     ]
    }
   ],
   "source": [
    "import numpy as np\n",
    "\n",
    "arr1 = np.array([1, 2, 3])\n",
    "arr2 = np.array([4, 5, 6])\n",
    "arr = np.concatenate((arr1, arr2))\n",
    "print(arr)"
   ]
  },
  {
   "cell_type": "code",
   "execution_count": 83,
   "id": "e32c6776-2815-4151-b8bd-0e61dfb874c7",
   "metadata": {},
   "outputs": [
    {
     "data": {
      "text/plain": [
       "array([5, 7, 9])"
      ]
     },
     "execution_count": 83,
     "metadata": {},
     "output_type": "execute_result"
    }
   ],
   "source": [
    "arrr=arr1+arr2\n",
    "arrr\n",
    "#This is addition not concatenation"
   ]
  },
  {
   "cell_type": "code",
   "execution_count": 88,
   "id": "8ab7dfd6-d29a-42b3-a0be-4563825c5bc8",
   "metadata": {},
   "outputs": [
    {
     "name": "stdout",
     "output_type": "stream",
     "text": [
      "[1 2 3] \n",
      " [4 5 6]\n",
      "concatenated along axis=0 \n",
      " [1 2 3 4 5 6]\n",
      "COncat along axis=1 not possible\n",
      "Hstack \n",
      " [1 2 3 4 5 6]\n",
      "Vstack \n",
      " [[1 2 3]\n",
      " [4 5 6]]\n",
      "Dstack \n",
      " [[[1 4]\n",
      "  [2 5]\n",
      "  [3 6]]]\n"
     ]
    }
   ],
   "source": [
    "arr1 = np.array([1,2,3])\n",
    "arr2 = np.array([4,5,6])\n",
    "print(arr1,'\\n', arr2)\n",
    "\n",
    "arrc0 = np.concatenate((arr1, arr2), axis=0)\n",
    "print('concatenated along axis=0 \\n',arrc0)\n",
    "\n",
    "print('Concat along axis=1 not possible')\n",
    "\n",
    "arrs=np.hstack((arr1,arr2))\n",
    "print('Hstack \\n',arrs)\n",
    "\n",
    "arrv=np.vstack((arr1,arr2))\n",
    "print('Vstack \\n',arrv)\n",
    "\n",
    "\n",
    "arrd=np.dstack((arr1,arr2))\n",
    "print('Dstack \\n',arrd)"
   ]
  },
  {
   "cell_type": "code",
   "execution_count": 86,
   "id": "1242ad96-994e-4fd5-b608-373edbe61a93",
   "metadata": {},
   "outputs": [
    {
     "name": "stdout",
     "output_type": "stream",
     "text": [
      "[[1 2]\n",
      " [3 4]] \n",
      "\n",
      " [[5 6]\n",
      " [7 8]]\n",
      "concatenated along axis=0 \n",
      " [[1 2]\n",
      " [3 4]\n",
      " [5 6]\n",
      " [7 8]]\n",
      "concatenated along axis=1 \n",
      " [[1 2 5 6]\n",
      " [3 4 7 8]]\n",
      "Hstack: stacks arrays horizontally, columnwise \n",
      " [[1 2 5 6]\n",
      " [3 4 7 8]]\n",
      "Vstack: stacks arrays horizontally, rowwise \n",
      " [[1 2]\n",
      " [3 4]\n",
      " [5 6]\n",
      " [7 8]]\n"
     ]
    }
   ],
   "source": [
    "arr1 = np.array([[1, 2], [3, 4]])\n",
    "arr2 = np.array([[5, 6], [7, 8]])\n",
    "print(arr1, '\\n\\n', arr2)\n",
    "\n",
    "arrc0 = np.concatenate((arr1, arr2), axis=0)\n",
    "print('concatenated along axis=0 \\n',arrc0)\n",
    "\n",
    "arrc1 = np.concatenate((arr1, arr2), axis=1)\n",
    "print('concatenated along axis=1 \\n',arrc1)\n",
    "\n",
    "arrs=np.hstack((arr1,arr2))\n",
    "print('Hstack: stacks arrays horizontally, columnwise \\n',arrs)\n",
    "\n",
    "arrv=np.vstack((arr1,arr2))\n",
    "print('Vstack: stacks arrays horizontally, rowwise \\n',arrv)\n",
    "\n",
    "# arrd=np.dstack((arr1,arr2))\n",
    "# print('Dstack \\n',arrd)"
   ]
  },
  {
   "cell_type": "code",
   "execution_count": 90,
   "id": "24a05cba-3030-4519-9ea0-45f3c0f35cd9",
   "metadata": {},
   "outputs": [
    {
     "name": "stdout",
     "output_type": "stream",
     "text": [
      "[1 2 3] \n",
      "\n",
      "[4 5 6]\n",
      "stack along axis 0 \n",
      " [[1 2 3]\n",
      " [4 5 6]]\n",
      "stack along axis 1 \n",
      " [[1 4]\n",
      " [2 5]\n",
      " [3 6]]\n",
      "hstack \n",
      " [1 2 3 4 5 6]\n",
      "vstack \n",
      " [[1 2 3]\n",
      " [4 5 6]]\n"
     ]
    }
   ],
   "source": [
    "import numpy as np\n",
    "\n",
    "arr1 = np.array([1, 2, 3])\n",
    "arr2 = np.array([4, 5, 6])\n",
    "print(arr1, '\\n')\n",
    "print(arr2)\n",
    "\n",
    "arr = np.stack((arr1, arr2), axis=0)\n",
    "print('stack along axis 0 \\n', arr)\n",
    "\n",
    "arr = np.stack((arr1, arr2),axis=1)\n",
    "print('stack along axis 1 \\n', arr)\n",
    "\n",
    "arr = np.hstack((arr1, arr2))\n",
    "print('hstack \\n', arr)\n",
    "\n",
    "arr = np.vstack((arr1, arr2))\n",
    "print('vstack \\n', arr)"
   ]
  },
  {
   "cell_type": "code",
   "execution_count": null,
   "id": "bb92b4ea-e402-4e97-b403-b1e46144f49c",
   "metadata": {},
   "outputs": [],
   "source": []
  },
  {
   "cell_type": "markdown",
   "id": "aeb7a3c6-d123-4d39-8946-47a940a1f43e",
   "metadata": {},
   "source": [
    "### <mark> spliting arrays: hsplit vsplit\n",
    "\n",
    "np.split(arr,n) - Split an array into multiple sub-arrays of euqal size\n",
    "\n",
    "np.array_split(arr,n) - Split an array in sub-arrays of (nearly) identical size\n",
    "\n",
    "We use array_split() for splitting arrays, we pass it the array we want to split and the number of splits. The return value is an array containing n arrays."
   ]
  },
  {
   "cell_type": "code",
   "execution_count": 11,
   "id": "628b6b78-65c6-4cff-9c2b-d8becee797ee",
   "metadata": {},
   "outputs": [
    {
     "data": {
      "text/plain": [
       "[array([1, 2]), array([3, 4]), array([5, 6])]"
      ]
     },
     "execution_count": 11,
     "metadata": {},
     "output_type": "execute_result"
    }
   ],
   "source": [
    "arr = np.array([1, 2, 3, 4, 5, 6])\n",
    "np.split(arr, 3)\n",
    "#Split an array into multiple sub-arrays of euqal size"
   ]
  },
  {
   "cell_type": "code",
   "execution_count": 9,
   "id": "130e1bf9-5b06-4cbb-8693-9a084bb98cfd",
   "metadata": {},
   "outputs": [
    {
     "name": "stdout",
     "output_type": "stream",
     "text": [
      "[array([1, 2]), array([3, 4]), array([5]), array([6])]\n",
      "[3 4]\n"
     ]
    }
   ],
   "source": [
    "import numpy as np\n",
    "\n",
    "arr = np.array([1, 2, 3, 4, 5, 6])\n",
    "newarr = np.array_split(arr, 4)\n",
    "print(newarr)\n",
    "\n",
    "#If you split an array into 4 arrays, \n",
    "#you can access them from the result just like any array element:\n",
    "print(newarr[1])"
   ]
  },
  {
   "cell_type": "code",
   "execution_count": 93,
   "id": "36005900-3e61-4b57-b1d7-227b22b6eb78",
   "metadata": {},
   "outputs": [
    {
     "name": "stdout",
     "output_type": "stream",
     "text": [
      "[array([[1, 2],\n",
      "       [3, 4]]), array([[5, 6],\n",
      "       [7, 8]]), array([[ 9, 10],\n",
      "       [11, 12]])]\n"
     ]
    }
   ],
   "source": [
    "arr = np.array([[1, 2], [3, 4], [5, 6], [7, 8], [9, 10], [11, 12]])\n",
    "newarr = np.array_split(arr, 3)\n",
    "print(newarr)"
   ]
  },
  {
   "cell_type": "code",
   "execution_count": 95,
   "id": "5de8e1c7-2810-4108-a814-15dc70544f33",
   "metadata": {},
   "outputs": [
    {
     "name": "stdout",
     "output_type": "stream",
     "text": [
      "original \n",
      " [[ 1  2  3]\n",
      " [ 4  5  6]\n",
      " [ 7  8  9]\n",
      " [10 11 12]\n",
      " [13 14 15]\n",
      " [16 17 18]]\n",
      "new \n",
      " [array([[ 1],\n",
      "       [ 4],\n",
      "       [ 7],\n",
      "       [10],\n",
      "       [13],\n",
      "       [16]]), array([[ 2],\n",
      "       [ 5],\n",
      "       [ 8],\n",
      "       [11],\n",
      "       [14],\n",
      "       [17]]), array([[ 3],\n",
      "       [ 6],\n",
      "       [ 9],\n",
      "       [12],\n",
      "       [15],\n",
      "       [18]])]\n"
     ]
    }
   ],
   "source": [
    "\"\"\"Use the hsplit() method to split the 2-D array into three 2-D arrays along rows.\n",
    "hsplit() is opposite of hstack()\n",
    "Similar alternates to vstack() and dstack() are available as vsplit() and dsplit().\"\"\"\n",
    "\n",
    "# Split the 2-D array into three 2-D arrays along rows.\n",
    "\n",
    "arr = np.array([[1, 2, 3], [4, 5, 6], [7, 8, 9], [10, 11, 12], [13, 14, 15], [16, 17, 18]])\n",
    "print('original \\n', arr)\n",
    "newarr = np.array_split(arr, 3, axis=1)\n",
    "print('new \\n', newarr)"
   ]
  },
  {
   "cell_type": "code",
   "execution_count": null,
   "id": "5ee86658-158d-4e9d-a4c8-77806389decb",
   "metadata": {},
   "outputs": [],
   "source": []
  },
  {
   "cell_type": "code",
   "execution_count": null,
   "id": "9e35b6ba-b221-4c3a-94e9-bfa82d4f9e09",
   "metadata": {},
   "outputs": [],
   "source": []
  }
 ],
 "metadata": {
  "kernelspec": {
   "display_name": "Python 3 (ipykernel)",
   "language": "python",
   "name": "python3"
  },
  "language_info": {
   "codemirror_mode": {
    "name": "ipython",
    "version": 3
   },
   "file_extension": ".py",
   "mimetype": "text/x-python",
   "name": "python",
   "nbconvert_exporter": "python",
   "pygments_lexer": "ipython3",
   "version": "3.9.13"
  }
 },
 "nbformat": 4,
 "nbformat_minor": 5
}

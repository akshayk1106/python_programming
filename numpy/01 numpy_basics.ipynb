{
 "cells": [
  {
   "cell_type": "markdown",
   "id": "cb9d5880-32b5-4e56-85a9-cef8888b87ad",
   "metadata": {},
   "source": [
    "### <mark> Why use Numpy?\n",
    "\n",
    "    -It provides efficient storage\n",
    "    -It provides better way of handling data for processing\n",
    "    -Its fast\n",
    "    -Its easy to learn\n",
    "    -It uses relatively less memory to store data\n",
    "    -NumPy offers comprehensive mathematical functions, random number generators, linear algebra routines, Fourier transforms, and more.\n",
    "    -Fast and versatile, the NumPy vectorization, indexing, and broadcasting concepts are the de-facto standards of array computing today."
   ]
  },
  {
   "cell_type": "markdown",
   "id": "91a74a54-3b93-46f7-9971-ef3b5b5914e4",
   "metadata": {},
   "source": [
    "NumPy is a Python library used for **WORKING WITH ARRAYS**. It also has functions for working in domain of linear algebra, fourier transform, and matrices.\n",
    "\n",
    "In Python we have lists that serve the purpose of arrays, but they are slow to process.\n",
    "\n",
    "NumPy aims to provide an array object that is **UPTO 50X FASTER THAN TRADITIONAL PYTHON LISTS**. The array object in NumPy is called ndarray, it provides a lot of supporting functions that make working with ndarray very easy. Arrays are very frequently used in data science, where speed and resources are very important.\n",
    "\n",
    "NumPy arrays are **STORED AT ONE CONTINUOUS PLACE IN MEMORY INLIKE LISTS**, so processes can access and manipulate them very efficiently. This behavior is called **locality of reference** in computer science.\n",
    "\n",
    "NumPy is a Python library and is written partially in Python, but most of the parts that require fast computation are written in C or C++."
   ]
  },
  {
   "cell_type": "markdown",
   "id": "9c9ded01-d6de-4f71-941d-bc97e02e6121",
   "metadata": {},
   "source": [
    "#### <font color='blue'> List vs. Array </blue>\n",
    "\n",
    "--Python does not have **BUILT-IN** support for Arrays, but Python Lists can be used instead.\n",
    "\n",
    "-We can use LISTS as ARRAYS, however, to work with arrays in Python you will have to import a library, like the NumPy library.\n",
    "\n",
    "L:can have different DATATYPES    **A: same data type elements only\n",
    "\n",
    "L:No need import a module    **A:Need to explicitly import \n",
    "    \n",
    "L:can not    **A:Can directly handle arithmetic operations \n",
    "\n",
    "L:Can be NESTED varyingly    **A:Must contain either all nested elements of same size \n",
    "\n",
    "L:Consume LARGER MEMORY    A: Comparatively more compact in memory size \n",
    "\n",
    "L:Preferred for shorter sequence of data items   **A:Preferred for longer sequence of data items \n",
    "\n",
    "\n",
    "L:Greater flexibility allows **easy modification** (addition, deletion) of data\n",
    "    \n",
    "    A: Less flexibility since addition, deletion has to be done element wise \n",
    "    \n",
    "L:The entire list can be printed **without any explicit LOOPING \n",
    "   \n",
    "    A: Loop has to be formed to print or access the components of array\n",
    "    \n",
    "##### Array is thus better in SIZE,PERFORMANC(speed),FUNCTIONALITY(optimized function) over list."
   ]
  },
  {
   "cell_type": "markdown",
   "id": "31ed7344-bf17-47a5-b0ee-9f41d1535023",
   "metadata": {},
   "source": [
    "##### There are several important differences between NumPy arrays and the standard Python sequences:\n",
    "\n",
    "   NumPy arrays have a **FIXED SIZE AT CREATION**, unlike Python lists (which can grow dynamically). Changing the size of an ndarray will create a new array and delete the original.\n",
    "\n",
    "   The elements in a NumPy array are all required to be **OF SAME DATATYPE**, and thus will be the same size in memory. The **exception objects**: one can have arrays of (Python, including NumPy) objects, thereby allowing for arrays of different sized elements.\n",
    "\n",
    "   NumPy arrays facilitate advanced **MATHEMATICAL OPERATIONS** and other types of operations on large numbers of data. Typically, such operations are executed more efficiently and with less code than is possible using Python’s built-in sequences.\n",
    "\n",
    "   A growing plethora of scientific and mathematical Python-based packages are using NumPy arrays; though these typically support Python-sequence input, they convert such input to NumPy arrays prior to processing, and they often output NumPy arrays. In other words, in order to efficiently use much (perhaps even most) of today’s scientific/mathematical Python-based software, just knowing how to use Python’s built-in sequence types is insufficient - one also needs to know how to use NumPy arrays."
   ]
  },
  {
   "cell_type": "raw",
   "id": "a296bf5a-2b0b-41fd-ba24-942c77aad164",
   "metadata": {},
   "source": [
    "import numpy asnp\n",
    "import sys\n",
    "\n",
    "l=[0,4,55,2]\n",
    "a=np.array(l)\n",
    "\n",
    "print(\"Size of python list\",sys.getsizeof(l)*len(l))\n",
    "\n",
    "print(\"Size of python list\",sys.getsizeof(a)*a.size)\n",
    "\n",
    "print(\"Size of python array\",a.itemsize*a.size)"
   ]
  },
  {
   "cell_type": "code",
   "execution_count": null,
   "id": "d44ebeeb-fd11-4ee3-99e8-19eec1060fcb",
   "metadata": {},
   "outputs": [],
   "source": []
  },
  {
   "cell_type": "markdown",
   "id": "f15be032",
   "metadata": {},
   "source": [
    "## <mark> Array dimensions/slicing/shaping"
   ]
  },
  {
   "cell_type": "code",
   "execution_count": 3,
   "id": "a767f3ac",
   "metadata": {},
   "outputs": [],
   "source": [
    "import numpy as np"
   ]
  },
  {
   "cell_type": "code",
   "execution_count": 4,
   "id": "ce37d17f",
   "metadata": {},
   "outputs": [
    {
     "name": "stdout",
     "output_type": "stream",
     "text": [
      "[1 2 3 4 5 6]\n",
      "1\n"
     ]
    }
   ],
   "source": [
    "a1=np.array([1,2,3,4,5,6],)\n",
    "print(a1)\n",
    "print(a1.ndim)"
   ]
  },
  {
   "cell_type": "code",
   "execution_count": 5,
   "id": "21e226ea",
   "metadata": {},
   "outputs": [
    {
     "name": "stdout",
     "output_type": "stream",
     "text": [
      "[[ 1  2  3  4  5  6]\n",
      " [ 7  8  9 10 11 12]]\n",
      "2\n"
     ]
    }
   ],
   "source": [
    "a2=np.array([[1,2,3,4,5,6],[7,8,9,10,11,12]])\n",
    "print(a2)\n",
    "print(a2.ndim)"
   ]
  },
  {
   "cell_type": "code",
   "execution_count": 6,
   "id": "825bde02",
   "metadata": {},
   "outputs": [
    {
     "name": "stdout",
     "output_type": "stream",
     "text": [
      "[[[ 1  2  3  4  5]\n",
      "  [ 6  7  8  9 10]]\n",
      "\n",
      " [[11 12 13 14 15]\n",
      "  [16 17 18 19 20]]]\n",
      "3\n"
     ]
    }
   ],
   "source": [
    "l=[1,2,3,4,5,6]\n",
    "a3=np.array([[[1,2,3,4,5],[6,7,8,9,10]],[[11,12,13,14,15],[16,17,18,19,20]]])\n",
    "\n",
    "print(a3)\n",
    "print(a3.ndim)"
   ]
  },
  {
   "cell_type": "code",
   "execution_count": 7,
   "id": "8e810056",
   "metadata": {},
   "outputs": [],
   "source": [
    "#Accessing the elements"
   ]
  },
  {
   "cell_type": "code",
   "execution_count": 8,
   "id": "b4062fbf",
   "metadata": {},
   "outputs": [
    {
     "data": {
      "text/plain": [
       "1"
      ]
     },
     "execution_count": 8,
     "metadata": {},
     "output_type": "execute_result"
    }
   ],
   "source": [
    "a1[0]"
   ]
  },
  {
   "cell_type": "code",
   "execution_count": 9,
   "id": "996cdab5",
   "metadata": {},
   "outputs": [
    {
     "data": {
      "text/plain": [
       "5"
      ]
     },
     "execution_count": 9,
     "metadata": {},
     "output_type": "execute_result"
    }
   ],
   "source": [
    "a2[0,4]"
   ]
  },
  {
   "cell_type": "code",
   "execution_count": 10,
   "id": "a0d56acc",
   "metadata": {},
   "outputs": [
    {
     "data": {
      "text/plain": [
       "12"
      ]
     },
     "execution_count": 10,
     "metadata": {},
     "output_type": "execute_result"
    }
   ],
   "source": [
    "a2[1,-1]"
   ]
  },
  {
   "cell_type": "code",
   "execution_count": 11,
   "id": "dfd4dbba",
   "metadata": {},
   "outputs": [
    {
     "data": {
      "text/plain": [
       "array([[[ 1,  2,  3,  4,  5],\n",
       "        [ 6,  7,  8,  9, 10]],\n",
       "\n",
       "       [[11, 12, 13, 14, 15],\n",
       "        [16, 17, 18, 19, 20]]])"
      ]
     },
     "execution_count": 11,
     "metadata": {},
     "output_type": "execute_result"
    }
   ],
   "source": [
    "a3"
   ]
  },
  {
   "cell_type": "code",
   "execution_count": 12,
   "id": "74e90c19",
   "metadata": {},
   "outputs": [
    {
     "data": {
      "text/plain": [
       "array([[ 1,  2,  3,  4,  5],\n",
       "       [ 6,  7,  8,  9, 10]])"
      ]
     },
     "execution_count": 12,
     "metadata": {},
     "output_type": "execute_result"
    }
   ],
   "source": [
    "a3[0]"
   ]
  },
  {
   "cell_type": "code",
   "execution_count": 13,
   "id": "391238d6",
   "metadata": {},
   "outputs": [
    {
     "data": {
      "text/plain": [
       "array([[11, 12, 13, 14, 15],\n",
       "       [16, 17, 18, 19, 20]])"
      ]
     },
     "execution_count": 13,
     "metadata": {},
     "output_type": "execute_result"
    }
   ],
   "source": [
    "a3[1]"
   ]
  },
  {
   "cell_type": "code",
   "execution_count": 14,
   "id": "e976120c",
   "metadata": {},
   "outputs": [
    {
     "data": {
      "text/plain": [
       "12"
      ]
     },
     "execution_count": 14,
     "metadata": {},
     "output_type": "execute_result"
    }
   ],
   "source": [
    "a3[1,0,1]"
   ]
  },
  {
   "cell_type": "code",
   "execution_count": 15,
   "id": "40c0cf4e",
   "metadata": {},
   "outputs": [
    {
     "data": {
      "text/plain": [
       "array([[[99, 88, 77]]])"
      ]
     },
     "execution_count": 15,
     "metadata": {},
     "output_type": "execute_result"
    }
   ],
   "source": [
    "a33=np.array([[[99,88,77]]])\n",
    "a33"
   ]
  },
  {
   "cell_type": "code",
   "execution_count": 16,
   "id": "0ed78161",
   "metadata": {
    "tags": []
   },
   "outputs": [
    {
     "name": "stdout",
     "output_type": "stream",
     "text": [
      "[[99 88 77]]\n",
      "(1, 1, 3)\n"
     ]
    }
   ],
   "source": [
    "print(a33[0])\n",
    "#THis is 3D array which contains ONE 1x3 matrix, which contains ONE array which contains THREE scalars\n",
    "print(a33.shape)"
   ]
  },
  {
   "cell_type": "code",
   "execution_count": 17,
   "id": "313ec210",
   "metadata": {},
   "outputs": [],
   "source": [
    "#a33[1] - error"
   ]
  },
  {
   "cell_type": "markdown",
   "id": "5b01f7dd",
   "metadata": {},
   "source": [
    "### Slicing"
   ]
  },
  {
   "cell_type": "code",
   "execution_count": 18,
   "id": "b8890b10",
   "metadata": {},
   "outputs": [
    {
     "data": {
      "text/plain": [
       "array([1, 2, 3, 4, 5, 6])"
      ]
     },
     "execution_count": 18,
     "metadata": {},
     "output_type": "execute_result"
    }
   ],
   "source": [
    "a1[::]"
   ]
  },
  {
   "cell_type": "code",
   "execution_count": 19,
   "id": "50821b00",
   "metadata": {},
   "outputs": [
    {
     "data": {
      "text/plain": [
       "array([2, 3, 4])"
      ]
     },
     "execution_count": 19,
     "metadata": {},
     "output_type": "execute_result"
    }
   ],
   "source": [
    "a1[1:4]"
   ]
  },
  {
   "cell_type": "code",
   "execution_count": 20,
   "id": "274eb683",
   "metadata": {},
   "outputs": [
    {
     "data": {
      "text/plain": [
       "array([[ 1,  2,  3,  4,  5,  6],\n",
       "       [ 7,  8,  9, 10, 11, 12]])"
      ]
     },
     "execution_count": 20,
     "metadata": {},
     "output_type": "execute_result"
    }
   ],
   "source": [
    "a2"
   ]
  },
  {
   "cell_type": "code",
   "execution_count": 21,
   "id": "b869e75c",
   "metadata": {
    "scrolled": true
   },
   "outputs": [
    {
     "data": {
      "text/plain": [
       "array([2])"
      ]
     },
     "execution_count": 21,
     "metadata": {},
     "output_type": "execute_result"
    }
   ],
   "source": [
    "a2[0,1:2]"
   ]
  },
  {
   "cell_type": "code",
   "execution_count": 22,
   "id": "776dee4a",
   "metadata": {},
   "outputs": [
    {
     "data": {
      "text/plain": [
       "array([[ 4,  5,  6],\n",
       "       [10, 11, 12]])"
      ]
     },
     "execution_count": 22,
     "metadata": {},
     "output_type": "execute_result"
    }
   ],
   "source": [
    "a2[0:2,3:6]"
   ]
  },
  {
   "cell_type": "code",
   "execution_count": 23,
   "id": "a2abe229",
   "metadata": {},
   "outputs": [
    {
     "data": {
      "text/plain": [
       "array([[[ 1,  2,  3,  4,  5],\n",
       "        [ 6,  7,  8,  9, 10]],\n",
       "\n",
       "       [[11, 12, 13, 14, 15],\n",
       "        [16, 17, 18, 19, 20]]])"
      ]
     },
     "execution_count": 23,
     "metadata": {},
     "output_type": "execute_result"
    }
   ],
   "source": [
    "a3"
   ]
  },
  {
   "cell_type": "code",
   "execution_count": 24,
   "id": "5cc5b66a",
   "metadata": {},
   "outputs": [
    {
     "data": {
      "text/plain": [
       "array([14, 15])"
      ]
     },
     "execution_count": 24,
     "metadata": {},
     "output_type": "execute_result"
    }
   ],
   "source": [
    "a3[1,0,3:6]"
   ]
  },
  {
   "cell_type": "code",
   "execution_count": 25,
   "id": "135c247e",
   "metadata": {},
   "outputs": [
    {
     "data": {
      "text/plain": [
       "array([[[ 4,  5],\n",
       "        [ 9, 10]],\n",
       "\n",
       "       [[14, 15],\n",
       "        [19, 20]]])"
      ]
     },
     "execution_count": 25,
     "metadata": {},
     "output_type": "execute_result"
    }
   ],
   "source": [
    "a3[:,:,3:6]"
   ]
  },
  {
   "cell_type": "code",
   "execution_count": 26,
   "id": "3ec63ed3",
   "metadata": {},
   "outputs": [
    {
     "data": {
      "text/plain": [
       "array([[[ 4,  5],\n",
       "        [ 9, 10]],\n",
       "\n",
       "       [[14, 15],\n",
       "        [19, 20]]])"
      ]
     },
     "execution_count": 26,
     "metadata": {},
     "output_type": "execute_result"
    }
   ],
   "source": [
    "a3[0:2,0:4,3:6]"
   ]
  },
  {
   "cell_type": "code",
   "execution_count": 27,
   "id": "e01d5151-3291-4148-9f3a-27b1c0a948d5",
   "metadata": {},
   "outputs": [
    {
     "data": {
      "text/plain": [
       "array([[1, 4, 7],\n",
       "       [2, 5, 1],\n",
       "       [3, 6, 0]])"
      ]
     },
     "execution_count": 27,
     "metadata": {},
     "output_type": "execute_result"
    }
   ],
   "source": [
    "import numpy as np\n",
    "\n",
    "ar = np.array([[1, 2, 3],\n",
    "       [4, 5, 6],\n",
    "       [7, 1, 0]])\n",
    "ar.T\n",
    "#To transpose the matrix; ie, to make rows column and columns as row"
   ]
  },
  {
   "cell_type": "code",
   "execution_count": 28,
   "id": "4fab27b8-9861-4c2b-ba87-1aa174597faa",
   "metadata": {},
   "outputs": [
    {
     "data": {
      "text/plain": [
       "array([1, 2, 3, 4, 5, 6, 7, 1, 0])"
      ]
     },
     "execution_count": 28,
     "metadata": {},
     "output_type": "execute_result"
    }
   ],
   "source": [
    "ar.ravel()\n",
    "#Return a flattened array."
   ]
  },
  {
   "cell_type": "code",
   "execution_count": 29,
   "id": "aa200be5-2927-43fc-b57b-490580f09f2f",
   "metadata": {},
   "outputs": [
    {
     "data": {
      "text/plain": [
       "array([[1],\n",
       "       [2],\n",
       "       [3],\n",
       "       [4],\n",
       "       [5],\n",
       "       [6],\n",
       "       [7],\n",
       "       [1],\n",
       "       [0]])"
      ]
     },
     "execution_count": 29,
     "metadata": {},
     "output_type": "execute_result"
    }
   ],
   "source": [
    "ar.reshape(9,1)"
   ]
  },
  {
   "cell_type": "code",
   "execution_count": 30,
   "id": "144273fc-6225-4f5f-9bfd-b8429cede29e",
   "metadata": {},
   "outputs": [
    {
     "data": {
      "text/plain": [
       "array([[1, 2, 3],\n",
       "       [4, 5, 6],\n",
       "       [7, 1, 0]])"
      ]
     },
     "execution_count": 30,
     "metadata": {},
     "output_type": "execute_result"
    }
   ],
   "source": [
    "ar.reshape(3,3)"
   ]
  },
  {
   "cell_type": "code",
   "execution_count": 31,
   "id": "9159979b-56f4-44c8-a422-78c79b9c2d12",
   "metadata": {},
   "outputs": [
    {
     "name": "stdout",
     "output_type": "stream",
     "text": [
      "Using reshape: [1 2 3 4 5 6]\n",
      "Using ravel: [1 2 3 4 5 6]\n"
     ]
    }
   ],
   "source": [
    "import numpy as np\n",
    "krr = np.array([[1, 2, 3], [4, 5, 6]])\n",
    "newarr = krr.reshape(-1)\n",
    "print(\"Using reshape:\",newarr)\n",
    "\n",
    "print(\"Using ravel:\",krr.ravel())"
   ]
  },
  {
   "cell_type": "code",
   "execution_count": 32,
   "id": "57a89a42-42f3-4ee0-ac42-fd78b27ac7bc",
   "metadata": {},
   "outputs": [
    {
     "data": {
      "text/plain": [
       "8"
      ]
     },
     "execution_count": 32,
     "metadata": {},
     "output_type": "execute_result"
    }
   ],
   "source": [
    "#Counts the number of non-zero values in the array.\n",
    "np.count_nonzero(ar)"
   ]
  },
  {
   "cell_type": "code",
   "execution_count": 33,
   "id": "6ad717d5-70b7-4f80-9238-c524392b1a3c",
   "metadata": {},
   "outputs": [
    {
     "data": {
      "text/plain": [
       "(array([0, 0, 0, 1, 1, 1, 2, 2], dtype=int64),\n",
       " array([0, 1, 2, 0, 1, 2, 0, 1], dtype=int64))"
      ]
     },
     "execution_count": 33,
     "metadata": {},
     "output_type": "execute_result"
    }
   ],
   "source": [
    "#Return the indices of the elements that are non-zero.\n",
    "np.nonzero(ar)"
   ]
  },
  {
   "cell_type": "code",
   "execution_count": 34,
   "id": "6facf379-d3d9-4b36-bdc7-24660bd12890",
   "metadata": {},
   "outputs": [
    {
     "data": {
      "text/plain": [
       "<numpy.flatiter at 0x26102185360>"
      ]
     },
     "execution_count": 34,
     "metadata": {},
     "output_type": "execute_result"
    }
   ],
   "source": [
    "x = ar.flat\n",
    "x"
   ]
  },
  {
   "cell_type": "code",
   "execution_count": 35,
   "id": "c0032735-fe6c-4abe-b048-c0cea7b676bf",
   "metadata": {},
   "outputs": [
    {
     "name": "stdout",
     "output_type": "stream",
     "text": [
      "1\n",
      "2\n",
      "3\n",
      "4\n",
      "5\n",
      "6\n",
      "7\n",
      "1\n",
      "0\n"
     ]
    }
   ],
   "source": [
    "# numpy.flatiter object needs to be looped over in order to access its elements\n",
    "for item in ar.flat:\n",
    "    print(item)"
   ]
  },
  {
   "cell_type": "code",
   "execution_count": 36,
   "id": "9a5fb13a-0563-4351-8633-cef6a129e185",
   "metadata": {},
   "outputs": [
    {
     "data": {
      "text/plain": [
       "[[1, 2, 3], [4, 5, 6], [7, 1, 0]]"
      ]
     },
     "execution_count": 36,
     "metadata": {},
     "output_type": "execute_result"
    }
   ],
   "source": [
    "arr_list = ar.tolist()\n",
    "#To create python list from array\n",
    "\n",
    "arr_list"
   ]
  },
  {
   "cell_type": "code",
   "execution_count": null,
   "id": "e64aff86-2d86-42cd-be19-9767e433ad6a",
   "metadata": {},
   "outputs": [],
   "source": []
  },
  {
   "cell_type": "markdown",
   "id": "21a2cea9-a844-4c79-a8ae-ef9743b7aff4",
   "metadata": {},
   "source": [
    "# <mark> Creating Arrays\n",
    "    \n",
    "## Array creation methods in NumPy\n",
    "\n",
    "    Conversion from other python structure(list,tuple,etc)\n",
    "        np.array(list)\n",
    "        arr.shape, arr.reshape, arr.ndim, arr.size, \n",
    "    \n",
    "    Intrinsic numpy array creation objetcs(arange,ones,zeros,etc)\n",
    "        np.zeros, np.zeros_like\n",
    "        np.ones, np.ones_like\n",
    "        np.arange\n",
    "        np.linspace\n",
    "        np.logspace\n",
    "        np.identity\n",
    "        np.full\n",
    "        np.full_like\n",
    "        np.eye\n",
    "    \n",
    "    Use of special library functions(eg.random)\n",
    "        np.random.rand\n",
    "        np.random.randint\n",
    "    \n",
    "    Reading arrays from disk, either from standard or custom formats\n",
    "    \n",
    "    Creating arrays from raw bytes through the use of strings or bufffers"
   ]
  },
  {
   "cell_type": "markdown",
   "id": "e2841137-4d4b-401e-8174-35ad80d5787a",
   "metadata": {},
   "source": [
    "### from list and to list"
   ]
  },
  {
   "cell_type": "code",
   "execution_count": 37,
   "id": "2f94150c-5fc5-4005-b405-c5e892240df4",
   "metadata": {},
   "outputs": [
    {
     "data": {
      "text/plain": [
       "array([[1, 2],\n",
       "       [3, 4]])"
      ]
     },
     "execution_count": 37,
     "metadata": {},
     "output_type": "execute_result"
    }
   ],
   "source": [
    "import numpy as np\n",
    "arr = np.array([[1, 2], [3, 4]])\n",
    "arr"
   ]
  },
  {
   "cell_type": "code",
   "execution_count": 38,
   "id": "ebfa22e4-c82f-4be2-a5f4-464c444bc6c3",
   "metadata": {},
   "outputs": [
    {
     "name": "stdout",
     "output_type": "stream",
     "text": [
      "Array to list without ravel =  [[1, 2, 3, 4, 5], [6, 7, 8, 9, 10]]\n",
      "Array to list with ravel=  [1, 2, 3, 4, 5, 6, 7, 8, 9, 10]\n"
     ]
    }
   ],
   "source": [
    "aa = np.array([[1, 2, 3, 4, 5],[6,7,8,9,10]])\n",
    "\n",
    "print(\"Array to list without ravel = \", aa.tolist())\n",
    "print(\"Array to list with ravel= \", aa.ravel().tolist())"
   ]
  },
  {
   "cell_type": "code",
   "execution_count": null,
   "id": "ea471810-4b46-4bc0-8b6d-552628b8cd8f",
   "metadata": {},
   "outputs": [],
   "source": []
  },
  {
   "cell_type": "markdown",
   "id": "d9105c43",
   "metadata": {},
   "source": [
    "### Random values"
   ]
  },
  {
   "cell_type": "code",
   "execution_count": 39,
   "id": "b6c7aeaf",
   "metadata": {},
   "outputs": [
    {
     "data": {
      "text/plain": [
       "array([[0.17460261, 0.11132211, 0.30989916],\n",
       "       [0.46142318, 0.07233133, 0.89925829],\n",
       "       [0.70556045, 0.84733018, 0.2048719 ]])"
      ]
     },
     "execution_count": 39,
     "metadata": {},
     "output_type": "execute_result"
    }
   ],
   "source": [
    "\"\"\"Create an array of the given shape and populate it with\n",
    "random samples from a uniform distribution\n",
    "over ``[0, 1)``.\n",
    "\"\"\"\n",
    "np.random.rand(3,3)"
   ]
  },
  {
   "cell_type": "code",
   "execution_count": 40,
   "id": "4d80419c",
   "metadata": {},
   "outputs": [
    {
     "data": {
      "text/plain": [
       "array([83,  8, 53, 82, 34, 70, 95, 48,  4, 25])"
      ]
     },
     "execution_count": 40,
     "metadata": {},
     "output_type": "execute_result"
    }
   ],
   "source": [
    "\"\"\"\n",
    "randint(low, high=None, size=None, dtype=int)\n",
    "Return random integers from `low` (inclusive) to `high` (exclusive).\"\"\"\n",
    "np.random.randint(3,100,10)"
   ]
  },
  {
   "cell_type": "code",
   "execution_count": 41,
   "id": "fbf88487",
   "metadata": {},
   "outputs": [
    {
     "data": {
      "text/plain": [
       "8"
      ]
     },
     "execution_count": 41,
     "metadata": {},
     "output_type": "execute_result"
    }
   ],
   "source": [
    "np.random.randint(10)\n",
    "#randint(low, high=None, size=None, dtype=int)"
   ]
  },
  {
   "cell_type": "code",
   "execution_count": 42,
   "id": "7ed02962",
   "metadata": {},
   "outputs": [
    {
     "data": {
      "text/plain": [
       "array([88, 84, 62, 71, 77, 86, 13, 34, 22, 18])"
      ]
     },
     "execution_count": 42,
     "metadata": {},
     "output_type": "execute_result"
    }
   ],
   "source": [
    "r=np.random.randint(3,100,10)\n",
    "r"
   ]
  },
  {
   "cell_type": "code",
   "execution_count": 43,
   "id": "8b6fa0cf",
   "metadata": {
    "scrolled": true
   },
   "outputs": [
    {
     "data": {
      "text/plain": [
       "array([[[86, 45, 11, 67, 58, 97, 78, 37, 52, 32],\n",
       "        [98, 97, 92, 85, 13, 71, 15, 72,  5, 31],\n",
       "        [62, 36, 40, 60, 99, 96, 98, 12, 87, 37]],\n",
       "\n",
       "       [[11, 33, 87, 12, 98, 65, 34, 77, 94, 33],\n",
       "        [54, 55,  4, 86, 14, 70, 84, 12, 80,  9],\n",
       "        [78, 26,  7, 91, 56, 74, 58, 83, 71,  9]],\n",
       "\n",
       "       [[80, 41, 63, 93, 49, 73, 61, 63, 67, 40],\n",
       "        [80, 21, 91, 89, 50,  7, 24, 79, 26, 34],\n",
       "        [64, 39, 73, 67, 10, 86, 41, 55, 47, 30]]])"
      ]
     },
     "execution_count": 43,
     "metadata": {},
     "output_type": "execute_result"
    }
   ],
   "source": [
    "r=np.random.randint(3,100,(3,3,10))\n",
    "r"
   ]
  },
  {
   "cell_type": "code",
   "execution_count": 44,
   "id": "43b00f84",
   "metadata": {},
   "outputs": [
    {
     "name": "stdout",
     "output_type": "stream",
     "text": [
      "(2, 2, 5)\n",
      "[[[ 1  2  3  4  5]\n",
      "  [ 6  7  8  9 10]]\n",
      "\n",
      " [[11 12 13 14 15]\n",
      "  [16 17 18 19 20]]]\n"
     ]
    }
   ],
   "source": [
    "print(a3.shape)\n",
    "print(a3)\n",
    "#Output:(2,2,5)-(number of arrays, number of rows, number of columns/elements)"
   ]
  },
  {
   "cell_type": "code",
   "execution_count": 45,
   "id": "962631ff",
   "metadata": {},
   "outputs": [
    {
     "data": {
      "text/plain": [
       "(2, 2, 5)"
      ]
     },
     "execution_count": 45,
     "metadata": {},
     "output_type": "execute_result"
    }
   ],
   "source": [
    "a3.shape"
   ]
  },
  {
   "cell_type": "code",
   "execution_count": 46,
   "id": "04b60291",
   "metadata": {},
   "outputs": [
    {
     "data": {
      "text/plain": [
       "array([[[ 1,  2,  3,  4],\n",
       "        [ 5,  6,  7,  8],\n",
       "        [ 9, 10, 11, 12],\n",
       "        [13, 14, 15, 16],\n",
       "        [17, 18, 19, 20]]])"
      ]
     },
     "execution_count": 46,
     "metadata": {},
     "output_type": "execute_result"
    }
   ],
   "source": [
    "a3.reshape(1,5,4)"
   ]
  },
  {
   "cell_type": "markdown",
   "id": "10434f83",
   "metadata": {},
   "source": [
    "## zeros"
   ]
  },
  {
   "cell_type": "code",
   "execution_count": 47,
   "id": "44d8944a",
   "metadata": {},
   "outputs": [
    {
     "data": {
      "text/plain": [
       "array([0., 0., 0., 0., 0.])"
      ]
     },
     "execution_count": 47,
     "metadata": {},
     "output_type": "execute_result"
    }
   ],
   "source": [
    "import numpy as np\n",
    "import pandas as pd\n",
    "np.zeros(5)\n",
    "#Return a new array of given shape and type, filled with zeros.\n"
   ]
  },
  {
   "cell_type": "code",
   "execution_count": 48,
   "id": "5905c647",
   "metadata": {},
   "outputs": [
    {
     "data": {
      "text/plain": [
       "array([[0, 0, 0, 0, 0],\n",
       "       [0, 0, 0, 0, 0],\n",
       "       [0, 0, 0, 0, 0],\n",
       "       [0, 0, 0, 0, 0]])"
      ]
     },
     "execution_count": 48,
     "metadata": {},
     "output_type": "execute_result"
    }
   ],
   "source": [
    "np.zeros((4,5),dtype=int)"
   ]
  },
  {
   "cell_type": "code",
   "execution_count": 49,
   "id": "6e10fca0",
   "metadata": {},
   "outputs": [
    {
     "data": {
      "text/plain": [
       "array([[[0, 0, 0, 0, 0],\n",
       "        [0, 0, 0, 0, 0],\n",
       "        [0, 0, 0, 0, 0],\n",
       "        [0, 0, 0, 0, 0]],\n",
       "\n",
       "       [[0, 0, 0, 0, 0],\n",
       "        [0, 0, 0, 0, 0],\n",
       "        [0, 0, 0, 0, 0],\n",
       "        [0, 0, 0, 0, 0]]])"
      ]
     },
     "execution_count": 49,
     "metadata": {},
     "output_type": "execute_result"
    }
   ],
   "source": [
    "np.zeros((2,4,5),dtype=int)"
   ]
  },
  {
   "cell_type": "code",
   "execution_count": 50,
   "id": "c9cb8b4e",
   "metadata": {},
   "outputs": [
    {
     "data": {
      "text/plain": [
       "array([0, 1, 2, 3, 4])"
      ]
     },
     "execution_count": 50,
     "metadata": {},
     "output_type": "execute_result"
    }
   ],
   "source": [
    "#Return evenly spaced values within a given interval.\n",
    "np.arange(0,5)"
   ]
  },
  {
   "cell_type": "code",
   "execution_count": 51,
   "id": "031cfa28",
   "metadata": {},
   "outputs": [
    {
     "data": {
      "text/plain": [
       "array([[0, 1, 2, 3, 4],\n",
       "       [5, 6, 7, 8, 9]])"
      ]
     },
     "execution_count": 51,
     "metadata": {},
     "output_type": "execute_result"
    }
   ],
   "source": [
    "c1=np.arange(0,10).reshape(2,5)\n",
    "c1"
   ]
  },
  {
   "cell_type": "code",
   "execution_count": 52,
   "id": "2e3af3fa",
   "metadata": {},
   "outputs": [
    {
     "data": {
      "text/plain": [
       "array([[0, 0, 0, 0, 0],\n",
       "       [0, 0, 0, 0, 0]])"
      ]
     },
     "execution_count": 52,
     "metadata": {},
     "output_type": "execute_result"
    }
   ],
   "source": [
    "np.zeros_like(c1)\n",
    "#Return an array of zeros with the same shape and type as a given array."
   ]
  },
  {
   "cell_type": "markdown",
   "id": "7e8fdde8",
   "metadata": {},
   "source": [
    "## Ones"
   ]
  },
  {
   "cell_type": "code",
   "execution_count": 53,
   "id": "b847001e",
   "metadata": {},
   "outputs": [
    {
     "data": {
      "text/plain": [
       "array([[1., 1.],\n",
       "       [1., 1.],\n",
       "       [1., 1.]])"
      ]
     },
     "execution_count": 53,
     "metadata": {},
     "output_type": "execute_result"
    }
   ],
   "source": [
    "o=np.ones((3,2))\n",
    "o"
   ]
  },
  {
   "cell_type": "code",
   "execution_count": 54,
   "id": "886dafe5",
   "metadata": {},
   "outputs": [
    {
     "data": {
      "text/plain": [
       "array([[1, 1],\n",
       "       [1, 1],\n",
       "       [1, 1]])"
      ]
     },
     "execution_count": 54,
     "metadata": {},
     "output_type": "execute_result"
    }
   ],
   "source": [
    "np.ones_like(o,dtype=int)"
   ]
  },
  {
   "cell_type": "markdown",
   "id": "214b9b83",
   "metadata": {},
   "source": [
    "## Full"
   ]
  },
  {
   "cell_type": "code",
   "execution_count": 55,
   "id": "4da09300",
   "metadata": {},
   "outputs": [
    {
     "data": {
      "text/plain": [
       "array([[50, 50, 50, 50, 50],\n",
       "       [50, 50, 50, 50, 50],\n",
       "       [50, 50, 50, 50, 50],\n",
       "       [50, 50, 50, 50, 50],\n",
       "       [50, 50, 50, 50, 50]])"
      ]
     },
     "execution_count": 55,
     "metadata": {},
     "output_type": "execute_result"
    }
   ],
   "source": [
    "np.full((5,5),50)\n",
    "#Return a new array of given shape and type, filled with `fill_value`."
   ]
  },
  {
   "cell_type": "code",
   "execution_count": 56,
   "id": "7bbd44f5",
   "metadata": {},
   "outputs": [
    {
     "data": {
      "text/plain": [
       "array([[50, 50, 50, 50, 50],\n",
       "       [50, 50, 50, 50, 50]])"
      ]
     },
     "execution_count": 56,
     "metadata": {},
     "output_type": "execute_result"
    }
   ],
   "source": [
    "np.full_like(c1,50)"
   ]
  },
  {
   "cell_type": "markdown",
   "id": "9f014704",
   "metadata": {},
   "source": [
    "## eye"
   ]
  },
  {
   "cell_type": "code",
   "execution_count": 57,
   "id": "f6298195",
   "metadata": {},
   "outputs": [
    {
     "data": {
      "text/plain": [
       "array([[1., 0., 0., 0., 0.],\n",
       "       [0., 1., 0., 0., 0.],\n",
       "       [0., 0., 1., 0., 0.],\n",
       "       [0., 0., 0., 1., 0.],\n",
       "       [0., 0., 0., 0., 1.]])"
      ]
     },
     "execution_count": 57,
     "metadata": {},
     "output_type": "execute_result"
    }
   ],
   "source": [
    "np.eye(5)"
   ]
  },
  {
   "cell_type": "code",
   "execution_count": 58,
   "id": "afaa1cf2",
   "metadata": {},
   "outputs": [
    {
     "data": {
      "text/plain": [
       "array([[1., 0., 0., 0., 0.],\n",
       "       [0., 1., 0., 0., 0.],\n",
       "       [0., 0., 1., 0., 0.],\n",
       "       [0., 0., 0., 1., 0.],\n",
       "       [0., 0., 0., 0., 1.]])"
      ]
     },
     "execution_count": 58,
     "metadata": {},
     "output_type": "execute_result"
    }
   ],
   "source": [
    "np.eye(5,5)\n",
    "#Return a 2-D array with ones on the diagonal and zeros elsewhere."
   ]
  },
  {
   "cell_type": "code",
   "execution_count": 59,
   "id": "3e173dc1",
   "metadata": {},
   "outputs": [
    {
     "data": {
      "text/plain": [
       "array([[1., 0., 0., 0., 0.],\n",
       "       [0., 1., 0., 0., 0.],\n",
       "       [0., 0., 1., 0., 0.]])"
      ]
     },
     "execution_count": 59,
     "metadata": {},
     "output_type": "execute_result"
    }
   ],
   "source": [
    "np.eye(3,5)"
   ]
  },
  {
   "cell_type": "code",
   "execution_count": 60,
   "id": "900315fa",
   "metadata": {},
   "outputs": [
    {
     "data": {
      "text/plain": [
       "array([[0., 0., 0., 0., 1., 0., 0., 0., 0., 0.],\n",
       "       [0., 0., 0., 0., 0., 1., 0., 0., 0., 0.],\n",
       "       [0., 0., 0., 0., 0., 0., 1., 0., 0., 0.],\n",
       "       [0., 0., 0., 0., 0., 0., 0., 1., 0., 0.],\n",
       "       [0., 0., 0., 0., 0., 0., 0., 0., 1., 0.],\n",
       "       [0., 0., 0., 0., 0., 0., 0., 0., 0., 1.],\n",
       "       [0., 0., 0., 0., 0., 0., 0., 0., 0., 0.],\n",
       "       [0., 0., 0., 0., 0., 0., 0., 0., 0., 0.],\n",
       "       [0., 0., 0., 0., 0., 0., 0., 0., 0., 0.],\n",
       "       [0., 0., 0., 0., 0., 0., 0., 0., 0., 0.]])"
      ]
     },
     "execution_count": 60,
     "metadata": {},
     "output_type": "execute_result"
    }
   ],
   "source": [
    "np.eye(10,k=4)"
   ]
  },
  {
   "cell_type": "code",
   "execution_count": 61,
   "id": "5240b466",
   "metadata": {
    "tags": []
   },
   "outputs": [
    {
     "data": {
      "text/plain": [
       "array([[0., 0., 0., 0., 1., 0., 0., 0., 0., 0.],\n",
       "       [0., 0., 0., 0., 0., 1., 0., 0., 0., 0.],\n",
       "       [0., 0., 0., 0., 0., 0., 1., 0., 0., 0.],\n",
       "       [0., 0., 0., 0., 0., 0., 0., 1., 0., 0.],\n",
       "       [0., 0., 0., 0., 0., 0., 0., 0., 1., 0.]])"
      ]
     },
     "execution_count": 61,
     "metadata": {},
     "output_type": "execute_result"
    }
   ],
   "source": [
    "np.eye(5,10,k=4)"
   ]
  },
  {
   "cell_type": "markdown",
   "id": "50a18427",
   "metadata": {},
   "source": [
    "## Array with numerical range"
   ]
  },
  {
   "cell_type": "code",
   "execution_count": 62,
   "id": "5e4c2fa4",
   "metadata": {},
   "outputs": [
    {
     "data": {
      "text/plain": [
       "[0, 2, 4, 6, 8]"
      ]
     },
     "execution_count": 62,
     "metadata": {},
     "output_type": "execute_result"
    }
   ],
   "source": [
    "list(range(0,10,2))\n",
    "#This can return ONLY int objects"
   ]
  },
  {
   "cell_type": "code",
   "execution_count": 63,
   "id": "361a9a70",
   "metadata": {},
   "outputs": [
    {
     "data": {
      "text/plain": [
       "array([0, 1, 2, 3, 4, 5, 6, 7, 8, 9])"
      ]
     },
     "execution_count": 63,
     "metadata": {},
     "output_type": "execute_result"
    }
   ],
   "source": [
    "np.arange(0,10)\n",
    "\n",
    "#arange is faster than range due to memory allocation"
   ]
  },
  {
   "cell_type": "code",
   "execution_count": 64,
   "id": "f91f5c77",
   "metadata": {},
   "outputs": [
    {
     "data": {
      "text/plain": [
       "array([1. , 1.5, 2. , 2.5, 3. , 3.5, 4. , 4.5, 5. , 5.5, 6. , 6.5, 7. ,\n",
       "       7.5, 8. , 8.5, 9. , 9.5])"
      ]
     },
     "execution_count": 64,
     "metadata": {},
     "output_type": "execute_result"
    }
   ],
   "source": [
    "np.arange(1,10,0.5)\n",
    "#here floats can also be obtained"
   ]
  },
  {
   "cell_type": "code",
   "execution_count": 65,
   "id": "3ef63e00",
   "metadata": {},
   "outputs": [
    {
     "data": {
      "text/plain": [
       "range"
      ]
     },
     "execution_count": 65,
     "metadata": {},
     "output_type": "execute_result"
    }
   ],
   "source": [
    "type(range(0,10))"
   ]
  },
  {
   "cell_type": "code",
   "execution_count": 66,
   "id": "7aa22ca3",
   "metadata": {},
   "outputs": [
    {
     "data": {
      "text/plain": [
       "numpy.ndarray"
      ]
     },
     "execution_count": 66,
     "metadata": {},
     "output_type": "execute_result"
    }
   ],
   "source": [
    "type(np.arange(0,10))"
   ]
  },
  {
   "cell_type": "raw",
   "id": "7db6c43f",
   "metadata": {},
   "source": [
    "                 RANGE vs ARANGE\n",
    "\n",
    "-inbulit vs -need to import numpy\n",
    "\n",
    "-range(-,-,-) vs np.arange(-,-,-)\n",
    "\n",
    "-works only with integer values vs works with float values also\n",
    "\n",
    "-slower vs faster\n",
    "\n",
    "-less memory efficient vs more memory efficient\n",
    "\n",
    "-type:range vs type: numpy.ndarray\n",
    "\n",
    "-gives sequence vs gives array of sequence"
   ]
  },
  {
   "cell_type": "markdown",
   "id": "176a2557",
   "metadata": {},
   "source": [
    "## linespace"
   ]
  },
  {
   "cell_type": "code",
   "execution_count": 67,
   "id": "70bcf2e4",
   "metadata": {},
   "outputs": [
    {
     "data": {
      "text/plain": [
       "array([  1.        ,   3.02040816,   5.04081633,   7.06122449,\n",
       "         9.08163265,  11.10204082,  13.12244898,  15.14285714,\n",
       "        17.16326531,  19.18367347,  21.20408163,  23.2244898 ,\n",
       "        25.24489796,  27.26530612,  29.28571429,  31.30612245,\n",
       "        33.32653061,  35.34693878,  37.36734694,  39.3877551 ,\n",
       "        41.40816327,  43.42857143,  45.44897959,  47.46938776,\n",
       "        49.48979592,  51.51020408,  53.53061224,  55.55102041,\n",
       "        57.57142857,  59.59183673,  61.6122449 ,  63.63265306,\n",
       "        65.65306122,  67.67346939,  69.69387755,  71.71428571,\n",
       "        73.73469388,  75.75510204,  77.7755102 ,  79.79591837,\n",
       "        81.81632653,  83.83673469,  85.85714286,  87.87755102,\n",
       "        89.89795918,  91.91836735,  93.93877551,  95.95918367,\n",
       "        97.97959184, 100.        ])"
      ]
     },
     "execution_count": 67,
     "metadata": {},
     "output_type": "execute_result"
    }
   ],
   "source": [
    "np.linspace(1,100)"
   ]
  },
  {
   "cell_type": "code",
   "execution_count": 68,
   "id": "140e1c90",
   "metadata": {
    "tags": []
   },
   "outputs": [
    {
     "data": {
      "text/plain": [
       "array([  1.   ,   5.125,   9.25 ,  13.375,  17.5  ,  21.625,  25.75 ,\n",
       "        29.875,  34.   ,  38.125,  42.25 ,  46.375,  50.5  ,  54.625,\n",
       "        58.75 ,  62.875,  67.   ,  71.125,  75.25 ,  79.375,  83.5  ,\n",
       "        87.625,  91.75 ,  95.875, 100.   ])"
      ]
     },
     "execution_count": 68,
     "metadata": {},
     "output_type": "execute_result"
    }
   ],
   "source": [
    "np.linspace(1,100,25)\n",
    "#Return evenly spaced numbers over a specified interval."
   ]
  },
  {
   "cell_type": "code",
   "execution_count": 69,
   "id": "840e1a6b",
   "metadata": {},
   "outputs": [
    {
     "data": {
      "text/plain": [
       "array([ 1.  ,  4.96,  8.92, 12.88, 16.84, 20.8 , 24.76, 28.72, 32.68,\n",
       "       36.64, 40.6 , 44.56, 48.52, 52.48, 56.44, 60.4 , 64.36, 68.32,\n",
       "       72.28, 76.24, 80.2 , 84.16, 88.12, 92.08, 96.04])"
      ]
     },
     "execution_count": 69,
     "metadata": {},
     "output_type": "execute_result"
    }
   ],
   "source": [
    "np.linspace(1,100,25,endpoint=False)"
   ]
  },
  {
   "cell_type": "code",
   "execution_count": 70,
   "id": "8b285925",
   "metadata": {},
   "outputs": [
    {
     "data": {
      "text/plain": [
       "(array([  1.   ,   5.125,   9.25 ,  13.375,  17.5  ,  21.625,  25.75 ,\n",
       "         29.875,  34.   ,  38.125,  42.25 ,  46.375,  50.5  ,  54.625,\n",
       "         58.75 ,  62.875,  67.   ,  71.125,  75.25 ,  79.375,  83.5  ,\n",
       "         87.625,  91.75 ,  95.875, 100.   ]),\n",
       " 4.125)"
      ]
     },
     "execution_count": 70,
     "metadata": {},
     "output_type": "execute_result"
    }
   ],
   "source": [
    "np.linspace(1,100,25,retstep=True)\n",
    "#Returns stepsize at end  here ex.4.125"
   ]
  },
  {
   "cell_type": "markdown",
   "id": "174be19b",
   "metadata": {},
   "source": [
    "## logspace"
   ]
  },
  {
   "cell_type": "code",
   "execution_count": 71,
   "id": "fb5d4681",
   "metadata": {
    "tags": []
   },
   "outputs": [
    {
     "data": {
      "text/plain": [
       "array([2.00000000e+00, 3.11249583e+01, 4.84381515e+02, 7.53817723e+03,\n",
       "       1.17312726e+05, 1.82567685e+06, 2.84120580e+07, 4.42162061e+08,\n",
       "       6.88113785e+09, 1.07087564e+11, 1.66654799e+12, 2.59356184e+13,\n",
       "       4.03622520e+14, 6.28136706e+15, 9.77536439e+16, 1.52128905e+18,\n",
       "       2.36750291e+19, 3.68442146e+20, 5.73387323e+21, 8.92332826e+22,\n",
       "       1.38869110e+24, 2.16114763e+25, 3.36328150e+26, 5.23409982e+27,\n",
       "       8.14555693e+28])"
      ]
     },
     "execution_count": 71,
     "metadata": {},
     "output_type": "execute_result"
    }
   ],
   "source": [
    "np.logspace(1,100,25,base=2,endpoint=False)"
   ]
  },
  {
   "cell_type": "code",
   "execution_count": null,
   "id": "2b6bb3da-968d-4765-bff3-5e56bc8cae33",
   "metadata": {},
   "outputs": [],
   "source": []
  },
  {
   "cell_type": "markdown",
   "id": "382d7326-f846-4512-95dd-ef963140be17",
   "metadata": {},
   "source": [
    "## <mark> numpy aggregations"
   ]
  },
  {
   "cell_type": "code",
   "execution_count": 72,
   "id": "f6a6d1d8-8651-443a-a082-06cc3277e5b8",
   "metadata": {},
   "outputs": [],
   "source": [
    "import numpy as np\n",
    "one=np.array([1,3,4,934,2])"
   ]
  },
  {
   "cell_type": "code",
   "execution_count": 73,
   "id": "9aa6d2ac-fa32-4452-bbf0-47f69f1799ff",
   "metadata": {},
   "outputs": [
    {
     "data": {
      "text/plain": [
       "3"
      ]
     },
     "execution_count": 73,
     "metadata": {},
     "output_type": "execute_result"
    }
   ],
   "source": [
    "one.argmax()\n",
    "#gives the index of maximum values"
   ]
  },
  {
   "cell_type": "code",
   "execution_count": 74,
   "id": "5d49a94e-224b-4203-a3e6-c127b43e2538",
   "metadata": {},
   "outputs": [
    {
     "data": {
      "text/plain": [
       "array([0, 4, 1, 2, 3], dtype=int64)"
      ]
     },
     "execution_count": 74,
     "metadata": {},
     "output_type": "execute_result"
    }
   ],
   "source": [
    "one.argsort()\n",
    "#Gives the sorted indices(not values) of the array"
   ]
  },
  {
   "cell_type": "code",
   "execution_count": 75,
   "id": "85fac03e-1e1a-4e08-80dc-ca35858cc8b5",
   "metadata": {},
   "outputs": [
    {
     "data": {
      "text/plain": [
       "array([[1, 2, 3],\n",
       "       [4, 5, 6],\n",
       "       [7, 1, 0]])"
      ]
     },
     "execution_count": 75,
     "metadata": {},
     "output_type": "execute_result"
    }
   ],
   "source": [
    "ar=np.array([[1, 2, 3],\n",
    "       [4, 5, 6],\n",
    "       [7, 1, 0]])\n",
    "ar"
   ]
  },
  {
   "cell_type": "code",
   "execution_count": 76,
   "id": "9fe319db-2678-4506-a9cd-3b03283062e4",
   "metadata": {},
   "outputs": [
    {
     "data": {
      "text/plain": [
       "8"
      ]
     },
     "execution_count": 76,
     "metadata": {},
     "output_type": "execute_result"
    }
   ],
   "source": [
    "ar.argmin()\n",
    "#Return indices of the minimum values along the given axis "
   ]
  },
  {
   "cell_type": "code",
   "execution_count": 77,
   "id": "48a3dfb8-5763-4f13-8ca5-20a8f6195ef6",
   "metadata": {},
   "outputs": [
    {
     "data": {
      "text/plain": [
       "6"
      ]
     },
     "execution_count": 77,
     "metadata": {},
     "output_type": "execute_result"
    }
   ],
   "source": [
    "ar.argmax()\n",
    "#Return indices of the maximum values along the given axis."
   ]
  },
  {
   "cell_type": "code",
   "execution_count": 78,
   "id": "42c12866-8c53-4487-8530-c5fd107a72fa",
   "metadata": {},
   "outputs": [
    {
     "data": {
      "text/plain": [
       "array([2, 1, 1], dtype=int64)"
      ]
     },
     "execution_count": 78,
     "metadata": {},
     "output_type": "execute_result"
    }
   ],
   "source": [
    "ar.argmax(axis=0) #Columnwise"
   ]
  },
  {
   "cell_type": "code",
   "execution_count": 79,
   "id": "61ec7821-da3c-4801-be4b-fbbf08c28168",
   "metadata": {},
   "outputs": [
    {
     "data": {
      "text/plain": [
       "array([2, 2, 0], dtype=int64)"
      ]
     },
     "execution_count": 79,
     "metadata": {},
     "output_type": "execute_result"
    }
   ],
   "source": [
    "ar.argmax(axis=1)"
   ]
  },
  {
   "cell_type": "code",
   "execution_count": 80,
   "id": "e4e6e36c-3e73-4430-ba26-a1beed0eecaa",
   "metadata": {},
   "outputs": [
    {
     "data": {
      "text/plain": [
       "array([[0, 1, 2],\n",
       "       [0, 1, 2],\n",
       "       [2, 1, 0]], dtype=int64)"
      ]
     },
     "execution_count": 80,
     "metadata": {},
     "output_type": "execute_result"
    }
   ],
   "source": [
    "ar.argsort()\n",
    "#Returns the indices that would sort this array."
   ]
  },
  {
   "cell_type": "code",
   "execution_count": 81,
   "id": "39c2c4d7-14c8-402c-b4d3-5ff8f75eff73",
   "metadata": {},
   "outputs": [
    {
     "data": {
      "text/plain": [
       "array([[1.        , 1.41421356, 1.73205081],\n",
       "       [2.        , 2.23606798, 2.44948974],\n",
       "       [2.64575131, 1.        , 0.        ]])"
      ]
     },
     "execution_count": 81,
     "metadata": {},
     "output_type": "execute_result"
    }
   ],
   "source": [
    "np.sqrt(ar)"
   ]
  },
  {
   "cell_type": "code",
   "execution_count": 82,
   "id": "9a642c26-89e8-4e01-a693-30d60608307a",
   "metadata": {},
   "outputs": [
    {
     "data": {
      "text/plain": [
       "29"
      ]
     },
     "execution_count": 82,
     "metadata": {},
     "output_type": "execute_result"
    }
   ],
   "source": [
    "ar.sum()"
   ]
  },
  {
   "cell_type": "code",
   "execution_count": 83,
   "id": "d99dcfb3-db69-4dfa-a33c-e0a3fcd1aefe",
   "metadata": {},
   "outputs": [
    {
     "data": {
      "text/plain": [
       "0"
      ]
     },
     "execution_count": 83,
     "metadata": {},
     "output_type": "execute_result"
    }
   ],
   "source": [
    "ar.min()"
   ]
  },
  {
   "cell_type": "code",
   "execution_count": 84,
   "id": "557d5d68-7eb9-446b-9a34-7b456c001609",
   "metadata": {},
   "outputs": [
    {
     "data": {
      "text/plain": [
       "7"
      ]
     },
     "execution_count": 84,
     "metadata": {},
     "output_type": "execute_result"
    }
   ],
   "source": [
    "ar.max()"
   ]
  },
  {
   "cell_type": "markdown",
   "id": "72420cf9-20ea-4444-a292-0807144f61d5",
   "metadata": {},
   "source": [
    "## <mark> Datatypes in array\n",
    "    \n",
    "The best way to change the data type of an existing array, is to make a copy of the array with the astype() method.\n",
    "\n",
    "The astype() function creates a copy of the array, and allows you to specify the data type as a parameter.\n",
    "\n",
    "The data type can be specified using a string, like 'f' for float, 'i' for integer etc. or you can use the data type directly like float for float and int for integer."
   ]
  },
  {
   "cell_type": "code",
   "execution_count": 85,
   "id": "682a2549-a8c8-4ca4-8fb2-78159c684bb8",
   "metadata": {},
   "outputs": [
    {
     "name": "stdout",
     "output_type": "stream",
     "text": [
      "<U6\n"
     ]
    }
   ],
   "source": [
    "arr = np.array(['apple', 'banana', 'cherry'])\n",
    "print(arr.dtype)"
   ]
  },
  {
   "cell_type": "code",
   "execution_count": 86,
   "id": "0b9a6e89-1bc3-46c4-ad0c-2c09d3482f23",
   "metadata": {},
   "outputs": [
    {
     "name": "stdout",
     "output_type": "stream",
     "text": [
      "int32\n"
     ]
    }
   ],
   "source": [
    "arr = np.array([1, 2, 3, 4])\n",
    "print(arr.dtype)"
   ]
  },
  {
   "cell_type": "code",
   "execution_count": 87,
   "id": "cdad5ebf-77d5-4bad-8ba3-622f6d4bc30d",
   "metadata": {},
   "outputs": [
    {
     "name": "stdout",
     "output_type": "stream",
     "text": [
      "[b'1' b'2' b'3' b'4']\n",
      "|S1\n"
     ]
    }
   ],
   "source": [
    "arr = np.array([1, 2, 3, 4], dtype='S')\n",
    "print(arr)\n",
    "print(arr.dtype)"
   ]
  }
 ],
 "metadata": {
  "kernelspec": {
   "display_name": "Python 3 (ipykernel)",
   "language": "python",
   "name": "python3"
  },
  "language_info": {
   "codemirror_mode": {
    "name": "ipython",
    "version": 3
   },
   "file_extension": ".py",
   "mimetype": "text/x-python",
   "name": "python",
   "nbconvert_exporter": "python",
   "pygments_lexer": "ipython3",
   "version": "3.9.13"
  }
 },
 "nbformat": 4,
 "nbformat_minor": 5
}

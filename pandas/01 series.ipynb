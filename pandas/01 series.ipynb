{
 "cells": [
  {
   "cell_type": "markdown",
   "metadata": {
    "tags": []
   },
   "source": [
    "## <mark> Datastructures in Pandas 3: Series, DF, Panel\n",
    "\n",
    "The Series is a **One Dimensional array which is Labelled** and it is **capable of holding array of any type like: Integer, Float, String and Python Objects.**\n",
    "\n",
    "A Data Frame is a Two Dimensional data structure. In this kind of data structure the data is arranged in a tabular form (Rows and Columns).\n",
    "\n",
    "A pandas Panel is a 3 Dimensional Container of Data. A **Panel(a Series of DataFrames)** will generally be more memory/computationally efficient.\n",
    "    \n",
    "    pd.Panel(data, item, major_axis, minor_axis, dtype, copy)\n",
    "    Using 3D ndarray/Dictionary to create a Panel"
   ]
  },
  {
   "cell_type": "markdown",
   "metadata": {},
   "source": [
    "## <mark> Pandas Series"
   ]
  },
  {
   "cell_type": "markdown",
   "metadata": {},
   "source": [
    "Pandas Series is a **one-dimensional labeled array capable of holding data of any type** (integer, string, float, python objects, etc.). The **axis labels are collectively called index**. Pandas Series is nothing but a column in an excel sheet.\n",
    "Labels need not be unique but must be a hashable type. The object supports both integer and label-based indexing and provides a host of methods for performing operations involving the index.\n",
    "\n",
    "**creating a series**\n",
    "\n",
    "    empty\n",
    "    list\n",
    "    tuple\n",
    "    dictionary\n",
    "    array\n",
    "    x set x\n",
    "    \n",
    "**series methods**\n",
    "\n",
    "    a.index(Return all index values)\n",
    "    a.array(Return an array of values)\n",
    "    a.values(Return values of series)\n",
    "    a.name(Return name of series)\n",
    "    a.shape(Return shape of series)\n",
    "    a.ndim(Return dim of series)\n",
    "    a.size(Return size of series)\n",
    "    a.shape(Return memory ocupied by values)\n",
    "    a.memory_usage(Return memory ocupied by values and indexs)\n",
    "    a.empty(Returns True if series is empty)\n",
    "    \n",
    "**mathematical operations**\n",
    "\n",
    "    add\n",
    "    substract\n",
    "    multiply\n",
    "    divide\n",
    "    mod\n",
    "    pow\n",
    "    le\n",
    "    gt\n",
    "    eqauls"
   ]
  },
  {
   "cell_type": "markdown",
   "metadata": {},
   "source": [
    "##### <mark> creating a series\n",
    "\n",
    "    empty\n",
    "    list\n",
    "    tuple\n",
    "    dictionary\n",
    "    array\n",
    "    x set x"
   ]
  },
  {
   "cell_type": "code",
   "execution_count": 11,
   "metadata": {},
   "outputs": [
    {
     "name": "stdout",
     "output_type": "stream",
     "text": [
      "Series([], dtype: float64)\n"
     ]
    },
    {
     "name": "stderr",
     "output_type": "stream",
     "text": [
      "C:\\Users\\AdmiN\\AppData\\Local\\Temp\\ipykernel_16952\\3826899825.py:2: FutureWarning: The default dtype for empty Series will be 'object' instead of 'float64' in a future version. Specify a dtype explicitly to silence this warning.\n",
      "  a=pd.Series()  # empty series\n"
     ]
    }
   ],
   "source": [
    "import pandas as pd\n",
    "a=pd.Series()  # empty series\n",
    "print(a)"
   ]
  },
  {
   "cell_type": "code",
   "execution_count": 6,
   "metadata": {},
   "outputs": [
    {
     "name": "stdout",
     "output_type": "stream",
     "text": [
      "a       Virat\n",
      "b       Dhoni\n",
      "c    KL Rahul\n",
      "Name: cricketername, dtype: object\n",
      "<class 'pandas.core.series.Series'>\n"
     ]
    }
   ],
   "source": [
    "a=pd.Series([\"Virat\",\"Dhoni\",\"KL Rahul\"],\n",
    "            index=[\"a\",\"b\",\"c\"],\n",
    "            name=\"cricketername\")\n",
    "print(a)\n",
    "\n",
    "print(type(a))\n",
    "# using list"
   ]
  },
  {
   "cell_type": "code",
   "execution_count": 7,
   "metadata": {},
   "outputs": [
    {
     "name": "stdout",
     "output_type": "stream",
     "text": [
      "array is: ['a' 'b' 'c']\n",
      "series is:\n",
      " 0    a\n",
      "1    b\n",
      "2    c\n",
      "dtype: object\n"
     ]
    }
   ],
   "source": [
    "import numpy as np\n",
    "\n",
    "a=np.array([\"a\",\"b\",\"c\"])\n",
    "print(\"array is:\",a)\n",
    "\n",
    "s1=pd.Series(a)\n",
    "print(\"series is:\\n\", s1)\n",
    "# Using array"
   ]
  },
  {
   "cell_type": "code",
   "execution_count": 8,
   "metadata": {},
   "outputs": [
    {
     "name": "stdout",
     "output_type": "stream",
     "text": [
      "{'Name': 'Rahul', 'age': 20, 'job': 'data scientist'}\n"
     ]
    },
    {
     "data": {
      "text/plain": [
       "Name             Rahul\n",
       "age                 20\n",
       "job     data scientist\n",
       "dtype: object"
      ]
     },
     "execution_count": 8,
     "metadata": {},
     "output_type": "execute_result"
    }
   ],
   "source": [
    "d={\"Name\": \"Rahul\", \"age\": 20, \"job\": \"data scientist\"}\n",
    "print(d)\n",
    "\n",
    "s2=pd.Series(d)\n",
    "s2\n",
    "# From dictionary"
   ]
  },
  {
   "cell_type": "code",
   "execution_count": 9,
   "metadata": {},
   "outputs": [
    {
     "data": {
      "text/plain": [
       "0    11\n",
       "1    12\n",
       "2    13\n",
       "3    14\n",
       "dtype: int64"
      ]
     },
     "execution_count": 9,
     "metadata": {},
     "output_type": "execute_result"
    }
   ],
   "source": [
    "s3=pd.Series((11, 12, 13, 14))\n",
    "s3\n",
    "# From tuple"
   ]
  },
  {
   "cell_type": "raw",
   "metadata": {},
   "source": [
    "#s3=pd.Series({1,2,3,4})\n",
    "\n",
    "#From set:NOT possible as 'set' type is unordered"
   ]
  },
  {
   "cell_type": "markdown",
   "metadata": {},
   "source": [
    "### <mark> Attributes of Series"
   ]
  },
  {
   "cell_type": "markdown",
   "metadata": {},
   "source": [
    "    - a.index(Return all index values)\n",
    "     \n",
    "    - a.array(Return an array of values)\n",
    "\n",
    "    - a.values(Return values of series)\n",
    "    \n",
    "    - a.name(Return name of series)\n",
    "    \n",
    "    - a.shape(Return shape of series)\n",
    "    \n",
    "    - a.ndim(Return dim of series)\n",
    "    \n",
    "    - a.size(Return size of series)\n",
    "    \n",
    "    - a.shape(Return memory ocupied by values)\n",
    "    \n",
    "    - a.memory_usage(Return memory ocupied by values and indexs)\n",
    "    \n",
    "    - a.empty(Returns True if series is empty)"
   ]
  },
  {
   "cell_type": "code",
   "execution_count": 12,
   "metadata": {},
   "outputs": [
    {
     "data": {
      "text/plain": [
       "0    11\n",
       "1    12\n",
       "2    13\n",
       "3    14\n",
       "dtype: int64"
      ]
     },
     "execution_count": 12,
     "metadata": {},
     "output_type": "execute_result"
    }
   ],
   "source": [
    "s3=pd.Series((11, 12, 13, 14))\n",
    "s3"
   ]
  },
  {
   "cell_type": "code",
   "execution_count": 13,
   "metadata": {},
   "outputs": [
    {
     "data": {
      "text/plain": [
       "RangeIndex(start=0, stop=4, step=1)"
      ]
     },
     "execution_count": 13,
     "metadata": {},
     "output_type": "execute_result"
    }
   ],
   "source": [
    "s3.index"
   ]
  },
  {
   "cell_type": "code",
   "execution_count": 14,
   "metadata": {},
   "outputs": [
    {
     "data": {
      "text/plain": [
       "<PandasArray>\n",
       "[11, 12, 13, 14]\n",
       "Length: 4, dtype: int64"
      ]
     },
     "execution_count": 14,
     "metadata": {},
     "output_type": "execute_result"
    }
   ],
   "source": [
    "s3.array"
   ]
  },
  {
   "cell_type": "code",
   "execution_count": 15,
   "metadata": {},
   "outputs": [
    {
     "data": {
      "text/plain": [
       "array([11, 12, 13, 14], dtype=int64)"
      ]
     },
     "execution_count": 15,
     "metadata": {},
     "output_type": "execute_result"
    }
   ],
   "source": [
    "s3.values"
   ]
  },
  {
   "cell_type": "code",
   "execution_count": 16,
   "metadata": {},
   "outputs": [
    {
     "data": {
      "text/plain": [
       "'cricketername'"
      ]
     },
     "execution_count": 16,
     "metadata": {},
     "output_type": "execute_result"
    }
   ],
   "source": [
    "a=pd.Series([\"Virat\",\"dhoni\",\"KL Rahul\"],\n",
    "            index=[\"a\",\"b\",\"c\"],\n",
    "            name=\"cricketername\")\n",
    "a.name"
   ]
  },
  {
   "cell_type": "code",
   "execution_count": 17,
   "metadata": {},
   "outputs": [
    {
     "data": {
      "text/plain": [
       "3"
      ]
     },
     "execution_count": 17,
     "metadata": {},
     "output_type": "execute_result"
    }
   ],
   "source": [
    "a.size"
   ]
  },
  {
   "cell_type": "code",
   "execution_count": 18,
   "metadata": {
    "tags": []
   },
   "outputs": [
    {
     "data": {
      "text/plain": [
       "int"
      ]
     },
     "execution_count": 18,
     "metadata": {},
     "output_type": "execute_result"
    }
   ],
   "source": [
    "type(a.size)"
   ]
  },
  {
   "cell_type": "code",
   "execution_count": 19,
   "metadata": {},
   "outputs": [
    {
     "data": {
      "text/plain": [
       "(3,)"
      ]
     },
     "execution_count": 19,
     "metadata": {},
     "output_type": "execute_result"
    }
   ],
   "source": [
    "a.shape"
   ]
  },
  {
   "cell_type": "code",
   "execution_count": 21,
   "metadata": {},
   "outputs": [
    {
     "data": {
      "text/plain": [
       "24"
      ]
     },
     "execution_count": 21,
     "metadata": {},
     "output_type": "execute_result"
    }
   ],
   "source": [
    "a.nbytes"
   ]
  },
  {
   "cell_type": "code",
   "execution_count": 22,
   "metadata": {},
   "outputs": [
    {
     "data": {
      "text/plain": [
       "48"
      ]
     },
     "execution_count": 22,
     "metadata": {},
     "output_type": "execute_result"
    }
   ],
   "source": [
    "a.memory_usage()"
   ]
  },
  {
   "cell_type": "code",
   "execution_count": 23,
   "metadata": {},
   "outputs": [
    {
     "data": {
      "text/plain": [
       "False"
      ]
     },
     "execution_count": 23,
     "metadata": {},
     "output_type": "execute_result"
    }
   ],
   "source": [
    "a.empty"
   ]
  },
  {
   "cell_type": "code",
   "execution_count": 24,
   "metadata": {},
   "outputs": [
    {
     "data": {
      "text/plain": [
       "0    (1, 0)\n",
       "1    (2, 0)\n",
       "2    (5, 4)\n",
       "dtype: object"
      ]
     },
     "execution_count": 24,
     "metadata": {},
     "output_type": "execute_result"
    }
   ],
   "source": [
    "a=pd.Series([(1,0),(2,0),(5,4)])\n",
    "a"
   ]
  },
  {
   "cell_type": "markdown",
   "metadata": {},
   "source": [
    "### <mark> Mathematical operations in Series\n",
    "\n",
    "    add\n",
    "    substract\n",
    "    multiply\n",
    "    divide\n",
    "    mod\n",
    "    pow\n",
    "    le\n",
    "    gt\n",
    "    eqauls"
   ]
  },
  {
   "cell_type": "code",
   "execution_count": 25,
   "metadata": {},
   "outputs": [],
   "source": [
    "import pandas as pd\n",
    "sa=pd.Series([[100,50,30],[50,30,20]])\n",
    "s2=pd.Series([50,30,20])\n",
    "s1=pd.Series([100,50,30])"
   ]
  },
  {
   "cell_type": "code",
   "execution_count": 26,
   "metadata": {},
   "outputs": [
    {
     "data": {
      "text/plain": [
       "0    150\n",
       "1     80\n",
       "2     50\n",
       "dtype: int64"
      ]
     },
     "execution_count": 26,
     "metadata": {},
     "output_type": "execute_result"
    }
   ],
   "source": [
    "s1.add(s2)\n",
    "#s1+s2"
   ]
  },
  {
   "cell_type": "code",
   "execution_count": 27,
   "metadata": {},
   "outputs": [
    {
     "data": {
      "text/plain": [
       "0    50\n",
       "1    20\n",
       "2    10\n",
       "dtype: int64"
      ]
     },
     "execution_count": 27,
     "metadata": {},
     "output_type": "execute_result"
    }
   ],
   "source": [
    "s1.subtract(s2)\n",
    "#s1-s2"
   ]
  },
  {
   "cell_type": "code",
   "execution_count": 28,
   "metadata": {},
   "outputs": [
    {
     "data": {
      "text/plain": [
       "0    5000\n",
       "1    1500\n",
       "2     600\n",
       "dtype: int64"
      ]
     },
     "execution_count": 28,
     "metadata": {},
     "output_type": "execute_result"
    }
   ],
   "source": [
    "s1.multiply(s2)\n",
    "#s1*s2"
   ]
  },
  {
   "cell_type": "code",
   "execution_count": 29,
   "metadata": {},
   "outputs": [
    {
     "data": {
      "text/plain": [
       "0    2.000000\n",
       "1    1.666667\n",
       "2    1.500000\n",
       "dtype: float64"
      ]
     },
     "execution_count": 29,
     "metadata": {},
     "output_type": "execute_result"
    }
   ],
   "source": [
    "s1.divide(s2)\n",
    "#s1/s2"
   ]
  },
  {
   "cell_type": "code",
   "execution_count": 30,
   "metadata": {},
   "outputs": [
    {
     "data": {
      "text/plain": [
       "0     0\n",
       "1    20\n",
       "2    10\n",
       "dtype: int64"
      ]
     },
     "execution_count": 30,
     "metadata": {},
     "output_type": "execute_result"
    }
   ],
   "source": [
    "s1.mod(s2)\n",
    "#s1%s2"
   ]
  },
  {
   "cell_type": "code",
   "execution_count": 31,
   "metadata": {},
   "outputs": [
    {
     "data": {
      "text/plain": [
       "0                      0\n",
       "1    5878960461428293632\n",
       "2   -4356359181443268608\n",
       "dtype: int64"
      ]
     },
     "execution_count": 31,
     "metadata": {},
     "output_type": "execute_result"
    }
   ],
   "source": [
    "s1.pow(s2)\n",
    "#s1**s2"
   ]
  },
  {
   "cell_type": "code",
   "execution_count": 32,
   "metadata": {},
   "outputs": [
    {
     "data": {
      "text/plain": [
       "0    False\n",
       "1    False\n",
       "2    False\n",
       "dtype: bool"
      ]
     },
     "execution_count": 32,
     "metadata": {},
     "output_type": "execute_result"
    }
   ],
   "source": [
    "s1.le(s2)\n",
    "#s1<s2"
   ]
  },
  {
   "cell_type": "code",
   "execution_count": 33,
   "metadata": {},
   "outputs": [
    {
     "data": {
      "text/plain": [
       "0    True\n",
       "1    True\n",
       "2    True\n",
       "dtype: bool"
      ]
     },
     "execution_count": 33,
     "metadata": {},
     "output_type": "execute_result"
    }
   ],
   "source": [
    "s1.gt(s2)\n",
    "#s1>s2"
   ]
  },
  {
   "cell_type": "code",
   "execution_count": 34,
   "metadata": {},
   "outputs": [
    {
     "data": {
      "text/plain": [
       "False"
      ]
     },
     "execution_count": 34,
     "metadata": {},
     "output_type": "execute_result"
    }
   ],
   "source": [
    "s1.equals(s2)\n",
    "#s1==s2"
   ]
  },
  {
   "cell_type": "code",
   "execution_count": 35,
   "metadata": {},
   "outputs": [
    {
     "data": {
      "text/plain": [
       "0"
      ]
     },
     "execution_count": 35,
     "metadata": {},
     "output_type": "execute_result"
    }
   ],
   "source": [
    "s1.argmax()\n",
    "#Return int position of the largest value in the Series."
   ]
  },
  {
   "cell_type": "code",
   "execution_count": 36,
   "metadata": {},
   "outputs": [
    {
     "data": {
      "text/plain": [
       "2"
      ]
     },
     "execution_count": 36,
     "metadata": {},
     "output_type": "execute_result"
    }
   ],
   "source": [
    "s1.argmin()\n",
    "#Return int position of the smallest value in the Series."
   ]
  },
  {
   "cell_type": "code",
   "execution_count": null,
   "metadata": {},
   "outputs": [],
   "source": []
  }
 ],
 "metadata": {
  "kernelspec": {
   "display_name": "Python 3 (ipykernel)",
   "language": "python",
   "name": "python3"
  },
  "language_info": {
   "codemirror_mode": {
    "name": "ipython",
    "version": 3
   },
   "file_extension": ".py",
   "mimetype": "text/x-python",
   "name": "python",
   "nbconvert_exporter": "python",
   "pygments_lexer": "ipython3",
   "version": "3.9.13"
  }
 },
 "nbformat": 4,
 "nbformat_minor": 4
}

{
 "cells": [
  {
   "cell_type": "markdown",
   "id": "4e4e02d3-de3f-4e88-b815-32a8ef82080e",
   "metadata": {},
   "source": [
    "### <mark> Pandas Dataframe\n",
    "\n",
    "pd.DataFrame(\n",
    "    \n",
    "    data=None,\n",
    "    index: 'Optional[Axes]' = None,\n",
    "    columns: 'Optional[Axes]' = None,\n",
    "    dtype: 'Optional[Dtype]' = None,\n",
    "    copy: 'bool' = False,\n",
    ")\n",
    "\n",
    "**Two-dimensional, size-mutable, potentially heterogeneous tabular data.**\n",
    "\n",
    "Data structure also contains labeled axes (rows and columns).\n",
    "Arithmetic operations align on both row and column labels. Can be\n",
    "thought of as **A DICT LIKE CONTAINER FOR SERIES OBJECTS.** The primary\n",
    "pandas data structure.\n",
    "\n",
    "data : ndarray (structured or homogeneous), Iterable, dict, or DataFrame\n",
    "    Dict can contain Series, arrays, constants, dataclass or list-like objects. If\n",
    "    data is a dict, column order follows insertion-order."
   ]
  },
  {
   "cell_type": "markdown",
   "id": "0bcd7f1d-fab2-40b2-94d4-528ef9b00537",
   "metadata": {},
   "source": [
    "#### Creating Pandas Dataframe\n",
    "\n",
    "    from dictionary\n",
    "    from list of tuples\n",
    "    from arrays\n",
    "    from series\n",
    "    from csv, tsv, excel, etc"
   ]
  },
  {
   "cell_type": "code",
   "execution_count": 2,
   "id": "59339111-a7cb-4922-a816-e53814360583",
   "metadata": {},
   "outputs": [],
   "source": [
    "import pandas as pd\n",
    "import numpy as np\n",
    "\n",
    "pd.set_option('display.max_columns', 100)\n",
    "pd.set_option('display.max_colwidth', 104)\n",
    "pd.set_option('display.max_rows', 106)"
   ]
  },
  {
   "cell_type": "code",
   "execution_count": 3,
   "id": "3792840e-b478-407b-ae95-4b0751f387d0",
   "metadata": {},
   "outputs": [],
   "source": [
    "data = pd.read_csv('diabetes.csv')\n",
    "df = pd.DataFrame(data)"
   ]
  },
  {
   "cell_type": "code",
   "execution_count": 4,
   "id": "d8c234a3-5632-4708-a476-8fbc4b48dd8c",
   "metadata": {},
   "outputs": [],
   "source": [
    "data={\n",
    "    \"first\":[\"Sam\",\"Karen\",\"Paul\",\"Chris\",np.nan,None,'NA'],\n",
    "    \"last\":[\"Peri\",\"Shuffer\",\"Baget\",\"Pottin\",np.nan,np.nan,'Missing'],\n",
    "    \"email\":[\"SP@gmail\",\"KS@yahoo\",\"PB@facebook\",\"CP@gmail\",None,np.nan,\"anonymous@gmail\"],\n",
    "    \"age\":['33','33','63','36',None,None,'Missing']\n",
    "}\n",
    "\n",
    "df_people=pd.DataFrame(data)"
   ]
  },
  {
   "cell_type": "code",
   "execution_count": 5,
   "id": "0295ac04-a508-42b8-bab0-008959de19b1",
   "metadata": {},
   "outputs": [],
   "source": [
    "data={\n",
    "    \"first\":[\"Tony\", \"Steve\"],\n",
    "    \"last\":[\"Stark\", \"Rogers\"],\n",
    "    \"email\":[\"iron@gmail\", \"captain@gamil\"]\n",
    "}\n",
    "\n",
    "df_avengers=pd.DataFrame(data)"
   ]
  },
  {
   "cell_type": "markdown",
   "id": "ba9a9bdb-ec1b-4ad1-bd4b-5129509973fc",
   "metadata": {},
   "source": [
    "#### Accesssing elements from dataframe"
   ]
  },
  {
   "cell_type": "raw",
   "id": "3e317933-e3b7-4ef1-9b88-af4095efb778",
   "metadata": {},
   "source": [
    "df.head(2)\n",
    "df.tail(3)\n",
    "df.sample(3)\n",
    "df.columns\n",
    "df.index\n",
    "df.dtypes\n",
    "\n",
    "df['col'].count()\n",
    "df['col'].unique()\n",
    "df['col'].nunique()\n",
    "df.value_counts(dropna=False, normalize=True)\n",
    "\n",
    "df.describe(\n",
    "    percentiles=None,\n",
    "    include=None,\n",
    "    exclude=None,\n",
    "    datetime_is_numeric=False,\n",
    ")\n",
    "\n",
    "df.info(\n",
    "    verbose: True, #whether to print full summary\n",
    "    buf: None,\n",
    "    max_cols: int|None,\n",
    "    memory_usage: True,\n",
    "    show_counts: True, #Whether to show the non-null counts\n",
    "    null_counts: True,\n",
    ")"
   ]
  },
  {
   "cell_type": "code",
   "execution_count": 7,
   "id": "6ebeee6f-618c-43dd-9855-a45627249924",
   "metadata": {},
   "outputs": [
    {
     "data": {
      "text/plain": [
       "Index(['Pregnancies', 'Glucose', 'BloodPressure', 'SkinThickness', 'Insulin',\n",
       "       'BMI', 'DiabetesPedigreeFunction', 'Age', 'Outcome'],\n",
       "      dtype='object')"
      ]
     },
     "execution_count": 7,
     "metadata": {},
     "output_type": "execute_result"
    }
   ],
   "source": [
    "df.columns"
   ]
  },
  {
   "cell_type": "code",
   "execution_count": 8,
   "id": "7db712a8-8068-485d-b051-b9c4a478f2ce",
   "metadata": {},
   "outputs": [
    {
     "data": {
      "text/plain": [
       "RangeIndex(start=0, stop=768, step=1)"
      ]
     },
     "execution_count": 8,
     "metadata": {},
     "output_type": "execute_result"
    }
   ],
   "source": [
    "df.index"
   ]
  },
  {
   "cell_type": "raw",
   "id": "b87d5464-e7fc-478e-9b52-091cc2cd96bd",
   "metadata": {},
   "source": [
    "df.index=[\"a\",\"b\",\"c\",\"d\",\"e\",\"f\",\"g\",\"h\",3]\n",
    "\n",
    "# NOTICE: all indexes need not be of same datatype"
   ]
  },
  {
   "cell_type": "code",
   "execution_count": 34,
   "id": "b477f790-a6d7-4bef-a2c2-b3058706fbbf",
   "metadata": {},
   "outputs": [],
   "source": [
    "new_df = df.sort_index(ascending=False)"
   ]
  },
  {
   "cell_type": "code",
   "execution_count": 9,
   "id": "11c5dea8-6110-4639-9c61-9915ce811273",
   "metadata": {},
   "outputs": [
    {
     "data": {
      "text/plain": [
       "Pregnancies                   int64\n",
       "Glucose                       int64\n",
       "BloodPressure                 int64\n",
       "SkinThickness                 int64\n",
       "Insulin                       int64\n",
       "BMI                         float64\n",
       "DiabetesPedigreeFunction    float64\n",
       "Age                           int64\n",
       "Outcome                       int64\n",
       "dtype: object"
      ]
     },
     "execution_count": 9,
     "metadata": {},
     "output_type": "execute_result"
    }
   ],
   "source": [
    "df.dtypes"
   ]
  },
  {
   "cell_type": "code",
   "execution_count": null,
   "id": "ec947500-dbb0-4064-adef-64798bdcfbfb",
   "metadata": {},
   "outputs": [],
   "source": []
  },
  {
   "cell_type": "markdown",
   "id": "96459979-e3c1-4609-9d4b-c6f8c20fb0a4",
   "metadata": {},
   "source": [
    "### <mark> Slicing of dataframe"
   ]
  },
  {
   "cell_type": "raw",
   "id": "eef7256a-af01-4ff9-9f88-420a8e02e91a",
   "metadata": {},
   "source": [
    "df.Age\n",
    "df['Age']"
   ]
  },
  {
   "cell_type": "code",
   "execution_count": 13,
   "id": "3bca0aa8-018e-4e83-a426-2f893b6875b0",
   "metadata": {},
   "outputs": [
    {
     "data": {
      "text/html": [
       "<div>\n",
       "<style scoped>\n",
       "    .dataframe tbody tr th:only-of-type {\n",
       "        vertical-align: middle;\n",
       "    }\n",
       "\n",
       "    .dataframe tbody tr th {\n",
       "        vertical-align: top;\n",
       "    }\n",
       "\n",
       "    .dataframe thead th {\n",
       "        text-align: right;\n",
       "    }\n",
       "</style>\n",
       "<table border=\"1\" class=\"dataframe\">\n",
       "  <thead>\n",
       "    <tr style=\"text-align: right;\">\n",
       "      <th></th>\n",
       "      <th>Pregnancies</th>\n",
       "      <th>Glucose</th>\n",
       "      <th>BloodPressure</th>\n",
       "      <th>SkinThickness</th>\n",
       "      <th>Insulin</th>\n",
       "      <th>BMI</th>\n",
       "      <th>DiabetesPedigreeFunction</th>\n",
       "      <th>Age</th>\n",
       "      <th>Outcome</th>\n",
       "    </tr>\n",
       "  </thead>\n",
       "  <tbody>\n",
       "    <tr>\n",
       "      <th>5</th>\n",
       "      <td>5</td>\n",
       "      <td>116</td>\n",
       "      <td>74</td>\n",
       "      <td>0</td>\n",
       "      <td>0</td>\n",
       "      <td>25.6</td>\n",
       "      <td>0.201</td>\n",
       "      <td>30</td>\n",
       "      <td>0</td>\n",
       "    </tr>\n",
       "    <tr>\n",
       "      <th>6</th>\n",
       "      <td>3</td>\n",
       "      <td>78</td>\n",
       "      <td>50</td>\n",
       "      <td>32</td>\n",
       "      <td>88</td>\n",
       "      <td>31.0</td>\n",
       "      <td>0.248</td>\n",
       "      <td>26</td>\n",
       "      <td>1</td>\n",
       "    </tr>\n",
       "  </tbody>\n",
       "</table>\n",
       "</div>"
      ],
      "text/plain": [
       "   Pregnancies  Glucose  BloodPressure  SkinThickness  Insulin   BMI  \\\n",
       "5            5      116             74              0        0  25.6   \n",
       "6            3       78             50             32       88  31.0   \n",
       "\n",
       "   DiabetesPedigreeFunction  Age  Outcome  \n",
       "5                     0.201   30        0  \n",
       "6                     0.248   26        1  "
      ]
     },
     "execution_count": 13,
     "metadata": {},
     "output_type": "execute_result"
    }
   ],
   "source": [
    "df[5:7]"
   ]
  },
  {
   "cell_type": "code",
   "execution_count": 12,
   "id": "c42533e3-980f-4f4d-9676-604eb5a5bab2",
   "metadata": {},
   "outputs": [
    {
     "data": {
      "text/html": [
       "<div>\n",
       "<style scoped>\n",
       "    .dataframe tbody tr th:only-of-type {\n",
       "        vertical-align: middle;\n",
       "    }\n",
       "\n",
       "    .dataframe tbody tr th {\n",
       "        vertical-align: top;\n",
       "    }\n",
       "\n",
       "    .dataframe thead th {\n",
       "        text-align: right;\n",
       "    }\n",
       "</style>\n",
       "<table border=\"1\" class=\"dataframe\">\n",
       "  <thead>\n",
       "    <tr style=\"text-align: right;\">\n",
       "      <th></th>\n",
       "      <th>Age</th>\n",
       "      <th>BMI</th>\n",
       "    </tr>\n",
       "  </thead>\n",
       "  <tbody>\n",
       "    <tr>\n",
       "      <th>0</th>\n",
       "      <td>50</td>\n",
       "      <td>33.6</td>\n",
       "    </tr>\n",
       "    <tr>\n",
       "      <th>3</th>\n",
       "      <td>21</td>\n",
       "      <td>28.1</td>\n",
       "    </tr>\n",
       "    <tr>\n",
       "      <th>6</th>\n",
       "      <td>26</td>\n",
       "      <td>31.0</td>\n",
       "    </tr>\n",
       "    <tr>\n",
       "      <th>9</th>\n",
       "      <td>54</td>\n",
       "      <td>0.0</td>\n",
       "    </tr>\n",
       "  </tbody>\n",
       "</table>\n",
       "</div>"
      ],
      "text/plain": [
       "   Age   BMI\n",
       "0   50  33.6\n",
       "3   21  28.1\n",
       "6   26  31.0\n",
       "9   54   0.0"
      ]
     },
     "execution_count": 12,
     "metadata": {},
     "output_type": "execute_result"
    }
   ],
   "source": [
    "df[['Age', 'BMI']][0:10:3]"
   ]
  },
  {
   "cell_type": "code",
   "execution_count": 17,
   "id": "c9f94406-bee2-4b5d-885e-2792a9b525bd",
   "metadata": {},
   "outputs": [
    {
     "name": "stdout",
     "output_type": "stream",
     "text": [
      "17 BMI    29.6\n",
      "Age    31.0\n",
      "Name: 17, dtype: float64\n",
      "18 BMI    43.3\n",
      "Age    33.0\n",
      "Name: 18, dtype: float64\n"
     ]
    }
   ],
   "source": [
    "# using iter function for every row display\n",
    "for index, row in df[17:19].iterrows():\n",
    "    print(index, row[['BMI', 'Age']])"
   ]
  },
  {
   "cell_type": "markdown",
   "id": "5d471a69-1f97-41b9-b020-c88694ce1b7d",
   "metadata": {},
   "source": [
    "### <mark> Changing the dataframe structure"
   ]
  },
  {
   "cell_type": "markdown",
   "id": "082370ad-c37f-4777-a0e2-8508754fc7bd",
   "metadata": {},
   "source": [
    "#### Adding new column"
   ]
  },
  {
   "cell_type": "code",
   "execution_count": 45,
   "id": "44b04820-482e-481e-b128-c5d5d8c894f4",
   "metadata": {},
   "outputs": [],
   "source": [
    "df['full_name'] = 'robert ferguson'\n",
    "df['heaviness'] = df['Glucose'] + df['SkinThickness']"
   ]
  },
  {
   "cell_type": "code",
   "execution_count": 32,
   "id": "ef9f81ca-ab55-4795-90a5-d17f74271987",
   "metadata": {},
   "outputs": [],
   "source": [
    "df['SugarLevel'] = None\n",
    "df['SugarLevel'] = 0\n",
    "\n",
    "df.loc[df['Glucose']>100, \"SugarLevel\"] = 'High'\n",
    "df.loc[df['Glucose']<100, \"SugarLevel\"] = 'Low'"
   ]
  },
  {
   "cell_type": "code",
   "execution_count": 33,
   "id": "38a47bcb-8957-48cf-ae9e-4d8d51c543e2",
   "metadata": {
    "tags": []
   },
   "outputs": [
    {
     "data": {
      "text/html": [
       "<div>\n",
       "<style scoped>\n",
       "    .dataframe tbody tr th:only-of-type {\n",
       "        vertical-align: middle;\n",
       "    }\n",
       "\n",
       "    .dataframe tbody tr th {\n",
       "        vertical-align: top;\n",
       "    }\n",
       "\n",
       "    .dataframe thead th {\n",
       "        text-align: right;\n",
       "    }\n",
       "</style>\n",
       "<table border=\"1\" class=\"dataframe\">\n",
       "  <thead>\n",
       "    <tr style=\"text-align: right;\">\n",
       "      <th></th>\n",
       "      <th>Pregnancies</th>\n",
       "      <th>Glucose</th>\n",
       "      <th>BloodPressure</th>\n",
       "      <th>SkinThickness</th>\n",
       "      <th>Insulin</th>\n",
       "      <th>BMI</th>\n",
       "      <th>DiabetesPedigreeFunction</th>\n",
       "      <th>Age</th>\n",
       "      <th>Outcome</th>\n",
       "      <th>heaviness</th>\n",
       "      <th>body_fats</th>\n",
       "      <th>SugarLevel</th>\n",
       "    </tr>\n",
       "  </thead>\n",
       "  <tbody>\n",
       "    <tr>\n",
       "      <th>534</th>\n",
       "      <td>1</td>\n",
       "      <td>77</td>\n",
       "      <td>56</td>\n",
       "      <td>30</td>\n",
       "      <td>56</td>\n",
       "      <td>33.3</td>\n",
       "      <td>1.251</td>\n",
       "      <td>24</td>\n",
       "      <td>0</td>\n",
       "      <td>107</td>\n",
       "      <td>0</td>\n",
       "      <td>Low</td>\n",
       "    </tr>\n",
       "  </tbody>\n",
       "</table>\n",
       "</div>"
      ],
      "text/plain": [
       "     Pregnancies  Glucose  BloodPressure  SkinThickness  Insulin   BMI  \\\n",
       "534            1       77             56             30       56  33.3   \n",
       "\n",
       "     DiabetesPedigreeFunction  Age  Outcome  heaviness  body_fats SugarLevel  \n",
       "534                     1.251   24        0        107          0        Low  "
      ]
     },
     "execution_count": 33,
     "metadata": {},
     "output_type": "execute_result"
    }
   ],
   "source": [
    "df.sample()"
   ]
  },
  {
   "cell_type": "markdown",
   "id": "f777d865-fdd7-4a22-9def-f2a9037e0ebf",
   "metadata": {},
   "source": [
    "#### Renaming columns\n",
    "\n",
    "    df.columns = ['id', 'name', 'gender', ...]\n",
    "    df.columns = [x.lower() for x in df.columns]\n",
    "    df.columns = df.columns.str.replace(\" \", \"_\")\n",
    "\n",
    "    df.rename(columns={'DiabetesPedigreeFunction':'Pedigree', 'Insulin':'InsulinLevel'})"
   ]
  },
  {
   "cell_type": "code",
   "execution_count": 36,
   "id": "6a8c75ec-608d-480a-8d80-c6cb374cd206",
   "metadata": {},
   "outputs": [],
   "source": [
    "df.rename(columns={'DiabetesPedigreeFunction':'Pedigree', 'Insulin':'InsulinLevel'},\n",
    "         inplace=True)"
   ]
  },
  {
   "cell_type": "code",
   "execution_count": 44,
   "id": "0e25730d-2b72-4cc0-adcc-c9773b20c4f1",
   "metadata": {},
   "outputs": [],
   "source": [
    "# removing column\n",
    "\n",
    "df.drop(columns=['SugarLevel'],inplace=True)"
   ]
  },
  {
   "cell_type": "code",
   "execution_count": 46,
   "id": "1a53a024-8dd5-4dbd-97c9-f09a6f1ee81c",
   "metadata": {},
   "outputs": [],
   "source": [
    "df[['first', 'last']] = df['full_name'].str.split(' ', expand=True)"
   ]
  },
  {
   "cell_type": "code",
   "execution_count": 69,
   "id": "a2928808-f61f-4e77-a047-653f99daa9da",
   "metadata": {},
   "outputs": [],
   "source": [
    "# change datatype\n",
    "df['Age'] = df['Age'].astype(float)"
   ]
  },
  {
   "cell_type": "code",
   "execution_count": null,
   "id": "6f795f1f-c7fd-461a-80a9-51b057f3cae5",
   "metadata": {},
   "outputs": [],
   "source": []
  },
  {
   "cell_type": "markdown",
   "id": "39d04754-49dc-4c11-b093-e5ecea591a73",
   "metadata": {},
   "source": [
    "#### Changing cell values"
   ]
  },
  {
   "cell_type": "code",
   "execution_count": 40,
   "id": "28e68ff6-9194-440f-8351-92cf3d6938b8",
   "metadata": {},
   "outputs": [],
   "source": [
    "df.loc[34] = 20\n",
    "df.loc[34:36, ['InsulinLevel', 'Glucose']] = 44"
   ]
  },
  {
   "cell_type": "raw",
   "id": "cb94208f-b20e-4854-af44-c499749771bf",
   "metadata": {},
   "source": [
    "# can also use below functions\n",
    "df.apply()\n",
    "s.map()\n",
    "df.applymap()\n",
    "df.replace()"
   ]
  },
  {
   "cell_type": "markdown",
   "id": "3343167e-6246-4473-9312-b10731be725b",
   "metadata": {},
   "source": [
    "#### adding/removing rows"
   ]
  },
  {
   "cell_type": "code",
   "execution_count": 50,
   "id": "79fb3c82-225d-4312-81c4-7a8cf587f442",
   "metadata": {},
   "outputs": [
    {
     "name": "stderr",
     "output_type": "stream",
     "text": [
      "C:\\Users\\AdmiN\\AppData\\Local\\Temp\\ipykernel_16892\\3278301895.py:1: FutureWarning: The frame.append method is deprecated and will be removed from pandas in a future version. Use pandas.concat instead.\n",
      "  df.append({'Glucose': 189, 'BloodPressure': 136}, ignore_index=True)\n"
     ]
    },
    {
     "data": {
      "text/html": [
       "<div>\n",
       "<style scoped>\n",
       "    .dataframe tbody tr th:only-of-type {\n",
       "        vertical-align: middle;\n",
       "    }\n",
       "\n",
       "    .dataframe tbody tr th {\n",
       "        vertical-align: top;\n",
       "    }\n",
       "\n",
       "    .dataframe thead th {\n",
       "        text-align: right;\n",
       "    }\n",
       "</style>\n",
       "<table border=\"1\" class=\"dataframe\">\n",
       "  <thead>\n",
       "    <tr style=\"text-align: right;\">\n",
       "      <th></th>\n",
       "      <th>Pregnancies</th>\n",
       "      <th>Glucose</th>\n",
       "      <th>BloodPressure</th>\n",
       "      <th>SkinThickness</th>\n",
       "      <th>InsulinLevel</th>\n",
       "      <th>BMI</th>\n",
       "      <th>Pedigree</th>\n",
       "      <th>Age</th>\n",
       "      <th>Outcome</th>\n",
       "      <th>heaviness</th>\n",
       "      <th>body_fats</th>\n",
       "      <th>full_name</th>\n",
       "      <th>first</th>\n",
       "      <th>last</th>\n",
       "    </tr>\n",
       "  </thead>\n",
       "  <tbody>\n",
       "    <tr>\n",
       "      <th>684</th>\n",
       "      <td>5</td>\n",
       "      <td>136</td>\n",
       "      <td>82</td>\n",
       "      <td>0</td>\n",
       "      <td>0</td>\n",
       "      <td>0.0</td>\n",
       "      <td>0.64</td>\n",
       "      <td>69</td>\n",
       "      <td>0</td>\n",
       "      <td>136</td>\n",
       "      <td>0</td>\n",
       "      <td>robert ferguson</td>\n",
       "      <td>robert</td>\n",
       "      <td>ferguson</td>\n",
       "    </tr>\n",
       "  </tbody>\n",
       "</table>\n",
       "</div>"
      ],
      "text/plain": [
       "     Pregnancies  Glucose  BloodPressure  SkinThickness  InsulinLevel  BMI  \\\n",
       "684            5      136             82              0             0  0.0   \n",
       "\n",
       "     Pedigree  Age  Outcome  heaviness  body_fats        full_name   first  \\\n",
       "684      0.64   69        0        136          0  robert ferguson  robert   \n",
       "\n",
       "         last  \n",
       "684  ferguson  "
      ]
     },
     "execution_count": 50,
     "metadata": {},
     "output_type": "execute_result"
    }
   ],
   "source": [
    "df.append({'Glucose': 189, 'BloodPressure': 136}, ignore_index=True)\n",
    "df.tail(1)"
   ]
  },
  {
   "cell_type": "code",
   "execution_count": 59,
   "id": "bfe9119f-d1be-40d6-aa2c-ab8a6b83221a",
   "metadata": {},
   "outputs": [],
   "source": [
    "df.drop(index=5, inplace=True, errors='ignore')\n",
    "\n",
    "# drop rows where a filter condition meets\n",
    "df.drop(index=df[df['BloodPressure']>120].index, inplace=True, errors='ignore')"
   ]
  },
  {
   "cell_type": "code",
   "execution_count": null,
   "id": "126dcb9d-a120-4c60-a800-8ccb863230a5",
   "metadata": {},
   "outputs": [],
   "source": []
  },
  {
   "cell_type": "markdown",
   "id": "2226db60-5354-44a2-9d44-87bdf5b4e5e1",
   "metadata": {},
   "source": [
    "### <mark> Exporting\n",
    "\n",
    "    df_titanic.to_csv(\"titanic.csv\", sep=\"\\t\")\n",
    "    df_titanic.to_excel(\"titanic.xlsx\", index=false)"
   ]
  },
  {
   "cell_type": "code",
   "execution_count": null,
   "id": "d16946e4-92c5-4c87-a06e-9342a543afb1",
   "metadata": {},
   "outputs": [],
   "source": []
  },
  {
   "cell_type": "markdown",
   "id": "d66f6ed9-9b3f-413a-9189-38ef7ee817ee",
   "metadata": {},
   "source": [
    "### <mark> Simple mathematical functions"
   ]
  },
  {
   "cell_type": "raw",
   "id": "fc35cdd8-5ab7-475f-a952-12553291a542",
   "metadata": {},
   "source": [
    "df['Age'].max()\n",
    "df['Age'].min()\n",
    "df['Age'].avg()\n",
    "df['Age'].mean()\n",
    "df['Age'].median()\n",
    "df['Age'].mode()"
   ]
  },
  {
   "cell_type": "code",
   "execution_count": 25,
   "id": "f56fe14e-242b-4528-92f2-2c404e7fd52a",
   "metadata": {},
   "outputs": [
    {
     "data": {
      "text/html": [
       "<div>\n",
       "<style scoped>\n",
       "    .dataframe tbody tr th:only-of-type {\n",
       "        vertical-align: middle;\n",
       "    }\n",
       "\n",
       "    .dataframe tbody tr th {\n",
       "        vertical-align: top;\n",
       "    }\n",
       "\n",
       "    .dataframe thead th {\n",
       "        text-align: right;\n",
       "    }\n",
       "</style>\n",
       "<table border=\"1\" class=\"dataframe\">\n",
       "  <thead>\n",
       "    <tr style=\"text-align: right;\">\n",
       "      <th></th>\n",
       "      <th>Pregnancies</th>\n",
       "      <th>Glucose</th>\n",
       "      <th>BloodPressure</th>\n",
       "      <th>SkinThickness</th>\n",
       "      <th>Insulin</th>\n",
       "      <th>BMI</th>\n",
       "      <th>DiabetesPedigreeFunction</th>\n",
       "      <th>Age</th>\n",
       "      <th>Outcome</th>\n",
       "      <th>heaviness</th>\n",
       "    </tr>\n",
       "  </thead>\n",
       "  <tbody>\n",
       "    <tr>\n",
       "      <th>177</th>\n",
       "      <td>0</td>\n",
       "      <td>129</td>\n",
       "      <td>110</td>\n",
       "      <td>46</td>\n",
       "      <td>130</td>\n",
       "      <td>67.1</td>\n",
       "      <td>0.319</td>\n",
       "      <td>26</td>\n",
       "      <td>1</td>\n",
       "      <td>175</td>\n",
       "    </tr>\n",
       "    <tr>\n",
       "      <th>445</th>\n",
       "      <td>0</td>\n",
       "      <td>180</td>\n",
       "      <td>78</td>\n",
       "      <td>63</td>\n",
       "      <td>14</td>\n",
       "      <td>59.4</td>\n",
       "      <td>2.420</td>\n",
       "      <td>25</td>\n",
       "      <td>1</td>\n",
       "      <td>243</td>\n",
       "    </tr>\n",
       "  </tbody>\n",
       "</table>\n",
       "</div>"
      ],
      "text/plain": [
       "     Pregnancies  Glucose  BloodPressure  SkinThickness  Insulin   BMI  \\\n",
       "177            0      129            110             46      130  67.1   \n",
       "445            0      180             78             63       14  59.4   \n",
       "\n",
       "     DiabetesPedigreeFunction  Age  Outcome  heaviness  \n",
       "177                     0.319   26        1        175  \n",
       "445                     2.420   25        1        243  "
      ]
     },
     "execution_count": 25,
     "metadata": {},
     "output_type": "execute_result"
    }
   ],
   "source": [
    "df.nlargest(2, \"BMI\")\n",
    "# Return the first `n` rows ordered by `columns` in descending order.\n",
    "\n",
    "# df.nsmallest(2, \"BMI\")\n",
    "# Return the first `n` rows ordered by `columns` in ascending order. "
   ]
  },
  {
   "cell_type": "code",
   "execution_count": null,
   "id": "20b62239-5edf-4b16-89ca-302791a90172",
   "metadata": {},
   "outputs": [],
   "source": []
  }
 ],
 "metadata": {
  "kernelspec": {
   "display_name": "Python 3 (ipykernel)",
   "language": "python",
   "name": "python3"
  },
  "language_info": {
   "codemirror_mode": {
    "name": "ipython",
    "version": 3
   },
   "file_extension": ".py",
   "mimetype": "text/x-python",
   "name": "python",
   "nbconvert_exporter": "python",
   "pygments_lexer": "ipython3",
   "version": "3.9.13"
  }
 },
 "nbformat": 4,
 "nbformat_minor": 5
}

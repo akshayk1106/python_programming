{
 "cells": [
  {
   "cell_type": "markdown",
   "id": "3c1606af-392f-41d3-a0e3-d4ac0ddf2649",
   "metadata": {},
   "source": [
    "## <mark> Sorting\n",
    "    \n",
    "    df.sort_values(\n",
    "        by,\n",
    "        axis: 'Axis' = 0,\n",
    "        ascending=True,\n",
    "        inplace: 'bool' = False,\n",
    "        kind: 'str' = 'quicksort',\n",
    "        na_position: 'str' = 'last',\n",
    "        ignore_index: 'bool' = False,\n",
    "        key: 'ValueKeyFunc' = None,\n",
    "    )"
   ]
  },
  {
   "cell_type": "code",
   "execution_count": 1,
   "id": "f0814388-e37c-4404-8627-93954e8f0218",
   "metadata": {},
   "outputs": [],
   "source": [
    "import pandas as pd\n",
    "\n",
    "data = pd.read_csv('diabetes.csv')\n",
    "df = pd.DataFrame(data)"
   ]
  },
  {
   "cell_type": "code",
   "execution_count": 2,
   "id": "d709e4c9-0db6-495f-ab22-b6b2d5ff49bc",
   "metadata": {},
   "outputs": [],
   "source": [
    "df.sort_values(by=['BMI', 'Age'], ascending=[0, 1], inplace=True)"
   ]
  },
  {
   "cell_type": "code",
   "execution_count": 25,
   "id": "6e655e49-f44b-4b65-b334-cfee7f79e272",
   "metadata": {},
   "outputs": [
    {
     "data": {
      "text/plain": [
       "342      0\n",
       "182      0\n",
       "349      0\n",
       "75       0\n",
       "502      0\n",
       "      ... \n",
       "228    197\n",
       "408    197\n",
       "579    197\n",
       "561    198\n",
       "661    199\n",
       "Name: Glucose, Length: 768, dtype: int64"
      ]
     },
     "execution_count": 25,
     "metadata": {},
     "output_type": "execute_result"
    }
   ],
   "source": [
    "df[\"Glucose\"].sort_values()"
   ]
  },
  {
   "cell_type": "markdown",
   "id": "de5ede6b-44e6-4480-8ea9-d5010ddb91ea",
   "metadata": {},
   "source": [
    "### <mark> Filtering Dataframe"
   ]
  },
  {
   "cell_type": "markdown",
   "id": "9caa9988-d783-4cbe-ae6a-dd0b8feb445e",
   "metadata": {},
   "source": [
    "#### LOOKUP LOGIC - loc, iloc, at\n",
    "\n",
    "These **are used in slicing** of data from the Pandas DataFrame. They help in the convenient selection of data from the DataFrame. They **are used in filtering the data according to some conditions.** \n",
    "\n",
    "loc() : Access a group of rows and columns by label(s).\n",
    "\n",
    "    loc() is label based data selecting method which means that we have to pass the name of the row or column which we want to select. \n",
    "    This method includes the last element of the range passed in it, unlike iloc().\n",
    "    loc() can accept the boolean data unlike iloc()\n",
    "\n",
    "iloc() : Access a group of rows and columns by integer position(s)\n",
    "\n",
    "    iloc() is a indexed based selecting method which means that we have to pass integer index in the method to select specific row/column. \n",
    "    This method does not include the last element of the range passed in it unlike loc().\n",
    "    iloc() does not accept the boolean data unlike loc().\n",
    "    \n",
    "df.at() :  Access a single value for a row/column pair by label.\n",
    "    \n",
    "    Similar to loc, in that both provide label-based lookups. Use at if you only need to get or set a single value in a DataFrame or Series.\n",
    "    \n",
    "df.iat() : Access a single value for a row/column pair by integer position"
   ]
  },
  {
   "cell_type": "raw",
   "id": "89489338-ac12-4f50-8083-8dcc1a63e619",
   "metadata": {},
   "source": [
    "df.at[4, 'Glucose']\n",
    "df.at[4, 'Glucose'] = 100\n",
    "df.loc[5].at['BMI']"
   ]
  },
  {
   "cell_type": "raw",
   "id": "23eb569f-d6b1-458d-a515-2d2894525fad",
   "metadata": {},
   "source": [
    "df.loc[23]\n",
    "df.loc[23, ['Age']]\n",
    "df.loc[[2, 3], 'Age']\n",
    "df.loc['c', 'Age']\n",
    "df.loc[['c', 'f'], ['Age', 'BMI']]\n",
    "\n",
    "df.loc[df[\"BMI\"]==38]\n",
    "df.loc[(df[\"Age\"]>25) & (df[\"BMI\"]>30)]\n",
    "df.loc[(df[\"Age\"]>30) & (df[\"Age\"]<60) | (df[\"Sex\"]==\"female\")]\n",
    "df.loc[df[\"Name\"].str.contains(\"Mrs\")]\n",
    "df.loc[df[\"Name\"].str.startswith(\"Henry\")]\n",
    "df.loc[df[\"Name\"].str.endswith(\"Lord\")]\n",
    "\n",
    "# set values for a filter\n",
    "df.loc[df['Glucose'] > 200] = 201  \n",
    "df.loc[:, 'BMI'] = 30\n",
    "\n",
    "df.loc[[False, False, True]]  # Boolean list with the same length as the row axis\n",
    "(type(df[\"Age\"]>25) -> <class 'pandas.core.series.Series'>"
   ]
  },
  {
   "cell_type": "raw",
   "id": "dba40f35-de90-428e-b828-07acf9d6f561",
   "metadata": {},
   "source": [
    "df.iloc[3:5, 2:5]\n",
    "\n",
    "df.loc[df[\"Age\"]>25]\n",
    "df.iloc[list(df[\"Age\"]>25)]\n",
    "# list(df[\"Age\"]>25))\n",
    "# returns [True, False, False, False, True, True, ...]\n",
    "\n",
    "\n",
    "# Below gives ERROR:\n",
    "    df1.iloc[3:7,[\"Year\"]]\n",
    "    df.iloc[\"AA\":5, :]\n",
    "    df.iloc[df[\"Age\"]>25]"
   ]
  },
  {
   "cell_type": "raw",
   "id": "75222f44-2097-4133-8f55-ac64bac3c36d",
   "metadata": {},
   "source": [
    "filters = (df['Age']>30)\n",
    "print(filters) -> Boolean Series\n",
    "\n",
    "df[df['Age']>30]\n",
    "df[filters]\n",
    "df[~ filters]\n",
    "df.loc[filters]\n",
    "df.loc[filters, 'Age']\n",
    "df[filters][['Age', 'BMI']]\n",
    "\n",
    "filt = df[\"last\"]==\"Trump\") | (df[\"first\"]==\"Kevin\")\n",
    "filt = df['Country'].isin(countries)\n",
    "filt = df_public[\"LanguageWorkedWith\"].str.contains(\"Python\", na=False)"
   ]
  },
  {
   "cell_type": "markdown",
   "id": "7208da21-06a5-402e-9ed3-2c3f519ab7cd",
   "metadata": {},
   "source": [
    "### <mark> Hnadling Missing data\n",
    "    \n",
    "    - df.dropna(how='any', subset=['col1', 'col2'], inplace=True)\n",
    "    - df.fillna(df[col1].mode(), inplcae=True)\n",
    "    - df.drop_duplicates(inplace=True)\n",
    "    - df.duplicated()"
   ]
  },
  {
   "cell_type": "code",
   "execution_count": null,
   "id": "86556546-a93d-4227-8767-d093d6785234",
   "metadata": {},
   "outputs": [],
   "source": [
    "df.dropna(\n",
    "    axis: 'Axis'|0, 'Columns'=1\n",
    "    how: 'any'|'all',\n",
    "    thresh=None, # Require that many non-NA values.\n",
    "    subset: ['Age', 'BMI'],\n",
    "    inplace: True,\n",
    ")"
   ]
  },
  {
   "cell_type": "code",
   "execution_count": null,
   "id": "2da893f5-7095-401c-9254-1ef50f395c43",
   "metadata": {},
   "outputs": [],
   "source": [
    "df[\"Age\"].dropna(inplace=True)"
   ]
  },
  {
   "cell_type": "code",
   "execution_count": null,
   "id": "cbf8706d-0763-40d7-88d4-9e13f84cb913",
   "metadata": {},
   "outputs": [],
   "source": [
    "df.fillna(\n",
    "    value: df[\"Age\"].mean(),\n",
    "    method: {'backfill', 'bfill', 'pad', 'ffill', None},\n",
    "    axis: 'Axis | None',\n",
    "    inplace: True,\n",
    "    limit=None,\n",
    "    downcast=None,\n",
    ")"
   ]
  },
  {
   "cell_type": "code",
   "execution_count": 21,
   "id": "bcc6dd98-41d0-4ab1-92db-dadf259b47e5",
   "metadata": {},
   "outputs": [],
   "source": [
    "df[\"Age\"].fillna(df[\"Age\"].mean(), inplace=True)"
   ]
  },
  {
   "cell_type": "code",
   "execution_count": 19,
   "id": "3c63df71-dd3d-4219-8b06-1106f06ccc1c",
   "metadata": {},
   "outputs": [
    {
     "data": {
      "text/plain": [
       "177    False\n",
       "445    False\n",
       "673    False\n",
       "125    False\n",
       "120    False\n",
       "       ...  \n",
       "426    False\n",
       "522    False\n",
       "706    False\n",
       "9      False\n",
       "684    False\n",
       "Length: 768, dtype: bool"
      ]
     },
     "execution_count": 19,
     "metadata": {},
     "output_type": "execute_result"
    }
   ],
   "source": [
    "df.duplicated()"
   ]
  },
  {
   "cell_type": "code",
   "execution_count": 20,
   "id": "a8ff8bfc-cafa-4e68-b015-a44ae2c8e53c",
   "metadata": {},
   "outputs": [],
   "source": [
    "df.drop_duplicates(inplace=True)"
   ]
  },
  {
   "cell_type": "code",
   "execution_count": 38,
   "id": "b491fb3e-e8bb-4e35-82a1-a757ba3ca2e1",
   "metadata": {},
   "outputs": [
    {
     "data": {
      "text/plain": [
       "177    False\n",
       "445    False\n",
       "673    False\n",
       "125    False\n",
       "120    False\n",
       "       ...  \n",
       "426    False\n",
       "522    False\n",
       "706    False\n",
       "9      False\n",
       "684    False\n",
       "Name: Age, Length: 768, dtype: bool"
      ]
     },
     "execution_count": 38,
     "metadata": {},
     "output_type": "execute_result"
    }
   ],
   "source": [
    "df['Age'].isna()"
   ]
  },
  {
   "cell_type": "markdown",
   "id": "340ff6b8-8ed7-41e7-99f2-38d3cca734c8",
   "metadata": {},
   "source": [
    "### <Mark> Indexing and Multi-indexing"
   ]
  },
  {
   "cell_type": "code",
   "execution_count": 28,
   "id": "a0005091-2b15-40ad-bd27-4496ec29d0eb",
   "metadata": {},
   "outputs": [
    {
     "data": {
      "text/plain": [
       "Int64Index([177, 445, 673, 125, 120, 303, 247, 193, 155,  99,\n",
       "            ...\n",
       "            145, 371,  81, 494,  49, 426, 522, 706,   9, 684],\n",
       "           dtype='int64', length=768)"
      ]
     },
     "execution_count": 28,
     "metadata": {},
     "output_type": "execute_result"
    }
   ],
   "source": [
    "df.index"
   ]
  },
  {
   "cell_type": "code",
   "execution_count": 27,
   "id": "a398b0a2-05a0-4005-abfd-ef10b8e3daf0",
   "metadata": {},
   "outputs": [],
   "source": [
    "new_df = df.sort_index(axis=0, ascending=False)"
   ]
  },
  {
   "cell_type": "code",
   "execution_count": 32,
   "id": "ec507b66-9408-46c8-87f9-9946f86da746",
   "metadata": {},
   "outputs": [
    {
     "data": {
      "text/plain": [
       "Float64Index([30.4, 30.1, 26.2, 36.8, 32.9, 22.5, 44.0, 28.4, 35.5, 37.5,\n",
       "              ...\n",
       "               0.0, 30.5, 35.3, 31.0, 25.6, 43.1, 28.1, 23.3, 26.6, 33.6],\n",
       "             dtype='float64', name='BMI', length=768)"
      ]
     },
     "execution_count": 32,
     "metadata": {},
     "output_type": "execute_result"
    }
   ],
   "source": [
    "new_df.set_index('BMI', inplace=True)\n",
    "new_df.index"
   ]
  },
  {
   "cell_type": "code",
   "execution_count": 35,
   "id": "02cb004c-912a-4a6b-97d6-a53251b3dbee",
   "metadata": {},
   "outputs": [],
   "source": [
    "new_df.reset_index(inplace=True)"
   ]
  },
  {
   "cell_type": "code",
   "execution_count": null,
   "id": "bd4ed896-5391-4383-b223-ed67436de0e0",
   "metadata": {},
   "outputs": [],
   "source": []
  },
  {
   "cell_type": "markdown",
   "id": "2fc74c52-1a1c-4bdf-9693-3f8aab6f772e",
   "metadata": {},
   "source": [
    "### <mark> FUNCTIONS: apply, map, applymap, replace\n",
    "\n",
    "**apply - Apply a function along an axis of the DataFrame.**\n",
    "\n",
    "    df['Location'].apply(len)\n",
    "    df['Location'].apply(lower_location_function)\n",
    "    df['Location'].apply(lambda x: x.lower())\n",
    "    df.apply(lambda x: x.min())\n",
    "\n",
    "**map - Works with only series.**\n",
    "\n",
    "    df['gender'].map({\"M\":'Male',\"F\":'Female'})\n",
    "\n",
    "**applymap - Works with only dataframe. Apply a map function across df elementwise**\n",
    "\n",
    "    df.applymap(len)\n",
    "    df.applymap(str.lower)\n",
    "    df.applymap(lower_string_function)\n",
    "\n",
    "**replace() - To replace values of series/df by specified values**\n",
    "    \n",
    "    s.replace(1, 5)\n",
    "    s.replace([3, 4], [3333, 4444])\n",
    "    df['name'].replace({'Lea':'Lea_andre','Kevin':'Kevin_Peterson'})\n",
    "    df.replace(regex='^l', value='LONDON')\n",
    "    df.replace({'name': 'Patrick', 'Location': 'london'}, None)"
   ]
  },
  {
   "cell_type": "code",
   "execution_count": 39,
   "id": "7690c23c-8247-4a73-b8e1-6c62614b86ca",
   "metadata": {},
   "outputs": [],
   "source": [
    "import pandas as pd\n",
    "\n",
    "data = pd.read_csv('weather.csv')\n",
    "df = pd.DataFrame(data)"
   ]
  },
  {
   "cell_type": "code",
   "execution_count": 40,
   "id": "864108de-0feb-46eb-9ffb-1134c7f207f6",
   "metadata": {},
   "outputs": [
    {
     "data": {
      "text/html": [
       "<div>\n",
       "<style scoped>\n",
       "    .dataframe tbody tr th:only-of-type {\n",
       "        vertical-align: middle;\n",
       "    }\n",
       "\n",
       "    .dataframe tbody tr th {\n",
       "        vertical-align: top;\n",
       "    }\n",
       "\n",
       "    .dataframe thead th {\n",
       "        text-align: right;\n",
       "    }\n",
       "</style>\n",
       "<table border=\"1\" class=\"dataframe\">\n",
       "  <thead>\n",
       "    <tr style=\"text-align: right;\">\n",
       "      <th></th>\n",
       "      <th>name</th>\n",
       "      <th>Location</th>\n",
       "      <th>gender</th>\n",
       "    </tr>\n",
       "  </thead>\n",
       "  <tbody>\n",
       "    <tr>\n",
       "      <th>0</th>\n",
       "      <td>Patrick</td>\n",
       "      <td>London</td>\n",
       "      <td>M</td>\n",
       "    </tr>\n",
       "    <tr>\n",
       "      <th>1</th>\n",
       "      <td>Lea</td>\n",
       "      <td>NewYork</td>\n",
       "      <td>F</td>\n",
       "    </tr>\n",
       "    <tr>\n",
       "      <th>2</th>\n",
       "      <td>Kevin</td>\n",
       "      <td>Berlin</td>\n",
       "      <td>M</td>\n",
       "    </tr>\n",
       "  </tbody>\n",
       "</table>\n",
       "</div>"
      ],
      "text/plain": [
       "      name Location gender\n",
       "0  Patrick   London      M\n",
       "1      Lea  NewYork      F\n",
       "2    Kevin   Berlin      M"
      ]
     },
     "execution_count": 40,
     "metadata": {},
     "output_type": "execute_result"
    }
   ],
   "source": [
    "data = {'name': ['Patrick', 'Lea', 'Kevin'],\n",
    "       'Location': ['London', 'NewYork', 'Berlin'],\n",
    "       'gender': ['M', 'F', 'M']\n",
    "       }\n",
    "df = pd.DataFrame(data)\n",
    "df"
   ]
  },
  {
   "cell_type": "code",
   "execution_count": 41,
   "id": "adb02ada-4604-48ed-a223-36a10140ded3",
   "metadata": {},
   "outputs": [
    {
     "data": {
      "text/html": [
       "<div>\n",
       "<style scoped>\n",
       "    .dataframe tbody tr th:only-of-type {\n",
       "        vertical-align: middle;\n",
       "    }\n",
       "\n",
       "    .dataframe tbody tr th {\n",
       "        vertical-align: top;\n",
       "    }\n",
       "\n",
       "    .dataframe thead th {\n",
       "        text-align: right;\n",
       "    }\n",
       "</style>\n",
       "<table border=\"1\" class=\"dataframe\">\n",
       "  <thead>\n",
       "    <tr style=\"text-align: right;\">\n",
       "      <th></th>\n",
       "      <th>name</th>\n",
       "      <th>Location</th>\n",
       "      <th>gender</th>\n",
       "    </tr>\n",
       "  </thead>\n",
       "  <tbody>\n",
       "    <tr>\n",
       "      <th>2</th>\n",
       "      <td>Kevin</td>\n",
       "      <td>Berlin</td>\n",
       "      <td>M</td>\n",
       "    </tr>\n",
       "  </tbody>\n",
       "</table>\n",
       "</div>"
      ],
      "text/plain": [
       "    name Location gender\n",
       "2  Kevin   Berlin      M"
      ]
     },
     "execution_count": 41,
     "metadata": {},
     "output_type": "execute_result"
    }
   ],
   "source": [
    "df.sample()"
   ]
  },
  {
   "cell_type": "markdown",
   "id": "f56e8c22-0043-49fd-83b4-d4f6bff6f215",
   "metadata": {},
   "source": [
    "### <mark> Apply\n",
    "    \n",
    "    df.apply(\n",
    "        func: 'AggFuncType',\n",
    "        axis: 'Axis' = 0,\n",
    "    )"
   ]
  },
  {
   "cell_type": "code",
   "execution_count": 42,
   "id": "b4976902-5dd3-4c0a-a49a-6007b8deb4a9",
   "metadata": {},
   "outputs": [
    {
     "data": {
      "text/plain": [
       "0    6\n",
       "1    7\n",
       "2    6\n",
       "Name: Location, dtype: int64"
      ]
     },
     "execution_count": 42,
     "metadata": {},
     "output_type": "execute_result"
    }
   ],
   "source": [
    "df[\"Location\"].apply(len)"
   ]
  },
  {
   "cell_type": "code",
   "execution_count": 43,
   "id": "60992dc0-0f73-458d-83a5-b789e21a5aea",
   "metadata": {},
   "outputs": [
    {
     "data": {
      "text/html": [
       "<div>\n",
       "<style scoped>\n",
       "    .dataframe tbody tr th:only-of-type {\n",
       "        vertical-align: middle;\n",
       "    }\n",
       "\n",
       "    .dataframe tbody tr th {\n",
       "        vertical-align: top;\n",
       "    }\n",
       "\n",
       "    .dataframe thead th {\n",
       "        text-align: right;\n",
       "    }\n",
       "</style>\n",
       "<table border=\"1\" class=\"dataframe\">\n",
       "  <thead>\n",
       "    <tr style=\"text-align: right;\">\n",
       "      <th></th>\n",
       "      <th>name</th>\n",
       "      <th>Location</th>\n",
       "      <th>gender</th>\n",
       "    </tr>\n",
       "  </thead>\n",
       "  <tbody>\n",
       "    <tr>\n",
       "      <th>0</th>\n",
       "      <td>Patrick</td>\n",
       "      <td>LONDON</td>\n",
       "      <td>M</td>\n",
       "    </tr>\n",
       "    <tr>\n",
       "      <th>1</th>\n",
       "      <td>Lea</td>\n",
       "      <td>NEWYORK</td>\n",
       "      <td>F</td>\n",
       "    </tr>\n",
       "    <tr>\n",
       "      <th>2</th>\n",
       "      <td>Kevin</td>\n",
       "      <td>BERLIN</td>\n",
       "      <td>M</td>\n",
       "    </tr>\n",
       "  </tbody>\n",
       "</table>\n",
       "</div>"
      ],
      "text/plain": [
       "      name Location gender\n",
       "0  Patrick   LONDON      M\n",
       "1      Lea  NEWYORK      F\n",
       "2    Kevin   BERLIN      M"
      ]
     },
     "execution_count": 43,
     "metadata": {},
     "output_type": "execute_result"
    }
   ],
   "source": [
    "def update_location(locations):\n",
    "    return locations.upper()\n",
    "\n",
    "df['Location'] = df['Location'].apply(update_location)\n",
    "df"
   ]
  },
  {
   "cell_type": "code",
   "execution_count": 44,
   "id": "13130662-695c-413e-800c-84c21ed3a5e9",
   "metadata": {},
   "outputs": [
    {
     "data": {
      "text/html": [
       "<div>\n",
       "<style scoped>\n",
       "    .dataframe tbody tr th:only-of-type {\n",
       "        vertical-align: middle;\n",
       "    }\n",
       "\n",
       "    .dataframe tbody tr th {\n",
       "        vertical-align: top;\n",
       "    }\n",
       "\n",
       "    .dataframe thead th {\n",
       "        text-align: right;\n",
       "    }\n",
       "</style>\n",
       "<table border=\"1\" class=\"dataframe\">\n",
       "  <thead>\n",
       "    <tr style=\"text-align: right;\">\n",
       "      <th></th>\n",
       "      <th>name</th>\n",
       "      <th>Location</th>\n",
       "      <th>gender</th>\n",
       "    </tr>\n",
       "  </thead>\n",
       "  <tbody>\n",
       "    <tr>\n",
       "      <th>0</th>\n",
       "      <td>Patrick</td>\n",
       "      <td>london</td>\n",
       "      <td>M</td>\n",
       "    </tr>\n",
       "    <tr>\n",
       "      <th>1</th>\n",
       "      <td>Lea</td>\n",
       "      <td>newyork</td>\n",
       "      <td>F</td>\n",
       "    </tr>\n",
       "    <tr>\n",
       "      <th>2</th>\n",
       "      <td>Kevin</td>\n",
       "      <td>berlin</td>\n",
       "      <td>M</td>\n",
       "    </tr>\n",
       "  </tbody>\n",
       "</table>\n",
       "</div>"
      ],
      "text/plain": [
       "      name Location gender\n",
       "0  Patrick   london      M\n",
       "1      Lea  newyork      F\n",
       "2    Kevin   berlin      M"
      ]
     },
     "execution_count": 44,
     "metadata": {},
     "output_type": "execute_result"
    }
   ],
   "source": [
    "df['Location'] = df['Location'].apply(lambda x: x.lower())\n",
    "df"
   ]
  },
  {
   "cell_type": "code",
   "execution_count": 45,
   "id": "016c0299-6d97-4d73-a0ca-81ba236a01be",
   "metadata": {},
   "outputs": [
    {
     "data": {
      "text/plain": [
       "0    6\n",
       "1    7\n",
       "2    6\n",
       "Name: Location, dtype: int64"
      ]
     },
     "execution_count": 45,
     "metadata": {},
     "output_type": "execute_result"
    }
   ],
   "source": [
    "df['Location'].apply(len)"
   ]
  },
  {
   "cell_type": "code",
   "execution_count": 46,
   "id": "7f1e09fa-5d92-46de-93d5-4bc087a5ada3",
   "metadata": {},
   "outputs": [
    {
     "data": {
      "text/plain": [
       "name        3\n",
       "Location    3\n",
       "gender      3\n",
       "dtype: int64"
      ]
     },
     "execution_count": 46,
     "metadata": {},
     "output_type": "execute_result"
    }
   ],
   "source": [
    "df.apply(len)"
   ]
  },
  {
   "cell_type": "code",
   "execution_count": 47,
   "id": "6202931b-5eb2-45c2-ad30-c1951c0fea64",
   "metadata": {},
   "outputs": [
    {
     "data": {
      "text/plain": [
       "0    3\n",
       "1    3\n",
       "2    3\n",
       "dtype: int64"
      ]
     },
     "execution_count": 47,
     "metadata": {},
     "output_type": "execute_result"
    }
   ],
   "source": [
    "df.apply(len, axis='columns')"
   ]
  },
  {
   "cell_type": "code",
   "execution_count": 48,
   "id": "d7c342de-f20a-4856-a3f8-75d174eb5ca3",
   "metadata": {},
   "outputs": [
    {
     "data": {
      "text/plain": [
       "name         Kevin\n",
       "Location    berlin\n",
       "gender           F\n",
       "dtype: object"
      ]
     },
     "execution_count": 48,
     "metadata": {},
     "output_type": "execute_result"
    }
   ],
   "source": [
    "df.apply(lambda x: x.min())"
   ]
  },
  {
   "cell_type": "markdown",
   "id": "c29abec7-78b3-4b78-9695-39ce3037d176",
   "metadata": {},
   "source": [
    "### <mark> applymap\n",
    "    \n",
    "Apply a function to a Dataframe elementwise.\n",
    "\n",
    "This method applies a function that accepts and returns a scalar\n",
    "to every element of a DataFrame.\n",
    "    \n",
    "    df.applymap(\n",
    "        functions,\n",
    "        na_action = None|ignore  # how to treate na values\n",
    "        )"
   ]
  },
  {
   "cell_type": "code",
   "execution_count": 49,
   "id": "3c704ae4-dc8b-4148-8e03-65c479a7bd70",
   "metadata": {},
   "outputs": [
    {
     "data": {
      "text/html": [
       "<div>\n",
       "<style scoped>\n",
       "    .dataframe tbody tr th:only-of-type {\n",
       "        vertical-align: middle;\n",
       "    }\n",
       "\n",
       "    .dataframe tbody tr th {\n",
       "        vertical-align: top;\n",
       "    }\n",
       "\n",
       "    .dataframe thead th {\n",
       "        text-align: right;\n",
       "    }\n",
       "</style>\n",
       "<table border=\"1\" class=\"dataframe\">\n",
       "  <thead>\n",
       "    <tr style=\"text-align: right;\">\n",
       "      <th></th>\n",
       "      <th>name</th>\n",
       "      <th>Location</th>\n",
       "      <th>gender</th>\n",
       "    </tr>\n",
       "  </thead>\n",
       "  <tbody>\n",
       "    <tr>\n",
       "      <th>0</th>\n",
       "      <td>7</td>\n",
       "      <td>6</td>\n",
       "      <td>1</td>\n",
       "    </tr>\n",
       "    <tr>\n",
       "      <th>1</th>\n",
       "      <td>3</td>\n",
       "      <td>7</td>\n",
       "      <td>1</td>\n",
       "    </tr>\n",
       "    <tr>\n",
       "      <th>2</th>\n",
       "      <td>5</td>\n",
       "      <td>6</td>\n",
       "      <td>1</td>\n",
       "    </tr>\n",
       "  </tbody>\n",
       "</table>\n",
       "</div>"
      ],
      "text/plain": [
       "   name  Location  gender\n",
       "0     7         6       1\n",
       "1     3         7       1\n",
       "2     5         6       1"
      ]
     },
     "execution_count": 49,
     "metadata": {},
     "output_type": "execute_result"
    }
   ],
   "source": [
    "df.applymap(len)"
   ]
  },
  {
   "cell_type": "code",
   "execution_count": 50,
   "id": "080fb939-e035-455a-8ce1-0f079e7b795a",
   "metadata": {},
   "outputs": [
    {
     "data": {
      "text/html": [
       "<div>\n",
       "<style scoped>\n",
       "    .dataframe tbody tr th:only-of-type {\n",
       "        vertical-align: middle;\n",
       "    }\n",
       "\n",
       "    .dataframe tbody tr th {\n",
       "        vertical-align: top;\n",
       "    }\n",
       "\n",
       "    .dataframe thead th {\n",
       "        text-align: right;\n",
       "    }\n",
       "</style>\n",
       "<table border=\"1\" class=\"dataframe\">\n",
       "  <thead>\n",
       "    <tr style=\"text-align: right;\">\n",
       "      <th></th>\n",
       "      <th>name</th>\n",
       "      <th>Location</th>\n",
       "      <th>gender</th>\n",
       "    </tr>\n",
       "  </thead>\n",
       "  <tbody>\n",
       "    <tr>\n",
       "      <th>0</th>\n",
       "      <td>patrick</td>\n",
       "      <td>london</td>\n",
       "      <td>m</td>\n",
       "    </tr>\n",
       "    <tr>\n",
       "      <th>1</th>\n",
       "      <td>lea</td>\n",
       "      <td>newyork</td>\n",
       "      <td>f</td>\n",
       "    </tr>\n",
       "    <tr>\n",
       "      <th>2</th>\n",
       "      <td>kevin</td>\n",
       "      <td>berlin</td>\n",
       "      <td>m</td>\n",
       "    </tr>\n",
       "  </tbody>\n",
       "</table>\n",
       "</div>"
      ],
      "text/plain": [
       "      name Location gender\n",
       "0  patrick   london      m\n",
       "1      lea  newyork      f\n",
       "2    kevin   berlin      m"
      ]
     },
     "execution_count": 50,
     "metadata": {},
     "output_type": "execute_result"
    }
   ],
   "source": [
    "df.applymap(str.lower)"
   ]
  },
  {
   "cell_type": "markdown",
   "id": "5a1b439b-54db-4bc9-93ff-5a62ad13901e",
   "metadata": {},
   "source": [
    "### <mark> map\n",
    "\n",
    "Works only with series"
   ]
  },
  {
   "cell_type": "code",
   "execution_count": 51,
   "id": "07a8c029-55ad-4f34-a30f-5c6b837bb804",
   "metadata": {},
   "outputs": [
    {
     "data": {
      "text/plain": [
       "0               NaN\n",
       "1         lea_poche\n",
       "2    kevin_anderson\n",
       "Name: name, dtype: object"
      ]
     },
     "execution_count": 51,
     "metadata": {},
     "output_type": "execute_result"
    }
   ],
   "source": [
    "df['name'].map({'Lea':'lea_poche','Kevin':'kevin_anderson'},\n",
    "              na_action=None)"
   ]
  },
  {
   "cell_type": "code",
   "execution_count": 52,
   "id": "9a9361e8-cc73-44d4-ba0b-efce754d35bd",
   "metadata": {},
   "outputs": [
    {
     "data": {
      "text/plain": [
       "0      Male\n",
       "1    Female\n",
       "2      Male\n",
       "Name: gender, dtype: object"
      ]
     },
     "execution_count": 52,
     "metadata": {},
     "output_type": "execute_result"
    }
   ],
   "source": [
    "df['gender'].map({\"M\":'Male',\"F\":'Female'})"
   ]
  },
  {
   "cell_type": "markdown",
   "id": "589bc6ae-8643-430a-bff0-18584daa57d2",
   "metadata": {},
   "source": [
    "### <mark> replace\n",
    "    \n",
    "works with bothe series and df\n",
    "    \n",
    "Replace values given in `to_replace` with `value`.\n",
    "\n",
    "Values of the DataFrame are replaced with other values dynamically.\n",
    "\n",
    "This differs from updating with ``.loc`` or ``.iloc``, which require\n",
    "you to specify a location to update with some value."
   ]
  },
  {
   "cell_type": "code",
   "execution_count": 53,
   "id": "02e35792-f252-42bd-b433-e8acc2f93b05",
   "metadata": {},
   "outputs": [],
   "source": [
    "df['name'].replace({'Lea':'Lea_andre','Kevin':'Kevin_Peterson'},\n",
    "                  inplace=True)"
   ]
  },
  {
   "cell_type": "code",
   "execution_count": 54,
   "id": "895f7bac-b350-4111-8458-27b8e4cb0e01",
   "metadata": {},
   "outputs": [
    {
     "data": {
      "text/html": [
       "<div>\n",
       "<style scoped>\n",
       "    .dataframe tbody tr th:only-of-type {\n",
       "        vertical-align: middle;\n",
       "    }\n",
       "\n",
       "    .dataframe tbody tr th {\n",
       "        vertical-align: top;\n",
       "    }\n",
       "\n",
       "    .dataframe thead th {\n",
       "        text-align: right;\n",
       "    }\n",
       "</style>\n",
       "<table border=\"1\" class=\"dataframe\">\n",
       "  <thead>\n",
       "    <tr style=\"text-align: right;\">\n",
       "      <th></th>\n",
       "      <th>name</th>\n",
       "      <th>Location</th>\n",
       "      <th>gender</th>\n",
       "    </tr>\n",
       "  </thead>\n",
       "  <tbody>\n",
       "    <tr>\n",
       "      <th>0</th>\n",
       "      <td>Patrick</td>\n",
       "      <td>london</td>\n",
       "      <td>M</td>\n",
       "    </tr>\n",
       "    <tr>\n",
       "      <th>1</th>\n",
       "      <td>Lea_andre</td>\n",
       "      <td>NYC</td>\n",
       "      <td>Female</td>\n",
       "    </tr>\n",
       "    <tr>\n",
       "      <th>2</th>\n",
       "      <td>Kevin_Peterson</td>\n",
       "      <td>berlin</td>\n",
       "      <td>M</td>\n",
       "    </tr>\n",
       "  </tbody>\n",
       "</table>\n",
       "</div>"
      ],
      "text/plain": [
       "             name Location  gender\n",
       "0         Patrick   london       M\n",
       "1       Lea_andre      NYC  Female\n",
       "2  Kevin_Peterson   berlin       M"
      ]
     },
     "execution_count": 54,
     "metadata": {},
     "output_type": "execute_result"
    }
   ],
   "source": [
    "df.replace({'newyork':'NYC', 'F':'Female'})"
   ]
  },
  {
   "cell_type": "code",
   "execution_count": 55,
   "id": "89a99a78-a522-44ca-b0f4-6adbd0388248",
   "metadata": {},
   "outputs": [
    {
     "data": {
      "text/html": [
       "<div>\n",
       "<style scoped>\n",
       "    .dataframe tbody tr th:only-of-type {\n",
       "        vertical-align: middle;\n",
       "    }\n",
       "\n",
       "    .dataframe tbody tr th {\n",
       "        vertical-align: top;\n",
       "    }\n",
       "\n",
       "    .dataframe thead th {\n",
       "        text-align: right;\n",
       "    }\n",
       "</style>\n",
       "<table border=\"1\" class=\"dataframe\">\n",
       "  <thead>\n",
       "    <tr style=\"text-align: right;\">\n",
       "      <th></th>\n",
       "      <th>name</th>\n",
       "      <th>Location</th>\n",
       "      <th>gender</th>\n",
       "    </tr>\n",
       "  </thead>\n",
       "  <tbody>\n",
       "    <tr>\n",
       "      <th>0</th>\n",
       "      <td>Patrick</td>\n",
       "      <td>LONDONondon</td>\n",
       "      <td>M</td>\n",
       "    </tr>\n",
       "    <tr>\n",
       "      <th>1</th>\n",
       "      <td>Lea_andre</td>\n",
       "      <td>newyork</td>\n",
       "      <td>F</td>\n",
       "    </tr>\n",
       "    <tr>\n",
       "      <th>2</th>\n",
       "      <td>Kevin_Peterson</td>\n",
       "      <td>berlin</td>\n",
       "      <td>M</td>\n",
       "    </tr>\n",
       "  </tbody>\n",
       "</table>\n",
       "</div>"
      ],
      "text/plain": [
       "             name     Location gender\n",
       "0         Patrick  LONDONondon      M\n",
       "1       Lea_andre      newyork      F\n",
       "2  Kevin_Peterson       berlin      M"
      ]
     },
     "execution_count": 55,
     "metadata": {},
     "output_type": "execute_result"
    }
   ],
   "source": [
    "# regex replace\n",
    "df.replace(regex='^l', value='LONDON')"
   ]
  },
  {
   "cell_type": "code",
   "execution_count": 56,
   "id": "82c0e4da-3ee8-4efa-a95b-02fbfeedfabc",
   "metadata": {},
   "outputs": [
    {
     "data": {
      "text/html": [
       "<div>\n",
       "<style scoped>\n",
       "    .dataframe tbody tr th:only-of-type {\n",
       "        vertical-align: middle;\n",
       "    }\n",
       "\n",
       "    .dataframe tbody tr th {\n",
       "        vertical-align: top;\n",
       "    }\n",
       "\n",
       "    .dataframe thead th {\n",
       "        text-align: right;\n",
       "    }\n",
       "</style>\n",
       "<table border=\"1\" class=\"dataframe\">\n",
       "  <thead>\n",
       "    <tr style=\"text-align: right;\">\n",
       "      <th></th>\n",
       "      <th>name</th>\n",
       "      <th>Location</th>\n",
       "      <th>gender</th>\n",
       "    </tr>\n",
       "  </thead>\n",
       "  <tbody>\n",
       "    <tr>\n",
       "      <th>0</th>\n",
       "      <td>None</td>\n",
       "      <td>None</td>\n",
       "      <td>M</td>\n",
       "    </tr>\n",
       "    <tr>\n",
       "      <th>1</th>\n",
       "      <td>Lea_andre</td>\n",
       "      <td>newyork</td>\n",
       "      <td>F</td>\n",
       "    </tr>\n",
       "    <tr>\n",
       "      <th>2</th>\n",
       "      <td>Kevin_Peterson</td>\n",
       "      <td>berlin</td>\n",
       "      <td>M</td>\n",
       "    </tr>\n",
       "  </tbody>\n",
       "</table>\n",
       "</div>"
      ],
      "text/plain": [
       "             name Location gender\n",
       "0            None     None      M\n",
       "1       Lea_andre  newyork      F\n",
       "2  Kevin_Peterson   berlin      M"
      ]
     },
     "execution_count": 56,
     "metadata": {},
     "output_type": "execute_result"
    }
   ],
   "source": [
    "# replace values from select columns\n",
    "df.replace({'name': 'Patrick', 'Location': 'london'}, None)"
   ]
  },
  {
   "cell_type": "code",
   "execution_count": 57,
   "id": "53b51bcf-026c-4a02-9445-07c44ea3bc25",
   "metadata": {},
   "outputs": [
    {
     "data": {
      "text/plain": [
       "0    5\n",
       "1    2\n",
       "2    3\n",
       "3    4\n",
       "4    5\n",
       "dtype: int64"
      ]
     },
     "execution_count": 57,
     "metadata": {},
     "output_type": "execute_result"
    }
   ],
   "source": [
    "s = pd.Series([1, 2, 3, 4, 5])\n",
    "s.replace(1, 5)"
   ]
  },
  {
   "cell_type": "code",
   "execution_count": 58,
   "id": "1ba927c3-47b7-416e-b019-5c96b37b699f",
   "metadata": {},
   "outputs": [
    {
     "data": {
      "text/plain": [
       "0       1\n",
       "1       2\n",
       "2    3333\n",
       "3    4444\n",
       "4       5\n",
       "dtype: int64"
      ]
     },
     "execution_count": 58,
     "metadata": {},
     "output_type": "execute_result"
    }
   ],
   "source": [
    "# list like replace\n",
    "s.replace([3, 4], [3333, 4444])"
   ]
  },
  {
   "cell_type": "code",
   "execution_count": null,
   "id": "54603301-e8fd-428b-ab79-0a4b8662d696",
   "metadata": {},
   "outputs": [],
   "source": []
  }
 ],
 "metadata": {
  "kernelspec": {
   "display_name": "Python 3 (ipykernel)",
   "language": "python",
   "name": "python3"
  },
  "language_info": {
   "codemirror_mode": {
    "name": "ipython",
    "version": 3
   },
   "file_extension": ".py",
   "mimetype": "text/x-python",
   "name": "python",
   "nbconvert_exporter": "python",
   "pygments_lexer": "ipython3",
   "version": "3.9.13"
  }
 },
 "nbformat": 4,
 "nbformat_minor": 5
}

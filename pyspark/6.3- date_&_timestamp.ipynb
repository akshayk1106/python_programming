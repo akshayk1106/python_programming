{
 "cells": [
  {
   "cell_type": "code",
   "execution_count": null,
   "id": "e79ef9b3-cea8-4456-8e12-3ced89cdf651",
   "metadata": {},
   "outputs": [],
   "source": []
  }
 ],
 "metadata": {
  "kernelspec": {
   "display_name": "Python 3 (ipykernel)",
   "language": "python",
   "name": "python3"
  },
  "language_info": {
   "name": ""
  }
 },
 "nbformat": 4,
 "nbformat_minor": 5
}

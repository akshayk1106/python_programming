{
 "cells": [
  {
   "cell_type": "code",
   "execution_count": null,
   "id": "cec5ca58-584c-4066-9fe4-64472c2e7728",
   "metadata": {},
   "outputs": [],
   "source": []
  }
 ],
 "metadata": {
  "kernelspec": {
   "display_name": "Python 3 (ipykernel)",
   "language": "python",
   "name": "python3"
  },
  "language_info": {
   "name": ""
  }
 },
 "nbformat": 4,
 "nbformat_minor": 5
}

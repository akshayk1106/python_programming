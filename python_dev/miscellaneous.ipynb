{
 "cells": [
  {
   "cell_type": "markdown",
   "id": "793a56d4-3177-4cdf-9e12-e179f7cb4183",
   "metadata": {},
   "source": [
    "### __ name __ == main"
   ]
  },
  {
   "cell_type": "code",
   "execution_count": null,
   "id": "e3ae957b-1bde-4939-9f2a-1fe43c40a7a6",
   "metadata": {},
   "outputs": [],
   "source": []
  },
  {
   "cell_type": "markdown",
   "id": "c27eeb04",
   "metadata": {},
   "source": [
    "### zip()"
   ]
  },
  {
   "cell_type": "raw",
   "id": "5fa4796d",
   "metadata": {},
   "source": [
    "The zip() function returns a zip object, which is an iterator of tuples where the first item in each passed iterator is paired together, and then the second item in each passed iterator are paired together etc.\n",
    "\n",
    "If the passed iterators have different lengths, the iterator with the least items decides the length of the new iterator."
   ]
  },
  {
   "cell_type": "code",
   "execution_count": 6,
   "id": "2cc8063e",
   "metadata": {},
   "outputs": [
    {
     "name": "stdout",
     "output_type": "stream",
     "text": [
      "<zip object at 0x000000BE5A48C300>\n",
      "[('John', 'Jenny'), ('Charles', 'Christy'), ('Mike', 'Monica')]\n"
     ]
    }
   ],
   "source": [
    "a = (\"John\", \"Charles\", \"Mike\")\n",
    "b = (\"Jenny\", \"Christy\", \"Monica\", \"Vicky\")\n",
    "\n",
    "x = zip(a, b)\n",
    "print(x)\n",
    "print(list(x))"
   ]
  },
  {
   "cell_type": "markdown",
   "id": "bd4d0be6",
   "metadata": {},
   "source": [
    "### enumerate()"
   ]
  },
  {
   "cell_type": "raw",
   "id": "d3f1d6ed",
   "metadata": {},
   "source": [
    "Enumerate() method adds a counter to an iterable and returns it in a form of enumerating object. This enumerated object can then be used directly for loops or converted into a list of tuples using the list() method.\n",
    "\n",
    "enumerate(iterable, start=0)\n",
    "\n",
    "Parameters:\n",
    "Iterable: any object that supports iteration\n",
    "Start: the index value from which the counter is \n",
    "              to be started, by default it is 0"
   ]
  },
  {
   "cell_type": "code",
   "execution_count": 7,
   "id": "cff326a8",
   "metadata": {},
   "outputs": [
    {
     "name": "stdout",
     "output_type": "stream",
     "text": [
      "Return type: <class 'enumerate'>\n",
      "[(0, 'eat'), (1, 'sleep'), (2, 'repeat')]\n",
      "[(2, 'g'), (3, 'e'), (4, 'e'), (5, 'k')]\n"
     ]
    }
   ],
   "source": [
    "l1 = [\"eat\",\"sleep\",\"repeat\"]\n",
    "s1 = \"geek\"\n",
    " \n",
    "# creating enumerate objects\n",
    "obj1 = enumerate(l1)\n",
    "obj2 = enumerate(s1) \n",
    "print (\"Return type:\",type(obj1))\n",
    "print (list(enumerate(l1)))\n",
    " \n",
    "# changing start index to 2 from 0\n",
    "print (list(enumerate(s1,2)))"
   ]
  },
  {
   "cell_type": "code",
   "execution_count": 8,
   "id": "b278ba88",
   "metadata": {},
   "outputs": [
    {
     "name": "stdout",
     "output_type": "stream",
     "text": [
      "100 eat\n",
      "101 sleep\n",
      "102 repeat\n"
     ]
    }
   ],
   "source": [
    "for count,ele in enumerate(l1,100):\n",
    "    print (count,ele)"
   ]
  },
  {
   "cell_type": "code",
   "execution_count": 9,
   "id": "f2687a4b",
   "metadata": {},
   "outputs": [
    {
     "name": "stdout",
     "output_type": "stream",
     "text": [
      "0\n",
      "eat\n",
      "1\n",
      "sleep\n",
      "2\n",
      "repeat\n"
     ]
    }
   ],
   "source": [
    "for count,ele in enumerate(l1):\n",
    "    print(count)\n",
    "    print(ele)"
   ]
  },
  {
   "cell_type": "markdown",
   "id": "113689cb",
   "metadata": {},
   "source": [
    "### any()"
   ]
  },
  {
   "cell_type": "markdown",
   "id": "e3275794",
   "metadata": {},
   "source": [
    "The any() function is an inbuilt function in Python which returns true if any of the elements of a given iterable( List, Dictionary, Tuple, set, etc) are True else it returns False. 0\n",
    "\n",
    "iterables that can be passed: list, tuple, set, dict, string, fset\n",
    "returns false for: 0, False, None, empty, empty string"
   ]
  },
  {
   "cell_type": "code",
   "execution_count": 10,
   "id": "f3cea690",
   "metadata": {},
   "outputs": [
    {
     "name": "stdout",
     "output_type": "stream",
     "text": [
      "True\n",
      "False\n",
      "True\n",
      "False\n"
     ]
    }
   ],
   "source": [
    "# All elements of list are true\n",
    "l = [ 4, 5, 1]\n",
    "print(any( l ))\n",
    "  \n",
    "# All elements of list are false\n",
    "l = [ 0, 0, False]\n",
    "print(any( l ))\n",
    "  \n",
    "# Some elements of list are\n",
    "# true while others are false\n",
    "l = [ 1, 0, 6, 7, False]\n",
    "print(any( l ))\n",
    "  \n",
    "# Empty List\n",
    "l = []\n",
    "print(any( l ))"
   ]
  },
  {
   "cell_type": "markdown",
   "id": "a8a0e2aa-65f0-40e0-9d95-3f7a7c204230",
   "metadata": {},
   "source": [
    "## all()"
   ]
  },
  {
   "cell_type": "code",
   "execution_count": null,
   "id": "287ae59f-d409-4535-9ec3-fa248f1a5f27",
   "metadata": {},
   "outputs": [],
   "source": []
  },
  {
   "cell_type": "markdown",
   "id": "5048bea1-1bcf-4f49-8509-52c501ec676b",
   "metadata": {},
   "source": [
    "## <mark> role of underscore in python\n",
    "\n",
    "1. for storing value of last expression\n",
    "    python interpretor stores value of last expression to special variable called '_'\n",
    "\n",
    "2. for ignorring specific values\n",
    "\n",
    "3. to give special meaning to name of variables and functions\n",
    "    Variable names with single preceding underscores are used for private variables, functions, classes.\n",
    "    Anything with this convention are ignored in from module import *\n",
    "\n",
    "4. To separate the digits of number literal value\n",
    "    Use underscore to make large numbers more readable"
   ]
  },
  {
   "cell_type": "code",
   "execution_count": 8,
   "id": "918391cd-7341-4b63-a264-46c566d475e2",
   "metadata": {},
   "outputs": [
    {
     "data": {
      "text/plain": [
       "22"
      ]
     },
     "execution_count": 8,
     "metadata": {},
     "output_type": "execute_result"
    }
   ],
   "source": [
    "12 + 10"
   ]
  },
  {
   "cell_type": "code",
   "execution_count": 9,
   "id": "0cb9066c-2af5-43db-b902-b5c7b58284f4",
   "metadata": {},
   "outputs": [
    {
     "data": {
      "text/plain": [
       "3"
      ]
     },
     "execution_count": 9,
     "metadata": {},
     "output_type": "execute_result"
    }
   ],
   "source": [
    "_"
   ]
  },
  {
   "cell_type": "code",
   "execution_count": 10,
   "id": "6b30731e-7df5-4592-ad4d-4ae94ca71480",
   "metadata": {},
   "outputs": [
    {
     "name": "stdout",
     "output_type": "stream",
     "text": [
      "1\n",
      "3\n"
     ]
    }
   ],
   "source": [
    "a, _, _ = (1, 2, 3)\n",
    "print(a)\n",
    "print(_)"
   ]
  },
  {
   "cell_type": "code",
   "execution_count": 11,
   "id": "cad6bd09-73b9-40c7-8cd2-437bce114af4",
   "metadata": {},
   "outputs": [],
   "source": [
    "_private_variable = 90"
   ]
  },
  {
   "cell_type": "code",
   "execution_count": 12,
   "id": "a1d75e31-05a7-428e-a38a-1bcd0cbb506e",
   "metadata": {},
   "outputs": [
    {
     "data": {
      "text/plain": [
       "700000000"
      ]
     },
     "execution_count": 12,
     "metadata": {},
     "output_type": "execute_result"
    }
   ],
   "source": [
    "large_number = 70_00_00_000\n",
    "large_number"
   ]
  },
  {
   "cell_type": "markdown",
   "id": "898d47c0-3593-4dcd-a10a-a8b53fc82845",
   "metadata": {},
   "source": [
    "##### <mark> The use of double underscore ( __ )\n",
    "\n",
    "The use of double underscore ( __ ) in front of a name (specifically a method name) is not a convention; it has a specific meaning to the interpreter. Python mangles these names and it is used to AVOID NAME CLASHES with names defined by subclasses.\n",
    "This is the NAME MANGLING that the Python interpreter applies."
   ]
  },
  {
   "cell_type": "markdown",
   "id": "84c76db8-af32-4371-88f3-2e35be0d3300",
   "metadata": {},
   "source": [
    "`_`\n",
    "\n",
    "`_var`\n",
    "\n",
    "`var_`\n",
    "\n",
    "    private variables\n",
    "\n",
    "`_var_`\n",
    "\n",
    "`__var`\n",
    "\n",
    "`var__`\n",
    "\n",
    "`__var__`\n",
    "\n",
    "    magic methods"
   ]
  },
  {
   "cell_type": "code",
   "execution_count": null,
   "id": "85c9fc60-150c-4f3a-af60-86a65beaaee0",
   "metadata": {},
   "outputs": [],
   "source": []
  },
  {
   "cell_type": "markdown",
   "id": "bcb1cd53-694f-4e48-80ae-424d56bcf2f5",
   "metadata": {
    "tags": []
   },
   "source": [
    "#### <mark> __ pycache __ folder"
   ]
  },
  {
   "cell_type": "raw",
   "id": "e5d1395e-5874-497a-b215-49fafb0fd118",
   "metadata": {},
   "source": [
    "When you run a python programme, the cinterpreter compiles it to bytecode first and stores it in the pychache folder."
   ]
  },
  {
   "cell_type": "code",
   "execution_count": null,
   "id": "ba999ede-e760-43c9-9d06-d5749adc9600",
   "metadata": {},
   "outputs": [],
   "source": []
  }
 ],
 "metadata": {
  "kernelspec": {
   "display_name": "Python 3 (ipykernel)",
   "language": "python",
   "name": "python3"
  },
  "language_info": {
   "codemirror_mode": {
    "name": "ipython",
    "version": 3
   },
   "file_extension": ".py",
   "mimetype": "text/x-python",
   "name": "python",
   "nbconvert_exporter": "python",
   "pygments_lexer": "ipython3",
   "version": "3.9.13"
  }
 },
 "nbformat": 4,
 "nbformat_minor": 5
}

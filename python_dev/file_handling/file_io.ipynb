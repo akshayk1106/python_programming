{
 "cells": [
  {
   "cell_type": "markdown",
   "id": "30a0018e",
   "metadata": {},
   "source": [
    "### Python File I/O"
   ]
  },
  {
   "cell_type": "raw",
   "id": "f60e6363",
   "metadata": {},
   "source": [
    "File: Files are named locations on disk to store related information.\n",
    "\n",
    "Files in Python: Text & Binary"
   ]
  },
  {
   "cell_type": "code",
   "execution_count": 2,
   "id": "01c0623c",
   "metadata": {},
   "outputs": [],
   "source": [
    "import os"
   ]
  },
  {
   "cell_type": "code",
   "execution_count": 24,
   "id": "b16a49d3",
   "metadata": {},
   "outputs": [
    {
     "data": {
      "text/plain": [
       "['DirEntry',\n",
       " 'F_OK',\n",
       " 'MutableMapping',\n",
       " 'O_APPEND',\n",
       " 'O_BINARY',\n",
       " 'O_CREAT',\n",
       " 'O_EXCL',\n",
       " 'O_NOINHERIT',\n",
       " 'O_RANDOM',\n",
       " 'O_RDONLY',\n",
       " 'O_RDWR',\n",
       " 'O_SEQUENTIAL',\n",
       " 'O_SHORT_LIVED',\n",
       " 'O_TEMPORARY',\n",
       " 'O_TEXT',\n",
       " 'O_TRUNC',\n",
       " 'O_WRONLY',\n",
       " 'P_DETACH',\n",
       " 'P_NOWAIT',\n",
       " 'P_NOWAITO',\n",
       " 'P_OVERLAY',\n",
       " 'P_WAIT',\n",
       " 'PathLike',\n",
       " 'R_OK',\n",
       " 'SEEK_CUR',\n",
       " 'SEEK_END',\n",
       " 'SEEK_SET',\n",
       " 'TMP_MAX',\n",
       " 'W_OK',\n",
       " 'X_OK',\n",
       " '_AddedDllDirectory',\n",
       " '_Environ',\n",
       " '__all__',\n",
       " '__builtins__',\n",
       " '__cached__',\n",
       " '__doc__',\n",
       " '__file__',\n",
       " '__loader__',\n",
       " '__name__',\n",
       " '__package__',\n",
       " '__spec__',\n",
       " '_check_methods',\n",
       " '_execvpe',\n",
       " '_exists',\n",
       " '_exit',\n",
       " '_fspath',\n",
       " '_get_exports_list',\n",
       " '_putenv',\n",
       " '_unsetenv',\n",
       " '_wrap_close',\n",
       " 'abc',\n",
       " 'abort',\n",
       " 'access',\n",
       " 'add_dll_directory',\n",
       " 'altsep',\n",
       " 'chdir',\n",
       " 'chmod',\n",
       " 'close',\n",
       " 'closerange',\n",
       " 'cpu_count',\n",
       " 'curdir',\n",
       " 'defpath',\n",
       " 'device_encoding',\n",
       " 'devnull',\n",
       " 'dup',\n",
       " 'dup2',\n",
       " 'environ',\n",
       " 'error',\n",
       " 'execl',\n",
       " 'execle',\n",
       " 'execlp',\n",
       " 'execlpe',\n",
       " 'execv',\n",
       " 'execve',\n",
       " 'execvp',\n",
       " 'execvpe',\n",
       " 'extsep',\n",
       " 'fdopen',\n",
       " 'fsdecode',\n",
       " 'fsencode',\n",
       " 'fspath',\n",
       " 'fstat',\n",
       " 'fsync',\n",
       " 'ftruncate',\n",
       " 'get_exec_path',\n",
       " 'get_handle_inheritable',\n",
       " 'get_inheritable',\n",
       " 'get_terminal_size',\n",
       " 'getcwd',\n",
       " 'getcwdb',\n",
       " 'getenv',\n",
       " 'getlogin',\n",
       " 'getpid',\n",
       " 'getppid',\n",
       " 'isatty',\n",
       " 'kill',\n",
       " 'linesep',\n",
       " 'link',\n",
       " 'listdir',\n",
       " 'lseek',\n",
       " 'lstat',\n",
       " 'makedirs',\n",
       " 'mkdir',\n",
       " 'name',\n",
       " 'open',\n",
       " 'pardir',\n",
       " 'path',\n",
       " 'pathsep',\n",
       " 'pipe',\n",
       " 'popen',\n",
       " 'putenv',\n",
       " 'read',\n",
       " 'readlink',\n",
       " 'remove',\n",
       " 'removedirs',\n",
       " 'rename',\n",
       " 'renames',\n",
       " 'replace',\n",
       " 'rmdir',\n",
       " 'scandir',\n",
       " 'sep',\n",
       " 'set_handle_inheritable',\n",
       " 'set_inheritable',\n",
       " 'spawnl',\n",
       " 'spawnle',\n",
       " 'spawnv',\n",
       " 'spawnve',\n",
       " 'st',\n",
       " 'startfile',\n",
       " 'stat',\n",
       " 'stat_result',\n",
       " 'statvfs_result',\n",
       " 'strerror',\n",
       " 'supports_bytes_environ',\n",
       " 'supports_dir_fd',\n",
       " 'supports_effective_ids',\n",
       " 'supports_fd',\n",
       " 'supports_follow_symlinks',\n",
       " 'symlink',\n",
       " 'sys',\n",
       " 'system',\n",
       " 'terminal_size',\n",
       " 'times',\n",
       " 'times_result',\n",
       " 'truncate',\n",
       " 'umask',\n",
       " 'uname_result',\n",
       " 'unlink',\n",
       " 'urandom',\n",
       " 'utime',\n",
       " 'waitpid',\n",
       " 'walk',\n",
       " 'write']"
      ]
     },
     "execution_count": 24,
     "metadata": {},
     "output_type": "execute_result"
    }
   ],
   "source": [
    "list(dir(os))"
   ]
  },
  {
   "cell_type": "code",
   "execution_count": 2,
   "id": "765d3476",
   "metadata": {},
   "outputs": [
    {
     "data": {
      "text/plain": [
       "\"C:\\\\Users\\\\admin\\\\Desktop\\\\Data Science\\\\Python Language\\\\Ak's Lectures\""
      ]
     },
     "execution_count": 2,
     "metadata": {},
     "output_type": "execute_result"
    }
   ],
   "source": [
    "os.getcwd()\n",
    "#Current working directory"
   ]
  },
  {
   "cell_type": "code",
   "execution_count": 3,
   "id": "b31c266e",
   "metadata": {},
   "outputs": [],
   "source": [
    "os.chdir(\"C:\\\\Users\\\\admin\\\\Desktop\\\\Data Science\\\\Python Language\\\\Ak's Lectures\")\n",
    "#Change the current working directory to the specified path."
   ]
  },
  {
   "cell_type": "code",
   "execution_count": 2,
   "id": "ada28cdf",
   "metadata": {},
   "outputs": [
    {
     "data": {
      "text/plain": [
       "['.ipynb_checkpoints',\n",
       " 'a-June 21 - Intro and Theory.ipynb',\n",
       " 'b-June 22- Basics and comments.ipynb',\n",
       " 'c-June 23- Variables, Print().format, Help(), Type().ipynb',\n",
       " 'd-June 24- isinstance,type conversion, input, indexing.ipynb',\n",
       " 'e-June 25- String & Operators.ipynb',\n",
       " 'f-June 29- String Methods 1.ipynb',\n",
       " 'g-June 30- String Methods 2.ipynb',\n",
       " 'h-July 1- String Methods 3.ipynb',\n",
       " 'i-July 2- LIST.ipynb',\n",
       " 'j-July 5- List Methods.ipynb',\n",
       " 'k-July 6- Tupple (with methods) & zip().ipynb',\n",
       " 'l-July 7- Sets.ipynb',\n",
       " 'm-July 8- Set operations.ipynb',\n",
       " 'Miscellaneous.ipynb',\n",
       " 'n-July 9- Dictionary (with operations).ipynb',\n",
       " 'o-July 11-Exercise-loop.ipynb',\n",
       " 'p-July 12- Flow control.ipynb',\n",
       " 'q-July 14- For and Range.ipynb',\n",
       " 'r-July 13- If, elif, Nested if.ipynb',\n",
       " 'RegEx-w3school+CoreySchafer.ipynb',\n",
       " 's-July 15- while.ipynb',\n",
       " 't-July 16-Continue, Pass.ipynb',\n",
       " 'u-July 19-Functions intro.ipynb',\n",
       " 'v-July 20- Function arguements.ipynb',\n",
       " 'w-July 21- Recursion.ipynb',\n",
       " 'x- July 22- Lambda.ipynb',\n",
       " 'z-27July_Global-Local, Modules.ipynb',\n",
       " 'za_Module, Packages, Library, Framework, pip.ipynb',\n",
       " 'zb-OOPs Intro.ipynb',\n",
       " 'zc-OOPs Inheritance.ipynb',\n",
       " 'zd - Encapsulation, Polymorphism.ipynb',\n",
       " 'ze- File I-O.ipynb',\n",
       " 'zf- Namespaces and Memory management.ipynb',\n",
       " 'zg - Datetime.ipynb',\n",
       " 'zh - oops practice.ipynb']"
      ]
     },
     "execution_count": 2,
     "metadata": {},
     "output_type": "execute_result"
    }
   ],
   "source": [
    "import os\n",
    "list(os.listdir())\n",
    "#To get the list of files contiaind in the current directory"
   ]
  },
  {
   "cell_type": "raw",
   "id": "253316a4",
   "metadata": {},
   "source": [
    "f=open(\"123.txt\")\n",
    "if file exists in current working directory"
   ]
  },
  {
   "cell_type": "raw",
   "id": "4c52f884",
   "metadata": {},
   "source": [
    "open() returns a file object whose type depends on the mode, and\n",
    "through which the standard file operations such as reading and writing\n",
    "are performed. When open() is used to open a file in a text mode ('w',\n",
    "'r', 'wt', 'rt', etc.), it returns a TextIOWrapper. When used to open\n",
    "a file in a binary mode, the returned class varies: in read binary\n",
    "mode, it returns a BufferedReader; in write binary and append binary\n",
    "modes, it returns a BufferedWriter, and in read/write mode, it returns\n",
    "a BufferedRandom.\n",
    "Python distinguishes between files opened in binary and text modes,\n",
    "even when the underlying operating system doesn't. Files opened in\n",
    "binary mode (appending 'b' to the mode argument) return contents as\n",
    "bytes objects without any decoding. In text mode (the default, or when\n",
    "'t' is appended to the mode argument), the contents of the file are\n",
    "returned as strings, the bytes having been first decoded using a\n",
    "platform-dependent encoding or using the specified encoding if given.\n",
    "\n",
    "'r'       open for reading (default)\n",
    "'w'       open for writing, truncating the file first\n",
    "'x'       create a new file and open it for writing\n",
    "'a'       open for writing, appending to the end of the file if it exists\n",
    "'b'       binary mode\n",
    "'t'       text mode (default)\n",
    "'+'       open a disk file for updating (reading and writing)\n",
    "'U'       universal newline mode (deprecated)\n",
    "\n",
    "append: adds at the end of the file irrespective of the seek location\n",
    "write: overwrites the file"
   ]
  },
  {
   "cell_type": "code",
   "execution_count": 25,
   "id": "7831f813",
   "metadata": {},
   "outputs": [],
   "source": [
    "f= open(\"C:\\\\Users\\\\admin\\\\Desktop\\\\Motivation.txt\")\n",
    "f.close()"
   ]
  },
  {
   "cell_type": "code",
   "execution_count": 26,
   "id": "f3e89a12",
   "metadata": {},
   "outputs": [
    {
     "data": {
      "text/plain": [
       "7"
      ]
     },
     "execution_count": 26,
     "metadata": {},
     "output_type": "execute_result"
    }
   ],
   "source": [
    "f= open(\"C:\\\\Users\\\\admin\\\\Desktop\\\\Motivation.txt\",mode=\"w\",encoding=\"utf-8\")\n",
    "\n",
    "f.write(\"This is my first line\\n\")\n",
    "f.write(\"Hello\\n\")\n",
    "f.write(\"Akshay\\n\")"
   ]
  },
  {
   "cell_type": "code",
   "execution_count": 17,
   "id": "589e3392",
   "metadata": {
    "scrolled": false
   },
   "outputs": [
    {
     "data": {
      "text/plain": [
       "'This is my first line\\nHello\\nAkshay\\n'"
      ]
     },
     "execution_count": 17,
     "metadata": {},
     "output_type": "execute_result"
    }
   ],
   "source": [
    "f= open(\"C:\\\\Users\\\\admin\\\\Desktop\\\\Motivation.txt\")\n",
    "f.read()"
   ]
  },
  {
   "cell_type": "code",
   "execution_count": 22,
   "id": "fd2ecc88",
   "metadata": {
    "scrolled": true
   },
   "outputs": [
    {
     "data": {
      "text/plain": [
       "24"
      ]
     },
     "execution_count": 22,
     "metadata": {},
     "output_type": "execute_result"
    }
   ],
   "source": [
    "#Open in append mode\n",
    "f=open(\"C:\\\\Users\\\\admin\\\\Desktop\\\\Motivation.txt\",\"a\")\n",
    "f.write(\"This is added at the end\")"
   ]
  },
  {
   "cell_type": "code",
   "execution_count": 23,
   "id": "c388597f",
   "metadata": {},
   "outputs": [
    {
     "ename": "UnsupportedOperation",
     "evalue": "not readable",
     "output_type": "error",
     "traceback": [
      "\u001b[1;31m---------------------------------------------------------------------------\u001b[0m",
      "\u001b[1;31mUnsupportedOperation\u001b[0m                      Traceback (most recent call last)",
      "\u001b[1;32m<ipython-input-23-571e9fb02258>\u001b[0m in \u001b[0;36m<module>\u001b[1;34m\u001b[0m\n\u001b[1;32m----> 1\u001b[1;33m \u001b[0mf\u001b[0m\u001b[1;33m.\u001b[0m\u001b[0mread\u001b[0m\u001b[1;33m(\u001b[0m\u001b[1;33m)\u001b[0m\u001b[1;33m\u001b[0m\u001b[1;33m\u001b[0m\u001b[0m\n\u001b[0m",
      "\u001b[1;31mUnsupportedOperation\u001b[0m: not readable"
     ]
    }
   ],
   "source": [
    "f.read()"
   ]
  },
  {
   "cell_type": "code",
   "execution_count": 7,
   "id": "c1cfe30c",
   "metadata": {},
   "outputs": [
    {
     "data": {
      "text/plain": [
       "''"
      ]
     },
     "execution_count": 7,
     "metadata": {},
     "output_type": "execute_result"
    }
   ],
   "source": [
    "f.readline()\n",
    "#line by line output"
   ]
  },
  {
   "cell_type": "code",
   "execution_count": 8,
   "id": "3ad62f01",
   "metadata": {},
   "outputs": [
    {
     "data": {
      "text/plain": [
       "''"
      ]
     },
     "execution_count": 8,
     "metadata": {},
     "output_type": "execute_result"
    }
   ],
   "source": [
    "f.readline(3)\n",
    "#Read 3rd line only"
   ]
  },
  {
   "cell_type": "code",
   "execution_count": 9,
   "id": "205669ba",
   "metadata": {
    "scrolled": true
   },
   "outputs": [
    {
     "data": {
      "text/plain": [
       "[]"
      ]
     },
     "execution_count": 9,
     "metadata": {},
     "output_type": "execute_result"
    }
   ],
   "source": [
    "f.readlines()\n",
    "#read lines separately,@Returns a list"
   ]
  },
  {
   "cell_type": "code",
   "execution_count": 10,
   "id": "ac91f223",
   "metadata": {
    "scrolled": true
   },
   "outputs": [
    {
     "name": "stdout",
     "output_type": "stream",
     "text": [
      "\n"
     ]
    }
   ],
   "source": [
    "print(f.read())"
   ]
  },
  {
   "cell_type": "code",
   "execution_count": 27,
   "id": "59074878",
   "metadata": {},
   "outputs": [
    {
     "ename": "UnsupportedOperation",
     "evalue": "not readable",
     "output_type": "error",
     "traceback": [
      "\u001b[1;31m---------------------------------------------------------------------------\u001b[0m",
      "\u001b[1;31mUnsupportedOperation\u001b[0m                      Traceback (most recent call last)",
      "\u001b[1;32m<ipython-input-27-8733e00b6261>\u001b[0m in \u001b[0;36m<module>\u001b[1;34m\u001b[0m\n\u001b[0;32m      4\u001b[0m \u001b[0mAlso\u001b[0m \u001b[0mthe\u001b[0m \u001b[0mcode\u001b[0m \u001b[1;32mis\u001b[0m \u001b[0msimple\u001b[0m \u001b[1;32mand\u001b[0m \u001b[0measy\u001b[0m \u001b[0mto\u001b[0m \u001b[0munderstand\u001b[0m\u001b[1;33m.\u001b[0m\u001b[1;33m\u001b[0m\u001b[1;33m\u001b[0m\u001b[0m\n\u001b[0;32m      5\u001b[0m \"\"\"\n\u001b[1;32m----> 6\u001b[1;33m \u001b[1;32mfor\u001b[0m \u001b[0mline\u001b[0m \u001b[1;32min\u001b[0m \u001b[0mf\u001b[0m\u001b[1;33m:\u001b[0m\u001b[1;33m\u001b[0m\u001b[1;33m\u001b[0m\u001b[0m\n\u001b[0m\u001b[0;32m      7\u001b[0m     \u001b[0mprint\u001b[0m\u001b[1;33m(\u001b[0m\u001b[0mline\u001b[0m\u001b[1;33m)\u001b[0m\u001b[1;33m\u001b[0m\u001b[1;33m\u001b[0m\u001b[0m\n",
      "\u001b[1;31mUnsupportedOperation\u001b[0m: not readable"
     ]
    }
   ],
   "source": [
    "\"\"\"\n",
    "Looping over file object- When you want to read file line by line \n",
    "in a Fast and memory efficient manner. \n",
    "Also the code is simple and easy to understand. \n",
    "\"\"\"\n",
    "for line in f:\n",
    "    print(line)"
   ]
  },
  {
   "cell_type": "code",
   "execution_count": 12,
   "id": "f06415cb",
   "metadata": {
    "scrolled": true
   },
   "outputs": [
    {
     "data": {
      "text/plain": [
       "''"
      ]
     },
     "execution_count": 12,
     "metadata": {},
     "output_type": "execute_result"
    }
   ],
   "source": [
    "f.read(3)"
   ]
  },
  {
   "cell_type": "code",
   "execution_count": 13,
   "id": "f6e93708",
   "metadata": {},
   "outputs": [
    {
     "data": {
      "text/plain": [
       "[]"
      ]
     },
     "execution_count": 13,
     "metadata": {},
     "output_type": "execute_result"
    }
   ],
   "source": [
    "f.readlines()"
   ]
  },
  {
   "cell_type": "code",
   "execution_count": 14,
   "id": "7cba6129",
   "metadata": {},
   "outputs": [
    {
     "data": {
      "text/plain": [
       "38"
      ]
     },
     "execution_count": 14,
     "metadata": {},
     "output_type": "execute_result"
    }
   ],
   "source": [
    "f.tell()\n",
    "#Returns current stream position"
   ]
  },
  {
   "cell_type": "code",
   "execution_count": 15,
   "id": "548c478c",
   "metadata": {},
   "outputs": [
    {
     "data": {
      "text/plain": [
       "0"
      ]
     },
     "execution_count": 15,
     "metadata": {},
     "output_type": "execute_result"
    }
   ],
   "source": [
    "f.seek(0) \n",
    "#Sets the cursor/stream at 0"
   ]
  },
  {
   "cell_type": "raw",
   "id": "9da68a5d",
   "metadata": {},
   "source": [
    "### Removing/Deleting a file:\n",
    "\n",
    "1)\n",
    "import os\n",
    "os.remove(\"motiva.txt\")\n",
    "\n",
    "2)A good programming approach would use following way (exception handling)-\n",
    "\n",
    "if os.path.exists(\"Motiv.txt\"):\n",
    "    os.remove(\"motiva.txt\")\n",
    "else:\n",
    "    print(\"File does not exist\")"
   ]
  },
  {
   "cell_type": "raw",
   "id": "be0f0d5c",
   "metadata": {},
   "source": [
    "### creating a folder\n",
    "import os\n",
    "\n",
    "os.mkdir(\"Path\")"
   ]
  },
  {
   "cell_type": "raw",
   "id": "87058194",
   "metadata": {},
   "source": [
    "### Deleting a folder:\n",
    "import os\n",
    "os.rmdir(\"Data Folder Path\")"
   ]
  },
  {
   "cell_type": "code",
   "execution_count": 34,
   "id": "f6b74d8f",
   "metadata": {},
   "outputs": [],
   "source": [
    "import os\n",
    "akshay=open(\"C:\\\\Users\\\\admin\\\\Desktop\\\\trial.txt\")\n",
    "akshay.close()\n",
    "\n",
    "akshay=open(\"C:\\\\Users\\\\admin\\\\Desktop\\\\trial.txt\",\"w\")\n",
    "akshay.write(\"2mro we have mock\\n\")\n",
    "akshay.write(\"Im from E batch\\n\")\n",
    "akshay.write(\"Chetan will conduct it\\n\")\n",
    "akshay.write(\"Mine is at 12.00pm.\\n\")\n",
    "\n",
    "akshay.close()"
   ]
  },
  {
   "cell_type": "code",
   "execution_count": 35,
   "id": "093c7515",
   "metadata": {},
   "outputs": [
    {
     "data": {
      "text/plain": [
       "'2mro we have mock\\nIm from E batch\\nChetan will conduct it\\nMine is at 12.00pm.\\n'"
      ]
     },
     "execution_count": 35,
     "metadata": {},
     "output_type": "execute_result"
    }
   ],
   "source": [
    "akshay=open(\"C:\\\\Users\\\\admin\\\\Desktop\\\\trial.txt\",\"r\")\n",
    "akshay.read()"
   ]
  },
  {
   "cell_type": "code",
   "execution_count": 36,
   "id": "cc7a7db0",
   "metadata": {},
   "outputs": [
    {
     "data": {
      "text/plain": [
       "''"
      ]
     },
     "execution_count": 36,
     "metadata": {},
     "output_type": "execute_result"
    }
   ],
   "source": [
    "akshay.readline()"
   ]
  },
  {
   "cell_type": "code",
   "execution_count": 37,
   "id": "42ed0f2b",
   "metadata": {},
   "outputs": [
    {
     "data": {
      "text/plain": [
       "[]"
      ]
     },
     "execution_count": 37,
     "metadata": {},
     "output_type": "execute_result"
    }
   ],
   "source": [
    "akshay.readlines()"
   ]
  },
  {
   "cell_type": "code",
   "execution_count": 38,
   "id": "d2b2577f",
   "metadata": {},
   "outputs": [],
   "source": [
    "akshay.close()"
   ]
  },
  {
   "cell_type": "code",
   "execution_count": 39,
   "id": "b63554b5",
   "metadata": {},
   "outputs": [],
   "source": [
    "akshay=open(\"C:\\\\Users\\\\admin\\\\Desktop\\\\trial.txt\",\"a\")\n",
    "akshay.write(\"I am appending my score at the end.\")\n",
    "akshay.close()"
   ]
  },
  {
   "cell_type": "code",
   "execution_count": 40,
   "id": "8660a5ed",
   "metadata": {},
   "outputs": [
    {
     "data": {
      "text/plain": [
       "'2mro we have mock\\nIm from E batch\\nChetan will conduct it\\nMine is at 12.00pm.\\nI am appending my score at the end.'"
      ]
     },
     "execution_count": 40,
     "metadata": {},
     "output_type": "execute_result"
    }
   ],
   "source": [
    "akshay=open(\"C:\\\\Users\\\\admin\\\\Desktop\\\\trial.txt\",\"r\")\n",
    "akshay.read()"
   ]
  },
  {
   "cell_type": "code",
   "execution_count": 41,
   "id": "8fcd246d",
   "metadata": {},
   "outputs": [
    {
     "data": {
      "text/plain": [
       "116"
      ]
     },
     "execution_count": 41,
     "metadata": {},
     "output_type": "execute_result"
    }
   ],
   "source": [
    "akshay.tell()"
   ]
  },
  {
   "cell_type": "code",
   "execution_count": 44,
   "id": "436e1048",
   "metadata": {},
   "outputs": [
    {
     "data": {
      "text/plain": [
       "0"
      ]
     },
     "execution_count": 44,
     "metadata": {},
     "output_type": "execute_result"
    }
   ],
   "source": [
    "akshay.seek(0)"
   ]
  },
  {
   "cell_type": "code",
   "execution_count": 45,
   "id": "e3d896e1",
   "metadata": {},
   "outputs": [],
   "source": [
    "akshay.close()\n",
    "os.remove(\"C:\\\\Users\\\\admin\\\\Desktop\\\\trial.txt\")"
   ]
  },
  {
   "cell_type": "code",
   "execution_count": 8,
   "id": "b6e516e0",
   "metadata": {
    "scrolled": true
   },
   "outputs": [
    {
     "ename": "TypeError",
     "evalue": "invalid fd type (<class 'str'>, expected integer)",
     "output_type": "error",
     "traceback": [
      "\u001b[1;31m---------------------------------------------------------------------------\u001b[0m",
      "\u001b[1;31mTypeError\u001b[0m                                 Traceback (most recent call last)",
      "\u001b[1;32m<ipython-input-8-594f4f537126>\u001b[0m in \u001b[0;36m<module>\u001b[1;34m\u001b[0m\n\u001b[1;32m----> 1\u001b[1;33m \u001b[0mos\u001b[0m\u001b[1;33m.\u001b[0m\u001b[0mfdopen\u001b[0m\u001b[1;33m(\u001b[0m\u001b[1;34mr\"C:\\\\Users\\\\admin\\\\Desktop\\\\PYTHON\"\u001b[0m\u001b[1;33m)\u001b[0m\u001b[1;33m\u001b[0m\u001b[1;33m\u001b[0m\u001b[0m\n\u001b[0m",
      "\u001b[1;32m~\\anaconda3\\lib\\os.py\u001b[0m in \u001b[0;36mfdopen\u001b[1;34m(fd, *args, **kwargs)\u001b[0m\n\u001b[0;32m   1019\u001b[0m \u001b[1;32mdef\u001b[0m \u001b[0mfdopen\u001b[0m\u001b[1;33m(\u001b[0m\u001b[0mfd\u001b[0m\u001b[1;33m,\u001b[0m \u001b[1;33m*\u001b[0m\u001b[0margs\u001b[0m\u001b[1;33m,\u001b[0m \u001b[1;33m**\u001b[0m\u001b[0mkwargs\u001b[0m\u001b[1;33m)\u001b[0m\u001b[1;33m:\u001b[0m\u001b[1;33m\u001b[0m\u001b[1;33m\u001b[0m\u001b[0m\n\u001b[0;32m   1020\u001b[0m     \u001b[1;32mif\u001b[0m \u001b[1;32mnot\u001b[0m \u001b[0misinstance\u001b[0m\u001b[1;33m(\u001b[0m\u001b[0mfd\u001b[0m\u001b[1;33m,\u001b[0m \u001b[0mint\u001b[0m\u001b[1;33m)\u001b[0m\u001b[1;33m:\u001b[0m\u001b[1;33m\u001b[0m\u001b[1;33m\u001b[0m\u001b[0m\n\u001b[1;32m-> 1021\u001b[1;33m         \u001b[1;32mraise\u001b[0m \u001b[0mTypeError\u001b[0m\u001b[1;33m(\u001b[0m\u001b[1;34m\"invalid fd type (%s, expected integer)\"\u001b[0m \u001b[1;33m%\u001b[0m \u001b[0mtype\u001b[0m\u001b[1;33m(\u001b[0m\u001b[0mfd\u001b[0m\u001b[1;33m)\u001b[0m\u001b[1;33m)\u001b[0m\u001b[1;33m\u001b[0m\u001b[1;33m\u001b[0m\u001b[0m\n\u001b[0m\u001b[0;32m   1022\u001b[0m     \u001b[1;32mimport\u001b[0m \u001b[0mio\u001b[0m\u001b[1;33m\u001b[0m\u001b[1;33m\u001b[0m\u001b[0m\n\u001b[0;32m   1023\u001b[0m     \u001b[1;32mreturn\u001b[0m \u001b[0mio\u001b[0m\u001b[1;33m.\u001b[0m\u001b[0mopen\u001b[0m\u001b[1;33m(\u001b[0m\u001b[0mfd\u001b[0m\u001b[1;33m,\u001b[0m \u001b[1;33m*\u001b[0m\u001b[0margs\u001b[0m\u001b[1;33m,\u001b[0m \u001b[1;33m**\u001b[0m\u001b[0mkwargs\u001b[0m\u001b[1;33m)\u001b[0m\u001b[1;33m\u001b[0m\u001b[1;33m\u001b[0m\u001b[0m\n",
      "\u001b[1;31mTypeError\u001b[0m: invalid fd type (<class 'str'>, expected integer)"
     ]
    }
   ],
   "source": [
    "os.fdopen(\"C:\\\\Users\\\\admin\\\\Desktop\\\\PYTHON\")\n"
   ]
  },
  {
   "cell_type": "code",
   "execution_count": 1,
   "id": "658375bd",
   "metadata": {},
   "outputs": [
    {
     "ename": "TypeError",
     "evalue": "fdopen() missing 1 required positional argument: 'fd'",
     "output_type": "error",
     "traceback": [
      "\u001b[1;31m---------------------------------------------------------------------------\u001b[0m",
      "\u001b[1;31mTypeError\u001b[0m                                 Traceback (most recent call last)",
      "\u001b[1;32m<ipython-input-1-5863b2274bcc>\u001b[0m in \u001b[0;36m<module>\u001b[1;34m\u001b[0m\n\u001b[0;32m      1\u001b[0m \u001b[1;32mimport\u001b[0m \u001b[0mos\u001b[0m\u001b[1;33m\u001b[0m\u001b[1;33m\u001b[0m\u001b[0m\n\u001b[1;32m----> 2\u001b[1;33m \u001b[0mos\u001b[0m\u001b[1;33m.\u001b[0m\u001b[0mfdopen\u001b[0m\u001b[1;33m(\u001b[0m\u001b[1;33m)\u001b[0m\u001b[1;33m\u001b[0m\u001b[1;33m\u001b[0m\u001b[0m\n\u001b[0m",
      "\u001b[1;31mTypeError\u001b[0m: fdopen() missing 1 required positional argument: 'fd'"
     ]
    }
   ],
   "source": [
    "import os\n",
    "os.fdopen()"
   ]
  }
 ],
 "metadata": {
  "kernelspec": {
   "display_name": "Python 3",
   "language": "python",
   "name": "python3"
  },
  "language_info": {
   "codemirror_mode": {
    "name": "ipython",
    "version": 3
   },
   "file_extension": ".py",
   "mimetype": "text/x-python",
   "name": "python",
   "nbconvert_exporter": "python",
   "pygments_lexer": "ipython3",
   "version": "3.8.8"
  }
 },
 "nbformat": 4,
 "nbformat_minor": 5
}

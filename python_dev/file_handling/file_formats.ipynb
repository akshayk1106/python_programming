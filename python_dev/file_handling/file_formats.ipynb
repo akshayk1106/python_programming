{
 "cells": [
  {
   "cell_type": "markdown",
   "id": "59fe48a3-fc96-4fa5-b7ce-3952ac482d9e",
   "metadata": {},
   "source": [
    "# <mark> File formats\n",
    "\n",
    "    csv tsv\n",
    "    yaml\n",
    "    json\n",
    "    xml\n",
    "    gitignore\n",
    "    docker"
   ]
  },
  {
   "cell_type": "markdown",
   "id": "a2993901-0a61-4522-9acd-2cb25d6cf891",
   "metadata": {},
   "source": [
    "### CSV file:\n",
    "A CSV is a comma-separated values file, which allows data to be saved in a tabular format. CSVs look like a garden-variety spreadsheet but with a .csv extension. A comma-separated values (CSV) file is **a delimited text file that uses a comma to separate values. Each line of the file is a data record. Each record consists of one or more fields, separated by commas.** The use of the comma as a field separator is the source of the name for this file format. A CSV file typically stores tabular data (numbers and text) in plain text, in which case each line will have the same number of fields.\n",
    "\n",
    "CSV files can be used with most any spreadsheet program, such as Microsoft Excel or Google Spreadsheets. They differ from other spreadsheet file types because you can only have a single sheet in a file, they can not save cell, column, or row. Also, you cannot not save formulas in this format.\n",
    "\n",
    "Why are .CSV files used?\n",
    "These files serve a number of different business purposes. They help companies export a high volume of data to a more concentrated database, for instance. They also serve two other primary business functions:\n",
    "\n",
    "    -CSV files are plain-text files, making them easier for the website developer to create\n",
    "    -Since they're plain text, they're easier to import into a spreadsheet or another storage database, regardless of the specific software you're using\n",
    "    -To better organize large amounts of data"
   ]
  },
  {
   "cell_type": "markdown",
   "id": "4f3e9a57-35d9-41bf-a78a-c37a22d66181",
   "metadata": {},
   "source": [
    "### JSON file: JavaScript Object Notation\n",
    "JSON (JavaScript Object Notation) is an open standard file format and **data interchange format that uses human-readable text to store and transmit data objects consisting of attribute–value pairs and arrays** (or other serializable values). It is a common data format with a diverse range of functionality in data interchange including communication of web applications with servers.\n",
    "\n",
    "JSON is a language-independent data format. It was derived from JavaScript, but many modern programming languages include code to generate and parse JSON-format data. JSON filenames use the extension .json.\n",
    "\n",
    "JavaScript Object Notation (JSON) is a standard text-based format for representing structured data based on JavaScript object syntax. It is **commonly used for transmitting data in web applications (e.g., sending some data from the server to the client, so it can be displayed on a web page, or vice versa)**."
   ]
  },
  {
   "cell_type": "markdown",
   "id": "4cea217d-3cf7-4ff9-a91b-d11af0b7626d",
   "metadata": {},
   "source": []
  }
 ],
 "metadata": {
  "kernelspec": {
   "display_name": "Python 3 (ipykernel)",
   "language": "python",
   "name": "python3"
  },
  "language_info": {
   "codemirror_mode": {
    "name": "ipython",
    "version": 3
   },
   "file_extension": ".py",
   "mimetype": "text/x-python",
   "name": "python",
   "nbconvert_exporter": "python",
   "pygments_lexer": "ipython3",
   "version": "3.9.13"
  }
 },
 "nbformat": 4,
 "nbformat_minor": 5
}

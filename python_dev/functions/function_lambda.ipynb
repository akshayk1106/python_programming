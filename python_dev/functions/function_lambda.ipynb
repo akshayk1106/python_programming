{
 "cells": [
  {
   "cell_type": "markdown",
   "id": "4c6dd0d5",
   "metadata": {},
   "source": [
    "# <mark> Anonymous/Lambda functions </mark>"
   ]
  },
  {
   "cell_type": "markdown",
   "id": "bd4f3cdf-64ac-4da2-8043-8e9183d9ead9",
   "metadata": {},
   "source": [
    "lambda arguments : expression\n",
    "    \n",
    "    A lambda function is a SMALL, ANONYMOUS function.\n",
    "    A function without name, one liner function.\n",
    "    A lambda function can take ANY NUMBER OF ARGUEMENTS, but can have ONLY ONE EXPRESSION.\n",
    "    Use lambda functions when an anonymous function is required for a short period of time.\n",
    "    In Python, an anonymous function is a function that is defined without a name.\n",
    "    While normal functions are defined using 'def' keyword, anonymous functions use 'lambda' keyword.\n",
    "    Hence, anonymous functions are also called lambda functions.\n",
    "    \n",
    "    x = lambda a, b : a * b\n",
    "    print(x(5, 6))\n",
    "    # here type(x) is function that needs to be called later like x(5,6)."
   ]
  },
  {
   "cell_type": "markdown",
   "id": "4168f0b3",
   "metadata": {},
   "source": [
    "### Use of lambda function in python\n",
    "    -as small one line function\n",
    "    -as key in Sorting\n",
    "    -Filter\n",
    "    -Map\n",
    "    -Reduce"
   ]
  },
  {
   "cell_type": "markdown",
   "id": "2584719a",
   "metadata": {},
   "source": [
    "## <mark> lambda as small function </mark>"
   ]
  },
  {
   "cell_type": "code",
   "execution_count": 2,
   "id": "5a848c69",
   "metadata": {
    "tags": []
   },
   "outputs": [
    {
     "name": "stdin",
     "output_type": "stream",
     "text": [
      "Number1:  4\n",
      "Number2:  9\n",
      "Number3:  10\n"
     ]
    },
    {
     "name": "stdout",
     "output_type": "stream",
     "text": [
      "<class 'function'>\n",
      "4 9 10\n",
      "213\n"
     ]
    }
   ],
   "source": [
    "a=int(input(\"Number1: \"))\n",
    "b=int(input(\"Number2: \"))\n",
    "c=int(input(\"Number3: \"))\n",
    "\n",
    "x=lambda a, b, c=300 : a+b+c\n",
    "\n",
    "print(type(x))\n",
    "print(a, b, c)\n",
    "print(x(a, b, c=200))\n",
    "\n",
    "# print(x(b,c,a=150))  #--> This gives error <lambda>() got multiple values for argument 'a'"
   ]
  },
  {
   "cell_type": "code",
   "execution_count": 5,
   "id": "09ad6512",
   "metadata": {},
   "outputs": [
    {
     "data": {
      "text/plain": [
       "'Coder Mania'"
      ]
     },
     "execution_count": 5,
     "metadata": {},
     "output_type": "execute_result"
    }
   ],
   "source": [
    "# to strip full name\n",
    "\n",
    "full_name = lambda first, last : first.strip().title() + \" \" + last.strip().title()\n",
    "full_name(\"  coder\",\"mania   \")"
   ]
  },
  {
   "cell_type": "code",
   "execution_count": 6,
   "id": "a80c2ac6",
   "metadata": {},
   "outputs": [
    {
     "data": {
      "text/plain": [
       "'Even'"
      ]
     },
     "execution_count": 6,
     "metadata": {},
     "output_type": "execute_result"
    }
   ],
   "source": [
    "# check even number\n",
    "\n",
    "even= lambda n: \"Even\" if n%2==0 else \"Odd\"\n",
    "even(20000)"
   ]
  },
  {
   "cell_type": "code",
   "execution_count": 11,
   "id": "2defb75a",
   "metadata": {},
   "outputs": [
    {
     "name": "stdout",
     "output_type": "stream",
     "text": [
      "59\n"
     ]
    }
   ],
   "source": [
    "def quad(a, b, c):\n",
    "    return lambda x: a*x**2 + b*x + c\n",
    "\n",
    "f=quad(1, 10, 3)\n",
    "\n",
    "print(f(4))"
   ]
  },
  {
   "cell_type": "code",
   "execution_count": 10,
   "id": "a5e3734d",
   "metadata": {},
   "outputs": [
    {
     "name": "stdout",
     "output_type": "stream",
     "text": [
      "61\n"
     ]
    }
   ],
   "source": [
    "def quad(a, b, c):\n",
    "    m = lambda x: a*x**2+b*x+c\n",
    "    return m\n",
    "\n",
    "f=quad(1, 10, 5)(4)\n",
    "print(f)"
   ]
  },
  {
   "cell_type": "markdown",
   "id": "f08c2292",
   "metadata": {},
   "source": [
    "## <mark> lambda in sorting as key in .sort() and sorted() </mark>"
   ]
  },
  {
   "cell_type": "code",
   "execution_count": 4,
   "id": "1392aafa",
   "metadata": {},
   "outputs": [
    {
     "data": {
      "text/plain": [
       "'virat'"
      ]
     },
     "execution_count": 4,
     "metadata": {},
     "output_type": "execute_result"
    }
   ],
   "source": [
    "a=\"ViraT kohli\"\n",
    "a.split(\" \")[0].lower()"
   ]
  },
  {
   "cell_type": "code",
   "execution_count": 1,
   "id": "2eceb5dc",
   "metadata": {},
   "outputs": [
    {
     "data": {
      "text/plain": [
       "['KL rahul', 'Virat kohliiiiii', 'Zaheer khan', 'Yuvrajjjjjjjj singh']"
      ]
     },
     "execution_count": 1,
     "metadata": {},
     "output_type": "execute_result"
    }
   ],
   "source": [
    "name=[\"Virat kohliiiiii\",\"Yuvrajjjjjjjj singh\",\"KL rahul\",\"Zaheer khan\"]\n",
    "\n",
    "name.sort(key=lambda x:len(x.split(\" \")[0]))\n",
    "name\n",
    "#If a key function is given, apply it once to each list item and sort them,\n",
    "#ascending or descending, according to their function values."
   ]
  },
  {
   "cell_type": "code",
   "execution_count": 87,
   "id": "f14f5959",
   "metadata": {},
   "outputs": [
    {
     "data": {
      "text/plain": [
       "['Zaheer khan', 'Yuvrajjjjjjjj singh', 'KL rahul', 'Viratk kohliiiiii']"
      ]
     },
     "execution_count": 87,
     "metadata": {},
     "output_type": "execute_result"
    }
   ],
   "source": [
    "name=[\"Viratk kohliiiiii\",\"Yuvrajjjjjjjj singh\",\"KL rahul\",\"Zaheer khan\"]\n",
    "\n",
    "name.sort(key=lambda x:len(x.split(\" \")[1].title()))\n",
    "name"
   ]
  },
  {
   "cell_type": "code",
   "execution_count": 5,
   "id": "c0d9671c",
   "metadata": {},
   "outputs": [
    {
     "name": "stdout",
     "output_type": "stream",
     "text": [
      "[('abd', 99), ('rahul', 100), ('zaheer', 55), ('dk', 23)]\n",
      "[('dk', 23), ('abd', 99), ('rahul', 100), ('zaheer', 55)]\n",
      "[('dk', 23), ('zaheer', 55), ('abd', 99), ('rahul', 100)]\n"
     ]
    }
   ],
   "source": [
    "cricket_scores=[(\"abd\",99),( \"rahul\",100), (\"zaheer\",55),(\"dk\",23)]\n",
    "\n",
    "print(cricket_scores)\n",
    "\n",
    "cricket_scores.sort(key=lambda x:len(x[0]))\n",
    "\n",
    "print(cricket_scores)\n",
    "\n",
    "cricket_scores.sort(key=lambda x:x[1])\n",
    "\n",
    "print(cricket_scores)"
   ]
  },
  {
   "cell_type": "code",
   "execution_count": 16,
   "id": "8c1793c3",
   "metadata": {},
   "outputs": [
    {
     "data": {
      "text/plain": [
       "[{'name': 'Amruta', 'marks': 21},\n",
       " {'name': 'Amruta', 'marks': 20},\n",
       " {'name': 'kamal', 'marks': 18},\n",
       " {'name': 'prashant', 'marks': 18}]"
      ]
     },
     "execution_count": 16,
     "metadata": {},
     "output_type": "execute_result"
    }
   ],
   "source": [
    "marks=[{\"name\":\"kamal\", \"marks\":18},{\"name\":\"prashant\", \"marks\":18},{\"name\":\"Amruta\", \"marks\":21},{\"name\":\"Amruta\", \"marks\":20}]\n",
    "\n",
    "marks.sort(key= lambda x:x[\"name\"])\n",
    "marks"
   ]
  },
  {
   "cell_type": "code",
   "execution_count": 17,
   "id": "c8b8bea1",
   "metadata": {},
   "outputs": [
    {
     "data": {
      "text/plain": [
       "[{'name': 'Amruta', 'marks': 20},\n",
       " {'name': 'Amruta', 'marks': 21},\n",
       " {'name': 'kamal', 'marks': 18},\n",
       " {'name': 'prashant', 'marks': 18}]"
      ]
     },
     "execution_count": 17,
     "metadata": {},
     "output_type": "execute_result"
    }
   ],
   "source": [
    "marks.sort(key= lambda x:(x[\"name\"],x[\"marks\"]))\n",
    "marks"
   ]
  },
  {
   "cell_type": "markdown",
   "id": "7e151551",
   "metadata": {},
   "source": [
    "## <mark> filter(function,iterable) </mark>\n",
    "\n",
    "    filter(function or None, iterable) --> filter object\n",
    "    \n",
    "    -This is used when we want to filter some elements of list using some condition. \n",
    "\n",
    "    -The returned list will give elements which are true for that condition.\n",
    "\n",
    "    -this needs to be packed using type casting"
   ]
  },
  {
   "cell_type": "code",
   "execution_count": 30,
   "id": "f4993f05-293a-4ab7-81dc-6fe6762113b5",
   "metadata": {},
   "outputs": [
    {
     "name": "stdout",
     "output_type": "stream",
     "text": [
      "Help on class filter in module builtins:\n",
      "\n",
      "class filter(object)\n",
      " |  filter(function or None, iterable) --> filter object\n",
      " |  \n",
      " |  Return an iterator yielding those items of iterable for which function(item)\n",
      " |  is true. If function is None, return the items that are true.\n",
      " |  \n",
      " |  Methods defined here:\n",
      " |  \n",
      " |  __getattribute__(self, name, /)\n",
      " |      Return getattr(self, name).\n",
      " |  \n",
      " |  __iter__(self, /)\n",
      " |      Implement iter(self).\n",
      " |  \n",
      " |  __next__(self, /)\n",
      " |      Implement next(self).\n",
      " |  \n",
      " |  __reduce__(...)\n",
      " |      Return state information for pickling.\n",
      " |  \n",
      " |  ----------------------------------------------------------------------\n",
      " |  Static methods defined here:\n",
      " |  \n",
      " |  __new__(*args, **kwargs) from builtins.type\n",
      " |      Create and return a new object.  See help(type) for accurate signature.\n",
      "\n"
     ]
    }
   ],
   "source": [
    "help(filter)"
   ]
  },
  {
   "cell_type": "code",
   "execution_count": 16,
   "id": "cd92af16",
   "metadata": {},
   "outputs": [
    {
     "data": {
      "text/plain": [
       "(1, 3, 5, 7, 9)"
      ]
     },
     "execution_count": 16,
     "metadata": {},
     "output_type": "execute_result"
    }
   ],
   "source": [
    "my_list=[1,2,3,4,5,6,7,8,9,10]\n",
    "\n",
    "tuple(filter(lambda x: x%2!=0, my_list))"
   ]
  },
  {
   "cell_type": "code",
   "execution_count": 29,
   "id": "2e1637d4",
   "metadata": {
    "tags": []
   },
   "outputs": [
    {
     "name": "stdout",
     "output_type": "stream",
     "text": [
      "28.571428571428573\n"
     ]
    },
    {
     "data": {
      "text/plain": [
       "(10, 20, 20)"
      ]
     },
     "execution_count": 29,
     "metadata": {},
     "output_type": "execute_result"
    }
   ],
   "source": [
    "data=[10,20,30,40,20,30,50]\n",
    "avg=sum(data)/len(data)\n",
    "print(avg)\n",
    "\n",
    "tuple(filter(lambda x: x<avg, data))"
   ]
  },
  {
   "cell_type": "code",
   "execution_count": 28,
   "id": "f59cb770",
   "metadata": {},
   "outputs": [
    {
     "name": "stdout",
     "output_type": "stream",
     "text": [
      "[' ', 5, 6, 9, (1, 2, 4), 'ak']\n",
      "[' ', 5, 6, 9, {}, (), (1, 2, 4), 'ak']\n",
      "[' ', 5, 6, 9, {}, (), (1, 2, 4), 'ak']\n"
     ]
    }
   ],
   "source": [
    "#  Removing missing data using filter\n",
    "#  \" \",0,0.0,0j,{},[],(),False,None\n",
    "\n",
    "main_data=[\" \",0,0.0,5,6,9,0j,{},[],(),False,None,(1,2,4),\"ak\"]\n",
    "\n",
    "print(list(filter(None, main_data)))\n",
    "print(list(filter(lambda x: x not in (0, [], None), main_data)))\n",
    "print(list(filter(lambda x: x not in (0, [], None, False), main_data)))"
   ]
  },
  {
   "cell_type": "markdown",
   "id": "97c5b0d4",
   "metadata": {},
   "source": [
    "## <mark> map(function,iterable) </mark>\n",
    "-map() function returns a map object(which is an iterator) of the results after applying the given function to each item of a given iterable (list, tuple etc.)\n",
    "\n",
    "-Returns a list of the results after applying the given function  \n",
    "to each item of a given iterable (list, tuple etc.) "
   ]
  },
  {
   "cell_type": "code",
   "execution_count": 31,
   "id": "9cbe69aa-e85e-4bdb-ab58-0b7df42959a5",
   "metadata": {},
   "outputs": [
    {
     "name": "stdout",
     "output_type": "stream",
     "text": [
      "Help on class map in module builtins:\n",
      "\n",
      "class map(object)\n",
      " |  map(func, *iterables) --> map object\n",
      " |  \n",
      " |  Make an iterator that computes the function using arguments from\n",
      " |  each of the iterables.  Stops when the shortest iterable is exhausted.\n",
      " |  \n",
      " |  Methods defined here:\n",
      " |  \n",
      " |  __getattribute__(self, name, /)\n",
      " |      Return getattr(self, name).\n",
      " |  \n",
      " |  __iter__(self, /)\n",
      " |      Implement iter(self).\n",
      " |  \n",
      " |  __next__(self, /)\n",
      " |      Implement next(self).\n",
      " |  \n",
      " |  __reduce__(...)\n",
      " |      Return state information for pickling.\n",
      " |  \n",
      " |  ----------------------------------------------------------------------\n",
      " |  Static methods defined here:\n",
      " |  \n",
      " |  __new__(*args, **kwargs) from builtins.type\n",
      " |      Create and return a new object.  See help(type) for accurate signature.\n",
      "\n"
     ]
    }
   ],
   "source": [
    "help(map)"
   ]
  },
  {
   "cell_type": "code",
   "execution_count": 33,
   "id": "6fdbb911",
   "metadata": {},
   "outputs": [
    {
     "data": {
      "text/plain": [
       "[1, 4, 9, 16, 25]"
      ]
     },
     "execution_count": 33,
     "metadata": {},
     "output_type": "execute_result"
    }
   ],
   "source": [
    "my_list = (1,2,3,4,5)\n",
    "\n",
    "list(map(lambda x: x**2, my_list))"
   ]
  },
  {
   "cell_type": "code",
   "execution_count": 34,
   "id": "30162b80",
   "metadata": {
    "tags": []
   },
   "outputs": [
    {
     "name": "stdout",
     "output_type": "stream",
     "text": [
      "even\n"
     ]
    },
    {
     "data": {
      "text/plain": [
       "['odd', 'even', 'odd', 'even', 'odd']"
      ]
     },
     "execution_count": 34,
     "metadata": {},
     "output_type": "execute_result"
    }
   ],
   "source": [
    "def even_odd(n):\n",
    "    if n%2==0:\n",
    "        return \"even\"\n",
    "    else:\n",
    "        return \"odd\"\n",
    "    \n",
    "print(even_odd(10))\n",
    "\n",
    "b=[1, 4, 9, 16, 25]\n",
    "\n",
    "list(map(even_odd,b))"
   ]
  },
  {
   "cell_type": "code",
   "execution_count": 35,
   "id": "367700f0",
   "metadata": {},
   "outputs": [
    {
     "data": {
      "text/plain": [
       "[False, True, False, True, False]"
      ]
     },
     "execution_count": 35,
     "metadata": {},
     "output_type": "execute_result"
    }
   ],
   "source": [
    "b=[1, 4, 9, 16, 25]\n",
    "\n",
    "list(map(lambda x: x%2==0 , b))"
   ]
  },
  {
   "cell_type": "code",
   "execution_count": 2,
   "id": "1dd50963",
   "metadata": {},
   "outputs": [
    {
     "data": {
      "text/plain": [
       "[{86.0, 'delhi'}, {95.0, 'mumbai'}, {98.6, 'chennai'}]"
      ]
     },
     "execution_count": 2,
     "metadata": {},
     "output_type": "execute_result"
    }
   ],
   "source": [
    "temp=[(\"delhi\", 30),(\"mumbai\", 35),(\"chennai\", 37)]\n",
    "\n",
    "c_to_f = lambda x: {x[0], (x[1]*9/5+32)}\n",
    "\n",
    "list(map(c_to_f, temp))"
   ]
  },
  {
   "cell_type": "code",
   "execution_count": 3,
   "id": "943b8531-dd7d-4bb3-9e81-671473f854c2",
   "metadata": {},
   "outputs": [
    {
     "data": {
      "text/plain": [
       "{'A': dict_keys(['a', 'b', 'c']),\n",
       " 'B': dict_keys(['a', 'b', 'c']),\n",
       " 'C': dict_keys(['a', 'b', 'c'])}"
      ]
     },
     "execution_count": 3,
     "metadata": {},
     "output_type": "execute_result"
    }
   ],
   "source": [
    "# to make keys as value and vis a vis\n",
    "d = {'a':'A', 'b':'B', 'c':'C'}\n",
    "\n",
    "x = dict.fromkeys(d.values(), d.keys())\n",
    "x"
   ]
  },
  {
   "cell_type": "markdown",
   "id": "37bef1d8",
   "metadata": {},
   "source": [
    "## <mark> Reduce </mark>"
   ]
  },
  {
   "cell_type": "code",
   "execution_count": 40,
   "id": "1e240a08-8e11-4c0c-8d4d-9e2761bbecf4",
   "metadata": {},
   "outputs": [
    {
     "name": "stdout",
     "output_type": "stream",
     "text": [
      "Help on built-in function reduce in module _functools:\n",
      "\n",
      "reduce(...)\n",
      "    reduce(function, sequence[, initial]) -> value\n",
      "    \n",
      "    Apply a function of two arguments cumulatively to the items of a sequence,\n",
      "    from left to right, so as to reduce the sequence to a single value.\n",
      "    For example, reduce(lambda x, y: x+y, [1, 2, 3, 4, 5]) calculates\n",
      "    ((((1+2)+3)+4)+5).  If initial is present, it is placed before the items\n",
      "    of the sequence in the calculation, and serves as a default when the\n",
      "    sequence is empty.\n",
      "\n"
     ]
    }
   ],
   "source": [
    "from functools import reduce\n",
    "\n",
    "help(reduce)"
   ]
  },
  {
   "cell_type": "code",
   "execution_count": 41,
   "id": "680b14fd",
   "metadata": {},
   "outputs": [
    {
     "data": {
      "text/plain": [
       "120"
      ]
     },
     "execution_count": 41,
     "metadata": {},
     "output_type": "execute_result"
    }
   ],
   "source": [
    "from functools import reduce\n",
    "\n",
    "data=[1, 2, 3, 4, 5]\n",
    "\n",
    "reduce(lambda x,y:x*y, data)"
   ]
  },
  {
   "cell_type": "markdown",
   "id": "e5a75988-06d2-43f6-95cb-66a4a51cc6db",
   "metadata": {},
   "source": [
    "#### factorial programme"
   ]
  },
  {
   "cell_type": "code",
   "execution_count": 49,
   "id": "5e8577f8",
   "metadata": {},
   "outputs": [
    {
     "name": "stdin",
     "output_type": "stream",
     "text": [
      "Enter number:  5\n"
     ]
    },
    {
     "name": "stdout",
     "output_type": "stream",
     "text": [
      "factorial is:  120\n"
     ]
    }
   ],
   "source": [
    "# finding factorial using lambda, reduce\n",
    "\n",
    "from functools import reduce\n",
    "n=int(input(\"Enter number: \"))\n",
    "numbers=list(range(1, n+1))\n",
    "\n",
    "fact = reduce(lambda x, y: x*y, numbers)\n",
    "print(\"factorial is: \", fact)"
   ]
  },
  {
   "cell_type": "code",
   "execution_count": 50,
   "id": "3b087865",
   "metadata": {},
   "outputs": [
    {
     "name": "stdin",
     "output_type": "stream",
     "text": [
      "Enter number:  5\n"
     ]
    },
    {
     "name": "stdout",
     "output_type": "stream",
     "text": [
      "120\n"
     ]
    }
   ],
   "source": [
    "# finding factorial using for loop\n",
    "\n",
    "n=int(input(\"Enter number: \"))\n",
    "facto = 1\n",
    "for i in range(1, n+1):\n",
    "    facto *= i\n",
    "print(facto)"
   ]
  },
  {
   "cell_type": "code",
   "execution_count": 48,
   "id": "ad900f43-fab9-4ec3-9ee3-1fcdaea5678d",
   "metadata": {},
   "outputs": [
    {
     "name": "stdin",
     "output_type": "stream",
     "text": [
      "Enter number:  5\n"
     ]
    },
    {
     "name": "stdout",
     "output_type": "stream",
     "text": [
      "120\n"
     ]
    }
   ],
   "source": [
    "# finding factorial using while loop\n",
    "\n",
    "n=int(input(\"Enter number: \"))\n",
    "factorial = 1\n",
    "i = 1\n",
    "while i<=n:\n",
    "    factorial = factorial * i\n",
    "    i += 1\n",
    "print(factorial)"
   ]
  },
  {
   "cell_type": "code",
   "execution_count": 4,
   "id": "34ca0e83-a3b6-44d0-9b41-8e242e68fe80",
   "metadata": {},
   "outputs": [],
   "source": [
    "# finding factorial using recursion\n",
    "\n",
    "def recur_factorial(n):\n",
    "    if n == 1:\n",
    "        return n\n",
    "    else:\n",
    "        return n*recur_factorial(n-1)"
   ]
  },
  {
   "cell_type": "code",
   "execution_count": null,
   "id": "3de21024-408e-4713-b033-3d80ae5c7dce",
   "metadata": {},
   "outputs": [],
   "source": []
  }
 ],
 "metadata": {
  "kernelspec": {
   "display_name": "Python 3 (ipykernel)",
   "language": "python",
   "name": "python3"
  },
  "language_info": {
   "codemirror_mode": {
    "name": "ipython",
    "version": 3
   },
   "file_extension": ".py",
   "mimetype": "text/x-python",
   "name": "python",
   "nbconvert_exporter": "python",
   "pygments_lexer": "ipython3",
   "version": "3.9.13"
  }
 },
 "nbformat": 4,
 "nbformat_minor": 5
}

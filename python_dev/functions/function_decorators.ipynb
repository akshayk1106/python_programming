{
 "cells": [
  {
   "cell_type": "markdown",
   "id": "c1ff8c60",
   "metadata": {},
   "source": [
    "# <mark>DECORATORS"
   ]
  },
  {
   "cell_type": "markdown",
   "id": "ad8c3ade",
   "metadata": {},
   "source": [
    "## In Python, functions are first class objects\n",
    "\n",
    "Properties of first class functions:\n",
    "    \n",
    "    First claas objects: functions in Python **can be used or passed as arguments.**\n",
    "    A function is an instance of the Object type.\n",
    "    You can store the function in a variable.\n",
    "    You can pass the function as a parameter to another function.\n",
    "    You can return the function from a function.\n",
    "    You can store them in data structures such as hash tables, lists, …"
   ]
  },
  {
   "cell_type": "code",
   "execution_count": 18,
   "id": "5a80094c",
   "metadata": {},
   "outputs": [
    {
     "name": "stdout",
     "output_type": "stream",
     "text": [
      "HELLO\n",
      "HELLO\n"
     ]
    }
   ],
   "source": [
    "\"\"\"\n",
    "Python program to illustrate functions can be treated as objects: \n",
    "We have assigned the function shout to a variable. \n",
    "This will not call the function instead it takes the function object referenced by a shout and \n",
    "creates a second name pointing to it, yell.\n",
    "\"\"\"\n",
    "def shout(text):\n",
    "    return text.upper()\n",
    "\n",
    "print(shout('Hello'))\n",
    "\n",
    "yell = shout\n",
    "\n",
    "print(yell('Hello'))"
   ]
  },
  {
   "cell_type": "code",
   "execution_count": 1,
   "id": "6c853867",
   "metadata": {},
   "outputs": [
    {
     "name": "stdout",
     "output_type": "stream",
     "text": [
      "HI, I AM CREATED BY A FUNCTION PASSED AS AN ARGUMENT.\n",
      "hi, i am created by a function passed as an argument.\n"
     ]
    }
   ],
   "source": [
    "# Python program to illustrate functions can be passed as arguments to other functions\n",
    "def shout(text):\n",
    "    return text.upper()\n",
    "\n",
    "def whisper(text):\n",
    "    return text.lower()\n",
    "\n",
    "def greet(func):\n",
    "    # storing the function in a variable\n",
    "    greeting = func(\"\"\"Hi, I am created by a function passed as an argument.\"\"\")\n",
    "    print (greeting)\n",
    "\n",
    "greet(shout)\n",
    "greet(whisper)"
   ]
  },
  {
   "cell_type": "code",
   "execution_count": 25,
   "id": "10149efc",
   "metadata": {},
   "outputs": [
    {
     "name": "stdout",
     "output_type": "stream",
     "text": [
      "python\n",
      "<function printing at 0x0000003A358A4820>\n",
      "None\n",
      "<function adding at 0x0000003A358A4790>\n",
      "6\n",
      "200\n"
     ]
    }
   ],
   "source": [
    "def printing():\n",
    "    print('python')\n",
    "    \n",
    "def adding(x):\n",
    "    return x+x\n",
    "\n",
    "d = printing\n",
    "e = printing()\n",
    "f = adding\n",
    "g = adding(3)\n",
    "\n",
    "print(d)\n",
    "print(e)\n",
    "print(f)\n",
    "print(g)\n",
    "print(f(100))"
   ]
  },
  {
   "cell_type": "code",
   "execution_count": 2,
   "id": "f51fdc65",
   "metadata": {},
   "outputs": [
    {
     "name": "stdout",
     "output_type": "stream",
     "text": [
      "<function create_adder.<locals>.adder at 0x000002311F1A9700>\n",
      "25\n"
     ]
    }
   ],
   "source": [
    "# Functions can return another function\n",
    "\n",
    "def create_adder(x):\n",
    "    def adder(y):\n",
    "        return x+y\n",
    "    return adder\n",
    "\n",
    "add_15 = create_adder(15)\n",
    "print(add_15)\n",
    "print(add_15(10))"
   ]
  },
  {
   "cell_type": "code",
   "execution_count": 5,
   "id": "3c8891b1",
   "metadata": {},
   "outputs": [
    {
     "data": {
      "text/plain": [
       "77"
      ]
     },
     "execution_count": 5,
     "metadata": {},
     "output_type": "execute_result"
    }
   ],
   "source": [
    "add_22_55 = create_adder(22)(55)\n",
    "add_22_55"
   ]
  },
  {
   "cell_type": "markdown",
   "id": "a7894e59",
   "metadata": {},
   "source": [
    "## Python has an interesting feature called decorators to add functionality to an existing code.\n",
    "\n",
    "This is also called metaprogramming because a part of the program tries to modify another part of the program at compile time.\n",
    "\n",
    "Everything in Python (Yes! Even classes), are objects. Names that we define are simply identifiers bound to these objects. Functions are no exceptions, they are objects too (with attributes). Various different names can be bound to the same function object.\n",
    "\n",
    "To modify the behaviour of a function or class.\n",
    "\n",
    "**Decorators allow us to wrap another function in order to extend the behaviour of the wrapped function, without permanently modifying it.**\n",
    "\n",
    "Functions can be passed as arguments to another function.\n",
    "\n",
    "Ex. Functions like map, filter, reduce take another function as an arguement"
   ]
  },
  {
   "cell_type": "code",
   "execution_count": 6,
   "id": "9562c0bb",
   "metadata": {},
   "outputs": [
    {
     "name": "stdout",
     "output_type": "stream",
     "text": [
      "Hello\n",
      "Hello\n"
     ]
    }
   ],
   "source": [
    "def first(msg):\n",
    "    print(msg)\n",
    "\n",
    "\n",
    "first(\"Hello\")\n",
    "\n",
    "second = first\n",
    "second(\"Hello\")"
   ]
  },
  {
   "cell_type": "code",
   "execution_count": 2,
   "id": "4bf97989",
   "metadata": {},
   "outputs": [],
   "source": [
    "def inc(x):\n",
    "    return x + 1\n",
    "\n",
    "\n",
    "def dec(x):\n",
    "    return x - 1\n",
    "\n",
    "\n",
    "def operate(func, x):\n",
    "    result = func(x)\n",
    "    return result"
   ]
  },
  {
   "cell_type": "markdown",
   "id": "ffee6ecb",
   "metadata": {},
   "source": [
    "A function can return another function.\n",
    "\n",
    "In below code: is_returned() is a nested function which is defined and returned each time we call is_called()"
   ]
  },
  {
   "cell_type": "code",
   "execution_count": 8,
   "id": "839a8282",
   "metadata": {},
   "outputs": [
    {
     "name": "stdout",
     "output_type": "stream",
     "text": [
      "Hello\n"
     ]
    }
   ],
   "source": [
    "def is_called():\n",
    "    def is_returned():\n",
    "        print(\"Hello\")\n",
    "    return is_returned\n",
    "\n",
    "\n",
    "new = is_called()\n",
    "\n",
    "# Outputs \"Hello\"\n",
    "new()"
   ]
  },
  {
   "cell_type": "code",
   "execution_count": 9,
   "id": "e9f5bb13-ccf1-47c1-8152-c7b0c440127d",
   "metadata": {},
   "outputs": [
    {
     "name": "stdout",
     "output_type": "stream",
     "text": [
      "Hello\n"
     ]
    }
   ],
   "source": [
    "called_twice = is_called()()\n",
    "called_twice"
   ]
  },
  {
   "cell_type": "markdown",
   "id": "d03654f3",
   "metadata": {},
   "source": [
    "#### Functions and methods are called callable as they can be called.\n",
    "\n",
    "    A decorator is a callable that returns a callable.\n",
    "    Basically, a decorator takes in a function, adds some functionality and returns it.\n",
    "    The decorator acts as a wrapper. The nature of the object that got decorated (actual gift inside) does not alter."
   ]
  },
  {
   "cell_type": "code",
   "execution_count": 23,
   "id": "2b83731b",
   "metadata": {},
   "outputs": [],
   "source": [
    "def make_pretty(func):\n",
    "    def inner():\n",
    "        print(\"Starting decoration *****\")\n",
    "        func()\n",
    "        print(\"***** Ending decoration\")\n",
    "    return inner\n",
    "\n",
    "\n",
    "def ordinary():\n",
    "    print(\"I am ordinary\")"
   ]
  },
  {
   "cell_type": "code",
   "execution_count": 24,
   "id": "6738e710",
   "metadata": {},
   "outputs": [
    {
     "name": "stdout",
     "output_type": "stream",
     "text": [
      "Starting decoration *****\n",
      "I am ordinary\n",
      "***** Ending decoration\n"
     ]
    }
   ],
   "source": [
    "# 1. method one of passing a function as an arguemeent to another function\n",
    "ordinary = make_pretty(ordinary)\n",
    "ordinary()"
   ]
  },
  {
   "cell_type": "code",
   "execution_count": 25,
   "id": "5783a1b3",
   "metadata": {},
   "outputs": [
    {
     "name": "stdout",
     "output_type": "stream",
     "text": [
      "Starting decoration *****\n",
      "I am ordinary\n",
      "***** Ending decoration\n"
     ]
    }
   ],
   "source": [
    "# 2. Instead of above cell we can use @ to make the code more cleaner\n",
    "@make_pretty\n",
    "def ordinary():\n",
    "    print(\"I am ordinary\")\n",
    "    \n",
    "ordinary()"
   ]
  },
  {
   "cell_type": "code",
   "execution_count": null,
   "id": "095e87f1-b38f-4231-a214-3b0b02984a79",
   "metadata": {},
   "outputs": [],
   "source": []
  },
  {
   "attachments": {
    "decorators_step.png": {
     "image/png": "[encoded data removed]"
    }
   },
   "cell_type": "markdown",
   "id": "90c12c22",
   "metadata": {},
   "source": [
    "![decorators_step.png](attachment:decorators_step.png)"
   ]
  },
  {
   "attachments": {
    "decorators_step2.png": {
     "image/png": "[encoded data removed]"
    }
   },
   "cell_type": "markdown",
   "id": "d9492644",
   "metadata": {},
   "source": [
    "![decorators_step2.png](attachment:decorators_step2.png)"
   ]
  },
  {
   "cell_type": "markdown",
   "id": "bc720c16",
   "metadata": {},
   "source": [
    "## <mark> Decorating Functions with Parameters\n",
    "\n",
    "**The parameters of the nested inner() function inside the decorator is the same as the parameters of functions it decorates.**\n",
    "\n",
    "**We can make general decorators that work with any number of parameters using function(args, kwargs)**\n",
    "\n",
    "The inner function takes the argument as * args and ** kwargs which means that a tuple of positional arguments or a dictionary of keyword arguments can be passed of any length. This makes it a general decorator that can decorate a function having any number of arguments."
   ]
  },
  {
   "cell_type": "raw",
   "id": "07234fbe-d0d5-40a7-83c6-56034dd9e514",
   "metadata": {},
   "source": [
    "def divide(a, b):\n",
    "    return a/b\n",
    "divide(2,0)\n",
    "\n",
    "# Notice the ZeroDivisionError error,\n",
    "# we can get rid of the error message by using a decorator"
   ]
  },
  {
   "cell_type": "code",
   "execution_count": 33,
   "id": "461e7fe5-d69f-4611-9c02-06627d70fd12",
   "metadata": {},
   "outputs": [
    {
     "name": "stdout",
     "output_type": "stream",
     "text": [
      "Can not divie by zero\n",
      "0.125\n"
     ]
    }
   ],
   "source": [
    "def smart_divide(func):\n",
    "    def inner(a, b):\n",
    "        if b==0:\n",
    "            print('Can not divie by zero')\n",
    "        else:\n",
    "            return func(a, b)\n",
    "    return inner\n",
    "\n",
    "@smart_divide\n",
    "def divide(a, b):\n",
    "    print(a/b)\n",
    "\n",
    "divide(1, 0)\n",
    "divide(1, 8)"
   ]
  },
  {
   "cell_type": "code",
   "execution_count": 34,
   "id": "d53823d8",
   "metadata": {},
   "outputs": [],
   "source": [
    "# general wraaper function that can work with any number of parameters\n",
    "def works_for_all(func):\n",
    "    def inner(*args, **kwargs):\n",
    "        print(\"I can decorate any function\")\n",
    "        return func(*args, **kwargs)\n",
    "    return inner\n",
    "\n",
    "\n",
    "@works_for_all\n",
    "def divide(a, b):\n",
    "    print(a/b)"
   ]
  },
  {
   "cell_type": "code",
   "execution_count": 51,
   "id": "56de0b0d-c9b6-4fed-9d23-6fcd931a378c",
   "metadata": {},
   "outputs": [
    {
     "name": "stdout",
     "output_type": "stream",
     "text": [
      "Before function call\n",
      "Hello--> MaxMaxMaxMaxMaxMaxMaxMaxMaxMax\n",
      "After function call\n"
     ]
    }
   ],
   "source": [
    "# the arguement passed to main function can be altered inside the wrapper function\n",
    "def decorate_it(func):\n",
    "    def wrapper(x):\n",
    "        print(\"Before function call\")\n",
    "        x = x*10\n",
    "        func(x)\n",
    "        print(\"After function call\")\n",
    "    return wrapper\n",
    "\n",
    "@decorate_it\n",
    "def hello(name):\n",
    "    print(\"Hello-->\", name)\n",
    "\n",
    "hello(\"Max\")"
   ]
  },
  {
   "cell_type": "code",
   "execution_count": null,
   "id": "bfe5e974-adff-4257-8b67-25114aba7370",
   "metadata": {},
   "outputs": [],
   "source": []
  },
  {
   "cell_type": "markdown",
   "id": "1a2d198b",
   "metadata": {},
   "source": [
    "## <mark> Chaining Decorators in Python\n",
    "\n",
    "    Multiple decorators can be chained in Python.\n",
    "    A function can be decorated multiple times with different (or same) decorators.\n",
    "    The order followed is bottom-up approach"
   ]
  },
  {
   "cell_type": "code",
   "execution_count": 3,
   "id": "4ab1c492",
   "metadata": {},
   "outputs": [
    {
     "ename": "TypeError",
     "evalue": "stars_decorator() missing 1 required positional argument: 'func'",
     "output_type": "error",
     "traceback": [
      "\u001b[1;31m---------------------------------------------------------------------------\u001b[0m",
      "\u001b[1;31mTypeError\u001b[0m                                 Traceback (most recent call last)",
      "\u001b[1;32m~\\AppData\\Local\\Temp\\ipykernel_13840\\3891973626.py\u001b[0m in \u001b[0;36m<module>\u001b[1;34m\u001b[0m\n\u001b[0;32m     16\u001b[0m \u001b[1;33m\u001b[0m\u001b[0m\n\u001b[0;32m     17\u001b[0m \u001b[1;33m\u001b[0m\u001b[0m\n\u001b[1;32m---> 18\u001b[1;33m \u001b[1;33m@\u001b[0m\u001b[0mstars_decorator\u001b[0m\u001b[1;33m(\u001b[0m\u001b[0mfinally_say\u001b[0m\u001b[1;33m=\u001b[0m\u001b[1;34m'Congratulations, its done!'\u001b[0m\u001b[1;33m)\u001b[0m\u001b[1;33m\u001b[0m\u001b[1;33m\u001b[0m\u001b[0m\n\u001b[0m\u001b[0;32m     19\u001b[0m \u001b[1;33m@\u001b[0m\u001b[0mdot_decorator\u001b[0m\u001b[1;33m\u001b[0m\u001b[1;33m\u001b[0m\u001b[0m\n\u001b[0;32m     20\u001b[0m \u001b[1;32mdef\u001b[0m \u001b[0mprint_and_decorate\u001b[0m\u001b[1;33m(\u001b[0m\u001b[1;33m**\u001b[0m\u001b[0mmsg\u001b[0m\u001b[1;33m)\u001b[0m\u001b[1;33m:\u001b[0m\u001b[1;33m\u001b[0m\u001b[1;33m\u001b[0m\u001b[0m\n",
      "\u001b[1;31mTypeError\u001b[0m: stars_decorator() missing 1 required positional argument: 'func'"
     ]
    }
   ],
   "source": [
    "def stars_decorator(func, finally_say='All done!!'):\n",
    "    def inner(*args, **kwargs):\n",
    "        print(\"*\" * 30)\n",
    "        func(*args, **kwargs)\n",
    "        print(\"*\" * 30)\n",
    "        print(finally_say)\n",
    "    return inner\n",
    "\n",
    "\n",
    "def dot_decorator(func):\n",
    "    def inner(*args, **kwargs):\n",
    "        print(\".\" * 30)\n",
    "        func(*args, **kwargs)\n",
    "        print(\".\" * 30)\n",
    "    return inner\n",
    "\n",
    "\n",
    "@stars_decorator(finally_say='Congratulations, its done!')\n",
    "@dot_decorator\n",
    "def print_and_decorate(**msg):\n",
    "    print(msg)\n",
    "\n",
    "\n",
    "print_and_decorate(msg=\"Hello\")"
   ]
  },
  {
   "cell_type": "code",
   "execution_count": null,
   "id": "a11fa08f",
   "metadata": {},
   "outputs": [],
   "source": []
  },
  {
   "cell_type": "markdown",
   "id": "21741bb8-e8c1-438e-a3ff-afd05a33967e",
   "metadata": {},
   "source": [
    "## <mark> Python Built-In class decorators.\n",
    "\n",
    "    1. @classmethod\n",
    "    2. @staticmethod\n",
    "    3. @property"
   ]
  },
  {
   "cell_type": "code",
   "execution_count": null,
   "id": "15e7dbdf-2d66-4bcd-8634-0d1455e41660",
   "metadata": {},
   "outputs": [],
   "source": []
  },
  {
   "cell_type": "code",
   "execution_count": null,
   "id": "80342487-a389-429d-814e-b01fa753bc31",
   "metadata": {},
   "outputs": [],
   "source": []
  }
 ],
 "metadata": {
  "kernelspec": {
   "display_name": "Python 3 (ipykernel)",
   "language": "python",
   "name": "python3"
  },
  "language_info": {
   "codemirror_mode": {
    "name": "ipython",
    "version": 3
   },
   "file_extension": ".py",
   "mimetype": "text/x-python",
   "name": "python",
   "nbconvert_exporter": "python",
   "pygments_lexer": "ipython3",
   "version": "3.9.13"
  }
 },
 "nbformat": 4,
 "nbformat_minor": 5
}

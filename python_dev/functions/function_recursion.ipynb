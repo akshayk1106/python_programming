{
 "cells": [
  {
   "cell_type": "markdown",
   "id": "7e333b13",
   "metadata": {},
   "source": [
    "### Recursion -When a function calls itself."
   ]
  },
  {
   "cell_type": "markdown",
   "id": "d13ecdee",
   "metadata": {},
   "source": [
    "  The developer should be very careful with recursion as it can be quite easy to slip into writing a function which never terminates, INFINTE (exceeding the maximum recursion depth) or one that uses excess amounts of MEMORY or PROCESSOR POWER.\n",
    "\n",
    "Disadvantages: **LOGIC, DEBUGGING, MEMORY, INFINITE**\n",
    "    \n",
    "    -Logic-Following the LOGIC behind it hard sometimes\n",
    "    -Memory and Time-Expensive/Inefficienct as thye take lot of MEMORY and TIME\n",
    "    -Debugging-Hard to DEBUG\n",
    "    \n",
    "Advantages: **ELEGANT, SIMPLER**\n",
    "    \n",
    "    -Eleegant-Code is clean and ELEGANT\n",
    "    -Breaking-Composite code can be broken DOWN TO SIMPLER sub problems\n",
    "    -Generating sequence is easier with recursion is easier THAN NESTED iteration."
   ]
  },
  {
   "cell_type": "code",
   "execution_count": 1,
   "id": "c5057dc4",
   "metadata": {},
   "outputs": [
    {
     "name": "stdout",
     "output_type": "stream",
     "text": [
      "Recursion Example Results\n",
      "1\n",
      "3\n",
      "6\n",
      "10\n",
      "15\n"
     ]
    },
    {
     "data": {
      "text/plain": [
       "15"
      ]
     },
     "execution_count": 1,
     "metadata": {},
     "output_type": "execute_result"
    }
   ],
   "source": [
    "def tri(k):\n",
    "    if(k > 0): #BASE CONDITION\n",
    "        result = k + tri(k - 1)\n",
    "        print(result)\n",
    "    else:\n",
    "        result = 0\n",
    "    \n",
    "    return result\n",
    "\n",
    "print(\"Recursion Example Results\")\n",
    "tri(5)"
   ]
  },
  {
   "cell_type": "markdown",
   "id": "a60d3578-6e78-4c3c-9e04-d622fcb7151b",
   "metadata": {},
   "source": [
    "RECURSION                               ITERATION\n",
    "\n",
    "    Definition:\n",
    "    Function calls itself.                 A set of instructions repeatedly executed.\n",
    "\n",
    "    Application: \n",
    "    For functions.                         For loops.\n",
    "\n",
    "    Termination: \n",
    "    Through base case, where there will be no function call. \n",
    "                                           When the termination condition for the iterator ceases to be satisfied.\n",
    "\n",
    "    Usage:\n",
    "    Used when code size needs to be small, and time complexity is not an issue. \n",
    "                                           Used when time complexity needs to be balanced against an expanded code size.\n",
    "\n",
    "    Code Size:\n",
    "    Smaller code size                      Larger Code Size.\n",
    "\n",
    "    Time Complexity: \n",
    "    Very high(generally exponential) time complexity.                               \n",
    "                                           Relatively lower time complexity(generally polynomial-logarithmic)."
   ]
  },
  {
   "cell_type": "markdown",
   "id": "0427c1f7",
   "metadata": {},
   "source": [
    "-For any loop, we find out the runtime of the block inside them and multiply it by the number of times the program will repeat the loop. All loops that grow proportionally to the input size have a linear time complexity O(n) . If you loop through only half of the array, that's still O(n) \n",
    "\n",
    "-Usage of either of these techniques is **A TRADE OFF BETWEEN TIME COMPLEXITY AND SIZE OF CODE. If time complexity is the point of focus, and number of recursive calls would be large, it is better to use iteration. However, if time complexity is not an issue and shortness of code is, recursion would be the way to go.**\n",
    "\n",
    "-Infinite Repetition in recursion can lead to CPU crash but in iteration, it will stop when memory is exhausted."
   ]
  },
  {
   "cell_type": "markdown",
   "id": "dbf9658c",
   "metadata": {},
   "source": [
    "### Factorial\n",
    "    base: n==1 or n==0\n",
    "    formula: n*factorial(n-1)"
   ]
  },
  {
   "cell_type": "code",
   "execution_count": 2,
   "id": "247dcc22",
   "metadata": {},
   "outputs": [
    {
     "name": "stdin",
     "output_type": "stream",
     "text": [
      "Number:  5\n"
     ]
    },
    {
     "name": "stdout",
     "output_type": "stream",
     "text": [
      "120\n"
     ]
    }
   ],
   "source": [
    "def factorial(n):\n",
    "    if n==1 or n==0: #BASE LIMIT\n",
    "        return 1\n",
    "    elif n<=0:\n",
    "        print(\"Factorial of negative number cannot be calculated\")\n",
    "    else:\n",
    "        return(n*factorial(n-1))\n",
    "\n",
    "n=int(input(\"Number: \"))\n",
    "print(factorial(n))"
   ]
  },
  {
   "cell_type": "markdown",
   "id": "4e23b16c",
   "metadata": {},
   "source": [
    "### Febonosis series\n",
    "    base: F0 = 0 and F1 = 1.\n",
    "    formula: Fn = Fn-1 + Fn-2"
   ]
  },
  {
   "cell_type": "code",
   "execution_count": 10,
   "id": "5b4859d9",
   "metadata": {},
   "outputs": [
    {
     "name": "stdin",
     "output_type": "stream",
     "text": [
      "Enter the terms 5\n"
     ]
    },
    {
     "name": "stdout",
     "output_type": "stream",
     "text": [
      "0 1 1 2 3 "
     ]
    }
   ],
   "source": [
    "# USING FOR LOOP\n",
    "\n",
    "# Enter number of terms needed                   #0,1,1,2,3,5....\n",
    "a=int(input(\"Enter the terms\"))\n",
    "f=0                                         #first element of series\n",
    "s=1                                         #second element of series\n",
    "if a<=0:\n",
    "    print(\"The requested series is\",f)\n",
    "else:\n",
    "    print(f,s,end=\" \")\n",
    "    \n",
    "    for x in range(2,a):\n",
    "        next=f+s                           \n",
    "        print(next,end=\" \")\n",
    "        f=s\n",
    "        s=next"
   ]
  },
  {
   "cell_type": "code",
   "execution_count": 11,
   "id": "bd1a32f1",
   "metadata": {},
   "outputs": [
    {
     "name": "stdin",
     "output_type": "stream",
     "text": [
      "Enter a number, N, N>=2 :  5\n"
     ]
    },
    {
     "name": "stdout",
     "output_type": "stream",
     "text": [
      "Corresponding fibo number is:  3\n",
      "[0, 1, 1, 2, 3]\n"
     ]
    }
   ],
   "source": [
    "def fibonacci(n):\n",
    "    if n<=1:\n",
    "        return n\n",
    "    else:\n",
    "        return(fibonacci(n-1) + fibonacci(n-2))\n",
    "\n",
    "n = int(input('Enter a number, N, N>=2 : '))\n",
    "print(\"Corresponding fibo number is: \", fibonacci(n-1))\n",
    "\n",
    "fibo_series = []\n",
    "\n",
    "for i in range(0,n):\n",
    "    fibo_series.append(fibonacci(i))\n",
    "\n",
    "print(fibo_series)"
   ]
  },
  {
   "cell_type": "markdown",
   "id": "c7644b26-6bd4-4c17-a23c-737242fc8c67",
   "metadata": {},
   "source": []
  },
  {
   "cell_type": "markdown",
   "id": "c1387851",
   "metadata": {},
   "source": [
    "### Sum of list elements using recursion\n",
    "    base: len(l)==1\n",
    "    formula: l[0]+add(l[1:])"
   ]
  },
  {
   "cell_type": "code",
   "execution_count": 5,
   "id": "10f07e16",
   "metadata": {},
   "outputs": [
    {
     "name": "stdout",
     "output_type": "stream",
     "text": [
      "22\n"
     ]
    }
   ],
   "source": [
    "def add(l):\n",
    "    if len(l)==1:\n",
    "        return l[0]\n",
    "    else:\n",
    "        return l[0]+add(l[1:])\n",
    "\n",
    "print(add([2,1,3,8,2,6]))"
   ]
  },
  {
   "cell_type": "markdown",
   "id": "0f940ea8",
   "metadata": {},
   "source": [
    "### Getting and Chnaging the recursion limits"
   ]
  },
  {
   "cell_type": "code",
   "execution_count": 6,
   "id": "691752e2",
   "metadata": {},
   "outputs": [
    {
     "name": "stdout",
     "output_type": "stream",
     "text": [
      "3000\n"
     ]
    }
   ],
   "source": [
    "import sys\n",
    "print(sys.getrecursionlimit())"
   ]
  },
  {
   "cell_type": "code",
   "execution_count": 7,
   "id": "d33759f8",
   "metadata": {},
   "outputs": [
    {
     "name": "stdout",
     "output_type": "stream",
     "text": [
      "5000\n"
     ]
    }
   ],
   "source": [
    "sys.setrecursionlimit(5000)\n",
    "print(sys.getrecursionlimit())"
   ]
  },
  {
   "cell_type": "markdown",
   "id": "44e18ab2-fc7f-4ef6-a5ac-f691ea9c47fc",
   "metadata": {},
   "source": []
  }
 ],
 "metadata": {
  "kernelspec": {
   "display_name": "Python 3 (ipykernel)",
   "language": "python",
   "name": "python3"
  },
  "language_info": {
   "codemirror_mode": {
    "name": "ipython",
    "version": 3
   },
   "file_extension": ".py",
   "mimetype": "text/x-python",
   "name": "python",
   "nbconvert_exporter": "python",
   "pygments_lexer": "ipython3",
   "version": "3.9.13"
  }
 },
 "nbformat": 4,
 "nbformat_minor": 5
}

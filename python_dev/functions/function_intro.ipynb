{
 "cells": [
  {
   "cell_type": "markdown",
   "id": "a1166419",
   "metadata": {},
   "source": [
    "### Functions"
   ]
  },
  {
   "cell_type": "markdown",
   "id": "e77f093e-c577-451d-bc0f-bbcadef69230",
   "metadata": {},
   "source": [
    "    -A function is used to define something and use it later multiple times\n",
    "    -Block of statements with specific name\n",
    "    -it avoids repetition and makes code reusable\n",
    "    -2 Types\n",
    "        Built In - print, len, maximum, minimum,etc\n",
    "        User Defined - def"
   ]
  },
  {
   "cell_type": "markdown",
   "id": "882a77b7-b3b2-4cd7-b305-b8bbedaf532c",
   "metadata": {},
   "source": [
    "    \n",
    "    -A function is a block of code which only runs when it is called.\n",
    "    -You can pass data, known as parameters, into a function.\n",
    "    -A function can RETURN data as a result.\n",
    "    -A PARAMETER is the variable listed inside the parentheses in the function definition. It RECEIVES the arguemnt values.\n",
    "    -An ARGUEMENT is the value that is SENDER to the function when it is called.\n",
    "    -You can send any data types of argument to a function (string, number, list, dictionary etc.), and it will be treated as the same data type inside the function.\n",
    "\n",
    "    def my_function(x):\n",
    "      print(x + \" Refsnes\")\n",
    "\n",
    "    my_function(\"Emil\")\n",
    "\n",
    "    [x-variable/parameter, Emil-arguement]"
   ]
  },
  {
   "cell_type": "code",
   "execution_count": 3,
   "id": "fe50b305",
   "metadata": {
    "tags": []
   },
   "outputs": [
    {
     "name": "stdout",
     "output_type": "stream",
     "text": [
      "Howr u? Coder\n",
      "this is first function\n"
     ]
    }
   ],
   "source": [
    "def functionname(x):\n",
    "    \"\"\"this is first function\"\"\"\n",
    "    print(\"Howr u?\", x)\n",
    "y=\"Coder\"\n",
    "functionname(y)\n",
    "\n",
    "print(functionname.__doc__) #Doc string"
   ]
  },
  {
   "cell_type": "code",
   "execution_count": 29,
   "id": "1581c82a",
   "metadata": {},
   "outputs": [
    {
     "name": "stdout",
     "output_type": "stream",
     "text": [
      "print(value, ..., sep=' ', end='\\n', file=sys.stdout, flush=False)\n",
      "\n",
      "Prints the values to a stream, or to sys.stdout by default.\n",
      "Optional keyword arguments:\n",
      "file:  a file-like object (stream); defaults to the current sys.stdout.\n",
      "sep:   string inserted between values, default a space.\n",
      "end:   string appended after the last value, default a newline.\n",
      "flush: whether to forcibly flush the stream.\n"
     ]
    }
   ],
   "source": [
    "print(print.__doc__)"
   ]
  },
  {
   "cell_type": "markdown",
   "id": "0e3a0621-d463-4166-bd8e-107308c056c6",
   "metadata": {},
   "source": [
    "#### pass statement\n",
    "\n",
    "The Function definitions cannot be empty, but if you for some reason have a function definition with no content, put in the pass statement to avoid getting an error.\n",
    "\n",
    "    def myfunction():\n",
    "      pass"
   ]
  },
  {
   "cell_type": "markdown",
   "id": "5817ae93-7c07-4164-b87f-3f0f59bd2135",
   "metadata": {},
   "source": [
    "-It is used when the statement is required syntactically, but you do not want that code to execute. The pass statement is the null operation; nothing happens when it runs. The pass statement is also useful in scenarios where your code will eventually go but has not been entirely written yet/DO NOT WANT TO IMPLEMENT YET.\n",
    "\n",
    "-pass statement simply does nothing. You use pass statement when you create a method that you don't want to implement, yet. Where continue statement skip all the remaining statements in the loop and move controls back to the top of the loop."
   ]
  },
  {
   "cell_type": "markdown",
   "id": "d64afd21-649d-4f4a-a231-a9e3b0e0e651",
   "metadata": {},
   "source": [
    "# <mark> local and global namespaces </mark>\n",
    "\n",
    "##### Variable: Global, Local, Nonlocal\n",
    "\n",
    "    Global variable\n",
    "        -A variable which is declared  outside  the funnction or in global space\n",
    "        -Global variable can be accessed inside or outside of function\n",
    "        -we can access the global variable inside a function but we can not change it.\n",
    "        for that you need to use 'global' keyword\n",
    "\n",
    "    globals\n",
    "        -\n",
    "\n",
    "    Local Variable\n",
    "        -A variable which is declared inside the function\n",
    "\n",
    "    NonLocal\n",
    "        -to change value of local variable inside a nested function."
   ]
  },
  {
   "cell_type": "code",
   "execution_count": 4,
   "id": "7dc30d67-91cb-4911-8739-be3d31e62da9",
   "metadata": {},
   "outputs": [
    {
     "name": "stdout",
     "output_type": "stream",
     "text": [
      "Value of x in my function: 10\n",
      "Value of x outside function:  5000\n"
     ]
    }
   ],
   "source": [
    "def my():\n",
    "    x=10 #LOCAL SPACE\n",
    "    print(\"Value of x in my function:\", x)\n",
    "\n",
    "x=5000\n",
    "my() #GLOBAL SPACE\n",
    "print(\"Value of x outside function: \",x)"
   ]
  },
  {
   "cell_type": "code",
   "execution_count": 5,
   "id": "6b35fee0-b7cc-4e4f-b4a7-f0b62541e30f",
   "metadata": {},
   "outputs": [
    {
     "name": "stdout",
     "output_type": "stream",
     "text": [
      "Value of x in my in function: 55555\n",
      "Value of x outside function:  55555\n"
     ]
    }
   ],
   "source": [
    "def my():\n",
    "    print(\"Value of x in my in function:\", x)\n",
    "\n",
    "x=55555\n",
    "my() #GLOBAL SPACE\n",
    "print(\"Value of x outside function: \",x)"
   ]
  },
  {
   "cell_type": "markdown",
   "id": "dd6ead9b-f7e2-4c48-9a7d-3312cbdd0b39",
   "metadata": {},
   "source": [
    "#### 'global' keyword\n",
    "\n",
    "In Python, global keyword allows you to modify the variable outside of the current scope. It is used to create a global variable and make changes to the variable in a local context.\n",
    "\n",
    "    -When we create a variable inside a function, it’s local by default.\n",
    "    -When we define a variable outside of a function, it’s global by default. You don’t have to use global keyword.\n",
    "    -We use global keyword to read and write a global variable inside a function.\n",
    "    -Use of global keyword outside a function has no effect"
   ]
  },
  {
   "cell_type": "code",
   "execution_count": 7,
   "id": "53d085cd-4c5b-4045-ba57-0fd3b9dbcda4",
   "metadata": {},
   "outputs": [
    {
     "name": "stdout",
     "output_type": "stream",
     "text": [
      "a inside function 200\n",
      "a outside function 200\n"
     ]
    }
   ],
   "source": [
    "# To change a global variable inside a function\n",
    "\n",
    "a=100\n",
    "def my():\n",
    "    global a \n",
    "    a=a*2\n",
    "    print(\"a inside function\",a)\n",
    "    \n",
    "my()\n",
    "print(\"a outside function\",a)"
   ]
  },
  {
   "cell_type": "code",
   "execution_count": 8,
   "id": "9f860a96-9293-4924-bf37-55c427b34500",
   "metadata": {},
   "outputs": [
    {
     "name": "stdout",
     "output_type": "stream",
     "text": [
      "this is global\n",
      "this is global@@@@\n",
      "local y\n",
      "changed x:  this is global@@@@\n"
     ]
    }
   ],
   "source": [
    "x=\"this is global\"\n",
    "print(x)\n",
    "\n",
    "def new():\n",
    "    global x\n",
    "    y=\"local y\"\n",
    "    x=x+\"@@@@\"\n",
    "    print(x)\n",
    "    print(y)\n",
    "    \n",
    "new()\n",
    "print(\"changed x: \", x)"
   ]
  },
  {
   "cell_type": "code",
   "execution_count": 10,
   "id": "558f53c9-232b-4860-9a3f-d80f6b11c7f9",
   "metadata": {},
   "outputs": [
    {
     "name": "stdout",
     "output_type": "stream",
     "text": [
      "inside:  5\n",
      "outside:  100\n"
     ]
    }
   ],
   "source": [
    "y=100\n",
    "def test():\n",
    "    # y = y*5  # this will error as we are changing without first defining the variable\n",
    "    y = 5\n",
    "    print(\"inside: \",y)\n",
    "test()\n",
    "print(\"outside: \",y)"
   ]
  },
  {
   "cell_type": "code",
   "execution_count": 11,
   "id": "2f965973-f3e2-46aa-819a-a1b4a801bff9",
   "metadata": {},
   "outputs": [
    {
     "name": "stdout",
     "output_type": "stream",
     "text": [
      "inside:  25\n",
      "outside:  100\n"
     ]
    }
   ],
   "source": [
    "y=100\n",
    "def test():\n",
    "    y=5\n",
    "    y=y*5\n",
    "    print(\"inside: \",y)\n",
    "test()\n",
    "print(\"outside: \",y)"
   ]
  },
  {
   "cell_type": "markdown",
   "id": "deefbe36-8ac0-49a5-8b57-f72b619f5bdb",
   "metadata": {},
   "source": [
    "#### Non Local\n",
    "-Nonlocal variable are used in nested function whose local scope is not defined. This means, the variable can be neither in the local nor the global scope.\n",
    "\n",
    "-We use nonlocal keyword to create nonlocal variable."
   ]
  },
  {
   "cell_type": "code",
   "execution_count": 12,
   "id": "a3d1828b-a32e-44c3-8280-bc261b0e1d7a",
   "metadata": {},
   "outputs": [
    {
     "name": "stdout",
     "output_type": "stream",
     "text": [
      "inner x:  nonlocal\n",
      "outer x:  10\n",
      "Exterme Out:  nonlocal\n"
     ]
    }
   ],
   "source": [
    "x = 200\n",
    "def outer():\n",
    "    # global x\n",
    "    x=10\n",
    "    \n",
    "    def nested():\n",
    "        global x\n",
    "        x=\"nonlocal\"\n",
    "        print(\"inner x: \", x)\n",
    "        \n",
    "    nested()\n",
    "    print(\"outer x: \", x)\n",
    "    \n",
    "outer()\n",
    "print(\"Exterme Out: \", x)"
   ]
  },
  {
   "cell_type": "code",
   "execution_count": null,
   "id": "88b3f8f0-2e9e-4b5a-8ee2-4f3ab3437664",
   "metadata": {},
   "outputs": [],
   "source": []
  }
 ],
 "metadata": {
  "kernelspec": {
   "display_name": "Python 3 (ipykernel)",
   "language": "python",
   "name": "python3"
  },
  "language_info": {
   "codemirror_mode": {
    "name": "ipython",
    "version": 3
   },
   "file_extension": ".py",
   "mimetype": "text/x-python",
   "name": "python",
   "nbconvert_exporter": "python",
   "pygments_lexer": "ipython3",
   "version": "3.9.13"
  }
 },
 "nbformat": 4,
 "nbformat_minor": 5
}

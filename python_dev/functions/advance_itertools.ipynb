{
 "cells": [
  {
   "cell_type": "markdown",
   "id": "dcae7ccc-ec0e-48bf-a568-4df2c2991096",
   "metadata": {},
   "source": [
    "https://www.geeksforgeeks.org/python-itertools/ "
   ]
  },
  {
   "cell_type": "markdown",
   "id": "5e29f23a",
   "metadata": {},
   "source": [
    "# <mark> Itertools\n",
    "\n",
    "`Python’s Itertool is a module that provides various functions that work on iterators to produce complex iterators.` This module works as a fast, memory-efficient tool that is used either by themselves or in combination to form iterator algebra. \n",
    "\n",
    "The time taken by the map function is approximately half than the time taken by for loop. This shows that itertools are fast, memory-efficient tools.\n",
    "\n",
    "the functions of this library are used to make memory-efficient and precise code."
   ]
  },
  {
   "cell_type": "code",
   "execution_count": 17,
   "id": "1dd0bee3-be5a-4508-b907-4313ed099e88",
   "metadata": {},
   "outputs": [
    {
     "name": "stdout",
     "output_type": "stream",
     "text": [
      "45600 1424026961504462130793962810 208335 \n",
      "Time taken is 0.000000\n"
     ]
    }
   ],
   "source": [
    "## using for loop\n",
    "\n",
    "l1 = [100, 27214698746858, 323]\n",
    "l2 = [456, 52325655879945, 645]\n",
    "\n",
    "t1 = time.time()\n",
    "\n",
    "for i in range(3):\n",
    "    print(l1[i] * l2[i], end=' ')\n",
    "\n",
    "t2 = time.time()\n",
    "\n",
    "print(\"\\nTime taken is %.6f\" % (t1 - t2))"
   ]
  },
  {
   "cell_type": "code",
   "execution_count": 18,
   "id": "ea7f5457",
   "metadata": {
    "vscode": {
     "languageId": "plaintext"
    }
   },
   "outputs": [
    {
     "name": "stdout",
     "output_type": "stream",
     "text": [
      "45600 1424026961504462130793962810 208335\n",
      "Time taken is 0.000000\n"
     ]
    }
   ],
   "source": [
    "## Using map function\n",
    "\n",
    "import time\n",
    "import operator\n",
    "\n",
    "l1 = [100, 27214698746858, 323]\n",
    "l2 = [456, 52325655879945, 645]\n",
    "\n",
    "t1 = time.time()\n",
    "a, b, c = map(operator.mul, l1, l2)\n",
    "print(a, b, c)\n",
    "t2 = time.time()\n",
    "print(\"Time taken is %.6f\" % (t1 - t2))"
   ]
  },
  {
   "cell_type": "markdown",
   "id": "a785da6a-9bc2-45e2-8fb4-2797efdd682d",
   "metadata": {},
   "source": [
    "### zip\n",
    "\n",
    "The Python zip() function calls iter() on each of its argument and then calls next() by combining the result into tuple.\n",
    "If you are using the zip() function and map() function that means you are already using itertools. You don't need to import it distinctly."
   ]
  },
  {
   "cell_type": "code",
   "execution_count": 3,
   "id": "5b2798b5-b4ab-4b24-99a1-c1dc1dd1f430",
   "metadata": {},
   "outputs": [
    {
     "name": "stdout",
     "output_type": "stream",
     "text": [
      "<zip object at 0x0000020FCC650540>\n"
     ]
    }
   ],
   "source": [
    "a = [1,2,3]\n",
    "b= ['a', 'b', 'c']\n",
    "c = zip(a,b)\n",
    "print(c)"
   ]
  },
  {
   "cell_type": "code",
   "execution_count": 2,
   "id": "3aef2cad-e3de-4182-a6da-9d35058899ae",
   "metadata": {},
   "outputs": [
    {
     "data": {
      "text/plain": [
       "(1, 'a')"
      ]
     },
     "execution_count": 2,
     "metadata": {},
     "output_type": "execute_result"
    }
   ],
   "source": [
    "next(c)"
   ]
  },
  {
   "cell_type": "markdown",
   "id": "155dc19f-f652-431f-95e7-6dc378c6b9ed",
   "metadata": {},
   "source": [
    "# <mark> Types of Iterators\n",
    "\n",
    "    Infinite iterators- count, cycle, repreat\n",
    "    Combinatoric iterators- product, permutations, combinations, combination_with_replacement\n",
    "    Terminating iterators- accumulate, chain, dropwhile, filterfalse, islice, takewhile"
   ]
  },
  {
   "cell_type": "markdown",
   "id": "315c1bdb-d46b-44e7-a634-7e629d6753dd",
   "metadata": {},
   "source": [
    "## Infinite iterators\n",
    "\n",
    "Iterator in Python is any Python type that can be used with a ‘for in loop’. Python lists, tuples, dictionaries, and sets are all examples of inbuilt iterators. But it is not necessary that an iterator object has to exhaust, sometimes it can be infinite. Such types of iterators are known as Infinite iterators.\n",
    "\n",
    "    count(start,step)\tstart, [step]\tstart, start+step, step+2*step\n",
    "    cycle(iterable)\t\t\tP\t\tp0,p1,….plast\n",
    "    repeat(elem, n)\t\telem [,n]\telem, elem, elem,….endlessly or upto n times"
   ]
  },
  {
   "cell_type": "code",
   "execution_count": 6,
   "id": "ef7345c5-4b8b-4472-904b-386f4e9b0537",
   "metadata": {},
   "outputs": [
    {
     "name": "stdout",
     "output_type": "stream",
     "text": [
      "10 15 20 25 30 35 40 45 "
     ]
    }
   ],
   "source": [
    "from itertools import count\n",
    "\n",
    "for i in count(10,5):  \n",
    "    if i == 50:  \n",
    "        break  \n",
    "    else:  \n",
    "        print(i,end=\" \")  "
   ]
  },
  {
   "cell_type": "code",
   "execution_count": 7,
   "id": "dbfbe9dd-364c-4cde-a70e-288f2cd91274",
   "metadata": {},
   "outputs": [
    {
     "name": "stdout",
     "output_type": "stream",
     "text": [
      "1 2 3 1 2 3 1 2 "
     ]
    }
   ],
   "source": [
    "import itertools  \n",
    "temp = 0  \n",
    "for i in itertools.cycle(\"123\"):  \n",
    "    if temp > 7:  \n",
    "        break  \n",
    "    else:  \n",
    "        print(i,end=' ')  \n",
    "        temp = temp+1 "
   ]
  },
  {
   "cell_type": "code",
   "execution_count": 10,
   "id": "80cc617d-e8c7-41c2-bc51-c2ddbdbb7e50",
   "metadata": {},
   "outputs": [
    {
     "name": "stdout",
     "output_type": "stream",
     "text": [
      "2\n",
      "4\n",
      "2\n",
      "4\n",
      "2\n"
     ]
    }
   ],
   "source": [
    "vals = [2, 4, ]\n",
    "iters = itertools.cycle(vals)\n",
    "\n",
    "print(next(iters))\n",
    "print(next(iters))\n",
    "print(next(iters))\n",
    "print(next(iters))\n",
    "print(next(iters))"
   ]
  },
  {
   "cell_type": "code",
   "execution_count": 11,
   "id": "567d2f29-8d06-401d-a20b-76195fa57a98",
   "metadata": {},
   "outputs": [
    {
     "name": "stdout",
     "output_type": "stream",
     "text": [
      "[40, 40, 40, 40, 40, 40, 40, 40, 40, 40, 40, 40, 40, 40, 40]\n"
     ]
    }
   ],
   "source": [
    "print(list(itertools.repeat(40,15)))"
   ]
  }
 ],
 "metadata": {
  "kernelspec": {
   "display_name": "Python 3 (ipykernel)",
   "language": "python",
   "name": "python3"
  },
  "language_info": {
   "codemirror_mode": {
    "name": "ipython",
    "version": 3
   },
   "file_extension": ".py",
   "mimetype": "text/x-python",
   "name": "python",
   "nbconvert_exporter": "python",
   "pygments_lexer": "ipython3",
   "version": "3.9.13"
  }
 },
 "nbformat": 4,
 "nbformat_minor": 5
}

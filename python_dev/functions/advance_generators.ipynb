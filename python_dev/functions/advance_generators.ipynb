{
 "cells": [
  {
   "cell_type": "markdown",
   "id": "9ba9c75f",
   "metadata": {},
   "source": [
    "# <mark> Generators : using `yield`\n",
    "\n",
    "    import numpy as np\n",
    "    def generate_next_random():\n",
    "        while True:\n",
    "            r = np.random.rand()\n",
    "            yield r\n",
    "    randoms = generate_next_random()\n",
    "    next(randoms)\n",
    "    \n",
    "**Generator functions allow you to declare a function that behaves like an iterator, i.e. it can be used in a for loop.**\n",
    "\n",
    "In Python, a generator is a **function that returns an iterator** that produces a sequence of values when iterated over.\n",
    "\n",
    "Generators are useful when we want to produce a **large sequence of values, but we don't want to store all of them** in memory at once.\n",
    "\n",
    "A generator is an iterator that generates values on the fly, rather than storing them in memory. This makes it more efficient, especially when working with large collections of data. \n",
    "    \n",
    "it does not hold the result/(all elements) in the memory at once rather it returns the **result one by one only when asked**\n",
    "\n",
    "it makes code more readable\n",
    "\n",
    "similar to defining a normal function, instead of return use yield\n",
    "\n",
    "`When the generator function is called, it does not execute the function body immediately. Instead, it returns a generator object that can be iterated over to produce the values.`\n",
    "\n",
    "It pauses the generator function's execution until the next value is requested.\n",
    "\n",
    "`Iterator is an object with a state so that it knows its current state and it knows how to get its next value.`\n",
    "Generators are iterators but `__iter__() and __next__()` methods are created automatically\n",
    "\n",
    "Can be used to produce **infinite stream of data**\n",
    "    \n",
    "return vs yield:\n",
    "    \n",
    "    The return statement returns the value from the function and then the function terminates. The yield expression converts the function into a generator to return values one by one.\n",
    "    Python return statement is not suitable when we have to return a large amount of data. In this case, yield expression is useful to return only part of the data and save memory."
   ]
  },
  {
   "cell_type": "markdown",
   "id": "bc384870-da67-4296-9d22-54f42f64b8d8",
   "metadata": {},
   "source": [
    "Summary:\n",
    "    \n",
    "    Python yield keyword is used to create a generator function.\n",
    "    The yield keyword can be used only inside a function body.\n",
    "    When a function contains yield expression, it automatically becomes a generator function.\n",
    "    The generator function returns an Iterator known as a generator.\n",
    "    The generator controls the execution of the generator function.\n",
    "    When generator next() is called for the first time, the generator function starts its execution.\n",
    "    When the next() method is called for the generator, it executes the generator function to get the next value. The function is executed from where it has left off and doesn’t execute the complete function code.\n",
    "    The generator internally maintains the current state of the function and its variables, so that the next value is retrieved properly.\n",
    "    Generally, we use for-loop to extract all the values from the generator function and then process them one by one.\n",
    "    The generator function is beneficial when the function returns a huge amount of data. We can use the yield expression to get only a limited set of data, then process it and then get the next set of data."
   ]
  },
  {
   "cell_type": "code",
   "execution_count": 2,
   "id": "ea2ce441",
   "metadata": {},
   "outputs": [
    {
     "name": "stdout",
     "output_type": "stream",
     "text": [
      "[1, 4, 9, 16]\n"
     ]
    }
   ],
   "source": [
    "def square(nums):\n",
    "    result = []\n",
    "    for i in nums:\n",
    "        result.append(i*i)\n",
    "    return result\n",
    "my = square([1,2,3,4])\n",
    "print(my)"
   ]
  },
  {
   "cell_type": "markdown",
   "id": "cc847951",
   "metadata": {},
   "source": [
    "##### <font color='red'> we can get rid of having to create an empty list and then appending it using generators(yield)"
   ]
  },
  {
   "cell_type": "code",
   "execution_count": 10,
   "id": "29608521",
   "metadata": {},
   "outputs": [
    {
     "name": "stdout",
     "output_type": "stream",
     "text": [
      "<generator object square at 0x00000139D26705F0>\n"
     ]
    }
   ],
   "source": [
    "def square(nums):\n",
    "    for i in nums:\n",
    "        yield (i*i) \n",
    "sqr_nums = square([1,2,3,4])\n",
    "print(sqr_nums)"
   ]
  },
  {
   "cell_type": "code",
   "execution_count": 11,
   "id": "eac12e66-177d-44bb-9552-a821032e93b0",
   "metadata": {},
   "outputs": [
    {
     "data": {
      "text/plain": [
       "4"
      ]
     },
     "execution_count": 11,
     "metadata": {},
     "output_type": "execute_result"
    }
   ],
   "source": [
    "next(sqr_nums)\n",
    "next(sqr_nums)"
   ]
  },
  {
   "cell_type": "code",
   "execution_count": 12,
   "id": "ad538b88",
   "metadata": {},
   "outputs": [
    {
     "name": "stdout",
     "output_type": "stream",
     "text": [
      "9\n",
      "16\n"
     ]
    }
   ],
   "source": [
    "# Stop iteration exception Error : if the generators runs out of list/elements\n",
    "# so you can use for loop over generators\n",
    "for i in sqr_nums:\n",
    "    print(i)"
   ]
  },
  {
   "cell_type": "code",
   "execution_count": 6,
   "id": "d9909105",
   "metadata": {},
   "outputs": [
    {
     "data": {
      "text/plain": [
       "[1, 4, 9, 16]"
      ]
     },
     "execution_count": 6,
     "metadata": {},
     "output_type": "execute_result"
    }
   ],
   "source": [
    "# also list comprehension can be used\n",
    "my = [i*i for i in [1,2,3,4]]\n",
    "my"
   ]
  },
  {
   "cell_type": "markdown",
   "id": "0c2d9bdc-7cdc-4ab1-94bb-6bcb07a73aba",
   "metadata": {},
   "source": [
    "#####  <font color='red'>  Generator Expression Syntax\n",
    "\n",
    "`(expression for item in iterable)`\n",
    "    \n",
    "Tuples are similar to lists, but they are typically used for different purposes. While a list is used to store a collection of related items, a tuple is used to store a fixed number of items that may not be related.\n",
    "\n",
    "Unless you don’t care about performance, you shouldn’t use tuple comprehensions. If you need to create a tuple in a way that resembles a comprehension, the best way is to:\n",
    "\n",
    "    Do a list comprehension.\n",
    "    Convert the list to a tuple."
   ]
  },
  {
   "cell_type": "code",
   "execution_count": 16,
   "id": "70cb1f3e-9912-40e5-a4be-bcb635fdd54b",
   "metadata": {},
   "outputs": [],
   "source": [
    "# 'Tuple comprehension'\n",
    "squares = tuple(x**2 for x in [1, 2, 3])\n",
    "\n",
    "# Here the result of x**2 for x in numbers is a generator, which is converted into tuple."
   ]
  },
  {
   "cell_type": "code",
   "execution_count": 13,
   "id": "ef6d53ad",
   "metadata": {},
   "outputs": [
    {
     "name": "stdout",
     "output_type": "stream",
     "text": [
      "<class 'generator'>\n",
      "<generator object <genexpr> at 0x00000139D2670900>\n",
      "1\n",
      "4\n"
     ]
    }
   ],
   "source": [
    "# generator comprehension\n",
    "my = (i*i for i in [1, 2, 3, 4])\n",
    "\n",
    "print(type(my))\n",
    "print(my)\n",
    "print(next(my))\n",
    "print(next(my))"
   ]
  },
  {
   "cell_type": "code",
   "execution_count": 20,
   "id": "39f9f011",
   "metadata": {},
   "outputs": [
    {
     "data": {
      "text/plain": [
       "[9, 16]"
      ]
     },
     "execution_count": 20,
     "metadata": {},
     "output_type": "execute_result"
    }
   ],
   "source": [
    "# to get all elements of a generator at once, convert it into a list\n",
    "list(my)"
   ]
  },
  {
   "cell_type": "markdown",
   "id": "0e94e0f7-eebd-4734-aef3-6f68fe8f4c36",
   "metadata": {},
   "source": [
    "#####  <font color='red'>  Generators are iterators but ...\n",
    "\n",
    "but the __iter__() and __next__() are created automatically. Generators keep track of details automatically, the implementation was concise and much cleaner."
   ]
  },
  {
   "cell_type": "code",
   "execution_count": 17,
   "id": "dbe4312f-de1d-4333-90f0-6ef3bae8a696",
   "metadata": {},
   "outputs": [],
   "source": [
    "class PowTwo:\n",
    "    def __init__(self, max=0):\n",
    "        self.n = 0\n",
    "        self.max = max\n",
    "\n",
    "    def __iter__(self):\n",
    "        return self\n",
    "\n",
    "    def __next__(self):\n",
    "        if self.n > self.max:\n",
    "            raise StopIteration\n",
    "\n",
    "        result = 2 ** self.n\n",
    "        self.n += 1\n",
    "        return result"
   ]
  },
  {
   "cell_type": "code",
   "execution_count": 27,
   "id": "1dff33ee-16b6-4e5f-abea-2ca17946b564",
   "metadata": {},
   "outputs": [
    {
     "data": {
      "text/plain": [
       "4"
      ]
     },
     "execution_count": 27,
     "metadata": {},
     "output_type": "execute_result"
    }
   ],
   "source": [
    "def PowerTwo(max=0):\n",
    "    n = 0\n",
    "    while n<max:\n",
    "        yield n**2\n",
    "        n+=1\n",
    "        \n",
    "x = PowerTwo(5)\n",
    "\n",
    "next(x)\n",
    "next(x)\n",
    "next(x)"
   ]
  },
  {
   "cell_type": "markdown",
   "id": "d86af9f0",
   "metadata": {},
   "source": [
    "To compare the list and yield\n",
    "    \n",
    "    time\n",
    "    memory\n",
    "    \n",
    "both time and memory taken for very large aount of data is very less for generators as compared to list"
   ]
  },
  {
   "cell_type": "markdown",
   "id": "491a66d2-8d7b-44dd-b1f7-afc5b3105a45",
   "metadata": {},
   "source": [
    "#####  <font color='red'>  Generators to represent an infinite stream of data. \n",
    "\n",
    "Infinite streams cannot be stored in memory, and since generators produce only one item at a time, they can represent an infinite stream of data."
   ]
  },
  {
   "cell_type": "code",
   "execution_count": 40,
   "id": "29167f09-2d05-43f0-a76e-c42fb2a0d471",
   "metadata": {},
   "outputs": [],
   "source": [
    "def all_even():\n",
    "    n = 2\n",
    "    while True:\n",
    "        yield n\n",
    "        n += 2"
   ]
  },
  {
   "cell_type": "code",
   "execution_count": 41,
   "id": "ee7e022a-70bc-477a-af84-f2bd2c5a078f",
   "metadata": {},
   "outputs": [
    {
     "name": "stdout",
     "output_type": "stream",
     "text": [
      "2\n",
      "4\n",
      "6\n"
     ]
    }
   ],
   "source": [
    "even_generator_object = all_even()\n",
    "print(next(even_generator_object))\n",
    "print(next(even_generator_object))\n",
    "print(next(even_generator_object))"
   ]
  },
  {
   "cell_type": "code",
   "execution_count": 42,
   "id": "6f6e2fdf-1b8a-4bd8-8540-ab5cb3fd9d59",
   "metadata": {},
   "outputs": [
    {
     "data": {
      "text/plain": [
       "8"
      ]
     },
     "execution_count": 42,
     "metadata": {},
     "output_type": "execute_result"
    }
   ],
   "source": [
    "next(even_generator_object)"
   ]
  },
  {
   "cell_type": "markdown",
   "id": "d86618b6-6c7e-4420-8287-f18150c9a154",
   "metadata": {},
   "source": [
    "#####  <font color='red'>  Pipelining generators\n",
    "\n",
    "Multiple generators can be used to pipeline a series of operations. "
   ]
  },
  {
   "cell_type": "code",
   "execution_count": 43,
   "id": "1945a499-6e0d-4fb3-8067-9af827dcb922",
   "metadata": {},
   "outputs": [
    {
     "name": "stdout",
     "output_type": "stream",
     "text": [
      "4895\n"
     ]
    }
   ],
   "source": [
    "def fibonacci_numbers(nums):\n",
    "    x, y = 0, 1\n",
    "    for _ in range(nums):\n",
    "        x, y = y, x+y\n",
    "        yield x\n",
    "\n",
    "def square(nums):\n",
    "    for num in nums:\n",
    "        yield num**2\n",
    "\n",
    "print(sum(square(fibonacci_numbers(10))))"
   ]
  },
  {
   "cell_type": "code",
   "execution_count": 46,
   "id": "b5109f93-9882-4eed-bc91-9b08546f366c",
   "metadata": {},
   "outputs": [
    {
     "name": "stdout",
     "output_type": "stream",
     "text": [
      "4895\n"
     ]
    }
   ],
   "source": [
    "print(sum(square(fibonacci_numbers(10))))"
   ]
  },
  {
   "cell_type": "code",
   "execution_count": 73,
   "id": "196577a7-7458-48d9-99f9-c05085062f56",
   "metadata": {},
   "outputs": [
    {
     "data": {
      "text/plain": [
       "<generator object square at 0x0000024D3DC276D0>"
      ]
     },
     "execution_count": 73,
     "metadata": {},
     "output_type": "execute_result"
    }
   ],
   "source": [
    "pipelined_gen_object = square(fibonacci_numbers(5))\n",
    "pipelined_gen_object"
   ]
  },
  {
   "cell_type": "code",
   "execution_count": 74,
   "id": "87d9d547-74b5-429a-b106-3a351a3fee1b",
   "metadata": {},
   "outputs": [
    {
     "name": "stdout",
     "output_type": "stream",
     "text": [
      "1\n",
      "1\n",
      "4\n",
      "9\n",
      "25\n"
     ]
    },
    {
     "ename": "StopIteration",
     "evalue": "",
     "output_type": "error",
     "traceback": [
      "\u001b[1;31m---------------------------------------------------------------------------\u001b[0m",
      "\u001b[1;31mStopIteration\u001b[0m                             Traceback (most recent call last)",
      "\u001b[1;32m~\\AppData\\Local\\Temp\\ipykernel_5068\\1765382697.py\u001b[0m in \u001b[0;36m<module>\u001b[1;34m\u001b[0m\n\u001b[0;32m      4\u001b[0m \u001b[0mprint\u001b[0m\u001b[1;33m(\u001b[0m\u001b[0mnext\u001b[0m\u001b[1;33m(\u001b[0m\u001b[0mpipelined_gen_object\u001b[0m\u001b[1;33m)\u001b[0m\u001b[1;33m)\u001b[0m\u001b[1;33m\u001b[0m\u001b[1;33m\u001b[0m\u001b[0m\n\u001b[0;32m      5\u001b[0m \u001b[0mprint\u001b[0m\u001b[1;33m(\u001b[0m\u001b[0mnext\u001b[0m\u001b[1;33m(\u001b[0m\u001b[0mpipelined_gen_object\u001b[0m\u001b[1;33m)\u001b[0m\u001b[1;33m)\u001b[0m\u001b[1;33m\u001b[0m\u001b[1;33m\u001b[0m\u001b[0m\n\u001b[1;32m----> 6\u001b[1;33m \u001b[0mprint\u001b[0m\u001b[1;33m(\u001b[0m\u001b[0mnext\u001b[0m\u001b[1;33m(\u001b[0m\u001b[0mpipelined_gen_object\u001b[0m\u001b[1;33m)\u001b[0m\u001b[1;33m)\u001b[0m \u001b[1;31m#last one shall throw error\u001b[0m\u001b[1;33m\u001b[0m\u001b[1;33m\u001b[0m\u001b[0m\n\u001b[0m",
      "\u001b[1;31mStopIteration\u001b[0m: "
     ]
    }
   ],
   "source": [
    "print(next(pipelined_gen_object))\n",
    "print(next(pipelined_gen_object))\n",
    "print(next(pipelined_gen_object))\n",
    "print(next(pipelined_gen_object))\n",
    "print(next(pipelined_gen_object))\n",
    "print(next(pipelined_gen_object)) #last one shall throw error"
   ]
  },
  {
   "cell_type": "markdown",
   "id": "b0e27fb9-d495-43b6-b0cf-6f004c33c824",
   "metadata": {},
   "source": [
    "## <mark> Usecases"
   ]
  },
  {
   "cell_type": "markdown",
   "id": "9b99a0fe-fd80-4e5d-bc7e-cc8bdeb7b123",
   "metadata": {},
   "source": [
    "### Generator random numbers iteratively\n"
   ]
  },
  {
   "cell_type": "code",
   "execution_count": 33,
   "id": "f12524e0-af4f-450e-9e60-94a48817d6c7",
   "metadata": {},
   "outputs": [],
   "source": [
    "import numpy as np\n",
    "def generate_next_random():\n",
    "    while True:\n",
    "        r = np.random.rand()\n",
    "        yield r\n",
    "        \n",
    "randoms = generate_next_random()"
   ]
  },
  {
   "cell_type": "code",
   "execution_count": 31,
   "id": "64b6ec26-accb-4392-b8f0-148072dcaf51",
   "metadata": {},
   "outputs": [
    {
     "name": "stdout",
     "output_type": "stream",
     "text": [
      "0.17377215916862787\n",
      "0.6710815893616504\n"
     ]
    }
   ],
   "source": [
    "print(next(randoms))\n",
    "print(next(randoms))"
   ]
  },
  {
   "cell_type": "markdown",
   "id": "9f1cb935-d6f6-426b-bc31-ea0b71d663b9",
   "metadata": {},
   "source": [
    "### reading large text file\n"
   ]
  },
  {
   "cell_type": "code",
   "execution_count": 32,
   "id": "a381e838-b078-41af-b941-7c6256dd6e9c",
   "metadata": {},
   "outputs": [],
   "source": [
    "def read_next_line(file_name):\n",
    "    text_file = open(file_name, 'r')\n",
    "    while True:\n",
    "        line_data = text_file.readline()\n",
    "        yield line_data"
   ]
  },
  {
   "cell_type": "code",
   "execution_count": null,
   "id": "e61f6e9d-27c9-4693-bf2e-9c608e12048a",
   "metadata": {},
   "outputs": [],
   "source": []
  }
 ],
 "metadata": {
  "kernelspec": {
   "display_name": "Python 3 (ipykernel)",
   "language": "python",
   "name": "python3"
  },
  "language_info": {
   "codemirror_mode": {
    "name": "ipython",
    "version": 3
   },
   "file_extension": ".py",
   "mimetype": "text/x-python",
   "name": "python",
   "nbconvert_exporter": "python",
   "pygments_lexer": "ipython3",
   "version": "3.9.13"
  }
 },
 "nbformat": 4,
 "nbformat_minor": 5
}

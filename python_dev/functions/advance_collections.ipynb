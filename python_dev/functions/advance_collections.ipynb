{
 "cells": [
  {
   "cell_type": "markdown",
   "id": "782d64e4-ecb9-498a-8e65-44d1f8b49618",
   "metadata": {},
   "source": [
    "# <mark> Collections\n",
    "\n",
    "`Container that is used to store different types of data. The collections module provides alternatives to built-in container data types such as list, tuple and dict.`\n",
    "    \n",
    "Collection Module in Python has various types of containers which are available to use easily by importing them into your program.\n",
    "\n",
    "`A Container is a type of container object that can be used to hold multiple items while simultaneously providing a way to access and iterate over them, such as a Tuple or a list.`\n",
    "    \n",
    "There are different containers which comes under collections module:\n",
    "\n",
    "    counter()          -  counts frequency of each item in given sequence.\n",
    "    \n",
    "    TUPLE'S variant\n",
    "        namedtuple()   -  returns a tuple with each element hvaing a name mapped to it\n",
    "    \n",
    "    DICT'S variant\n",
    "        OrderedDict()  -  always print out the values in the order they are inserted.\n",
    "        defaultdict()  -  doen't throw error for non-existent key.\n",
    "        Chainmap()     -  returns a list of dictionaries after combining them\n",
    "    \n",
    "    LIST's variant\n",
    "        deque()        -  double queue. can add items from begging or end of list    \n",
    "\n",
    "similar tools: Counter(), enumerate(iterable, starte=0), iterator, generator"
   ]
  },
  {
   "cell_type": "markdown",
   "id": "f0e22686-e7c6-422f-83c6-e7eaf92bb2d8",
   "metadata": {},
   "source": [
    "### namedtuple()  - Returns a new subclass of tuple with named fields.\n",
    "The collections module's namedtuple() function is used to return a tuple with names for each of the tuple's positions. Each value of the tuple can be called using their corresponding names. Regular tuples have a difficult time remembering the index of each field of a tuple object."
   ]
  },
  {
   "cell_type": "code",
   "execution_count": 5,
   "id": "cf78dd68-e22f-4917-b2d5-c2691afa8fec",
   "metadata": {},
   "outputs": [],
   "source": [
    "import collections\n",
    "\n",
    "student = collections.namedtuple('name', ['x', 'y'])"
   ]
  },
  {
   "cell_type": "code",
   "execution_count": 1,
   "id": "ccd7b08a-9d5c-4f96-b922-3620c9668785",
   "metadata": {},
   "outputs": [
    {
     "name": "stdout",
     "output_type": "stream",
     "text": [
      "west\n"
     ]
    }
   ],
   "source": [
    "from collections import namedtuple\n",
    "\n",
    "# defining the name of the object and positions for the object\n",
    "my_named_tup = namedtuple('namedtup', ['x', 'y', 'z'])\n",
    "\n",
    "my_tuple = my_named_tup('east', 'west', 'south')\n",
    "\n",
    "print(my_tuple.y)"
   ]
  },
  {
   "cell_type": "markdown",
   "id": "23a7f25a-eec0-4e6c-9219-e06ea0101507",
   "metadata": {},
   "source": [
    "### OrderedDict() - always print out the values in the order they are inserted.\n",
    "\n",
    "OrderedDict is a dictionary in which the keys are always inserted in the same order. The order of the keys in a dictionary is preserved if they are inserted in a specific order. Even if the value of the key is changed later, the position will not change.\n",
    "\n",
    "So if we will iterate over the Dictionary it will always print out the values in the order they are inserted.\n",
    "\n",
    "All built in methods of dictionary can also be used for OrderedDictionary"
   ]
  },
  {
   "cell_type": "code",
   "execution_count": 5,
   "id": "af3b4bde-0c6d-4259-ae07-c45a81df5bf8",
   "metadata": {},
   "outputs": [
    {
     "name": "stdout",
     "output_type": "stream",
     "text": [
      "{'A': 45, 'B': 36, 'C': 89}\n",
      "{'A': 45, 'B': 500, 'C': 89}\n"
     ]
    }
   ],
   "source": [
    "simple_dict = {'A':45, 'B':36, 'C':89}\n",
    "print(simple_dict)\n",
    "\n",
    "simple_dict['B'] = 500\n",
    "print(simple_dict)"
   ]
  },
  {
   "cell_type": "code",
   "execution_count": 2,
   "id": "bc015e8d-f194-499e-88e3-e2b412e3c54b",
   "metadata": {},
   "outputs": [
    {
     "name": "stdout",
     "output_type": "stream",
     "text": [
      "OrderedDict([('A', 45), ('B', 36), ('C', 89)])\n",
      "OrderedDict([('A', 45), ('B', 500), ('C', 89)])\n"
     ]
    }
   ],
   "source": [
    "from collections import OrderedDict\n",
    "\n",
    "my_dictionary = OrderedDict()\n",
    "\n",
    "my_dictionary['A'] = 45\n",
    "my_dictionary['B'] = 36\n",
    "my_dictionary['C'] = 89\n",
    "\n",
    "print(my_dictionary)\n",
    "\n",
    "# change a key's value, but still the order is preserved in dictionary\n",
    "my_dictionary['B'] = 500\n",
    "print(my_dictionary)"
   ]
  },
  {
   "cell_type": "markdown",
   "id": "5058837e-bd33-4c37-8be9-2adaf3399a89",
   "metadata": {},
   "source": [
    "### defaultdict()  -> does NOT throw error for non_existent key\n",
    "\n",
    "The only difference between defaultdict() and simple Dictionary is that when you try to access a non-existent key in defaultdict(), it does not throw an exception or a key error."
   ]
  },
  {
   "cell_type": "code",
   "execution_count": 6,
   "id": "249d430c-3b04-422c-a8b5-a6972c91aece",
   "metadata": {},
   "outputs": [
    {
     "name": "stdout",
     "output_type": "stream",
     "text": [
      "0\n"
     ]
    }
   ],
   "source": [
    "from collections import defaultdict  \n",
    "\n",
    "dic = defaultdict(int)  \n",
    "\n",
    "dic[1] = 'a'  \n",
    "dic[2] = 'b'  \n",
    "dic[3] = 'c'  \n",
    "\n",
    "print(dic[4])"
   ]
  },
  {
   "cell_type": "markdown",
   "id": "e1c46dc2-fc75-49b4-a4fe-00ff0fd15c97",
   "metadata": {},
   "source": [
    "### chainmap  - combines dictionaries and returns their list\n",
    "\n",
    "ChainMap returns a list of dictionaries after combining them and chaining them together.\n",
    "\n",
    "Can chain any number of dictionaries."
   ]
  },
  {
   "cell_type": "code",
   "execution_count": 36,
   "id": "89445023-6198-4bf2-86d3-f52b0e03b2ea",
   "metadata": {},
   "outputs": [
    {
     "name": "stdout",
     "output_type": "stream",
     "text": [
      "ChainMap({'k1': 1, 'k2': 2, 'k3': 3}, {'k4': 4})\n",
      "All the keys of the chainmap is : ['k4', 'k1', 'k2', 'k3']\n",
      "All the values the chainmap is : [4, 1, 2, 3]\n",
      "All the keys-value pairs of the chainmap is : [{'k1': 1, 'k2': 2, 'k3': 3}, {'k4': 4}]\n",
      "chainmap after addition at beginning is : ChainMap({'k5': 5}, {'k1': 1, 'k2': 2, 'k3': 3}, {'k4': 4})\n",
      "Reversed chainmap is : [{'k4': 4}, {'k1': 1, 'k2': 2, 'k3': 3}, {'k5': 5}]\n"
     ]
    }
   ],
   "source": [
    "from collections import ChainMap\n",
    "\n",
    "dict1 = { 'k1' : 1, 'k2' : 2, 'k3': 3 } \n",
    "dict2 = { 'k4' : 4 }  \n",
    "\n",
    "finalChainMap = ChainMap(dict1, dict2)  \n",
    "\n",
    "print(finalChainMap) \n",
    "\n",
    "print(\"All the keys of the chainmap is :\", list(finalChainMap.keys()))\n",
    "\n",
    "print(\"All the values the chainmap is :\", list(finalChainMap.values()))\n",
    "\n",
    "print(\"All the keys-value pairs of the chainmap is :\", finalChainMap.maps)\n",
    "\n",
    "dict3 = { 'k5' : 5 }  \n",
    "\n",
    "chain1 = finalChainMap.new_child(dict3)\n",
    "print(\"chainmap after addition at beginning is :\", chain1)\n",
    "\n",
    "print(\"Reversed chainmap is :\", list(reversed(chain1.maps)))"
   ]
  },
  {
   "cell_type": "markdown",
   "id": "f423f1bc-987b-4e3c-8e43-50b9bf2944c7",
   "metadata": {},
   "source": [
    "### deque()\n",
    "\n",
    "Deque is a more efficient variant of a list for adding and removing items easily. It can add or remove items from the beginning or the end of the list.\n",
    "\n",
    "It is a double ended queue which has insertion and deletion operations available at both the ends."
   ]
  },
  {
   "cell_type": "code",
   "execution_count": 8,
   "id": "4b19c144-ad9d-42ae-86fe-9da8c2d4663c",
   "metadata": {},
   "outputs": [
    {
     "name": "stdout",
     "output_type": "stream",
     "text": [
      "Original Deque is : deque(['Hi', 'This', 'is', 'Scaler'])\n"
     ]
    }
   ],
   "source": [
    "from collections import deque  \n",
    "\n",
    "l = ['Hi', 'This', 'is', 'Scaler']  \n",
    "myDeq = deque(l)  \n",
    "\n",
    "print(\"Original Deque is :\", myDeq)  "
   ]
  },
  {
   "cell_type": "code",
   "execution_count": 9,
   "id": "1903c553-193a-456d-9347-5c7a7c0f64a2",
   "metadata": {},
   "outputs": [
    {
     "name": "stdout",
     "output_type": "stream",
     "text": [
      "Deque after adding to both the ends is : deque(['!!', 'Hi', 'This', 'is', 'Scaler', '!!'])\n",
      "Deque after removal from end is : deque(['!!', 'Hi', 'This', 'is', 'Scaler'])\n",
      "Deque after removal from beginning is : deque(['Hi', 'This', 'is', 'Scaler'])\n",
      "Deque after insertion is : deque(['Hi', 'New', 'This', 'is', 'Scaler'])\n",
      "Deque after removal of value New is : deque(['Hi', 'This', 'is', 'Scaler'])\n",
      "count of Scaler in deque is :  1\n",
      "Deque after reversing is : deque(['Scaler', 'is', 'This', 'Hi'])\n",
      "Deque after rotation by 1 element is : deque(['Hi', 'Scaler', 'is', 'This'])\n"
     ]
    }
   ],
   "source": [
    "# Inserting at both the ends\n",
    "myDeq.append(\"!!\")  \n",
    "myDeq.appendleft(\"!!\")\n",
    "\n",
    "print(\"Deque after adding to both the ends is :\",myDeq)\n",
    "\n",
    "myDeq.pop()  \n",
    "print(\"Deque after removal from end is :\",myDeq)\n",
    "\n",
    "myDeq.popleft()  \n",
    "print(\"Deque after removal from beginning is :\",myDeq)\n",
    "\n",
    "myDeq.insert(1, \"New\")\n",
    "print(\"Deque after insertion is :\",myDeq)\n",
    "\n",
    "myDeq.remove(\"New\")\n",
    "print(\"Deque after removal of value New is :\",myDeq)\n",
    "\n",
    "print(\"count of Scaler in deque is : \", myDeq.count(\"Scaler\"))\n",
    "\n",
    "myDeq.reverse()\n",
    "print(\"Deque after reversing is :\",myDeq)\n",
    "\n",
    "myDeq.rotate(1)\n",
    "print(\"Deque after rotation by 1 element is :\",myDeq)"
   ]
  },
  {
   "cell_type": "markdown",
   "id": "5cce9474-59a2-4c5a-bd96-9711a6e26231",
   "metadata": {},
   "source": [
    "### Counter()\n",
    "\n",
    "A counter is a built-in data structure that counts the number of times each value in an array or list appears."
   ]
  },
  {
   "cell_type": "code",
   "execution_count": 11,
   "id": "4bf96662-2f06-4c0b-8e86-aac6e626089b",
   "metadata": {},
   "outputs": [
    {
     "data": {
      "text/plain": [
       "Counter({'a': 5, 'b': 4, 'c': 3})"
      ]
     },
     "execution_count": 11,
     "metadata": {},
     "output_type": "execute_result"
    }
   ],
   "source": [
    "from collections import Counter\n",
    "alphabets = ['a', 'b', 'c', 'c', 'c', 'b', 'b', 'b', 'a', 'a', 'a', 'a']  \n",
    "\n",
    "counted = Counter(alphabets)\n",
    "counted"
   ]
  },
  {
   "cell_type": "raw",
   "id": "d8216bc8-bac8-4f8d-9f8f-90dc51afaf7c",
   "metadata": {},
   "source": [
    "alphabets = {'A':, 'A':, 'A':, 'B':, 'B':}\n",
    "\n",
    "# dictionary can NOT contained duplicate keys, so counter can not be used over dictionary"
   ]
  },
  {
   "cell_type": "markdown",
   "id": "8de185c1-74f0-426f-af91-f563c1d525e6",
   "metadata": {},
   "source": [
    "### enumerate(iterable, start=0) - but not from collections module\n",
    "\n",
    "Enumerate() method adds a counter to an iterable and returns it in a form of enumerating object. This enumerated object can then be used directly for loops or converted into a list of tuples"
   ]
  },
  {
   "cell_type": "code",
   "execution_count": 26,
   "id": "de09d15f-4f84-475d-a552-cd009a302a2c",
   "metadata": {},
   "outputs": [
    {
     "name": "stdout",
     "output_type": "stream",
     "text": [
      "<class 'enumerate'>\n",
      "<enumerate object at 0x0000029777033D80>\n",
      "[(31, 'Gur'), (32, 'HYD'), (33, 'london'), (34, 'Pune'), (35, 'Delhi'), (36, 'NYC')]\n"
     ]
    }
   ],
   "source": [
    "countries = {'london', 'NYC', 'Pune', 'HYD', 'Gur', 'Delhi'}\n",
    "enumerated_countries = enumerate(countries, start=31)\n",
    "\n",
    "print(type(enumerated_countries))\n",
    "print(enumerated_countries)\n",
    "print(list(enumerated_countries))"
   ]
  },
  {
   "cell_type": "code",
   "execution_count": 30,
   "id": "1ef9734d-ed15-4fb9-bc0c-f58f7d5d1753",
   "metadata": {},
   "outputs": [
    {
     "name": "stdout",
     "output_type": "stream",
     "text": [
      "31 Gur\n",
      "32 HYD\n",
      "33 london\n",
      "34 Pune\n",
      "35 Delhi\n",
      "36 NYC\n"
     ]
    }
   ],
   "source": [
    "for count, value in enumerate(countries, start=31):\n",
    "    print(count, value)"
   ]
  },
  {
   "cell_type": "code",
   "execution_count": null,
   "id": "51ab3eff-08cb-4287-aac7-b97597cb73d8",
   "metadata": {},
   "outputs": [],
   "source": []
  }
 ],
 "metadata": {
  "kernelspec": {
   "display_name": "Python 3 (ipykernel)",
   "language": "python",
   "name": "python3"
  },
  "language_info": {
   "codemirror_mode": {
    "name": "ipython",
    "version": 3
   },
   "file_extension": ".py",
   "mimetype": "text/x-python",
   "name": "python",
   "nbconvert_exporter": "python",
   "pygments_lexer": "ipython3",
   "version": "3.9.13"
  }
 },
 "nbformat": 4,
 "nbformat_minor": 5
}

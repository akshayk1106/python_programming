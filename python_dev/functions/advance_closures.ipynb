{
 "cells": [
  {
   "cell_type": "markdown",
   "id": "bc8972ac-950b-49f6-a38f-2363f285334f",
   "metadata": {
    "tags": []
   },
   "source": [
    "# <mark>closures\n",
    "\n",
    "    def make_multiplier(mutiply_by):\n",
    "        def multiply(num):\n",
    "            return mutiply_by*num\n",
    "        return multiply\n",
    "    times3 = make_multiplier(3)\n",
    "    print(times3(6))\n",
    "    \n",
    "**Python closure is a nested function that allows us to access variables of the outer function even after the outer function is closed.**\n",
    "\n",
    "Functions are first class objects.\n",
    "Python closure is essentially a nested function that has some data attached to it.\n",
    "\n",
    "Nested function acts as a closure that closes the outer scope variable within its scope even after the outer function is executed.\n",
    "\n",
    "Python Closures are also useful for avoiding the use of a global scope.\n",
    "\n",
    "Every variable has a certain scope. The scope is essentially that part of the code, where the variable can be found and can also be accessed, if required.\n",
    "\n",
    "Closure in Python is an inner function object, a function that behaves like an object, that remembers and has access to variables in the local scope in which it was created even after the outer function has finished executing. It can also be defined as a means of binding data to a function (linking / attaching the data with the function so that they are together), without passing it as a parameter.\n",
    "\n",
    "As we know that functions are first class objects, to use the closure, we need to initialize the variables with the outer functions. These variables are now instances of the closure function and can be called as functions themselves.\n",
    "\n",
    "**Objects can be described as data with methods attached, while closures are functions with data attached.**\n",
    "\n",
    "The properties of a closure function are :\n",
    "\n",
    "    It is a nested function\n",
    "    It has access to a free variable in outer scope\n",
    "    Will be returned from the outer function\n",
    "    Is a function object (function that behaves like an object)\n",
    "    Capable of remembering values present in outer functions (enclosing scopes)"
   ]
  },
  {
   "cell_type": "code",
   "execution_count": 3,
   "id": "c2526409-5260-4b27-b620-dd33b780f9a5",
   "metadata": {},
   "outputs": [
    {
     "name": "stdout",
     "output_type": "stream",
     "text": [
      "Hello...John\n"
     ]
    }
   ],
   "source": [
    "# Nested Function greet()\n",
    "# combination of greet() and name varibale is called closure.\n",
    "\n",
    "def outer(name):\n",
    "    def greet():  # nested function\n",
    "        print('Hello...' + name)\n",
    "    return greet()\n",
    "\n",
    "outer(name='John')"
   ]
  },
  {
   "cell_type": "code",
   "execution_count": 1,
   "id": "8eba90a2-ea06-4d10-ad4a-56b8911b9ae8",
   "metadata": {},
   "outputs": [
    {
     "name": "stdout",
     "output_type": "stream",
     "text": [
      "Hello...John\n"
     ]
    }
   ],
   "source": [
    "# closure\n",
    "\n",
    "def outer():\n",
    "    name='John'\n",
    "    return lambda: 'Hello...' + name\n",
    "\n",
    "message = outer()\n",
    "# here the execution of outer function is completed so name variable must have been destroyed\n",
    "# but when we call the anonymous function, we are able to access name variable.\n",
    "# now message = output of outer function\n",
    "# so message = lambda: 'Hello...'+name\n",
    "print(message())"
   ]
  },
  {
   "cell_type": "code",
   "execution_count": 8,
   "id": "4d0971e9-3714-46e1-a743-d664ab2c360a",
   "metadata": {},
   "outputs": [
    {
     "name": "stdout",
     "output_type": "stream",
     "text": [
      "3\n",
      "5\n"
     ]
    }
   ],
   "source": [
    "# Print ODD numbers using python closure\n",
    "\n",
    "def calculate():\n",
    "    num = 1\n",
    "    def odd_num():\n",
    "        nonlocal num\n",
    "        num+=2\n",
    "        return num\n",
    "    return odd_num\n",
    "\n",
    "odd = calculate()\n",
    "# this calls the outer function, thus as return object variable odd get assigned to inner function odd_num\n",
    "\n",
    "# now we can call inner function to execute it, which is still going to access outer function's variable num\n",
    "print(odd())\n",
    "print(odd())"
   ]
  },
  {
   "cell_type": "markdown",
   "id": "7efa4343-cc4d-40ff-aea7-61243d144dc1",
   "metadata": {},
   "source": [
    "### <mark> When to use closures\n",
    "\n",
    "**Closures can be used to avoid global values and provide data hiding, and can be an elegant solution for simple cases with one or few methods.**\n",
    "\n",
    "However, for larger cases with multiple attributes and methods, a class implementation may be more appropriate.\n",
    "\n",
    "All function objects have a __closure__ attribute that returns a tuple of cell objects if it is a closure function.\n",
    "\n",
    "**ALTERNATIVE TO CLASS:** Say you have a class that has two methods. In the Python programming language, a class always has the __init__ method. If you have just one more method besides it, an elegant solution would be to use a closure, instead of a class. Why? This increases readability of the code and even reduces work of the programmer. So, closures can be used to avoid the unnecessary use of class.\n",
    "\n",
    "**AVOID USE OF GLOBAL SCOPE:** Sometimes you might have variables in the global scope that are not used by more than one function. Instead of declaring the variables in global scope, you must think of using a closure. You can define them in the outer function and use them in the inner function. Closures can also be used to avoid the use of global scope.\n",
    "\n",
    "**DATA HIDING:** Have you thought about calling the inner function directly at any point of time? You cannot do it! The only way to access the inner function is by calling the outer function. Data hiding is an important use of closures."
   ]
  },
  {
   "cell_type": "markdown",
   "id": "21ce17d6-b9bd-4d34-8a3b-b805b6f62a5d",
   "metadata": {},
   "source": []
  },
  {
   "cell_type": "code",
   "execution_count": 14,
   "id": "07b851ec-7148-4ff5-b042-eab8d12e7938",
   "metadata": {},
   "outputs": [
    {
     "name": "stdout",
     "output_type": "stream",
     "text": [
      "18\n",
      "120\n",
      "45\n",
      "100\n",
      "(<cell at 0x000001F8CFDC6940: int object at 0x000001F8CB0869B0>,)\n"
     ]
    }
   ],
   "source": [
    "\"\"\"\n",
    "Notice in below example,\n",
    "we can make a multiples of 3 or 5 or ... as times3, times5, ...\n",
    "and can use the closure function times3(num) any number of times even after make_mutiplier function is executed.\n",
    "\"\"\"\n",
    "def make_multiplier(mutiply_by):\n",
    "    def multiply(num):\n",
    "        return mutiply_by*num\n",
    "    return multiply\n",
    "\n",
    "times3 = make_multiplier(3)\n",
    "print(times3(6))\n",
    "print(times3(40))\n",
    "\n",
    "times5 = make_multiplier(5)\n",
    "print(times5(9))\n",
    "print(times5(20))\n",
    "\n",
    "print(times5.__closure__)"
   ]
  },
  {
   "cell_type": "code",
   "execution_count": null,
   "id": "ef95176d-f0d7-431f-a5e5-4ce0a7fc716c",
   "metadata": {},
   "outputs": [],
   "source": []
  }
 ],
 "metadata": {
  "kernelspec": {
   "display_name": "Python 3 (ipykernel)",
   "language": "python",
   "name": "python3"
  },
  "language_info": {
   "codemirror_mode": {
    "name": "ipython",
    "version": 3
   },
   "file_extension": ".py",
   "mimetype": "text/x-python",
   "name": "python",
   "nbconvert_exporter": "python",
   "pygments_lexer": "ipython3",
   "version": "3.9.13"
  }
 },
 "nbformat": 4,
 "nbformat_minor": 5
}

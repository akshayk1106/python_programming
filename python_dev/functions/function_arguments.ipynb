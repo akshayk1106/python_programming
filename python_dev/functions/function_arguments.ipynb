{
 "cells": [
  {
   "cell_type": "markdown",
   "id": "a1d997fa",
   "metadata": {},
   "source": [
    "## Function Arguements\n",
    "\n",
    "    Default Arguements- assign default values if arg not passed\n",
    "    \n",
    "    Keyword Arguements(kwarg)[x=\"ak\"] -when there are many parameters and we do Not know the sequence of parameters\n",
    "    \n",
    "    Arbitrary Arguements(*arg)[returns tuple] -not know how many arguments that will be passed\n",
    "    \n",
    "    Arbitrary Keyword arguements(**kwarg)[returns dictionary] -not know how many keyword arguments that will be passed"
   ]
  },
  {
   "cell_type": "code",
   "execution_count": 30,
   "id": "b9271082-e3cb-43fc-b2a1-293c7774009e",
   "metadata": {},
   "outputs": [
    {
     "name": "stdout",
     "output_type": "stream",
     "text": [
      "default argument:  100\n",
      "keyword argument:  600\n",
      "arbitrary arguments:  ('A', 'B', 'C')\n",
      "arbitrary keyword arguments:  {'school': 'Xavier', 'city': 'HYD'}\n"
     ]
    }
   ],
   "source": [
    "def select_topper(*students, total, max_marks=100, **details):\n",
    "    print('default argument: ', max_marks)\n",
    "    print('keyword argument: ', total)\n",
    "    print('arbitrary arguments: ', students)\n",
    "    print('arbitrary keyword arguments: ', details)\n",
    "\n",
    "select_topper('A', 'B', 'C', total=600, school='Xavier', city='HYD')"
   ]
  },
  {
   "cell_type": "markdown",
   "id": "ddcbce8f",
   "metadata": {},
   "source": [
    "## Default Arguments\n",
    "-All default arguements Sholud follow AFTER non-default arguements\n",
    "\n",
    "-By default, a function must be called with the correct number of arguments.  (args)\n",
    "Meaning that if your function expects 2 arguments, you have to call the function with 2 arguments, not more, and not less."
   ]
  },
  {
   "cell_type": "code",
   "execution_count": 8,
   "id": "8fb95586",
   "metadata": {
    "tags": []
   },
   "outputs": [
    {
     "name": "stdin",
     "output_type": "stream",
     "text": [
      "Enter name:  Sam\n",
      "Enter message:  Good luck\n"
     ]
    },
    {
     "name": "stdout",
     "output_type": "stream",
     "text": [
      "Hello, Sam Good luck\n"
     ]
    }
   ],
   "source": [
    "def greet(name=\"Coder\", msg=\"Welcome\"):\n",
    "    print(\"Hello,\", name, msg)\n",
    "\n",
    "x=input(\"Enter name: \")\n",
    "m=input(\"Enter message: \")\n",
    "greet(x,m)"
   ]
  },
  {
   "cell_type": "code",
   "execution_count": 11,
   "id": "95f201fe",
   "metadata": {
    "tags": []
   },
   "outputs": [
    {
     "name": "stdin",
     "output_type": "stream",
     "text": [
      "Enter name:  Coder\n"
     ]
    },
    {
     "name": "stdout",
     "output_type": "stream",
     "text": [
      "Hello, Coder Good Morning\n"
     ]
    }
   ],
   "source": [
    "# All default arguements Sholud follow after non-default arguements\n",
    "# else, Error: non-default argument follows default argument\n",
    "\n",
    "def greet(name, msg=\"Good Morning\"):\n",
    "    print(\"Hello,\",name,msg)\n",
    "\n",
    "x=input(\"Enter name: \")\n",
    "greet(x)"
   ]
  },
  {
   "cell_type": "markdown",
   "id": "6e2b18d8",
   "metadata": {},
   "source": [
    "## Keyword arguements\n",
    "\n",
    "    -You can also send arguments with the key = value syntax.\n",
    "    -This way the order of the arguments does not matter.\n",
    "    -@Usually when there are many parameters and we do Not know the sequence of parameters"
   ]
  },
  {
   "cell_type": "code",
   "execution_count": 13,
   "id": "4ff70bf5",
   "metadata": {},
   "outputs": [
    {
     "name": "stdout",
     "output_type": "stream",
     "text": [
      "Name is:  Coder\n",
      "Age is:  25\n"
     ]
    }
   ],
   "source": [
    "def new(name,age):\n",
    "    print(\"Name is: \",name)\n",
    "    print(\"Age is: \",age)\n",
    "\n",
    "new(name=\"Coder\",age=25)"
   ]
  },
  {
   "cell_type": "markdown",
   "id": "ca569918",
   "metadata": {},
   "source": [
    "## Arbitrary Arguements (*arg)\n",
    "\n",
    "    When number of arguements is not known\n",
    "    If you do not know how many arguments that will be passed into your function, add a * before the parameter name in the function definition.\n",
    "    This way the function will receive a TUPLE of arguments, and can access the items accordingly:\n",
    "    \n",
    "    (*arg)It returns tuple"
   ]
  },
  {
   "cell_type": "code",
   "execution_count": 22,
   "id": "c21657ec",
   "metadata": {},
   "outputs": [
    {
     "name": "stdout",
     "output_type": "stream",
     "text": [
      "<class 'tuple'>\n",
      "('A', 'B', 'C', 50, 80)\n",
      "18\n"
     ]
    }
   ],
   "source": [
    "def class_students(*name, age=40):\n",
    "    print(type(name))\n",
    "    print(name)\n",
    "    print(age)\n",
    "\n",
    "class_students(\"A\", \"B\", \"C\", 50, 80, age=18)"
   ]
  },
  {
   "cell_type": "code",
   "execution_count": 25,
   "id": "efffd49b",
   "metadata": {},
   "outputs": [
    {
     "name": "stdout",
     "output_type": "stream",
     "text": [
      "A\n",
      "B\n",
      "{200, 300}\n",
      "[11, 22]\n",
      "3000\n",
      "last element is:  3000\n"
     ]
    }
   ],
   "source": [
    "#To iterate items of the tuple of arbitrary arguement\n",
    "\n",
    "def class_students(*name):\n",
    "    for i in name:\n",
    "        print(i)\n",
    "    print('last element is: ', name[-1])\n",
    "        \n",
    "class_students(\"A\",\"B\",{200,300}, [11, 22], 3000)"
   ]
  },
  {
   "cell_type": "code",
   "execution_count": null,
   "id": "9adb695c-c03a-427a-ba08-463c3a02a5f4",
   "metadata": {},
   "outputs": [],
   "source": []
  },
  {
   "cell_type": "markdown",
   "id": "760140b9",
   "metadata": {},
   "source": [
    "## Arbitrary Keyword arguements (**kwarg)\n",
    "-If you do not know how many keyword arguments that will be passed into your function, add two asterisk: ** before the parameter name in the function definition. This way the function will receive a DICTIONARY of arguments, and can access the items accordingly:\n",
    "\n",
    "(**) It returns dictionary\n",
    "\n",
    "-Positional arguements always follows after keyword arguement"
   ]
  },
  {
   "cell_type": "code",
   "execution_count": 27,
   "id": "3edcd4c9",
   "metadata": {
    "scrolled": true
   },
   "outputs": [
    {
     "name": "stdout",
     "output_type": "stream",
     "text": [
      "name: Coder\n",
      "{'age': 40, 'city': 'HYD', 'Country': 'India'}\n",
      "age 40\n",
      "city HYD\n",
      "Country India\n"
     ]
    }
   ],
   "source": [
    "def students(name, **details):\n",
    "    print(\"name:\", name)\n",
    "    print(details)\n",
    "    \n",
    "    for i,j in details.items():\n",
    "        print(i,j)\n",
    "        \n",
    "students(\"Coder\", age=40, city=\"HYD\", Country=\"India\") #Sequence matters"
   ]
  },
  {
   "cell_type": "code",
   "execution_count": 1,
   "id": "fcfe2104",
   "metadata": {},
   "outputs": [
    {
     "name": "stdout",
     "output_type": "stream",
     "text": [
      "names are:  ('A', 'B', [100, 900], 'yuvi')\n",
      "details are:  {'age': 40, 'city': 'Ranchi', 'Country': 'India'}\n"
     ]
    }
   ],
   "source": [
    "def students(*name, student='Coder', **details):\n",
    "    print(\"names are: \", name)\n",
    "    print(\"details are: \", details)\n",
    "\n",
    "students(\"A\", \"B\", [100,900], \"yuvi\", age=40, city=\"Ranchi\", Country=\"India\") #Sequence matters"
   ]
  },
  {
   "cell_type": "code",
   "execution_count": null,
   "id": "1bcb1197-d886-47d0-969e-083ac03fda04",
   "metadata": {},
   "outputs": [],
   "source": []
  }
 ],
 "metadata": {
  "kernelspec": {
   "display_name": "Python 3 (ipykernel)",
   "language": "python",
   "name": "python3"
  },
  "language_info": {
   "codemirror_mode": {
    "name": "ipython",
    "version": 3
   },
   "file_extension": ".py",
   "mimetype": "text/x-python",
   "name": "python",
   "nbconvert_exporter": "python",
   "pygments_lexer": "ipython3",
   "version": "3.9.13"
  }
 },
 "nbformat": 4,
 "nbformat_minor": 5
}

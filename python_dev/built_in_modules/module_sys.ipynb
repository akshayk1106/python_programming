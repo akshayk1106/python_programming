{
 "cells": [
  {
   "cell_type": "markdown",
   "id": "28580e2c-acdf-4a58-863f-7fcdd0ebd349",
   "metadata": {},
   "source": [
    "The python sys module provides functions and variables which are used to manipulate different parts of the Python Runtime Environment. It lets us access system-specific parameters and functions."
   ]
  },
  {
   "cell_type": "markdown",
   "id": "227853f6-4595-46f2-a006-7c7295dcc3d6",
   "metadata": {},
   "source": [
    "sys.modules\n",
    "\n",
    "This function provides the name of the existing python modules which have been imported.\n",
    "\n",
    "sys.argv\n",
    "\n",
    "This function returns a list of command line arguments passed to a Python script. The name of the script is always the item at index 0, and the rest of the arguments are stored at subsequent indices.\n",
    "\n",
    "sys.base_exec_prefix\n",
    "\n",
    "This function provides an efficient way to the same value as exec_prefix. If not running a virtual environment, the value will remain the same.\n",
    "\n",
    "sys.base_prefix\n",
    "\n",
    "It is set up during Python startup, before site.py is run, to the same value as prefix.\n",
    "\n",
    "sys.byteorder\n",
    "\n",
    "It is an indication of the native byteorder that provides an efficient way to do something.\n",
    "\n",
    "sys.maxsize\n",
    "\n",
    "This function returns the largest integer of a variable.\n",
    "\n",
    "sys.path\n",
    "\n",
    "This function shows the PYTHONPATH set in the current system. It is an environment variable that is a search path for all the python modules.\n",
    "\n",
    "sys.stdin\n",
    "\n",
    "It is an object that contains the original values of stdin at the start of the program and used during finalization. It can restore the files.\n",
    "\n",
    "sys.getrefcount\n",
    "\n",
    "This function returns the reference count of an object.\n",
    "\n",
    "sys.exit\n",
    "\n",
    "This function is used to exit from either the Python console or command prompt, and also used to exit from the program in case of an exception.\n",
    "\n",
    "sys executable\n",
    "\n",
    "The value of this function is the absolute path to a Python interpreter. It is useful for knowing where python is installed on someone else machine.\n",
    "\n",
    "sys.platform\n",
    "\n",
    "This value of this function is used to identify the platform on which we are working"
   ]
  }
 ],
 "metadata": {
  "kernelspec": {
   "display_name": "Python 3 (ipykernel)",
   "language": "python",
   "name": "python3"
  },
  "language_info": {
   "codemirror_mode": {
    "name": "ipython",
    "version": 3
   },
   "file_extension": ".py",
   "mimetype": "text/x-python",
   "name": "python",
   "nbconvert_exporter": "python",
   "pygments_lexer": "ipython3",
   "version": "3.9.13"
  }
 },
 "nbformat": 4,
 "nbformat_minor": 5
}

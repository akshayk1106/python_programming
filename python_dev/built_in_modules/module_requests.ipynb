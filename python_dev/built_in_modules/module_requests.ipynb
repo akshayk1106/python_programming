{
 "cells": [
  {
   "cell_type": "code",
   "execution_count": null,
   "id": "07d05b55-43ca-463e-938e-1ddf4192a853",
   "metadata": {},
   "outputs": [],
   "source": [
    "import requests"
   ]
  }
 ],
 "metadata": {
  "kernelspec": {
   "display_name": "Python 3 (ipykernel)",
   "language": "python",
   "name": "python3"
  },
  "language_info": {
   "name": ""
  }
 },
 "nbformat": 4,
 "nbformat_minor": 5
}

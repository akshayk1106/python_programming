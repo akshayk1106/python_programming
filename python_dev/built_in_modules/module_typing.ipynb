{
 "cells": [
  {
   "cell_type": "code",
   "execution_count": 2,
   "id": "1ba196db-a268-40d4-8fce-05f6aef3b73b",
   "metadata": {},
   "outputs": [
    {
     "name": "stdout",
     "output_type": "stream",
     "text": [
      "['ABCMeta', 'AbstractSet', 'Annotated', 'Any', 'AnyStr', 'AsyncContextManager', 'AsyncGenerator', 'AsyncIterable', 'AsyncIterator', 'Awaitable', 'BinaryIO', 'ByteString', 'CT_co', 'Callable', 'ChainMap', 'ClassVar', 'Collection', 'Container', 'ContextManager', 'Coroutine', 'Counter', 'DefaultDict', 'Deque', 'Dict', 'EXCLUDED_ATTRIBUTES', 'Final', 'ForwardRef', 'FrozenSet', 'Generator', 'Generic', 'GenericAlias', 'Hashable', 'IO', 'ItemsView', 'Iterable', 'Iterator', 'KT', 'KeysView', 'List', 'Literal', 'Mapping', 'MappingView', 'Match', 'MethodDescriptorType', 'MethodWrapperType', 'MutableMapping', 'MutableSequence', 'MutableSet', 'NamedTuple', 'NamedTupleMeta', 'NewType', 'NoReturn', 'Optional', 'OrderedDict', 'Pattern', 'Protocol', 'Reversible', 'Sequence', 'Set', 'Sized', 'SupportsAbs', 'SupportsBytes', 'SupportsComplex', 'SupportsFloat', 'SupportsIndex', 'SupportsInt', 'SupportsRound', 'T', 'TYPE_CHECKING', 'T_co', 'T_contra', 'Text', 'TextIO', 'Tuple', 'Type', 'TypeVar', 'TypedDict', 'Union', 'VT', 'VT_co', 'V_co', 'ValuesView', 'WrapperDescriptorType', '_AnnotatedAlias', '_BaseGenericAlias', '_CallableGenericAlias', '_CallableType', '_Final', '_GenericAlias', '_Immutable', '_LiteralGenericAlias', '_LiteralSpecialForm', '_NamedTuple', '_PROTO_WHITELIST', '_ProtocolMeta', '_SPECIAL_NAMES', '_SpecialForm', '_SpecialGenericAlias', '_TYPING_INTERNALS', '_TupleType', '_TypedDict', '_TypedDictMeta', '_TypingEllipsis', '_TypingEmpty', '_UnionGenericAlias', '__all__', '__builtins__', '__cached__', '__doc__', '__file__', '__loader__', '__name__', '__package__', '__spec__', '_alias', '_allow_reckless_class_cheks', '_allowed_types', '_check_generic', '_cleanups', '_collect_type_vars', '_deduplicate', '_eval_type', '_flatten_literal_params', '_get_defaults', '_get_protocol_attrs', '_is_callable_members_only', '_is_dunder', '_make_nmtuple', '_namedtuple_mro_entries', '_no_init_or_replace_init', '_overload_dummy', '_prohibited', '_remove_dups_flatten', '_special', '_strip_annotations', '_tp_cache', '_type_check', '_type_convert', '_type_repr', '_value_and_type_iter', 'abstractmethod', 'cast', 'collections', 'contextlib', 'final', 'functools', 'get_args', 'get_origin', 'get_type_hints', 'io', 'no_type_check', 'no_type_check_decorator', 'operator', 'overload', 're', 'runtime_checkable', 'stdlib_re', 'sys', 'types']\n"
     ]
    }
   ],
   "source": [
    "import typing\n",
    "\n",
    "print(dir(typing))"
   ]
  },
  {
   "cell_type": "code",
   "execution_count": null,
   "id": "2c024cd3-772d-4d6e-b1df-651c5e382cfb",
   "metadata": {},
   "outputs": [],
   "source": []
  },
  {
   "cell_type": "code",
   "execution_count": null,
   "id": "6fc5c0a9-ec1c-49c9-8ec0-c7c308897678",
   "metadata": {},
   "outputs": [],
   "source": []
  }
 ],
 "metadata": {
  "kernelspec": {
   "display_name": "Python 3 (ipykernel)",
   "language": "python",
   "name": "python3"
  },
  "language_info": {
   "codemirror_mode": {
    "name": "ipython",
    "version": 3
   },
   "file_extension": ".py",
   "mimetype": "text/x-python",
   "name": "python",
   "nbconvert_exporter": "python",
   "pygments_lexer": "ipython3",
   "version": "3.9.13"
  }
 },
 "nbformat": 4,
 "nbformat_minor": 5
}

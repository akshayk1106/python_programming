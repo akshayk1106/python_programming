{
 "cells": [
  {
   "cell_type": "markdown",
   "id": "f67f57d7",
   "metadata": {},
   "source": [
    "## <mark> SETS { }\n",
    "\n",
    "-A Set is an unordered iterable data type mutable and has no duplicate elements.\n",
    "\n",
    "-The major advantage of using a set, as opposed to a list, is that it has a highly optimized method for checking whether a specific element is contained in the set. This is based on a data structure known as a hash table. Since sets are unordered, we cannot access items using indexes like we do in lists.\n",
    "\n",
    "-Non-repeatable/**Unique** elements\n",
    "\n",
    "-**Unordered and unindexed** and slicing can not be done\n",
    "\n",
    "    myset[1] --> Error: 'set' object is not subscriptable as it is unindexed\n",
    "\n",
    "    Even slicing can not be done in set because slicing requires indexing\n",
    "\n",
    "-Can perform mathematical sets operations unlike list: union, intersection, symmetric difference\n",
    "\n",
    "-can contain homo/hetero data\n",
    "\n",
    "-set is **mutable**. Once a set is created, you cannot change its items (as it contains only immutable objects), but you can add or remove items of the set.\n",
    "\n",
    "-Set can **contain immutable datatype only** BUT it cannot contain mutable datatype(eg. list, dict, set). Error: unhashable type: 'set', 'dict', 'list'\n",
    "\n",
    "    YES -tuple in set, Frozenset in set, string in set\n",
    "\n",
    "    NO -set in set, list in set, dict in set"
   ]
  },
  {
   "cell_type": "markdown",
   "id": "95af3713",
   "metadata": {},
   "source": [
    "-***An ITERABLE is any Python object capable of returning its members one at a time***, permitting it to be iterated over in a for-loop. Familiar examples of iterables include lists, tuples, and strings - any such sequence can be iterated over in a for-loop.\n",
    "\n",
    "-Examples of iterables include ALL SEQUENCE TYPES (such as list , str , and tuple ) and SOME NON-SEQUENCE types like dict , file objects, and objects of any classes you define with an __iter__() method or with a __getitem__() method that implements Sequence semantics."
   ]
  },
  {
   "cell_type": "code",
   "execution_count": 1,
   "id": "3b7ead65",
   "metadata": {},
   "outputs": [],
   "source": [
    "#a=[] -> List\n",
    "#b=() -> Tuple\n",
    "#f=(\"abc\") -> String\n",
    "#g=(\"def\",) -> Tuple\n",
    "#d={4} ->Set\n",
    "\n",
    "c={} #Empty curly brackets gives Dictionary not set\n",
    "e=set(c) #->Set"
   ]
  },
  {
   "cell_type": "markdown",
   "id": "5e529b7d-1904-48e4-aaca-fbe01c2f81f0",
   "metadata": {},
   "source": [
    "**unhashable type**: 'list' ---> usually means that you are trying to use a list as an hash argument. \n",
    "This means that when you try to hash an unhashable object it will result an error. \n",
    "For ex. when you use a list as a key in the dictionary , this cannot be done because lists can't be hashed. \n",
    "The standard way to solve this issue is to cast a list to a tuple.\n",
    "\n",
    "The hash() is a built-in python method, used to return a UNIQUE NUMBER . \n",
    "This can be applied to any user-defined object which won’t get changed once initialized. \n",
    "This property is used mainly in dictionary keys.\n",
    "\n",
    "Hashable objects: \n",
    "    int, float, decimal, complex, bool, string, tuple, range, frozenset, bytes\n",
    "Unhashable Objects:\n",
    "    list, dict, set, bytearray, user-defined classes"
   ]
  },
  {
   "cell_type": "markdown",
   "id": "cbc72dcb",
   "metadata": {},
   "source": [
    "### <mark> set methods\n",
    "\n",
    "    A.add() -For adding single element. Takes one arg/-\n",
    "\n",
    "    A.update([],(),{,},{:}) -For adding multiple elements. Updates a set with the union of itself and others.\n",
    "\n",
    "    A.remove() -If the element is not a member, ERROR. Takes one arg/-\n",
    "\n",
    "    A.discard() -If the element is not a member, DO NOTHING. Takes one arg/-\n",
    "\n",
    "    A.pop() -Removes random element. Takes no arg.\n",
    "\n",
    "    A.clear() -Remove all elements from this set.\n",
    "\n",
    "    B=A.copy() - Returns the shallow copy of a set\n",
    "    -------------------------------------------------------------------"
   ]
  },
  {
   "cell_type": "markdown",
   "id": "b299aacc",
   "metadata": {},
   "source": [
    "    A.union(B) or A|B....(Pipe symbol)\n",
    "\n",
    "    A.intersection(B) or A&B\n",
    "\n",
    "    A.intersection_update(B) -Update a set with the intersection of itself and another.\n",
    "\n",
    "    A.difference(B) or A-B\n",
    "\n",
    "    A.difference_update(B)\n",
    "\n",
    "    A.symmetric_difference(B) or A^B=B^A\n",
    "    -------------------------------------------------------------------"
   ]
  },
  {
   "cell_type": "markdown",
   "id": "052f7948",
   "metadata": {},
   "source": [
    "    A.isdisjoin(B) -Return True if two sets have a null intersection.\n",
    "\n",
    "    A.issubset(B) -Report whether another set contains this set.\n",
    "\n",
    "    A.issuperset(B) -Report whether this set contains another set."
   ]
  },
  {
   "cell_type": "markdown",
   "id": "422fd50e",
   "metadata": {},
   "source": [
    "### <mark> add() and update()"
   ]
  },
  {
   "cell_type": "code",
   "execution_count": 3,
   "id": "ca79e4f3",
   "metadata": {},
   "outputs": [
    {
     "name": "stdout",
     "output_type": "stream",
     "text": [
      "{1, 2, 3, 4, 'XYZ'}\n",
      "{1, 2, 3, 4, 966, 'banana', 1000, 'XYZ', 305}\n",
      "{1, 2, 3, 4, 966, 'banana', 1000, 'XYZ', 305, (8+90j), 'papaya'}\n",
      "{1, 2, 3, 4, 'USA', 966, 'banana', 1000, 'forget', 'XYZ', 305, (8+90j), 'papaya'}\n",
      "{1, 2, 3, 4, 'USA', 966, 'banana', 1000, 'forget', 'joker', 'XYZ', 305, (8+90j), 'papaya', 'd'}\n",
      "{1, 2, 3, 4, 'USA', 'XYZ', (8+90j), 'papaya', 33.25, 'forget', 305, 'd', 966, 'banana', 'rose', 90, 'joker', 1000, 'flower'}\n"
     ]
    }
   ],
   "source": [
    "abc={1,2,3,4}\n",
    "\n",
    "#For adding single element\n",
    "abc.add(\"XYZ\")\n",
    "print(abc)\n",
    "\n",
    "# .update() For adding multiple element\n",
    "# Updates a set with the union of itself and others.\n",
    "abc.update([1000,305,966,'banana'])\n",
    "print(abc)\n",
    "\n",
    "abc.update((8+90j,'papaya'))\n",
    "print(abc)\n",
    "\n",
    "abc.update({'forget','USA'})\n",
    "print(abc)\n",
    "\n",
    "# if elemnet is dict, its only keys gets updated inside set\n",
    "abc.update({'d':8,'joker':600})\n",
    "print(abc)\n",
    "\n",
    "# the iterables first get flatten and then get added to the set\n",
    "abc.update([1000,305,966,'rose'], ('flower',90,33.25))\n",
    "print(abc)"
   ]
  },
  {
   "cell_type": "markdown",
   "id": "69f4e918",
   "metadata": {},
   "source": [
    "### <mark> remove, discard, pop, clear, del"
   ]
  },
  {
   "cell_type": "code",
   "execution_count": 4,
   "id": "0ac65792",
   "metadata": {},
   "outputs": [
    {
     "name": "stdout",
     "output_type": "stream",
     "text": [
      "{5, 6, 7}\n"
     ]
    }
   ],
   "source": [
    "'''Remove an element from a set if it is a member.\n",
    "If the element is not a member, DO NOTHING - NO ERROR.'''\n",
    "\n",
    "mob={4,5,6,7}\n",
    "mob.discard(4)\n",
    "print(mob)"
   ]
  },
  {
   "cell_type": "code",
   "execution_count": 16,
   "id": "e9bee7f2",
   "metadata": {},
   "outputs": [
    {
     "name": "stdout",
     "output_type": "stream",
     "text": [
      "{1, 2, 6}\n"
     ]
    }
   ],
   "source": [
    "'''Remove an element from a set; it must be a member.\n",
    "If the element is not a member, raise a KEYERROR'''\n",
    "\n",
    "call={1,2,3,6}\n",
    "call.remove(3)\n",
    "print(call)"
   ]
  },
  {
   "cell_type": "code",
   "execution_count": 19,
   "id": "574d9ee5",
   "metadata": {},
   "outputs": [
    {
     "name": "stdout",
     "output_type": "stream",
     "text": [
      "{'merc', 'suzuki', 'bmw'}\n"
     ]
    }
   ],
   "source": [
    "'''Remove and return an RANDOM set element.\n",
    "Raises KeyError if the set is empty.'''\n",
    "\n",
    "car={\"honda\",\"suzuki\",\"bmw\",\"merc\"}\n",
    "car.pop() #For set, pop() takes no arguments\n",
    "print(car)"
   ]
  },
  {
   "cell_type": "code",
   "execution_count": 49,
   "id": "6ca8d73b",
   "metadata": {},
   "outputs": [
    {
     "name": "stdout",
     "output_type": "stream",
     "text": [
      "set()\n"
     ]
    },
    {
     "data": {
      "text/plain": [
       "0"
      ]
     },
     "execution_count": 49,
     "metadata": {},
     "output_type": "execute_result"
    }
   ],
   "source": [
    "'''Remove all elements from this set.'''\n",
    "\n",
    "car={\"honda\",\"suzuki\",\"bmw\",\"merc\"}\n",
    "car.clear()\n",
    "print(car)\n",
    "len(car)"
   ]
  },
  {
   "cell_type": "markdown",
   "id": "b418e569",
   "metadata": {},
   "source": [
    "#### copy()\n",
    "Returns shallow copy of the set"
   ]
  },
  {
   "cell_type": "code",
   "execution_count": null,
   "id": "34e30a09",
   "metadata": {},
   "outputs": [
    {
     "data": {
      "text/plain": [
       "{1, 2, 3, 4}"
      ]
     },
     "execution_count": 18,
     "metadata": {},
     "output_type": "execute_result"
    }
   ],
   "source": [
    "a={1,2,3,4}\n",
    "b={\"dhoni\",\"virat\",2,3,4,5,6}\n",
    "\n",
    "c=a.copy()\n",
    "c"
   ]
  },
  {
   "cell_type": "markdown",
   "id": "6b756ed7-8aa9-4238-91bc-157dbcb37285",
   "metadata": {},
   "source": [
    "### <mark> set operations"
   ]
  },
  {
   "cell_type": "code",
   "execution_count": 1,
   "id": "2ccae483-3800-4bfc-9fde-9ee68f2c5342",
   "metadata": {},
   "outputs": [],
   "source": [
    "a={1, 2, 3, 4}\n",
    "b={\"pune\",\"hyd\", 2, 3, 4, 5, 6}\n",
    "c={'his', 'hyd', 2, 3, 4, 5}"
   ]
  },
  {
   "cell_type": "code",
   "execution_count": 16,
   "id": "b3ccfa03-dc18-4274-958f-f79cdf5e3724",
   "metadata": {},
   "outputs": [
    {
     "data": {
      "text/plain": [
       "{1, 2, 3, 4, 5, 6, 'hyd', 'pune'}"
      ]
     },
     "execution_count": 16,
     "metadata": {},
     "output_type": "execute_result"
    }
   ],
   "source": [
    "a.union(b)\n",
    "# a|b"
   ]
  },
  {
   "cell_type": "code",
   "execution_count": 17,
   "id": "e2c49b13-ea3c-4c68-9a21-2279699e2766",
   "metadata": {},
   "outputs": [
    {
     "data": {
      "text/plain": [
       "{2, 3, 4}"
      ]
     },
     "execution_count": 17,
     "metadata": {},
     "output_type": "execute_result"
    }
   ],
   "source": [
    "a.intersection(b)\n",
    "# a&b"
   ]
  },
  {
   "cell_type": "code",
   "execution_count": 2,
   "id": "c68c1457-fe4a-4f24-aba1-22c1d1acc3d5",
   "metadata": {},
   "outputs": [
    {
     "data": {
      "text/plain": [
       "{2, 3, 4, 5, 'hyd'}"
      ]
     },
     "execution_count": 2,
     "metadata": {},
     "output_type": "execute_result"
    }
   ],
   "source": [
    "c.intersection_update(b)\n",
    "c"
   ]
  },
  {
   "cell_type": "code",
   "execution_count": 18,
   "id": "f3386837-a1cd-4891-be78-09e31f019d30",
   "metadata": {},
   "outputs": [
    {
     "data": {
      "text/plain": [
       "{1}"
      ]
     },
     "execution_count": 18,
     "metadata": {},
     "output_type": "execute_result"
    }
   ],
   "source": [
    "a.difference(b)\n",
    "# a - b"
   ]
  },
  {
   "cell_type": "code",
   "execution_count": 24,
   "id": "63a4d7fc-52c4-41d0-839e-179435b9ad20",
   "metadata": {},
   "outputs": [
    {
     "data": {
      "text/plain": [
       "{5, 6, 'hyd', 'pune'}"
      ]
     },
     "execution_count": 24,
     "metadata": {},
     "output_type": "execute_result"
    }
   ],
   "source": [
    "a.symmetric_difference(b)\n",
    "# a^b\n",
    "# same output given by b.symmetric_difference(a)"
   ]
  },
  {
   "cell_type": "code",
   "execution_count": 27,
   "id": "f8ff0566-162a-4335-9f35-062369b9e9a7",
   "metadata": {},
   "outputs": [
    {
     "name": "stdout",
     "output_type": "stream",
     "text": [
      "False\n",
      "True \n",
      "\n",
      "True\n",
      "True\n"
     ]
    }
   ],
   "source": [
    "A={1,2}\n",
    "B={1,2,5,6,7}\n",
    "C={8,9,10,11}\n",
    "\n",
    "# isdisjoin() -Return True if two sets have a null intersection.\n",
    "print(A.isdisjoint(B))\n",
    "print(A.isdisjoint(C),\"\\n\")\n",
    "\n",
    "# issubset() -Report whether another set contains this set.\n",
    "print(A.issubset(B))\n",
    "\n",
    "# issuperset() -Report whether this set contains another set.\n",
    "print(B.issuperset(A))"
   ]
  },
  {
   "cell_type": "markdown",
   "id": "0587dfa7-9e27-447d-96ed-d4a6e6893ea7",
   "metadata": {},
   "source": [
    "## <mark> frozenset()\n",
    "\n",
    "-Frozen set is just an IMMUTABLE VERSION OF A SET object. While elements of a set can be modified at any time, elements of the frozen set remain the same after creation. Due to this, frozen sets can be used as keys in Dictionary or as elements of another set.\n",
    "\n",
    "-While tuples are immutable lists, frozen sets are immutable sets\n",
    "\n",
    "-can not be done : add, remove, clear, pop, discard, update\n",
    "\n",
    "-possible- copy and set operations(except update)"
   ]
  },
  {
   "cell_type": "code",
   "execution_count": null,
   "id": "02071ba9-ba96-4828-88b4-3712c4710655",
   "metadata": {},
   "outputs": [],
   "source": []
  }
 ],
 "metadata": {
  "kernelspec": {
   "display_name": "Python 3 (ipykernel)",
   "language": "python",
   "name": "python3"
  },
  "language_info": {
   "codemirror_mode": {
    "name": "ipython",
    "version": 3
   },
   "file_extension": ".py",
   "mimetype": "text/x-python",
   "name": "python",
   "nbconvert_exporter": "python",
   "pygments_lexer": "ipython3",
   "version": "3.9.13"
  }
 },
 "nbformat": 4,
 "nbformat_minor": 5
}

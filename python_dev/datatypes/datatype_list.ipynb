{
 "cells": [
  {
   "cell_type": "markdown",
   "id": "2cd6f226-735b-477b-8889-d12122c7489a",
   "metadata": {},
   "source": [
    "# LIST\n",
    "\n",
    "    {iterable meaning ->    }\n",
    "    List is a collection of sequence\n",
    "    Ordered\n",
    "    Mutable(Changeable)\n",
    "    Can have duplicate members (unlike in a set)\n",
    "    Represented by square brackets []\n",
    "    Can hold heterogenous datatypes"
   ]
  },
  {
   "cell_type": "code",
   "execution_count": 32,
   "id": "3c8650dc-8503-4ce6-98d8-7e2df915209a",
   "metadata": {},
   "outputs": [
    {
     "name": "stdout",
     "output_type": "stream",
     "text": [
      "['*', '@', 6, 8]\n"
     ]
    }
   ],
   "source": [
    "even=[2,4,6,8]\n",
    "even[0:2]=[\"*\",\"@\"]\n",
    "print(even)"
   ]
  },
  {
   "cell_type": "code",
   "execution_count": 33,
   "id": "3918e8e0-4806-421b-b1ee-b82ec4eb82ef",
   "metadata": {},
   "outputs": [
    {
     "name": "stdout",
     "output_type": "stream",
     "text": [
      "['PYTHON', 12, 14, 16, 18]\n"
     ]
    }
   ],
   "source": [
    "even=[2,4,6,8,10,12,14,16,18]\n",
    "even[0:5]=[\"PYTHON\"]\n",
    "print(even)\n",
    "#Notice that indexing of elements from 12 are also changing\n",
    "#Dynamic Memory"
   ]
  },
  {
   "cell_type": "code",
   "execution_count": 34,
   "id": "9a29441c-dad5-426d-a930-69e601cb912c",
   "metadata": {},
   "outputs": [
    {
     "name": "stdout",
     "output_type": "stream",
     "text": [
      "['@', 3, 4, 5, 5, 4, 6, 8, '%']\n",
      "Length of list is :  9\n"
     ]
    }
   ],
   "source": [
    "even=[2,3,4,5,5,4,6,8,8]\n",
    "\n",
    "even[0::len(even)-1]=[\"@\",\"%\"]\n",
    "\n",
    "print(even)\n",
    "print(\"Length of list is : \", len(even))"
   ]
  },
  {
   "cell_type": "code",
   "execution_count": 35,
   "id": "1d90155f-fb22-4f17-991e-cb3ddb178086",
   "metadata": {},
   "outputs": [
    {
     "name": "stdout",
     "output_type": "stream",
     "text": [
      "[18]\n",
      "[2, 4, 6, 8, 10, 12, 14, 16, 18, 'P', 'y', 't', 'h', 'o', 'n']\n"
     ]
    }
   ],
   "source": [
    "even = [2,4,6,8,10,12,14,16,18,20]\n",
    "print(even[-2:-1])\n",
    "even[-1:]=\"Python\"\n",
    "print(even)"
   ]
  },
  {
   "cell_type": "code",
   "execution_count": 36,
   "id": "127b965b-41d7-49d1-8f45-cdce5c1468bb",
   "metadata": {},
   "outputs": [
    {
     "name": "stdout",
     "output_type": "stream",
     "text": [
      "[2, 4, 6, 8, 10, 12, 14, 16, 18, 'Python']\n"
     ]
    }
   ],
   "source": [
    "even = [2,4,6,8,10,12,14,16,18,20]\n",
    "even[-1:]=(\"Python\",) #tuple\n",
    "print(even)"
   ]
  },
  {
   "cell_type": "code",
   "execution_count": 37,
   "id": "ac122676-aaa8-4876-a1dc-5a3c72313b44",
   "metadata": {},
   "outputs": [
    {
     "name": "stdout",
     "output_type": "stream",
     "text": [
      "[2, 4, 6, 8, 10, 12, 14, 16, 18, 'Python', (45+8j)]\n"
     ]
    }
   ],
   "source": [
    "even = [2,4,6,8,10,12,14,16,18,20]\n",
    "even[-1:]=(\"Python\",45+8j) #tuple\n",
    "print(even)"
   ]
  },
  {
   "cell_type": "code",
   "execution_count": 38,
   "id": "c0d1b187-de2f-4243-ac33-4741e6c8509b",
   "metadata": {},
   "outputs": [
    {
     "name": "stdout",
     "output_type": "stream",
     "text": [
      "[2, 4, 6, 8, 10, 12, 14, 16, 18, 'e', 'n', 'o', 'h', 't', 'y', 'P', 20]\n"
     ]
    }
   ],
   "source": [
    "even = [2,4,6,8,10,12,14,16,18,20]\n",
    "even [-1:-5]=\"Pythone\"[::-1]\n",
    "print(even)"
   ]
  },
  {
   "cell_type": "code",
   "execution_count": 39,
   "id": "98e33159-3235-488c-8096-976bb89cf4c6",
   "metadata": {},
   "outputs": [],
   "source": [
    "s=[{4,6,8}] #Set inside list possible\n",
    "# list/dictionary inside list is not possible\n",
    "s1=[1,{4:\"k\",6:\"f\",8:\"h\"}] #dict inside list possible\n",
    "s2=[8,(9,0,\"let\")] #Tuple inside list possible\n",
    "s3=[[5,6,7],8,9] #List inside list possible"
   ]
  },
  {
   "cell_type": "code",
   "execution_count": 40,
   "id": "521fcbd8-e597-42b2-9d90-1829a5711317",
   "metadata": {},
   "outputs": [],
   "source": [
    "lis=[5,9,6]\n",
    "tup=(4,10,55,60)\n",
    "sett={4,6,7,9}\n",
    "dicti={\"a\":23,\"b\":33}\n",
    "\n",
    "#print(lis+tup)#--> ERROR: can only concatenate list (not \"tuple\") to list\n",
    "\n",
    "#print(lis+sett) #--> ERROR: can only concatenate list (not \"set\") to list\n",
    "\n",
    "#print(lis+dicti) #--> ERROR: can only concatenate list (not \"set\") to list"
   ]
  },
  {
   "cell_type": "code",
   "execution_count": null,
   "id": "7aa4cb88-9d3e-4f04-9e1c-729ef9bb767e",
   "metadata": {},
   "outputs": [],
   "source": []
  },
  {
   "cell_type": "markdown",
   "id": "c8df973d",
   "metadata": {},
   "source": [
    "# LIST METHODS(attributes)\n",
    "\n",
    "### <font color='blue'> Adding List Items\n",
    "    \n",
    "`.count(value)`    \n",
    "-Return number of occurrences of value.\n",
    "\n",
    "`.index(value,start,stop)`    \n",
    "-It retuns the index of the first matched item\n",
    "\n",
    "### <font color='blue'> Adding List Items\n",
    "    \n",
    "`.append(object, /)`    \n",
    "-Adding SINGLE element at the end of list\n",
    "\n",
    "`.extend(iterable, /)`  \n",
    "-Extend list by appending elements from the iterable.\n",
    "-Adds all elements from an iterable to a list\n",
    "-Modifies original list, does not retun any value\n",
    "\n",
    "`.insert(index, object, /)`  \n",
    "-insert an item before index\n",
    "-requires: index number and element to be added\n",
    "\n",
    "### <font color='blue'> Deleting List Items\n",
    "    \n",
    "`.remove(value)`    \n",
    "    -removes based on value\n",
    "    -This method removes the FIRST matching value (which is passed as an arguement)\n",
    "    -Raises: ValueError if value not found\n",
    "\n",
    "`.pop(index)`    \n",
    "    -removes based on index\n",
    "    -Remove and return item at index (default last (-1)).\n",
    "    -Raises: IndexError if index out of range\n",
    "    \n",
    "`.clear()`    \n",
    "    -Method removes ALL items/elements from the list,returns EMPTY list\n",
    "\n",
    "\n",
    "### <font color='blue'> Sort/Copy/Reverse operations on List\n",
    "    \n",
    "`.reverse()`    \n",
    "-Method reverses the elmeents of the list(Not descending order)\n",
    "\n",
    "`.sort(*, key=None, reverse=False)`    \n",
    "-makes changes in the original list and \n",
    "-does not return anything\n",
    "-If a key function is given, apply it once to each list item and sort them\n",
    "    \n",
    "`sorted(iterable,key=None,reverse=False)`    \n",
    "-does NOT change the original list and \n",
    "-returns a sorted list\n",
    "-Sorted sorts ANY SEQUENCE but always returns a LIST, without modifying the original sequence\n",
    "\n",
    "`.copy()`    \n",
    "    \n",
    "    >>> new_players=players.copy()\n",
    "    - copies references to new list\n",
    "    \n",
    "`copy.deepcopy()`\n",
    "    \n",
    "    >>> D=copy.deepcopy(C)\n",
    "    - recursively copies elements to new list"
   ]
  },
  {
   "cell_type": "code",
   "execution_count": 7,
   "id": "214d8c5b",
   "metadata": {},
   "outputs": [
    {
     "name": "stdout",
     "output_type": "stream",
     "text": [
      "['cat', 'dog', 'rabbit', 'cow']\n"
     ]
    }
   ],
   "source": [
    "animal=[\"cat\",\"dog\",\"rabbit\"]\n",
    "animal.append(\"cow\")\n",
    "print(animal)"
   ]
  },
  {
   "cell_type": "code",
   "execution_count": 11,
   "id": "c26fc576",
   "metadata": {
    "tags": []
   },
   "outputs": [
    {
     "name": "stdout",
     "output_type": "stream",
     "text": [
      "['cat', 'dog', 'rabbit', ['black cat', 'white cat']]\n"
     ]
    }
   ],
   "source": [
    "animal=[\"cat\",\"dog\",\"rabbit\"]\n",
    "animal.append([\"black cat\", \"white cat\"])\n",
    "print(animal)"
   ]
  },
  {
   "cell_type": "code",
   "execution_count": 12,
   "id": "fb6719b0",
   "metadata": {},
   "outputs": [
    {
     "name": "stdout",
     "output_type": "stream",
     "text": [
      "['cat', 'dog', 'rabbit', 'black cat', 'white cat']\n"
     ]
    }
   ],
   "source": [
    "animal=[\"cat\",\"dog\",\"rabbit\"]\n",
    "animal.extend([\"black cat\", \"white cat\"])\n",
    "print(animal)"
   ]
  },
  {
   "cell_type": "code",
   "execution_count": 1,
   "id": "8a165932",
   "metadata": {},
   "outputs": [
    {
     "name": "stdout",
     "output_type": "stream",
     "text": [
      "['a', 'e', 'i', 'o', 'u']\n"
     ]
    }
   ],
   "source": [
    "vowel=[\"a\",\"e\",\"i\",\"u\"]\n",
    "\n",
    "vowel.insert(3,\"o\")\n",
    "print(vowel)"
   ]
  },
  {
   "cell_type": "code",
   "execution_count": 2,
   "id": "75c02663",
   "metadata": {},
   "outputs": [
    {
     "data": {
      "text/plain": [
       "['a', 'e', 'i', 'o', 'u', 'done']"
      ]
     },
     "execution_count": 2,
     "metadata": {},
     "output_type": "execute_result"
    }
   ],
   "source": [
    "#Does not retun error if indexing out of range\n",
    "vowel.insert(15,\"done\")\n",
    "vowel"
   ]
  },
  {
   "cell_type": "code",
   "execution_count": 3,
   "id": "906abcd2",
   "metadata": {},
   "outputs": [
    {
     "data": {
      "text/plain": [
       "['ok', 'a', 'e', 'i', 'o', 'u', 'done']"
      ]
     },
     "execution_count": 3,
     "metadata": {},
     "output_type": "execute_result"
    }
   ],
   "source": [
    "#if indexing left empty gives error\n",
    "vowel.insert(0, \"ok\")\n",
    "vowel"
   ]
  },
  {
   "cell_type": "code",
   "execution_count": 4,
   "id": "00ba5f41",
   "metadata": {},
   "outputs": [
    {
     "data": {
      "text/plain": [
       "['ok', 'a', 'e', 'i', 'o', 'u', ['d', 'f'], 'done']"
      ]
     },
     "execution_count": 4,
     "metadata": {},
     "output_type": "execute_result"
    }
   ],
   "source": [
    "vowel.insert(6,[\"d\",\"f\"])\n",
    "vowel"
   ]
  },
  {
   "cell_type": "code",
   "execution_count": 6,
   "id": "ba3cb89a",
   "metadata": {},
   "outputs": [
    {
     "data": {
      "text/plain": [
       "['cat', 'dog', 'rabbit']"
      ]
     },
     "execution_count": 6,
     "metadata": {},
     "output_type": "execute_result"
    }
   ],
   "source": [
    "animal=[\"cat\",\"dog\",\"rabbit\", \"rabbit\"]\n",
    "\n",
    "animal.remove(\"rabbit\")\n",
    "animal"
   ]
  },
  {
   "cell_type": "code",
   "execution_count": 7,
   "id": "d42be2c3",
   "metadata": {},
   "outputs": [
    {
     "data": {
      "text/plain": [
       "['cat', 'dog', 'dog']"
      ]
     },
     "execution_count": 7,
     "metadata": {},
     "output_type": "execute_result"
    }
   ],
   "source": [
    "#Element Can be removed using indexing\n",
    "animal=[\"cat\",\"dog\",\"dog\",\"rabbit\"]\n",
    "animal.remove(animal[3])\n",
    "animal"
   ]
  },
  {
   "cell_type": "code",
   "execution_count": 8,
   "id": "eb23493c",
   "metadata": {},
   "outputs": [
    {
     "name": "stdout",
     "output_type": "stream",
     "text": [
      "['python', 'c++', 'french', 'Go Lang']\n"
     ]
    }
   ],
   "source": [
    "lang=[\"python\",\"java\",\"c++\",\"french\",\"Go Lang\"]\n",
    "\n",
    "lang.pop(1)\n",
    "print(lang)"
   ]
  },
  {
   "cell_type": "code",
   "execution_count": 9,
   "id": "3284310a",
   "metadata": {},
   "outputs": [
    {
     "name": "stdout",
     "output_type": "stream",
     "text": [
      "['python', '.net', 'java', 'c++', 'french']\n"
     ]
    }
   ],
   "source": [
    "lang1=[\"python\",\".net\",\"java\",\"c++\",\"french\",\"Go Lang\"]\n",
    "lang1.pop() #Defualt is last item\n",
    "print(lang1)"
   ]
  },
  {
   "cell_type": "code",
   "execution_count": 10,
   "id": "9bb538dd",
   "metadata": {},
   "outputs": [
    {
     "name": "stdout",
     "output_type": "stream",
     "text": [
      "['c++', 'french', 'Go Lang']\n"
     ]
    }
   ],
   "source": [
    "lang2=[\"python\",\".net\",\"java\",\"c++\",\"french\",\"Go Lang\"]\n",
    "del lang2[0:3]\n",
    "print(lang2)"
   ]
  },
  {
   "cell_type": "code",
   "execution_count": 11,
   "id": "6bde8557",
   "metadata": {},
   "outputs": [
    {
     "ename": "NameError",
     "evalue": "name 'lang2' is not defined",
     "output_type": "error",
     "traceback": [
      "\u001b[1;31m---------------------------------------------------------------------------\u001b[0m",
      "\u001b[1;31mNameError\u001b[0m                                 Traceback (most recent call last)",
      "\u001b[1;32m~\\AppData\\Local\\Temp\\ipykernel_19888\\3467571132.py\u001b[0m in \u001b[0;36m<module>\u001b[1;34m\u001b[0m\n\u001b[0;32m      1\u001b[0m \u001b[1;32mdel\u001b[0m \u001b[0mlang2\u001b[0m\u001b[1;33m\u001b[0m\u001b[1;33m\u001b[0m\u001b[0m\n\u001b[1;32m----> 2\u001b[1;33m \u001b[0mprint\u001b[0m\u001b[1;33m(\u001b[0m\u001b[0mlang2\u001b[0m\u001b[1;33m)\u001b[0m\u001b[1;33m\u001b[0m\u001b[1;33m\u001b[0m\u001b[0m\n\u001b[0m\u001b[0;32m      3\u001b[0m \u001b[1;33m\u001b[0m\u001b[0m\n\u001b[0;32m      4\u001b[0m \u001b[1;31m#Here output is : name 'lang2' is not defined\u001b[0m\u001b[1;33m\u001b[0m\u001b[1;33m\u001b[0m\u001b[0m\n\u001b[0;32m      5\u001b[0m \u001b[1;31m#The list itself gets deleted and variable name becomes undefined\u001b[0m\u001b[1;33m\u001b[0m\u001b[1;33m\u001b[0m\u001b[0m\n",
      "\u001b[1;31mNameError\u001b[0m: name 'lang2' is not defined"
     ]
    }
   ],
   "source": [
    "del lang2\n",
    "print(lang2)\n",
    "\n",
    "#Here output is : name 'lang2' is not defined\n",
    "#The list itself gets deleted and variable name becomes undefined"
   ]
  },
  {
   "cell_type": "code",
   "execution_count": 12,
   "id": "8ff4a558",
   "metadata": {},
   "outputs": [
    {
     "name": "stdout",
     "output_type": "stream",
     "text": [
      "[]\n"
     ]
    }
   ],
   "source": [
    "animal=[\"cat\",\"dog\",\"dog\",\"rabbit\"]\n",
    "animal.clear()\n",
    "print(animal)"
   ]
  },
  {
   "cell_type": "code",
   "execution_count": 13,
   "id": "c1e8bd8f",
   "metadata": {},
   "outputs": [
    {
     "name": "stdout",
     "output_type": "stream",
     "text": [
      "[]\n"
     ]
    }
   ],
   "source": [
    "#emptying list using del\n",
    "animal4=[\"cat\",\"dog\",\"dog\",\"rabbit\"]\n",
    "del animal4[:4] \n",
    "#or del animal4[0:len(animal4)] \n",
    "print(animal4)"
   ]
  },
  {
   "cell_type": "code",
   "execution_count": 14,
   "id": "922bcc81",
   "metadata": {},
   "outputs": [
    {
     "data": {
      "text/plain": [
       "2"
      ]
     },
     "execution_count": 14,
     "metadata": {},
     "output_type": "execute_result"
    }
   ],
   "source": [
    "vowels=[\"a\",\"e\",\"i\",\"o\",\"u\"]\n",
    "vowels.index(\"i\")"
   ]
  },
  {
   "cell_type": "code",
   "execution_count": 16,
   "id": "8b6c8730",
   "metadata": {},
   "outputs": [
    {
     "data": {
      "text/plain": [
       "5"
      ]
     },
     "execution_count": 16,
     "metadata": {},
     "output_type": "execute_result"
    }
   ],
   "source": [
    "vowels=[\"a\",\"e\",\"i\",\"o\",\"u\",\"a\",\"e\",\"i\",\"o\",\"u\"]\n",
    "vowels.index(\"a\",1,6)\n",
    "#1 i.e, Start is inclusive \n",
    "#6 i.e, Stop is exclusive"
   ]
  },
  {
   "cell_type": "code",
   "execution_count": 17,
   "id": "921778f5",
   "metadata": {},
   "outputs": [
    {
     "data": {
      "text/plain": [
       "3"
      ]
     },
     "execution_count": 17,
     "metadata": {},
     "output_type": "execute_result"
    }
   ],
   "source": [
    "vowels=[\"a\",\"e\",\"i\",\"o\",\"u\",\"a\",\"e\",\"i\",\"o\",\"u\",\"a\"]\n",
    "vowels.count(\"a\")"
   ]
  },
  {
   "cell_type": "code",
   "execution_count": 19,
   "id": "cab36914",
   "metadata": {
    "tags": []
   },
   "outputs": [
    {
     "data": {
      "text/plain": [
       "0"
      ]
     },
     "execution_count": 19,
     "metadata": {},
     "output_type": "execute_result"
    }
   ],
   "source": [
    "nested_list=[4,2,[1,2,8,9],5,7]\n",
    "nested_list.count(1)"
   ]
  },
  {
   "cell_type": "code",
   "execution_count": 20,
   "id": "8699f178",
   "metadata": {},
   "outputs": [
    {
     "data": {
      "text/plain": [
       "0"
      ]
     },
     "execution_count": 20,
     "metadata": {},
     "output_type": "execute_result"
    }
   ],
   "source": [
    "nested_list=[4,2,[1,2,8,9],5,7]\n",
    "nested_list.count(100)"
   ]
  },
  {
   "cell_type": "code",
   "execution_count": 22,
   "id": "e109a2b4",
   "metadata": {},
   "outputs": [
    {
     "name": "stdout",
     "output_type": "stream",
     "text": [
      "[6, 6, 6, 9, 5, 5, 7, 3, 9, 1, 6, 3]\n"
     ]
    }
   ],
   "source": [
    "trial=[3,6,1,9,3,7,5,5,9,6,6,6]\n",
    "trial.reverse()\n",
    "print(trial)\n",
    "\n",
    "#Usual method for reversing order is - trial[::-1]"
   ]
  },
  {
   "cell_type": "markdown",
   "id": "ccc3201a",
   "metadata": {},
   "source": [
    "# sort() and sorted()\n",
    "-sort() makes changes in the original list and does not return anything\n",
    "\n",
    "-sorted() does NOT change the list and returns the sorted list\n",
    "\n",
    "-sort/sorted(iterable, /, *, key=None, reverse=False)\n",
    "\n",
    "-A custom key function can be supplied to customize the sort order, and the\n",
    "reverse flag can be set to request the result in descending order."
   ]
  },
  {
   "cell_type": "raw",
   "id": "0fae25af",
   "metadata": {},
   "source": [
    "SORTED Syntax : sorted(iterable, key, reverse)\n",
    "Sorted sorts ANY SEQUENCE but always returns a LIST, without modifying the original sequence\n",
    "\n",
    "Parameters : sorted takes three parameters from which two are optional.\n",
    "\n",
    "•Iterable : sequence (list, tuple, string) or collection (dictionary, set, frozenset) or any other iterator that needs to be sorted.\n",
    "\n",
    "•Key(optional) : A function that would server as a key or a basis of sort comparison.\n",
    "\n",
    "•Reverse(optional) : If set true, then the iterable would be sorted in reverse (descending) order, by default it is set as false\n"
   ]
  },
  {
   "cell_type": "code",
   "execution_count": 23,
   "id": "ac9d8ff4",
   "metadata": {},
   "outputs": [
    {
     "name": "stdout",
     "output_type": "stream",
     "text": [
      "ascending sort: [1, 3, 3, 5, 5, 6, 6, 6, 6, 7, 9, 9]\n",
      "descending sort [9, 9, 7, 6, 6, 6, 6, 5, 5, 3, 3, 1]\n"
     ]
    }
   ],
   "source": [
    "trial=[3,6,1,9,3,7,5,5,9,6,6,6]\n",
    "\n",
    "trial.sort()\n",
    "print(\"ascending sort:\",trial)\n",
    "\n",
    "trial.sort(reverse=True)\n",
    "print(\"descending sort\",trial)"
   ]
  },
  {
   "cell_type": "code",
   "execution_count": 26,
   "id": "c688c3ce",
   "metadata": {},
   "outputs": [
    {
     "name": "stdout",
     "output_type": "stream",
     "text": [
      "[1, 3, 3, 5, 5, 6, 6, 6, 6, 7, 9, 9]\n",
      "(3, 6, 1, 9, 3, 7, 5, 5, 9, 6, 6, 6)\n"
     ]
    }
   ],
   "source": [
    "xyz1=(3,6,1,9,3,7,5,5,9,6,6,6)\n",
    "print(sorted(xyz1)) #Retuns ordered list\n",
    "print(xyz1) #No change in original iterable"
   ]
  },
  {
   "cell_type": "code",
   "execution_count": 27,
   "id": "194643eb",
   "metadata": {},
   "outputs": [
    {
     "ename": "TypeError",
     "evalue": "'<' not supported between instances of 'str' and 'int'",
     "output_type": "error",
     "traceback": [
      "\u001b[1;31m---------------------------------------------------------------------------\u001b[0m",
      "\u001b[1;31mTypeError\u001b[0m                                 Traceback (most recent call last)",
      "\u001b[1;32m~\\AppData\\Local\\Temp\\ipykernel_19888\\1886691120.py\u001b[0m in \u001b[0;36m<module>\u001b[1;34m\u001b[0m\n\u001b[0;32m      1\u001b[0m \u001b[0malphanum\u001b[0m\u001b[1;33m=\u001b[0m\u001b[1;33m[\u001b[0m\u001b[1;36m1\u001b[0m\u001b[1;33m,\u001b[0m\u001b[1;36m9\u001b[0m\u001b[1;33m,\u001b[0m\u001b[1;36m6\u001b[0m\u001b[1;33m,\u001b[0m\u001b[1;36m0\u001b[0m\u001b[1;33m,\u001b[0m\u001b[1;34m\"t\"\u001b[0m\u001b[1;33m,\u001b[0m\u001b[1;34m\"p\"\u001b[0m\u001b[1;33m,\u001b[0m\u001b[1;34m\"s\"\u001b[0m\u001b[1;33m,\u001b[0m\u001b[1;34m\"f\"\u001b[0m\u001b[1;33m]\u001b[0m\u001b[1;33m\u001b[0m\u001b[1;33m\u001b[0m\u001b[0m\n\u001b[1;32m----> 2\u001b[1;33m \u001b[0malphanum\u001b[0m\u001b[1;33m.\u001b[0m\u001b[0msort\u001b[0m\u001b[1;33m(\u001b[0m\u001b[1;33m)\u001b[0m\u001b[1;33m\u001b[0m\u001b[1;33m\u001b[0m\u001b[0m\n\u001b[0m",
      "\u001b[1;31mTypeError\u001b[0m: '<' not supported between instances of 'str' and 'int'"
     ]
    }
   ],
   "source": [
    "alphanum=[1,9,6,0,\"t\",\"p\",\"s\",\"f\"]\n",
    "alphanum.sort()"
   ]
  },
  {
   "cell_type": "code",
   "execution_count": null,
   "id": "cc809bc9-cd3f-49c7-8ffd-621d8fb006a3",
   "metadata": {},
   "outputs": [],
   "source": []
  },
  {
   "cell_type": "markdown",
   "id": "46680689",
   "metadata": {},
   "source": [
    "### COPYING - shallow copy and deep copy\n",
    "\n",
    "= assignment copy\n",
    "\n",
    "    Gives same id's\n",
    "    Change in one varible makes subsequnt change in other variable\n"
   ]
  },
  {
   "cell_type": "code",
   "execution_count": 60,
   "id": "f5cd8207",
   "metadata": {},
   "outputs": [
    {
     "name": "stdout",
     "output_type": "stream",
     "text": [
      "['virat', 'dhoni', 'yuvi', 'bhaji']\n",
      "741274573120\n",
      "741274573120\n",
      "['smith', 'dhoni', 'yuvi', 'bhaji']\n",
      "['smith', 'dhoni', 'yuvi', 'bhaji']\n",
      "741274573120\n",
      "741274573120\n"
     ]
    }
   ],
   "source": [
    "#copy with = gives same id's\n",
    "\n",
    "players=[\"virat\", \"dhoni\",\"yuvi\",\"bhaji\"]\n",
    "runs=[\"1000\",\"6000\",\"2500\",\"4000\"]\n",
    "new_players=players\n",
    "print(new_players)\n",
    "\n",
    "print(id(players))\n",
    "print(id(new_players))\n",
    "\n",
    "#Change in one varible makes subsequnt change in other variable\n",
    "new_players[0]=\"smith\"\n",
    "print(players) \n",
    "print(new_players)\n",
    "print(id(players))\n",
    "print(id(new_players))"
   ]
  },
  {
   "cell_type": "markdown",
   "id": "7a8b3323",
   "metadata": {},
   "source": [
    "The difference between shallow and deep copying is only relevant for compound objects (objects that contain other objects, like lists or class instances):\n",
    "\n",
    "    •A shallow copy constructs a new compound object and then (to the extent possible) inserts references into it to the objects found in the original.\n",
    "\n",
    "    •A deep copy constructs a new compound object and then, recursively, inserts copies into it of the objects found in the original.\n",
    "\n",
    "Two problems often exist with deep copy operations that don’t exist with shallow copy operations:\n",
    "\n",
    "    •Recursive objects (compound objects that, directly or indirectly, contain a reference to themselves) may cause a recursive loop.\n",
    "\n",
    "    •Because deep copy copies everything it may copy too much, such as data which is intended to be shared between copies."
   ]
  },
  {
   "cell_type": "markdown",
   "id": "5467e406",
   "metadata": {},
   "source": [
    "#### copy()   -Shallow copy\n",
    "-copy() gives different id's\n",
    "\n",
    "-Change in one list does not make change in other list\n",
    "\n",
    "-Concept of shallow copy does not apply to nested list"
   ]
  },
  {
   "cell_type": "code",
   "execution_count": 5,
   "id": "8be1975d",
   "metadata": {},
   "outputs": [
    {
     "name": "stdout",
     "output_type": "stream",
     "text": [
      "['virat', 'dhoni', 'yuvi', 'bhaji']\n",
      "['virat', 'dhoni', 'yuvi', 'bhaji']\n",
      "495053945600\n",
      "495053944320 \n",
      "\n",
      "495073162608\n",
      "495073162608\n"
     ]
    }
   ],
   "source": [
    "players=[\"virat\", \"dhoni\",\"yuvi\",\"bhaji\"]\n",
    "new_players=players.copy()\n",
    "print(players)\n",
    "print(new_players)\n",
    "#copying with copy() gives different id's\n",
    "print(id(players))\n",
    "print(id(new_players),\"\\n\")\n",
    "#But elements of both refer to same id's\n",
    "print(id(players[0]))\n",
    "print(id(new_players[0]))"
   ]
  },
  {
   "cell_type": "code",
   "execution_count": 20,
   "id": "fe9f5715",
   "metadata": {},
   "outputs": [
    {
     "name": "stdout",
     "output_type": "stream",
     "text": [
      "['virat', 'dhoni', 'yuvi', 'bhaji']\n",
      "['virat', 'kaif', 'yuvi', 'bhaji']\n",
      "495053945600\n",
      "495053944320\n",
      "495073162736\n",
      "495073162736\n"
     ]
    }
   ],
   "source": [
    "new_players[1]=\"kaif\"\n",
    "#Change in one list does not make change in other list\n",
    "print(players)\n",
    "print(new_players)\n",
    "#Post change Id's also different\n",
    "print(id(players))\n",
    "print(id(new_players))\n",
    "#But Id' of individual element(except the changed one) remains same for both\n",
    "print(id(players[2]))\n",
    "print(id(new_players[2]))"
   ]
  },
  {
   "cell_type": "code",
   "execution_count": 7,
   "id": "66d876b9",
   "metadata": {},
   "outputs": [
    {
     "name": "stdout",
     "output_type": "stream",
     "text": [
      "[[1, 2, 3], [10, 20, 30]]\n",
      "A    495053946112\n",
      "C[0] 495053946112 \n",
      "\n",
      "B    495053945024\n",
      "C[1] 495053945024 \n",
      "\n",
      "C 495053944640\n"
     ]
    }
   ],
   "source": [
    "A=[1,2,3]\n",
    "B=[10,20,30]\n",
    "C=[A,B]\n",
    "print(C)\n",
    "\n",
    "print(\"A   \",id(A))\n",
    "print(r\"C[0]\",id(C[0]),\"\\n\")\n",
    "print(\"B   \",id(B))\n",
    "print(r\"C[1]\",id(C[1]),\"\\n\")\n",
    "print(\"C\",id(C))"
   ]
  },
  {
   "cell_type": "code",
   "execution_count": 8,
   "id": "4d88780d",
   "metadata": {},
   "outputs": [
    {
     "name": "stdout",
     "output_type": "stream",
     "text": [
      "[[1, 2, 3], [10, 20, 30]]\n",
      "C : [['Virat', 2, 3], [10, 20, 30]] 495053944640\n",
      "D : [['Virat', 2, 3], [10, 20, 30]] 495053636224\n"
     ]
    }
   ],
   "source": [
    "D=C.copy()\n",
    "print(D)\n",
    "D[0][0]=\"Virat\"\n",
    "'''Concept of shallow copy does not apply to nested list\n",
    "thereby making changes in both lists if one list is changed'''\n",
    "print(\"C :\",C,id(C))\n",
    "print(\"D :\",D,id(D))"
   ]
  },
  {
   "cell_type": "markdown",
   "id": "0429ff3b",
   "metadata": {},
   "source": [
    "#### deepcopy()\n",
    "-Different id's\n",
    "\n",
    "-Makes change in one list only"
   ]
  },
  {
   "cell_type": "code",
   "execution_count": 23,
   "id": "cbf5d901",
   "metadata": {},
   "outputs": [],
   "source": [
    "import copy"
   ]
  },
  {
   "cell_type": "code",
   "execution_count": 16,
   "id": "d47a5902",
   "metadata": {},
   "outputs": [
    {
     "name": "stdout",
     "output_type": "stream",
     "text": [
      "[[1, 2, 3], [10, 20, 30]]\n"
     ]
    }
   ],
   "source": [
    "A=[1,2,3]\n",
    "B=[10,20,30]\n",
    "C=[A,B]\n",
    "print(C)"
   ]
  },
  {
   "cell_type": "code",
   "execution_count": 39,
   "id": "9a0b23de",
   "metadata": {},
   "outputs": [
    {
     "name": "stdout",
     "output_type": "stream",
     "text": [
      "495088286400\n",
      "495088244864\n",
      "495077481600\n",
      "495088939648\n",
      "[[1, 2, 3], [10, 20, 30]]\n",
      "[['yuvi', 2, 3], [10, 20, 30]]\n",
      "140708069582640\n",
      "495073162736\n"
     ]
    }
   ],
   "source": [
    "D=copy.deepcopy(C)\n",
    "#Deepcopy gives different Id's\n",
    "print(id(C))\n",
    "print(id(D))\n",
    "print(id(C[0]))\n",
    "print(id(D[0]))\n",
    "\n",
    "D[0][0]=\"yuvi\"\n",
    "\n",
    "print(C)\n",
    "print(D) \n",
    "print(id(C[0][0]))\n",
    "print(id(D[0][0]))"
   ]
  },
  {
   "cell_type": "code",
   "execution_count": 56,
   "id": "cfd1a8bf",
   "metadata": {},
   "outputs": [
    {
     "name": "stdout",
     "output_type": "stream",
     "text": [
      "x: 495088619968 x[0] 140708069582640\n",
      "y: 495088619648 y[0] 140708069582640\n",
      "x1: 495068647680 x1[0] 140708069582640\n",
      "z: 495088610368 z[0] 140708069582640\n"
     ]
    }
   ],
   "source": [
    "import copy\n",
    "x=[1,2,3,4]\n",
    "x1=[1,2,3,4,5]\n",
    "y=x.copy()\n",
    "z=copy.deepcopy(x1)\n",
    "print(\"x:\",id(x),\"x[0]\",id(x[0]))\n",
    "print(\"y:\",id(y),\"y[0]\",id(y[0]))\n",
    "print(\"x1:\",id(x1),\"x1[0]\",id(x1[0]))\n",
    "print(\"z:\",id(z),\"z[0]\",id(z[0]))"
   ]
  },
  {
   "cell_type": "code",
   "execution_count": 52,
   "id": "dd847009",
   "metadata": {},
   "outputs": [
    {
     "name": "stdout",
     "output_type": "stream",
     "text": [
      "[1, 2, 3, 4] 495088257920 140708069582640\n",
      "[100, 2, 3, 4] 495089009792 140708069585808\n"
     ]
    }
   ],
   "source": [
    "y[0]=100\n",
    "print(x,id(x),id(x[0]))\n",
    "print(y,id(y),id(y[0]))"
   ]
  },
  {
   "cell_type": "code",
   "execution_count": 57,
   "id": "c6d96b6a",
   "metadata": {},
   "outputs": [
    {
     "name": "stdout",
     "output_type": "stream",
     "text": [
      "[1, 2, 3, 4, 5] 495068647680 140708069582640\n",
      "[0.1, 2, 3, 4, 5] 495088610368 495089834992\n"
     ]
    }
   ],
   "source": [
    "z[0]=0.1\n",
    "print(x1,id(x1),id(x1[0]))\n",
    "print(z,id(z),id(z[0]))"
   ]
  },
  {
   "cell_type": "markdown",
   "id": "2f68b1fc-c714-4f0e-9926-c01fdc70baaa",
   "metadata": {},
   "source": [
    "# Flatten the List to Individual Element\n",
    "\n",
    "Below are the methods that we will cover in this article:\n",
    "\n",
    "    Flatten List using list comprehension\n",
    "    Flatten List using sum()\n",
    "    Flatten List using loop\n",
    "    Flatten List using flatten() method\n",
    "    Flatten List using chain() with isinstance() \n",
    "    Flatten List using reduce() function"
   ]
  },
  {
   "cell_type": "code",
   "execution_count": 16,
   "id": "4fa7f9a4-7dc5-45c5-b076-faa74f1c80fe",
   "metadata": {},
   "outputs": [
    {
     "data": {
      "text/plain": [
       "[1, 2, [3, 4]]"
      ]
     },
     "execution_count": 16,
     "metadata": {},
     "output_type": "execute_result"
    }
   ],
   "source": [
    "import numpy as np\n",
    "\n",
    "k = [1, 2, [3, 4]]\n",
    "\n",
    "list(np.ravel(k))"
   ]
  },
  {
   "cell_type": "code",
   "execution_count": 10,
   "id": "04cb71dc-35e4-41fa-95ee-d5fc3a436809",
   "metadata": {},
   "outputs": [
    {
     "name": "stdout",
     "output_type": "stream",
     "text": [
      "[1, 2, 3, 4, 5, 6, 7]\n"
     ]
    }
   ],
   "source": [
    "from functools import reduce\n",
    "\n",
    "my_list = [[1], [2, 3], [4, 5, 6, 7]]\n",
    "print(reduce(lambda x, y: x+y, my_list))"
   ]
  },
  {
   "cell_type": "code",
   "execution_count": 19,
   "id": "ebed0d6c-a926-4563-a454-90ca808734c8",
   "metadata": {},
   "outputs": [
    {
     "name": "stdout",
     "output_type": "stream",
     "text": [
      "[1, [2], 3, 4, {5, 6}, 7, 8, '9']\n"
     ]
    }
   ],
   "source": [
    "from typing import Iterable\n",
    "complicated = [[1, [2]], (3, 4, {5, 6}, 7), 8, \"9\"]\n",
    "flattened = []\n",
    "\n",
    "for i in complicated:\n",
    "    if isinstance(i, Iterable):\n",
    "        flattened.extend(list(i))\n",
    "    else:\n",
    "        flattened.append(i)\n",
    "        \n",
    "print(flattened)"
   ]
  },
  {
   "cell_type": "code",
   "execution_count": 18,
   "id": "889bfe9c-983b-4c2f-b555-f80a0ee5284c",
   "metadata": {},
   "outputs": [
    {
     "data": {
      "text/plain": [
       "[1, 2, 3, 4, 5, 6, 7, 8, '9']"
      ]
     },
     "execution_count": 18,
     "metadata": {},
     "output_type": "execute_result"
    }
   ],
   "source": [
    "from typing import Iterable \n",
    "#from collections import Iterable\n",
    "\n",
    "def flatten(items):\n",
    "    for x in items:\n",
    "        if isinstance(x, Iterable) and not isinstance(x, (str, bytes)):\n",
    "            for sub_x in flatten(x):\n",
    "                yield sub_x\n",
    "        else:\n",
    "            yield x\n",
    "\n",
    "complicated = [[1, [2]], (3, 4, {5, 6}, 7), 8, \"9\"]\n",
    "list(flatten(complicated))"
   ]
  },
  {
   "cell_type": "code",
   "execution_count": 9,
   "id": "3f3329d0-c668-458a-a82b-1fa57561c8f6",
   "metadata": {},
   "outputs": [
    {
     "ename": "TypeError",
     "evalue": "unsupported operand type(s) for +: 'int' and 'list'",
     "output_type": "error",
     "traceback": [
      "\u001b[1;31m---------------------------------------------------------------------------\u001b[0m",
      "\u001b[1;31mTypeError\u001b[0m                                 Traceback (most recent call last)",
      "\u001b[1;32m~\\AppData\\Local\\Temp\\ipykernel_13584\\391415313.py\u001b[0m in \u001b[0;36m<module>\u001b[1;34m\u001b[0m\n\u001b[0;32m      3\u001b[0m \u001b[0mk\u001b[0m \u001b[1;33m=\u001b[0m \u001b[1;33m[\u001b[0m\u001b[1;36m1\u001b[0m\u001b[1;33m,\u001b[0m \u001b[1;36m2\u001b[0m\u001b[1;33m,\u001b[0m \u001b[1;33m[\u001b[0m\u001b[1;36m3\u001b[0m\u001b[1;33m,\u001b[0m \u001b[1;36m4\u001b[0m\u001b[1;33m]\u001b[0m\u001b[1;33m]\u001b[0m\u001b[1;33m\u001b[0m\u001b[1;33m\u001b[0m\u001b[0m\n\u001b[0;32m      4\u001b[0m \u001b[1;33m\u001b[0m\u001b[0m\n\u001b[1;32m----> 5\u001b[1;33m \u001b[0mlist\u001b[0m\u001b[1;33m(\u001b[0m\u001b[0mreduce\u001b[0m\u001b[1;33m(\u001b[0m\u001b[1;32mlambda\u001b[0m \u001b[0mx\u001b[0m\u001b[1;33m,\u001b[0m \u001b[0my\u001b[0m\u001b[1;33m:\u001b[0m \u001b[0mx\u001b[0m\u001b[1;33m+\u001b[0m\u001b[0my\u001b[0m\u001b[1;33m,\u001b[0m \u001b[0mk\u001b[0m\u001b[1;33m)\u001b[0m\u001b[1;33m)\u001b[0m\u001b[1;33m\u001b[0m\u001b[1;33m\u001b[0m\u001b[0m\n\u001b[0m",
      "\u001b[1;32m~\\AppData\\Local\\Temp\\ipykernel_13584\\391415313.py\u001b[0m in \u001b[0;36m<lambda>\u001b[1;34m(x, y)\u001b[0m\n\u001b[0;32m      3\u001b[0m \u001b[0mk\u001b[0m \u001b[1;33m=\u001b[0m \u001b[1;33m[\u001b[0m\u001b[1;36m1\u001b[0m\u001b[1;33m,\u001b[0m \u001b[1;36m2\u001b[0m\u001b[1;33m,\u001b[0m \u001b[1;33m[\u001b[0m\u001b[1;36m3\u001b[0m\u001b[1;33m,\u001b[0m \u001b[1;36m4\u001b[0m\u001b[1;33m]\u001b[0m\u001b[1;33m]\u001b[0m\u001b[1;33m\u001b[0m\u001b[1;33m\u001b[0m\u001b[0m\n\u001b[0;32m      4\u001b[0m \u001b[1;33m\u001b[0m\u001b[0m\n\u001b[1;32m----> 5\u001b[1;33m \u001b[0mlist\u001b[0m\u001b[1;33m(\u001b[0m\u001b[0mreduce\u001b[0m\u001b[1;33m(\u001b[0m\u001b[1;32mlambda\u001b[0m \u001b[0mx\u001b[0m\u001b[1;33m,\u001b[0m \u001b[0my\u001b[0m\u001b[1;33m:\u001b[0m \u001b[0mx\u001b[0m\u001b[1;33m+\u001b[0m\u001b[0my\u001b[0m\u001b[1;33m,\u001b[0m \u001b[0mk\u001b[0m\u001b[1;33m)\u001b[0m\u001b[1;33m)\u001b[0m\u001b[1;33m\u001b[0m\u001b[1;33m\u001b[0m\u001b[0m\n\u001b[0m",
      "\u001b[1;31mTypeError\u001b[0m: unsupported operand type(s) for +: 'int' and 'list'"
     ]
    }
   ],
   "source": [
    "from functools import reduce\n",
    "\n",
    "k = [1, 2, [3, 4]]\n",
    "\n",
    "list(reduce(lambda x, y: x+y, k))"
   ]
  },
  {
   "cell_type": "code",
   "execution_count": 17,
   "id": "b9e4a7a7-185d-4225-8876-cc0622674c9a",
   "metadata": {},
   "outputs": [
    {
     "name": "stdout",
     "output_type": "stream",
     "text": [
      "[1, 2, 3, 4, 5, 6, 7]\n"
     ]
    }
   ],
   "source": [
    "import itertools\n",
    "\n",
    "my_list = [[1], [2, 3], [4, 5, 6, 7]]\n",
    "# for this, it thows error: my_list = [2222, [1], [2, 3], [4, 5, 6, 7]]\n",
    "\n",
    "flat_list = list(itertools.chain(*my_list))\n",
    "print(flat_list)"
   ]
  },
  {
   "cell_type": "code",
   "execution_count": 8,
   "id": "d10ff25f-2b84-40ec-a42a-6971959d5763",
   "metadata": {},
   "outputs": [
    {
     "name": "stdout",
     "output_type": "stream",
     "text": [
      "[1, 2, 3, 4, 5, 6, 7]\n"
     ]
    }
   ],
   "source": [
    "my_list = [[1], [2, 3], [4, 5, 6, 7]]\n",
    "\n",
    "flat_list = sum(my_list, [])\n",
    "print(flat_list)"
   ]
  }
 ],
 "metadata": {
  "kernelspec": {
   "display_name": "Python 3 (ipykernel)",
   "language": "python",
   "name": "python3"
  },
  "language_info": {
   "codemirror_mode": {
    "name": "ipython",
    "version": 3
   },
   "file_extension": ".py",
   "mimetype": "text/x-python",
   "name": "python",
   "nbconvert_exporter": "python",
   "pygments_lexer": "ipython3",
   "version": "3.9.13"
  }
 },
 "nbformat": 4,
 "nbformat_minor": 5
}

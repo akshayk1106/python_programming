{
 "cells": [
  {
   "cell_type": "markdown",
   "id": "cd5cf8c9",
   "metadata": {},
   "source": [
    "# DATETIME\n",
    "-A date in Python is not a data type of its own, but we can import a module named datetime to work with dates as date objects\n",
    "\n",
    "-The datetime module has many methods to return information about the date object.\n",
    "\n",
    "import datetime\n",
    "\n",
    "    x = datetime.datetime.now()\n",
    "\n",
    "    x = datetime.datetime(2020, 5, 17)\n",
    "\n",
    "    x.strftime(\"%B\") - legal format codes\n",
    "\n",
    "    x.year, x.month, x.day, x.hour, x.minute, x.second\n",
    "\n",
    "from datetime import date\n",
    "\n",
    "    x=date.today()"
   ]
  },
  {
   "cell_type": "code",
   "execution_count": 46,
   "id": "65d1de6e",
   "metadata": {},
   "outputs": [
    {
     "name": "stdout",
     "output_type": "stream",
     "text": [
      "2021-07-17 00:41:47.899782\n"
     ]
    }
   ],
   "source": [
    "import datetime\n",
    "\n",
    "x = datetime.datetime.now()\n",
    "print(x)"
   ]
  },
  {
   "cell_type": "code",
   "execution_count": 4,
   "id": "c3409f89",
   "metadata": {},
   "outputs": [
    {
     "name": "stdout",
     "output_type": "stream",
     "text": [
      "2020-05-17 00:00:00\n"
     ]
    }
   ],
   "source": [
    "'''Create a date object:The datetime() class requires \n",
    "three parameters to create a date: year, month, day.'''\n",
    "\n",
    "import datetime\n",
    "x = datetime.datetime(2020, 5, 17)\n",
    "print(x)\n",
    "\n",
    "'''The datetime() class also takes parameters for time and timezone \n",
    "(hour, minute, second, microsecond, tzone), \n",
    "but they are optional, and has a default value of 0, (None for timezone).'''"
   ]
  },
  {
   "cell_type": "markdown",
   "id": "628aa11a",
   "metadata": {},
   "source": [
    "#### The strftime() Method\n",
    "The datetime object has a method for formatting date objects into readable strings.\n",
    "\n",
    "The method is called strftime(), and takes one parameter, format, to specify the format of the returned string:"
   ]
  },
  {
   "cell_type": "code",
   "execution_count": 5,
   "id": "439976b4",
   "metadata": {},
   "outputs": [
    {
     "name": "stdout",
     "output_type": "stream",
     "text": [
      "June\n"
     ]
    }
   ],
   "source": [
    "#Display the name of the month:\n",
    "\n",
    "import datetime\n",
    "x = datetime.datetime(2018, 6, 1)\n",
    "print(x.strftime(\"%B\"))"
   ]
  },
  {
   "cell_type": "markdown",
   "id": "b045b2ae",
   "metadata": {},
   "source": [
    "#### A reference of all the legal format codes:\n",
    "\n",
    "**WEEKDAY**\n",
    "\n",
    "    %a\tWeekday, short version\n",
    "    %A   Weekday, full version\n",
    "    %w\tWeekday as a number 0-6, 0 is Sunday\n",
    "\n",
    "**MONTH**\n",
    "\n",
    "    %m\tMonth as a number 01-12\n",
    "    %d\tDay of month 01-31    \n",
    "    %b\tMonth name, short version\n",
    "    %B\tMonth name, full version\n",
    "\n",
    "**YEAR**\n",
    "\n",
    "    %y\tYear, short version, without century\t18\t\n",
    "    %Y\tYear, full version\n",
    "    %j\tDay number of year 001-366\n",
    "\n",
    "**TIME**\n",
    "\n",
    "    %H\tHour 00-23\n",
    "    %I\tHour 00-12\n",
    "    %p\tAM/PM\n",
    "\n",
    "    %M\tMinute 00-59\n",
    "    %S\tSecond 00-59\t08\t\n",
    "    %f\tMicrosecond 000000-999999\n",
    "    \n",
    "    %Z\tTimezone\tCST"
   ]
  },
  {
   "cell_type": "code",
   "execution_count": 1,
   "id": "c3e3a9b9",
   "metadata": {},
   "outputs": [
    {
     "name": "stdout",
     "output_type": "stream",
     "text": [
      "2021-08-09 19:13:51.567859\n",
      "2021\n",
      "8\n",
      "9\n",
      "19\n",
      "13\n",
      "51\n",
      "<class 'int'>\n"
     ]
    }
   ],
   "source": [
    "import datetime\n",
    "ajay=datetime.datetime(1996,12,14)\n",
    "x=datetime.datetime.now()\n",
    "print(x)\n",
    "print(x.year)\n",
    "print(x.month)\n",
    "print(x.day)\n",
    "print(x.hour)\n",
    "print(x.minute)\n",
    "print(x.second)\n",
    "print(type(x.minute))"
   ]
  },
  {
   "cell_type": "code",
   "execution_count": 24,
   "id": "49f62fde",
   "metadata": {},
   "outputs": [
    {
     "data": {
      "text/plain": [
       "datetime.date(2021, 7, 17)"
      ]
     },
     "execution_count": 24,
     "metadata": {},
     "output_type": "execute_result"
    }
   ],
   "source": [
    "from datetime import date\n",
    "x=date.today()\n",
    "x"
   ]
  },
  {
   "cell_type": "code",
   "execution_count": 34,
   "id": "60b6c010",
   "metadata": {
    "scrolled": true
   },
   "outputs": [
    {
     "name": "stdout",
     "output_type": "stream",
     "text": [
      "Enter your birth year: 2021\n",
      "Age is 0 years\n"
     ]
    }
   ],
   "source": [
    "from datetime import date\n",
    "present=date.today()\n",
    "x=int(input(\"Enter your birth year: \"))\n",
    "\n",
    "if x>2021:\n",
    "    print(\"Yet to be born\")\n",
    "else:\n",
    "    def calculate_age(birthyear):\n",
    "        return(present.year-birthyear)\n",
    "    print(f'Age is {calculate_age(x)} years')"
   ]
  },
  {
   "cell_type": "code",
   "execution_count": 2,
   "id": "97398acb",
   "metadata": {},
   "outputs": [
    {
     "name": "stdout",
     "output_type": "stream",
     "text": [
      "time.struct_time(tm_year=2021, tm_mon=8, tm_mday=9, tm_hour=19, tm_min=16, tm_sec=33, tm_wday=0, tm_yday=221, tm_isdst=-1)\n"
     ]
    }
   ],
   "source": [
    "from datetime import time\n",
    "atta=datetime.datetime.now()\n",
    "print(atta.timetuple())"
   ]
  },
  {
   "cell_type": "code",
   "execution_count": null,
   "id": "fab46b28",
   "metadata": {},
   "outputs": [],
   "source": []
  }
 ],
 "metadata": {
  "kernelspec": {
   "display_name": "Python 3",
   "language": "python",
   "name": "python3"
  },
  "language_info": {
   "codemirror_mode": {
    "name": "ipython",
    "version": 3
   },
   "file_extension": ".py",
   "mimetype": "text/x-python",
   "name": "python",
   "nbconvert_exporter": "python",
   "pygments_lexer": "ipython3",
   "version": "3.8.8"
  }
 },
 "nbformat": 4,
 "nbformat_minor": 5
}

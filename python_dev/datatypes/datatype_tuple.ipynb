{
 "cells": [
  {
   "cell_type": "markdown",
   "id": "aa427855",
   "metadata": {},
   "source": [
    "## <mark>TUPLE\n",
    "-Tuples are used to store multiple items in a single variable. Tuple is one of 4 built-in sequence data types in Python used to store collections of data. A tuple is a collection which is ordered and unchangeable. \n",
    "\n",
    "-Ordered\n",
    "\n",
    "-Immutable(Unchangeable)\n",
    "    -But if tuple contains changeable datatype(ex.list) then that can be changed\n",
    "\n",
    "-heterogenous/homogenous\n",
    "\n",
    "-it is used to protect data\n",
    "\n",
    "-tuples are faster as no manipulation\n",
    "\n",
    "-it allows duplicate items"
   ]
  },
  {
   "cell_type": "code",
   "execution_count": 2,
   "id": "805b3ba2",
   "metadata": {
    "tags": []
   },
   "outputs": [
    {
     "name": "stdout",
     "output_type": "stream",
     "text": [
      "(5, 6, 1)\n",
      "(4, 6, 'get')\n"
     ]
    }
   ],
   "source": [
    "a=(4,5,6,1,\"get\")\n",
    "\n",
    "print(a[1:-1])\n",
    "print(a[0:5:2])"
   ]
  },
  {
   "cell_type": "code",
   "execution_count": 4,
   "id": "303539d9",
   "metadata": {
    "tags": []
   },
   "outputs": [
    {
     "name": "stdout",
     "output_type": "stream",
     "text": [
      "(3, 4.9, 'ak')\n",
      "ak\n"
     ]
    }
   ],
   "source": [
    "# PACKING\n",
    "my=3,4.9,\"ak\"\n",
    "print(my)\n",
    "\n",
    "# UNPACKING\n",
    "a,b,c=my\n",
    "print(c)"
   ]
  },
  {
   "cell_type": "markdown",
   "id": "57beca9f",
   "metadata": {},
   "source": [
    "### <mark> Tuple methods\n",
    "\n",
    "-add, change and remove methods not applicable to tuple\n",
    "\n",
    "-count and index"
   ]
  },
  {
   "cell_type": "markdown",
   "id": "3ae3ead0",
   "metadata": {},
   "source": [
    "#### count()"
   ]
  },
  {
   "cell_type": "code",
   "execution_count": 7,
   "id": "ccd9260e",
   "metadata": {},
   "outputs": [
    {
     "name": "stdout",
     "output_type": "stream",
     "text": [
      "2\n",
      "1\n"
     ]
    }
   ],
   "source": [
    "my_tuple=(1,5,6,3,4,5,9,6,\"6\")\n",
    "print(my_tuple.count(6))\n",
    "print(my_tuple.count(\"6\"))"
   ]
  },
  {
   "cell_type": "markdown",
   "id": "47c217a0",
   "metadata": {},
   "source": [
    "#### index()"
   ]
  },
  {
   "cell_type": "code",
   "execution_count": 10,
   "id": "a139805f",
   "metadata": {},
   "outputs": [
    {
     "data": {
      "text/plain": [
       "6"
      ]
     },
     "execution_count": 10,
     "metadata": {},
     "output_type": "execute_result"
    }
   ],
   "source": [
    "my_tuple=(1,5,6,3,4,5,9,6,\"6\")\n",
    "my_tuple[2]"
   ]
  },
  {
   "cell_type": "code",
   "execution_count": 8,
   "id": "f4162935",
   "metadata": {},
   "outputs": [
    {
     "name": "stdout",
     "output_type": "stream",
     "text": [
      "False\n",
      "True\n"
     ]
    },
    {
     "name": "stderr",
     "output_type": "stream",
     "text": [
      "<>:5: SyntaxWarning: \"is\" with a literal. Did you mean \"==\"?\n",
      "<>:5: SyntaxWarning: \"is\" with a literal. Did you mean \"==\"?\n",
      "C:\\Users\\AdmiN\\AppData\\Local\\Temp\\ipykernel_9676\\2771819797.py:5: SyntaxWarning: \"is\" with a literal. Did you mean \"==\"?\n",
      "  print(my_tuple[1] is 5) # notice error, instead use ==\n"
     ]
    }
   ],
   "source": [
    "# membership\n",
    "my_tuple=(1,5,6,3,4,5,9,6,\"6\")\n",
    "\n",
    "print(100 in my_tuple)\n",
    "print(my_tuple[1] is 5) # notice error, instead use =="
   ]
  },
  {
   "cell_type": "markdown",
   "id": "8b584b89",
   "metadata": {},
   "source": [
    "#### <mark> Advantages of Tuple over List\n",
    "\n",
    "-GENERALLY tuple is used for heterogenous data and list is used for homogenous data (Though both can hold HOMO/HETERO type of data)\n",
    "\n",
    "-since tuples are IMMUTABLE, so iterating through atuple is FASTER than list\n",
    "\n",
    "-Tuple that contain immutable elements can be used as DICTIONARY KEY. (not possible by list)\n",
    "\n",
    "-Tuple can be used as an elemnet in set unlike list\n",
    "\n",
    "-If you have data that does not change(eg. Passwords) implementing it as tuple will guarantee that remains well PROTECTED\n",
    "\n",
    "-Consumes LESS MEMORY than list\n",
    "\n",
    "-Elements BETTER ACCESSED. (In list :Operations like insertion and deletion are better performed.)\n",
    "\n",
    "-Does not have many built-in methods.(Many built-in methods are available for list)\n",
    "\n",
    "-Implications of iterations are much faster in tuples.(List: The implication of iterations is time-consuming in the list.)"
   ]
  },
  {
   "cell_type": "code",
   "execution_count": null,
   "id": "dc67e58f-75ab-4fea-b31c-8a56dfa82576",
   "metadata": {},
   "outputs": [],
   "source": []
  },
  {
   "cell_type": "markdown",
   "id": "040553b7",
   "metadata": {},
   "source": [
    "## <mark> zip()"
   ]
  },
  {
   "cell_type": "raw",
   "id": "d343de25",
   "metadata": {},
   "source": [
    "The purpose of Python zip() method is to map the similar index of multiple containers so that they can be used just using as single entity. \n",
    " \n",
    "Syntax :  zip(*iterators) \n",
    "\n",
    "Return Value : \n",
    "Returns a single iterator object, having mapped values from all the containers.\n",
    "Need to typecast to some iterable object to access its elements\n",
    "\n",
    "Unzipping means converting the zipped values back to the individual self as they were. This is done with the help of “*” operator."
   ]
  },
  {
   "cell_type": "code",
   "execution_count": 31,
   "id": "ec304345",
   "metadata": {},
   "outputs": [
    {
     "data": {
      "text/plain": [
       "<zip at 0x1ba9ffce980>"
      ]
     },
     "execution_count": 31,
     "metadata": {},
     "output_type": "execute_result"
    }
   ],
   "source": [
    "name = [ \"A\", \"B\", \"C\", \"D\" ]\n",
    "roll_no = [ 4, 1, 3, 2 ]\n",
    "marks = [ 40, 50, 60, 70 ]\n",
    "  \n",
    "# using zip() to map values of all three containers\n",
    "mapped = zip(name, roll_no, marks)\n",
    "mapped"
   ]
  },
  {
   "cell_type": "code",
   "execution_count": 36,
   "id": "840615cf-bada-4394-993d-9e728c390b07",
   "metadata": {},
   "outputs": [
    {
     "data": {
      "text/plain": [
       "[('A', 4, 40), ('C', 3, 60), ('D', 2, 70), ('B', 1, 50)]"
      ]
     },
     "execution_count": 36,
     "metadata": {},
     "output_type": "execute_result"
    }
   ],
   "source": [
    "mapped = list(mapped)\n",
    "mapped"
   ]
  },
  {
   "cell_type": "code",
   "execution_count": 37,
   "id": "a646d86f",
   "metadata": {},
   "outputs": [
    {
     "name": "stdout",
     "output_type": "stream",
     "text": [
      "The roll_no list is : (4, 3, 2, 1)\n"
     ]
    }
   ],
   "source": [
    "# unzipping values\n",
    "namz, roll_noz, marksz = zip(*mapped)\n",
    "  \n",
    "print (\"The roll_no list is : \", end=\"\")\n",
    "print (roll_noz)"
   ]
  },
  {
   "cell_type": "code",
   "execution_count": null,
   "id": "d077a51b",
   "metadata": {},
   "outputs": [],
   "source": []
  }
 ],
 "metadata": {
  "kernelspec": {
   "display_name": "Python 3 (ipykernel)",
   "language": "python",
   "name": "python3"
  },
  "language_info": {
   "codemirror_mode": {
    "name": "ipython",
    "version": 3
   },
   "file_extension": ".py",
   "mimetype": "text/x-python",
   "name": "python",
   "nbconvert_exporter": "python",
   "pygments_lexer": "ipython3",
   "version": "3.9.13"
  }
 },
 "nbformat": 4,
 "nbformat_minor": 5
}

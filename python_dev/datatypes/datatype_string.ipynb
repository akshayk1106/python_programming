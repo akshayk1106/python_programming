{
 "cells": [
  {
   "cell_type": "markdown",
   "id": "fc27b831",
   "metadata": {},
   "source": [
    "# STRINGS"
   ]
  },
  {
   "cell_type": "markdown",
   "id": "875e990a-0d2d-4389-a54e-90922a5ce922",
   "metadata": {},
   "source": [
    "    STRINGS are immutable sequence of characters usually enclosed in single/dpuble/triple quotes\n",
    "    Strings are IMMUTABLE (can not be changed or deleted)\n",
    "\n",
    "    # my_string=\"data science\"\n",
    "    # my_string[0]=\"m\"\n",
    "    # Error: 'str' object does not support item assignment"
   ]
  },
  {
   "cell_type": "markdown",
   "id": "84cb7fd6",
   "metadata": {},
   "source": [
    "### f string and r string\n",
    "-F-strings provide ***A WAY TO EMBED EXPRESSIONS INSIDE STRING LITERALS***, using a minimal syntax. It should be noted that an f-string is really an expression evaluated at run time, not a constant value. In Python source code, an f-string is a literal string, prefixed with f , which contains expressions inside braces.\n",
    "\n",
    "-***Literals are the constant values assigned to the constant variables.*** We can say that the literals represent the fixed values that cannot be modified. It also contains memory but does not have references as variables. For example, const int =10; is a constant integer expression in which 10 is an integer literal."
   ]
  },
  {
   "cell_type": "code",
   "execution_count": 19,
   "id": "e26ef2df",
   "metadata": {},
   "outputs": [
    {
     "name": "stdout",
     "output_type": "stream",
     "text": [
      "6x1=6\n",
      "6x2=12\n",
      "6x3=18\n",
      "6x4=24\n",
      "6x5=30\n"
     ]
    }
   ],
   "source": [
    "# f string\n",
    "n = 6\n",
    "for i in range(1,6):\n",
    "    print(f\"{n}x{i}={n*i}\")\n"
   ]
  },
  {
   "cell_type": "markdown",
   "id": "cf6bd8c2",
   "metadata": {},
   "source": [
    "### <mark> ESCAPE SEQUENCING in strings\n",
    "-An escape sequence is a sequence of characters that ***does not represent itself*** when used inside a character or string literal.\n",
    "\n",
    "    \\ \n",
    "    \\n\n",
    "    \\t\n",
    "    r"
   ]
  },
  {
   "cell_type": "code",
   "execution_count": 20,
   "id": "2114a0db",
   "metadata": {
    "tags": []
   },
   "outputs": [
    {
     "name": "stdout",
     "output_type": "stream",
     "text": [
      "Captain of \"India\" is VIrat\n"
     ]
    }
   ],
   "source": [
    "print(\"Captain of \\\"India\\\" is VIrat\")"
   ]
  },
  {
   "cell_type": "code",
   "execution_count": 21,
   "id": "e29ea1b3",
   "metadata": {},
   "outputs": [
    {
     "name": "stdout",
     "output_type": "stream",
     "text": [
      "Captain of \"India\" is VIrat\n"
     ]
    }
   ],
   "source": [
    "print('''Captain of \"India\" is VIrat''')"
   ]
  },
  {
   "cell_type": "code",
   "execution_count": 22,
   "id": "ce74b52a",
   "metadata": {},
   "outputs": [
    {
     "name": "stdout",
     "output_type": "stream",
     "text": [
      "Captain of 'India' is \n",
      "VIrat\n"
     ]
    }
   ],
   "source": [
    "print(\"Captain of \\'India\\' is \\nVIrat\")"
   ]
  },
  {
   "cell_type": "code",
   "execution_count": 23,
   "id": "911491af",
   "metadata": {},
   "outputs": [
    {
     "name": "stdout",
     "output_type": "stream",
     "text": [
      "Captain of \\\"India\\\" is \\nVIrat\n"
     ]
    }
   ],
   "source": [
    "#printing of raw(as it is) string\n",
    "\n",
    "print(r\"Captain of \\\"India\\\" is \\nVIrat\")"
   ]
  },
  {
   "cell_type": "code",
   "execution_count": 24,
   "id": "4222060f",
   "metadata": {},
   "outputs": [
    {
     "name": "stdout",
     "output_type": "stream",
     "text": [
      "Captain of \"India\" is VIrat\n"
     ]
    }
   ],
   "source": [
    "print('Captain of \"India\" is VIrat')"
   ]
  },
  {
   "cell_type": "code",
   "execution_count": 25,
   "id": "4f2ab892",
   "metadata": {},
   "outputs": [
    {
     "name": "stdout",
     "output_type": "stream",
     "text": [
      "Captain of \"India\" is 'VIrat'.\n"
     ]
    }
   ],
   "source": [
    "print('''Captain of \"India\" is 'VIrat'.''')"
   ]
  },
  {
   "cell_type": "markdown",
   "id": "14f6fda4-bbea-4a5c-9749-0287a783fd10",
   "metadata": {},
   "source": [
    "## <font color='blue'> Indexing and Counting"
   ]
  },
  {
   "cell_type": "markdown",
   "id": "22e5b5bd-d234-40e9-a439-0ec73b11239e",
   "metadata": {},
   "source": [
    "####  <mark> count\n",
    "Return the number of occurrences of substring sub in\n",
    "\n",
    "\n",
    "count(\"__\",start,stop)\n",
    "\n",
    "It also counts the blank spaces "
   ]
  },
  {
   "cell_type": "code",
   "execution_count": 27,
   "id": "826617df-0aed-4537-b289-d90ddd3fc66d",
   "metadata": {},
   "outputs": [
    {
     "data": {
      "text/plain": [
       "7"
      ]
     },
     "execution_count": 27,
     "metadata": {},
     "output_type": "execute_result"
    }
   ],
   "source": [
    "sample2=\"pyttttthon ddddeeevlllooopppmmeeennnntt\"\n",
    "\n",
    "sample2.count(\"t\")"
   ]
  },
  {
   "cell_type": "code",
   "execution_count": 28,
   "id": "69ba4054-a6c8-4db1-a327-2d0c8b24405d",
   "metadata": {},
   "outputs": [
    {
     "data": {
      "text/plain": [
       "5"
      ]
     },
     "execution_count": 28,
     "metadata": {},
     "output_type": "execute_result"
    }
   ],
   "source": [
    "sample2.count(\"t\", 0, 10) #counting t upto ten indexes"
   ]
  },
  {
   "cell_type": "code",
   "execution_count": 29,
   "id": "35531bef-4967-4b2d-8edd-c0a138e934a6",
   "metadata": {},
   "outputs": [
    {
     "data": {
      "text/plain": [
       "1"
      ]
     },
     "execution_count": 29,
     "metadata": {},
     "output_type": "execute_result"
    }
   ],
   "source": [
    "sample2=\"pyttttthon ddddeeevlllooopppmmeeennnntt\"\n",
    "\n",
    "sample2.count(\"ddd\")"
   ]
  },
  {
   "cell_type": "code",
   "execution_count": 30,
   "id": "3518d486-b391-43f8-9fe7-a40f0382b2ed",
   "metadata": {},
   "outputs": [
    {
     "data": {
      "text/plain": [
       "0"
      ]
     },
     "execution_count": 30,
     "metadata": {},
     "output_type": "execute_result"
    }
   ],
   "source": [
    "sample2=\"pyttttthon ddddeeevlllooopppmmeeennnntt\"\n",
    "\n",
    "sample2.count(\"xyz\")\n",
    "#Returns 0 if not found (not error)"
   ]
  },
  {
   "cell_type": "markdown",
   "id": "e762f409-9cd5-4899-9918-9fdbbd216168",
   "metadata": {},
   "source": [
    "#### <mark> find(\"__\", start, end) and rfind()\n",
    "\n",
    "It returns the index of the first occurrence of the substring if found \n",
    "\n",
    "else it returns -1\n",
    "\n",
    "It also counts the black spaces"
   ]
  },
  {
   "cell_type": "markdown",
   "id": "f6a4da32-c1d8-4513-bf33-f4cb585c0095",
   "metadata": {},
   "source": [
    "#### <mark> index() and rindex()\n",
    "same as find() BUT if substring is not found it returns error"
   ]
  },
  {
   "cell_type": "code",
   "execution_count": 31,
   "id": "3e1b5a19-c451-4324-9e49-036b057a7c8d",
   "metadata": {},
   "outputs": [
    {
     "data": {
      "text/plain": [
       "11"
      ]
     },
     "execution_count": 31,
     "metadata": {},
     "output_type": "execute_result"
    }
   ],
   "source": [
    "sample2=\"pyttttthon ddddeeevlllooopppmmeeennnntt\"\n",
    "sample2.find(\"d\")"
   ]
  },
  {
   "cell_type": "code",
   "execution_count": 32,
   "id": "d598be93-315e-411d-b6bf-0c75742dd3f9",
   "metadata": {},
   "outputs": [
    {
     "data": {
      "text/plain": [
       "12"
      ]
     },
     "execution_count": 32,
     "metadata": {},
     "output_type": "execute_result"
    }
   ],
   "source": [
    "sample2.find(\"d\",12,20)"
   ]
  },
  {
   "cell_type": "code",
   "execution_count": 33,
   "id": "1f91357b-76e9-4cdb-aae8-1be8842d5349",
   "metadata": {},
   "outputs": [
    {
     "data": {
      "text/plain": [
       "14"
      ]
     },
     "execution_count": 33,
     "metadata": {},
     "output_type": "execute_result"
    }
   ],
   "source": [
    "sample2.rfind(\"d\")"
   ]
  },
  {
   "cell_type": "code",
   "execution_count": 34,
   "id": "e6e7994f-9d4c-4a0b-b95d-561d55549d90",
   "metadata": {},
   "outputs": [
    {
     "data": {
      "text/plain": [
       "-1"
      ]
     },
     "execution_count": 34,
     "metadata": {},
     "output_type": "execute_result"
    }
   ],
   "source": [
    "sample2.find(\"u\")\n",
    "# returns -1 if character is absent"
   ]
  },
  {
   "cell_type": "markdown",
   "id": "e6f58274-c885-4083-99df-c883a748e6e6",
   "metadata": {},
   "source": [
    "## <font color='blue'> is your string...?"
   ]
  },
  {
   "cell_type": "markdown",
   "id": "7a25c3a3-59bf-45df-892d-c46a8d52aef8",
   "metadata": {},
   "source": [
    "#### <mark> isalnum() & isalpha() & isnum()"
   ]
  },
  {
   "cell_type": "code",
   "execution_count": 35,
   "id": "f2ac8133-eec5-469e-aa87-3d4c879b5198",
   "metadata": {},
   "outputs": [
    {
     "name": "stdout",
     "output_type": "stream",
     "text": [
      "1: True\n",
      "2: False\n",
      "3: True\n",
      "4: False\n",
      "5: True\n",
      "6: False\n",
      "7: True\n",
      "8: False\n",
      "9: False\n",
      "10: False\n"
     ]
    }
   ],
   "source": [
    "pancard=\"D5T5GGH65\"\n",
    "pancard2=\"KL@@@562\"\n",
    "adhar=\"15655456\"\n",
    "adhar2=\"568  9456\"\n",
    "name=\"Coder\"\n",
    "blank=\"\"\n",
    "only_space=\" \"\n",
    "\n",
    "print(\"1:\",pancard.isalnum())# isalnum checks alphabet OR numerical\n",
    "print(\"2:\",pancard2.isalnum())#returns false due to special symbol @@@\n",
    "print(\"3:\",adhar.isalnum())\n",
    "print(\"4:\",pancard.isnumeric())\n",
    "print(\"5:\",name.isalnum())\n",
    "print(\"6:\",adhar.isalpha())\n",
    "print(\"7:\",adhar.isnumeric())\n",
    "print(\"8:\",adhar2.isnumeric())#returns false due to blank spcaes\n",
    "print(\"9:\",blank.isalnum())\n",
    "print(\"10:\",only_space.isalnum())\n",
    "\n",
    "# Specail characters are not allowed thereby it returns False if there is presence of any special character\n",
    "# Even blank spaces are taken as specail characters\n",
    "# 56592.154 float number is not returned as numeric thus giving False as result"
   ]
  },
  {
   "cell_type": "code",
   "execution_count": 75,
   "id": "d3e3820c-1682-44dd-b2d3-80b081ed64f6",
   "metadata": {},
   "outputs": [
    {
     "name": "stdout",
     "output_type": "stream",
     "text": [
      "True\n",
      "True\n",
      "True\n"
     ]
    }
   ],
   "source": [
    "print(\"56\".isdecimal())\n",
    "print(\"87\".isdigit())\n",
    "print(\"252\".isnumeric())"
   ]
  },
  {
   "cell_type": "markdown",
   "id": "b03141cd-3b46-4540-bbaf-7f86a80f63b2",
   "metadata": {},
   "source": [
    "####  <mark> startswith() & endswith()\n",
    "This method returns True/False if the substring satrts/ends with that prefix/suffix"
   ]
  },
  {
   "cell_type": "code",
   "execution_count": 37,
   "id": "3c60c858-c7a3-4fa4-a049-e77200f0b66e",
   "metadata": {},
   "outputs": [
    {
     "data": {
      "text/plain": [
       "True"
      ]
     },
     "execution_count": 37,
     "metadata": {},
     "output_type": "execute_result"
    }
   ],
   "source": [
    "#endswith(value,start,end)\n",
    "\n",
    "website=\"www.facebook.com\"\n",
    "website.endswith(\".com\")"
   ]
  },
  {
   "cell_type": "code",
   "execution_count": 38,
   "id": "23481560-780b-4531-8c8a-4a369925d0ff",
   "metadata": {},
   "outputs": [
    {
     "name": "stdout",
     "output_type": "stream",
     "text": [
      "True\n"
     ]
    }
   ],
   "source": [
    "print(website.endswith(\"ok\",0,12))"
   ]
  },
  {
   "cell_type": "code",
   "execution_count": 39,
   "id": "437de2d3-bf5e-42f2-9487-8bfee7a138f8",
   "metadata": {},
   "outputs": [
    {
     "data": {
      "text/plain": [
       "True"
      ]
     },
     "execution_count": 39,
     "metadata": {},
     "output_type": "execute_result"
    }
   ],
   "source": [
    "website.startswith(\"oo\",9,len(website))"
   ]
  },
  {
   "cell_type": "markdown",
   "id": "a5eef872-9513-447f-a29c-44aa362a5226",
   "metadata": {},
   "source": [
    "#### <mark>  isspace()\n",
    "Return True if the string is a whitespace string, False otherwise."
   ]
  },
  {
   "cell_type": "code",
   "execution_count": 43,
   "id": "9300abe9-d3ae-4561-8c47-8d6f317736fe",
   "metadata": {},
   "outputs": [
    {
     "data": {
      "text/plain": [
       "False"
      ]
     },
     "execution_count": 43,
     "metadata": {},
     "output_type": "execute_result"
    }
   ],
   "source": [
    "telescope3=\"     a   kk  l\"\n",
    "telescope3.isspace()"
   ]
  },
  {
   "cell_type": "code",
   "execution_count": 44,
   "id": "8f46da3a-296e-4d3a-a8ac-856ff3cfe49d",
   "metadata": {},
   "outputs": [
    {
     "data": {
      "text/plain": [
       "True"
      ]
     },
     "execution_count": 44,
     "metadata": {},
     "output_type": "execute_result"
    }
   ],
   "source": [
    "telescope3=\" \"\n",
    "telescope3.isspace()"
   ]
  },
  {
   "cell_type": "code",
   "execution_count": 45,
   "id": "ba58707d-ab3d-4877-a3cd-f8a348b9e2af",
   "metadata": {},
   "outputs": [
    {
     "data": {
      "text/plain": [
       "False"
      ]
     },
     "execution_count": 45,
     "metadata": {},
     "output_type": "execute_result"
    }
   ],
   "source": [
    "telescope3=\"\"\n",
    "telescope3.isspace()"
   ]
  },
  {
   "cell_type": "code",
   "execution_count": 46,
   "id": "58e2fb0f-1235-467b-8534-c5104c7e308a",
   "metadata": {},
   "outputs": [
    {
     "data": {
      "text/plain": [
       "True"
      ]
     },
     "execution_count": 46,
     "metadata": {},
     "output_type": "execute_result"
    }
   ],
   "source": [
    "telescope3=\"\\n\"\n",
    "telescope3.isspace()"
   ]
  },
  {
   "cell_type": "markdown",
   "id": "4c6d2f38-9177-43f5-939a-886044147afb",
   "metadata": {},
   "source": [
    "## <font color='blue'> breaking and joining string"
   ]
  },
  {
   "cell_type": "markdown",
   "id": "1118f5a2-ab43-4b2a-a4ca-bff6ce655d0a",
   "metadata": {},
   "source": [
    "#### <mark>  split()\n",
    "\n",
    "it converts a string into the list\n",
    "\n",
    "\n",
    "it breaks up the string at specific separator and returns a list of string\n",
    "\n",
    "\n",
    "By default separator is space. {-1 (the default value) means no limit.}\n",
    "\n",
    "    .split() --> Takes space as separator\n",
    "\n",
    "    .split(\" \") --> Takes space as separator\n",
    "    \n",
    "    .split(\"\") --> Error\n",
    "    \n",
    "Return a list of the words in the string, using sep as the delimiter string.\n",
    "\n",
    "The element inside () gets eliminated from list\n",
    "\n",
    "Maxsplit:\n",
    "    \n",
    "    Maximum number of splits to do.\n",
    "\n",
    "    -1 (the default value) means no limit."
   ]
  },
  {
   "cell_type": "code",
   "execution_count": 48,
   "id": "09e7016b-1c68-42fc-b1cc-2f0b70364d45",
   "metadata": {},
   "outputs": [
    {
     "name": "stdout",
     "output_type": "stream",
     "text": [
      "Coder gamer   @   from paris \n"
     ]
    },
    {
     "data": {
      "text/plain": [
       "['Coder', 'gamer', '@', 'from', 'paris']"
      ]
     },
     "execution_count": 48,
     "metadata": {},
     "output_type": "execute_result"
    }
   ],
   "source": [
    "text=\"Coder gamer   @   from paris \"\n",
    "\n",
    "print(text)\n",
    "text.split()"
   ]
  },
  {
   "cell_type": "code",
   "execution_count": 50,
   "id": "729e4469-a266-4a75-a957-2e6a340c4ba1",
   "metadata": {},
   "outputs": [
    {
     "name": "stdout",
     "output_type": "stream",
     "text": [
      "['CoderGamer.Coin', 'wins']\n",
      "['CoderGamer', 'Coin wins']\n",
      "['CoderGamer.Coin wins']\n",
      "['Coder', 'amer.Coin wins']\n"
     ]
    }
   ],
   "source": [
    "my_grocery=\"CoderGamer.Coin wins\"\n",
    "\n",
    "print(my_grocery.split())\n",
    "print(my_grocery.split(\".\"))\n",
    "print(my_grocery.split(\"g\"))\n",
    "print(my_grocery.split(\"G\"))"
   ]
  },
  {
   "cell_type": "markdown",
   "id": "71cb1674-40a8-4c41-92d6-3a686ccea870",
   "metadata": {},
   "source": [
    "#### <mark>  splitlines()\n",
    "-Return a list of the lines in the string, breaking at line boundaries.\n",
    "\n",
    "-.splitlines(keepends=False/True)\n",
    "    \n",
    "    False is default\n",
    "\n",
    "-Line breaks are not included in the resulting list unless keepends is given and\n",
    "true."
   ]
  },
  {
   "cell_type": "code",
   "execution_count": 51,
   "id": "86250b20-e202-4bf9-89f0-0b348b0283ed",
   "metadata": {},
   "outputs": [
    {
     "name": "stdout",
     "output_type": "stream",
     "text": [
      "history,\n",
      "geography\n",
      "polity,\n",
      "geo\n",
      "his\n"
     ]
    },
    {
     "data": {
      "text/plain": [
       "['history,', 'geography', 'polity,', 'geo', 'his']"
      ]
     },
     "execution_count": 51,
     "metadata": {},
     "output_type": "execute_result"
    }
   ],
   "source": [
    "optionals=\"history,\\ngeography\\npolity,\\ngeo\\nhis\"\n",
    "print(optionals)\n",
    "\n",
    "optionals.splitlines()"
   ]
  },
  {
   "cell_type": "code",
   "execution_count": 52,
   "id": "03a3af90-9942-4fce-9cec-2dd7459d35fd",
   "metadata": {},
   "outputs": [
    {
     "data": {
      "text/plain": [
       "['history,\\n', 'geography\\n', 'polity,\\n', 'geo\\n', 'his']"
      ]
     },
     "execution_count": 52,
     "metadata": {},
     "output_type": "execute_result"
    }
   ],
   "source": [
    "optionals.splitlines(keepends=True)"
   ]
  },
  {
   "cell_type": "code",
   "execution_count": 53,
   "id": "a8b082b7-a206-4edf-bc82-a68018cd834e",
   "metadata": {},
   "outputs": [
    {
     "data": {
      "text/plain": [
       "['history,', 'geography', 'polity,', 'geo', 'his']"
      ]
     },
     "execution_count": 53,
     "metadata": {},
     "output_type": "execute_result"
    }
   ],
   "source": [
    "optionals.splitlines(keepends=False)"
   ]
  },
  {
   "cell_type": "markdown",
   "id": "56eb52b3-755c-49e9-9760-fe491947cc52",
   "metadata": {},
   "source": [
    "#### <mark> partition()\n",
    "\n",
    "    -converts string into tupple.\n",
    "\n",
    "    -takes exactly one arguement\n",
    "\n",
    "    -same as split() BUT \n",
    "\n",
    "        returns tupple instead of list in split()\n",
    "\n",
    "        keeps the separator element unlike split()\n",
    "\n",
    "    -@the separator arguement is always kept in middle in tupple"
   ]
  },
  {
   "cell_type": "code",
   "execution_count": 64,
   "id": "19ed8c6c-24bd-4e69-9c95-f9f576172b82",
   "metadata": {},
   "outputs": [
    {
     "name": "stdout",
     "output_type": "stream",
     "text": [
      "('Python ', 'is', ' easy to learn')\n",
      "('Python', ' ', 'is easy to learn')\n",
      "('', 'Py', 'thon is easy to learn')\n",
      "('Python is easy to ', 'learn', '')\n",
      "('', 'Python is easy to learn', '')\n"
     ]
    }
   ],
   "source": [
    "example=(\"Python is easy to learn\")\n",
    "\n",
    "print(example.partition(\"is\"))\n",
    "print(example.partition(\" \"))\n",
    "print(example.partition(\"Py\"))\n",
    "print(example.partition(\"learn\"))\n",
    "print(example.partition(\"Python is easy to learn\"))"
   ]
  },
  {
   "cell_type": "markdown",
   "id": "1aa887af-2388-45be-a412-214d1175a685",
   "metadata": {},
   "source": [
    "####  <mark> join()\n",
    "\n",
    "    - opposite of split()\n",
    "\n",
    "    -it joins iterables into a string\n",
    "\n",
    "    -Concatenate any number of strings."
   ]
  },
  {
   "cell_type": "code",
   "execution_count": 65,
   "id": "db923f72-bf76-478d-9781-bacf9b787a6b",
   "metadata": {},
   "outputs": [
    {
     "data": {
      "text/plain": [
       "'ab...pq...rs'"
      ]
     },
     "execution_count": 65,
     "metadata": {},
     "output_type": "execute_result"
    }
   ],
   "source": [
    "'...'.join(['ab', 'pq', 'rs'])"
   ]
  },
  {
   "cell_type": "code",
   "execution_count": 68,
   "id": "cbb8e348-a2f8-48fc-a3d5-f6b727c97f81",
   "metadata": {},
   "outputs": [
    {
     "data": {
      "text/plain": [
       "'coding-----is-----best'"
      ]
     },
     "execution_count": 68,
     "metadata": {},
     "output_type": "execute_result"
    }
   ],
   "source": [
    "words=[\"coding\", \"is\", \"best\"]\n",
    "\"-----\".join(words)"
   ]
  },
  {
   "cell_type": "markdown",
   "id": "7b6ebeb7-baa6-4b5a-87dc-c93365e603ff",
   "metadata": {},
   "source": [
    "## <font color='blue'> Altering the string"
   ]
  },
  {
   "cell_type": "markdown",
   "id": "40b31e1b-9e68-4b5a-a465-d66f81064f03",
   "metadata": {
    "tags": []
   },
   "source": [
    "#### <mark>  replace()\n",
    "to replace a string by another\n",
    "\n",
    "original string will be returned if substring is not found"
   ]
  },
  {
   "cell_type": "code",
   "execution_count": 69,
   "id": "34df65e7-9e2a-4aaf-8fbd-21c29649cbbe",
   "metadata": {},
   "outputs": [
    {
     "data": {
      "text/plain": [
       "'Dhoni is captain of India'"
      ]
     },
     "execution_count": 69,
     "metadata": {},
     "output_type": "execute_result"
    }
   ],
   "source": [
    "indian_players=\"Virat is captain of India\"\n",
    "\n",
    "indian_players.replace(\"Virat\",\"Dhoni\")"
   ]
  },
  {
   "cell_type": "code",
   "execution_count": 73,
   "id": "ace58ff0-7a00-4626-a5e2-cc6aaa12f47f",
   "metadata": {},
   "outputs": [
    {
     "name": "stdout",
     "output_type": "stream",
     "text": [
      "KKR Pune Pune Pune RCB RCB CSK HYD RAJ RCB KKR Pune CSK\n",
      "KKR Pune Pune MI RCB RCB CSK HYD RAJ RCB KKR MI CSK\n"
     ]
    }
   ],
   "source": [
    "ipl_winner=\"KKR MI MI MI RCB RCB CSK HYD RAJ RCB KKR MI CSK\"\n",
    "\n",
    "#Replace ALL\n",
    "ipl1=ipl_winner.replace(\"MI\", \"Pune\")\n",
    "print(ipl1)\n",
    "\n",
    "#Replace first two\n",
    "ipl2=ipl_winner.replace(\"MI\", \"Pune\", 2)\n",
    "print(ipl2)"
   ]
  },
  {
   "cell_type": "markdown",
   "id": "d96f150d-f402-4672-ada7-49c659d7b78e",
   "metadata": {},
   "source": []
  },
  {
   "cell_type": "markdown",
   "id": "4de46e8a-669d-4022-8eee-b6a74556ff73",
   "metadata": {},
   "source": [
    "#### <mark> lstripe() and rstrip()\n",
    "-Return a copy of the string with LEADING whitespace removed.\n",
    "\n",
    "-If chars is given and not None, remove characters in chars instead."
   ]
  },
  {
   "cell_type": "code",
   "execution_count": 54,
   "id": "532b0740-37d4-4b9f-a7f3-6ce3e1fb0c1d",
   "metadata": {},
   "outputs": [
    {
     "name": "stdout",
     "output_type": "stream",
     "text": [
      "a lie\n",
      "5\n"
     ]
    }
   ],
   "source": [
    "random=\"        this    is  a lie\"\n",
    "\n",
    "#random_new=random.lstrip() ->Initial spaces by default \n",
    "\n",
    "random_new=random.lstrip(\"hi s t\") \n",
    "\n",
    "#alphabets can be put just once\n",
    "#alphabets not necessary to be in order\n",
    "print(random_new)\n",
    "print(len(random_new))"
   ]
  },
  {
   "cell_type": "code",
   "execution_count": 55,
   "id": "6a2392ff-57e7-4ecb-9a68-0216a2389465",
   "metadata": {},
   "outputs": [
    {
     "name": "stdout",
     "output_type": "stream",
     "text": [
      "https://www.facebook.   coooommmm   \n",
      "https://www.facebook\n"
     ]
    }
   ],
   "source": [
    "websites=\"https://www.facebook.   coooommmm   \"\n",
    "print(websites)\n",
    "website_new=websites.rstrip(\".com \")\n",
    "print(website_new)"
   ]
  },
  {
   "cell_type": "markdown",
   "id": "14aa7ef1-4357-4e7f-a46d-980c37a8d3e2",
   "metadata": {},
   "source": [
    "## <font color='blue'> String Case </font>"
   ]
  },
  {
   "cell_type": "markdown",
   "id": "06702b5e-7b9c-4edd-b2a7-eb16f24b197b",
   "metadata": {},
   "source": [
    "#### <mark> capitalize() </mark> \n",
    "Capitalizes ONLY the FIRST character of the WHOLE string and ALL others in small"
   ]
  },
  {
   "cell_type": "code",
   "execution_count": 26,
   "id": "1a73bdd7-9414-43ca-a094-f08a0223afd8",
   "metadata": {},
   "outputs": [
    {
     "name": "stdout",
     "output_type": "stream",
     "text": [
      "Coder 65gamer\n"
     ]
    }
   ],
   "source": [
    "sample=\"coder 65gamer\"\n",
    "print(sample.capitalize())"
   ]
  },
  {
   "cell_type": "markdown",
   "id": "7f11c3fa-89cc-4e3c-86f4-1c33fdd2825f",
   "metadata": {
    "tags": []
   },
   "source": [
    "#### <mark> lower() upper()\n",
    "-These are bulletin functions/methods that return a COPY of the string converted to lower/uppercase"
   ]
  },
  {
   "cell_type": "code",
   "execution_count": 40,
   "id": "6bf756b1-09b1-4536-9886-4c91a14ac281",
   "metadata": {},
   "outputs": [
    {
     "name": "stdout",
     "output_type": "stream",
     "text": [
      "sam  sung\n",
      "SU.-2.ZUKI23568@#\n",
      "Notice NO change in variable mobile and car:\n",
      " SAm  suNG \n",
      " su.-2.zuki23568@#\n"
     ]
    }
   ],
   "source": [
    "mobile=\"SAm  suNG\"\n",
    "car=\"su.-2.zuki23568@#\"\n",
    "\n",
    "print(mobile.lower())\n",
    "print(car.upper())\n",
    "\n",
    "print(\"Notice NO change in variable mobile and car:\\n\",mobile,\"\\n\",car)\n",
    "\n",
    "# however this does not make any change in original variable\n",
    "# special characters and symbols are not affected"
   ]
  },
  {
   "cell_type": "markdown",
   "id": "fb685b72-e248-410f-a2ba-1804c2fb8019",
   "metadata": {},
   "source": [
    "#### <mark> islower() isupper()\n",
    "\n",
    "    -returns true if ALL alphabets are in lower/upper case\n",
    "\n",
    "    -it does not takes into account special characters or numbers or blank spaces"
   ]
  },
  {
   "cell_type": "code",
   "execution_count": 41,
   "id": "bfbb113b-50d1-4291-9b90-078e7c089db9",
   "metadata": {},
   "outputs": [
    {
     "data": {
      "text/plain": [
       "True"
      ]
     },
     "execution_count": 41,
     "metadata": {},
     "output_type": "execute_result"
    }
   ],
   "source": [
    "car=\"su.-2.zuki23  568@#\"\n",
    "car.islower()"
   ]
  },
  {
   "cell_type": "code",
   "execution_count": 42,
   "id": "338aa55d-7ad6-42fa-a603-da9fb44dc5f0",
   "metadata": {},
   "outputs": [
    {
     "data": {
      "text/plain": [
       "False"
      ]
     },
     "execution_count": 42,
     "metadata": {},
     "output_type": "execute_result"
    }
   ],
   "source": [
    "mobile=\"SAm  suNG\"\n",
    "mobile.isupper()\n",
    "#isupper() returns true if ALL alphabets are in upper case"
   ]
  },
  {
   "cell_type": "markdown",
   "id": "cdda05ed-d2aa-4c9b-b3b7-5b2c500acc1e",
   "metadata": {},
   "source": [
    "#### <mark> isprintable()\n",
    "returns True if the string is printable\n",
    "\n",
    "Printable characters :\n",
    "Letter and symbols,\n",
    "Digits,\n",
    "Whitespaces,\n",
    "Punctuation.\n",
    "\n",
    "Non Printable : \\n \\t"
   ]
  },
  {
   "cell_type": "code",
   "execution_count": 1,
   "id": "68e3e4ff-8e3b-4af2-b530-11bc4928ba60",
   "metadata": {},
   "outputs": [
    {
     "data": {
      "text/plain": [
       "False"
      ]
     },
     "execution_count": 1,
     "metadata": {},
     "output_type": "execute_result"
    }
   ],
   "source": [
    "my_address3=\"Satara\\t-411019\"\n",
    "my_address3.isprintable()"
   ]
  },
  {
   "cell_type": "code",
   "execution_count": 2,
   "id": "15f783f2-f4fb-44fc-a609-98054bcfd9a8",
   "metadata": {},
   "outputs": [
    {
     "data": {
      "text/plain": [
       "True"
      ]
     },
     "execution_count": 2,
     "metadata": {},
     "output_type": "execute_result"
    }
   ],
   "source": [
    "my_address=\"Pune-411     019 . , [], @\"\n",
    "my_address.isprintable()"
   ]
  },
  {
   "cell_type": "markdown",
   "id": "cbc12fc6-c456-4a93-85e8-ae7f528dfb0a",
   "metadata": {},
   "source": [
    "#### <mark>  swapcase()"
   ]
  },
  {
   "cell_type": "code",
   "execution_count": 74,
   "id": "9e535330-d335-482b-8882-a695880868c1",
   "metadata": {},
   "outputs": [
    {
     "name": "stdout",
     "output_type": "stream",
     "text": [
      "thIs Is A gREat dAY\n"
     ]
    }
   ],
   "source": [
    "string=\"THiS iS a GreAT Day\"\n",
    "print(string.swapcase())"
   ]
  },
  {
   "cell_type": "markdown",
   "id": "58e50d29-170a-4a3a-a533-bd069caad7e5",
   "metadata": {},
   "source": [
    "#### <mark>  istitle()\n",
    "\n",
    "it checks pascal casing"
   ]
  },
  {
   "cell_type": "code",
   "execution_count": 77,
   "id": "ab3feb1f-e956-4e90-b793-e50af212d1b3",
   "metadata": {},
   "outputs": [
    {
     "data": {
      "text/plain": [
       "True"
      ]
     },
     "execution_count": 77,
     "metadata": {},
     "output_type": "execute_result"
    }
   ],
   "source": [
    "#Pascal Casing means first letter of every wod is in capital case\n",
    "\n",
    "food=\"Burger Is @@Good\"\n",
    "food.istitle()"
   ]
  },
  {
   "cell_type": "markdown",
   "id": "8ec10b4e-5ad0-45e6-ac1f-cf6c9e2d4098",
   "metadata": {},
   "source": [
    "## <font color='blue'> zfill(), ljust() and center() </font>"
   ]
  },
  {
   "cell_type": "markdown",
   "id": "c04a05ea-5e71-488c-9ac2-5aa2d811da96",
   "metadata": {
    "tags": []
   },
   "source": [
    "####  <mark> zfill()"
   ]
  },
  {
   "cell_type": "code",
   "execution_count": 76,
   "id": "a722e1c3-70ef-421d-85f0-eda08d1626d1",
   "metadata": {},
   "outputs": [
    {
     "name": "stdout",
     "output_type": "stream",
     "text": [
      "000watsapp\n"
     ]
    },
    {
     "data": {
      "text/plain": [
       "'watsapp*'"
      ]
     },
     "execution_count": 76,
     "metadata": {},
     "output_type": "execute_result"
    }
   ],
   "source": [
    "texting=\"watsapp\"\n",
    "\n",
    "print(texting.zfill(10))\n",
    "\n",
    "texting.center(8,\"*\")"
   ]
  },
  {
   "cell_type": "markdown",
   "id": "da03f941-2c34-4313-b79d-0683745adddb",
   "metadata": {},
   "source": [
    "####  <mark> ljust()\n",
    "sample.ljust(width, fillchar=' ', /)\n",
    "\n",
    "Return a left-justified string of length width"
   ]
  },
  {
   "cell_type": "code",
   "execution_count": 78,
   "id": "24f3e3e1-f5dc-4e3e-8f72-376337b05fed",
   "metadata": {},
   "outputs": [
    {
     "name": "stdout",
     "output_type": "stream",
     "text": [
      "python\n",
      "python++++\n"
     ]
    }
   ],
   "source": [
    "sample=\"python\"\n",
    "print(sample)\n",
    "sample=sample.ljust(10,\"+\")\n",
    "print(sample)"
   ]
  },
  {
   "cell_type": "markdown",
   "id": "f9e42147-b7d1-4b7d-b104-5e28635f77ab",
   "metadata": {},
   "source": [
    "#### <mark> center()\n",
    "Return a centered string of length width."
   ]
  },
  {
   "cell_type": "code",
   "execution_count": 36,
   "id": "c42e6a34-e158-4177-a892-87db526925ff",
   "metadata": {},
   "outputs": [
    {
     "name": "stdout",
     "output_type": "stream",
     "text": [
      "Coder\n",
      "Coder\n",
      "Coder$\n",
      "$Coder$\n",
      "$Coder$$\n",
      "$$Coder$$\n"
     ]
    }
   ],
   "source": [
    "player=\"Coder\"\n",
    "print(player.center(0,\"$\"))\n",
    "print(player.center(5,\"$\"))#total length of coder isself is 5 so it does not add $ at end\n",
    "print(player.center(6,\"$\"))#adds $ at end so that total lenth becomes 6: coder(5)+1\n",
    "print(player.center(7,\"$\"))\n",
    "print(player.center(8,\"$\"))\n",
    "print(player.center(9,\"$\"))"
   ]
  },
  {
   "cell_type": "code",
   "execution_count": null,
   "id": "a985bc0a-58af-420c-9e77-db584d8e7d67",
   "metadata": {},
   "outputs": [],
   "source": []
  }
 ],
 "metadata": {
  "kernelspec": {
   "display_name": "Python 3 (ipykernel)",
   "language": "python",
   "name": "python3"
  },
  "language_info": {
   "codemirror_mode": {
    "name": "ipython",
    "version": 3
   },
   "file_extension": ".py",
   "mimetype": "text/x-python",
   "name": "python",
   "nbconvert_exporter": "python",
   "pygments_lexer": "ipython3",
   "version": "3.9.13"
  }
 },
 "nbformat": 4,
 "nbformat_minor": 5
}

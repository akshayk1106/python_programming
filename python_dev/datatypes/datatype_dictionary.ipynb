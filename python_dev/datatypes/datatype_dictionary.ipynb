{
 "cells": [
  {
   "cell_type": "markdown",
   "id": "6981a74c",
   "metadata": {},
   "source": [
    "# DICTIONARY {key:Value,}\n",
    "-Dictionary in Python is an ***ordered collection key:values pairs of data, used to store data values like a map,*** which, unlike other Data Types that hold only a single value as an element. Key-value is provided in the dictionary to make it more optimized. Dictionaries are used to store data values in key:value pairs.\n",
    "\n",
    "-Mutable\n",
    "\n",
    "-Ordered (Unordered till Python 2.6)\n",
    "\n",
    "-indexing possible(we can fetch value from [key] but not [index no.])\n",
    "\n",
    "-Keys: UNIQUE (No polymorphism allowed), IMMUTABLE (Strings, Numeric and tuples, fset)\n",
    "\n",
    "-Values: REPEATABLE, ANY DATA TYPE."
   ]
  },
  {
   "cell_type": "code",
   "execution_count": 3,
   "id": "8c9945d1",
   "metadata": {},
   "outputs": [
    {
     "name": "stdout",
     "output_type": "stream",
     "text": [
      "{'Name': 'Virat', 'Team': 'RCB', 'Runs': 6000}\n",
      "<class 'dict'>\n",
      "0 \n",
      "\n",
      "{frozenset({4, 5}): 'OK', (8, 9, 10): ['hi', 'bye']} \n",
      "\n"
     ]
    }
   ],
   "source": [
    "ipl={\"Name\":\"Virat\",\"Team\":\"RCB\",\"Runs\":6000}\n",
    "print(ipl)\n",
    "print(type(ipl))\n",
    "\n",
    "#Empty dictionary\n",
    "empty={}\n",
    "type(empty)\n",
    "print(len(empty),\"\\n\")\n",
    "\n",
    "#F.Set and Tuple as keys\n",
    "fset={frozenset({4,5}):\"OK\",(8,9,10):[\"hi\",\"bye\"]}\n",
    "print(fset,\"\\n\")"
   ]
  },
  {
   "cell_type": "code",
   "execution_count": 12,
   "id": "619e46ee",
   "metadata": {},
   "outputs": [
    {
     "name": "stdout",
     "output_type": "stream",
     "text": [
      "set()\n"
     ]
    }
   ],
   "source": [
    "s={1,2,3}\n",
    "for i in range(0,len(s)):\n",
    "    s.pop()\n",
    "print(s)"
   ]
  },
  {
   "cell_type": "code",
   "execution_count": 17,
   "id": "b02de604",
   "metadata": {},
   "outputs": [
    {
     "name": "stdout",
     "output_type": "stream",
     "text": [
      "{'name': 'dhoni', 'team': 'csk'}\n",
      "{123: 'UK', 423: 'USA'}\n"
     ]
    }
   ],
   "source": [
    "#using dict word for typecasting\n",
    "\n",
    "mine=dict({\"name\":\"dhoni\",\"team\":\"csk\"})\n",
    "print(mine)\n",
    "\n",
    "mine=dict([(123,\"UK\"),(423,\"USA\")]) #Tuples in list\n",
    "print(mine)"
   ]
  },
  {
   "cell_type": "code",
   "execution_count": 23,
   "id": "02e3e7ee",
   "metadata": {},
   "outputs": [
    {
     "name": "stdout",
     "output_type": "stream",
     "text": [
      "{1: 'Geeks', 2: 'For', 3: {'A': 'Welcome', 'B': 'To', 'C': 'Geeks'}}\n"
     ]
    }
   ],
   "source": [
    "# Creating a Nested Dictionary\n",
    "Dict = {1: 'Geeks', 2: 'For',3:{'A' : 'Welcome', 'B' : 'To', 'C' : 'Geeks'}}\n",
    "print(Dict)"
   ]
  },
  {
   "cell_type": "markdown",
   "id": "cee667be",
   "metadata": {},
   "source": [
    "### Accessing Elements from dictionary"
   ]
  },
  {
   "cell_type": "code",
   "execution_count": 40,
   "id": "abb174ce",
   "metadata": {
    "scrolled": true
   },
   "outputs": [
    {
     "name": "stdout",
     "output_type": "stream",
     "text": [
      "[0.2, 0.3]\n",
      "{'name': [0.2, 0.3], 'age': 56}\n"
     ]
    }
   ],
   "source": [
    "ak={\"name\":\"jack\",\"age\":27,\"name\":89,\"name\":[0.2,0.3]}\n",
    "\n",
    "print(ak[\"name\"]) #Accessing using keyname\n",
    "\n",
    "#print(ak[\"number\"])  -KeyError\n",
    "#print(ak[0]) -KeyError + (Cannot be accessed using index number)\n",
    "\n",
    "#Values can be changed by calling the key\n",
    "ak[\"age\"]=56\n",
    "print(ak)"
   ]
  },
  {
   "cell_type": "code",
   "execution_count": 39,
   "id": "428c8032",
   "metadata": {
    "scrolled": true
   },
   "outputs": [
    {
     "name": "stdout",
     "output_type": "stream",
     "text": [
      "<class 'dict'>\n",
      "55555\n"
     ]
    }
   ],
   "source": [
    "aksh={\"name\":\"jack\",\"name\":89,\"name\":[0.2,0.3],(\"complex\",\"no.\"):8+9j,\"name\":55555}\n",
    "kum=dict(aksh)\n",
    "print(type(kum))\n",
    "print(kum[\"name\"])"
   ]
  },
  {
   "cell_type": "markdown",
   "id": "331a96ec",
   "metadata": {},
   "source": [
    "### DICTIONARY METHODS\n",
    "\n",
    "my_dict = {\"name\":\"jack\",\"age\":27,\"salary\":890}\n",
    "\n",
    "### <font color='red'> Reading dictionary items\n",
    "\n",
    "`.keys()`\n",
    "    --> ['name', 'age', 'salary']\n",
    "\n",
    "`.values()`\n",
    "    --> ['jack', 27, 890]\n",
    "\n",
    "`.items()` \n",
    "    \n",
    "    -It will return a view object of dict(key and values) IN FORM OF TUPLE PAIR\n",
    "    >>> my_dict.items()\n",
    "    --> [('name', 'jack'), ('age', 56), ('job', 'Scientist'), ('salary', '100$')]\n",
    "\n",
    "`.get(key, default=None)` \n",
    "\n",
    "    -Return the value for key if key is in the dictionary, else default.\n",
    "    >>> my_dict.get(\"age\")\n",
    "\n",
    "`.copy()` \n",
    "    \n",
    "    -Gives shallow copy\n",
    "    \n",
    "### <font color='red'> Deleting dictionary items\n",
    "\n",
    "`.pop(key,default=Error) -> value,` \n",
    "    \n",
    "    -remove specified key and return the corresponding value.\n",
    "    >>> my_dict.pop('age')\n",
    "    >>> my_dict.pop('marital status', 'Not found attribut!')\n",
    "\n",
    "`.popitem()` \n",
    "\n",
    "    -Pairs are returned in LIFO (last-in, first-out) order.\n",
    "    -Removes last item\n",
    "    >>> my_dict.pop_items()\n",
    "\n",
    "`.clear()`\n",
    "    \n",
    "    -returns an empty list after deleting all key-value pairs\n",
    "\n",
    "### <font color='red'> Updating dictionary items\n",
    "\n",
    "`adding new item`\n",
    "    \n",
    "    >>> my_dict['City'] = 'London'\n",
    "    \n",
    "`.update(keyvalue pairs)`\n",
    "    >>> my_dict.update({'gender':'male'})\n",
    "    >>> my_dict.update(Dance='No', Sing='Yes')\n",
    "    >>> my_dict.update(job_dict)\n",
    "\n",
    "`.fromkeys(keys, values=None default)` \n",
    "    \n",
    "    -Creat new list with newkeys having same values as provided\n",
    "\n",
    "`.setdefault(key,default=None)` \n",
    "    \n",
    "    -Insert key with a value of default if key is not in the dictionary. Return the value for key if key is in the dictionary, else default.\n",
    "    \n",
    "    >>> my_dict.setdefault('name') ---> {\"name\":\"jack\",\"age\":27,\"salary\":890}\n",
    "    >>> my_dict.setdefault('name', 'Frank') ---> {\"name\":\"jack\",\"age\":27,\"salary\":890}\n",
    "    >>> my_dict.setdefault('job') ---> {\"name\":\"jack\",\"age\":27,\"salary\":890, 'job':None}\n",
    "    >>> my_dict.setdefault('job', 'KYC') ---> {\"name\":\"jack\",\"age\":27,\"salary\":890, 'job':'KYC'}"
   ]
  },
  {
   "cell_type": "code",
   "execution_count": 1,
   "id": "13a18fca",
   "metadata": {},
   "outputs": [
    {
     "name": "stdout",
     "output_type": "stream",
     "text": [
      "27\n",
      "None\n"
     ]
    }
   ],
   "source": [
    "ak={\"name\":\"jack\",\"age\":27,\"name\":89}\n",
    "print(ak.get(\"age\"))\n",
    "print(ak.get(\"time\")) \n",
    "# .get() Does not give error if element is not found, it retuns None"
   ]
  },
  {
   "cell_type": "code",
   "execution_count": 2,
   "id": "05b2ed98",
   "metadata": {},
   "outputs": [
    {
     "name": "stdout",
     "output_type": "stream",
     "text": [
      "{'name': 89, 'age': 27, 'job': 'Scientist', 'salary': '$5078'}\n"
     ]
    }
   ],
   "source": [
    "#Adding an element\n",
    "ak[\"job\"]=\"Scientist\"\n",
    "ak[\"salary\"]=\"$5078\"\n",
    "\n",
    "print(ak)"
   ]
  },
  {
   "cell_type": "code",
   "execution_count": 3,
   "id": "8f33c1b9",
   "metadata": {},
   "outputs": [],
   "source": [
    "#ak.remove(\"job\")\n",
    "#dict' object has no attribute remove"
   ]
  },
  {
   "cell_type": "markdown",
   "id": "b585afd8",
   "metadata": {},
   "source": [
    "#### pop()\n",
    "D.pop(key,default=Error) -> value, remove specified key and return the corresponding value.\n",
    "If key is not found, d is returned if given, otherwise KeyError is raised"
   ]
  },
  {
   "cell_type": "code",
   "execution_count": 5,
   "id": "8d73ccee",
   "metadata": {},
   "outputs": [
    {
     "name": "stdout",
     "output_type": "stream",
     "text": [
      "{'name': 'jack', 'age': 56, 'job': 'Scientist', 'salary': '$5078'}\n",
      "{'name': 'jack', 'job': 'Scientist', 'salary': '$5078'}\n"
     ]
    }
   ],
   "source": [
    "ak={'name': 'jack', 'age': 56, 'job': 'Scientist', 'salary': '$5078'}\n",
    "print(ak)\n",
    "ak.pop(\"age\")\n",
    "print(ak)"
   ]
  },
  {
   "cell_type": "code",
   "execution_count": 6,
   "id": "8d56ce13",
   "metadata": {},
   "outputs": [
    {
     "data": {
      "text/plain": [
       "'Not found bro'"
      ]
     },
     "execution_count": 6,
     "metadata": {},
     "output_type": "execute_result"
    }
   ],
   "source": [
    "#ak.pop(\"ss\") --> Gives KeyError\n",
    "ak.pop(\"ss\",\"Not found bro\")"
   ]
  },
  {
   "cell_type": "markdown",
   "id": "7d189ff4",
   "metadata": {},
   "source": [
    "##### .popitem()\n",
    "-Pairs are returned in LIFO (last-in, first-out) order.\n",
    "Raises KeyError if the dict is empty."
   ]
  },
  {
   "cell_type": "code",
   "execution_count": 4,
   "id": "f7453714",
   "metadata": {},
   "outputs": [
    {
     "name": "stdout",
     "output_type": "stream",
     "text": [
      "{'name': 'jack', 'age': 56, 'job': 'Scientist'}\n",
      "{'name': 'jack', 'age': 56}\n",
      "{'name': 'jack'}\n",
      "{}\n"
     ]
    }
   ],
   "source": [
    "aj={'name': 'jack', 'age': 56, 'job': 'Scientist', 'salary': '$5078'}\n",
    "\n",
    "aj.popitem()\n",
    "print(aj)\n",
    "aj.popitem()\n",
    "print(aj)\n",
    "aj.popitem()\n",
    "print(aj)\n",
    "aj.popitem()\n",
    "print(aj)"
   ]
  },
  {
   "cell_type": "markdown",
   "id": "88b8e1b7",
   "metadata": {},
   "source": [
    "##### .keys() and .values()"
   ]
  },
  {
   "cell_type": "code",
   "execution_count": 6,
   "id": "d41a4714",
   "metadata": {
    "scrolled": true
   },
   "outputs": [
    {
     "name": "stdout",
     "output_type": "stream",
     "text": [
      "dict_keys(['name', 'age', 'job', 'salary'])\n",
      "<class 'dict_keys'>\n",
      "name\n",
      "age\n",
      "job\n",
      "salary\n"
     ]
    }
   ],
   "source": [
    "aj={'name': 'jack', 'age': 56, 'job': 'Scientist', 'salary': '$5078'}\n",
    "print(aj.keys())\n",
    "print(type(aj.keys()))\n",
    "for i in aj:\n",
    "    print(i)"
   ]
  },
  {
   "cell_type": "code",
   "execution_count": 7,
   "id": "ba00a54d",
   "metadata": {},
   "outputs": [
    {
     "name": "stdout",
     "output_type": "stream",
     "text": [
      "dict_values(['jack', 56, 'Scientist', '$5078'])\n",
      "<class 'dict_values'>\n",
      "jack\n",
      "56\n",
      "Scientist\n",
      "$5078\n"
     ]
    }
   ],
   "source": [
    "aj={'name': 'jack', 'age': 56, 'job': 'Scientist', 'salary': '$5078'}\n",
    "print(aj.values())\n",
    "print(type(aj.values()))\n",
    "\n",
    "for i in aj:\n",
    "    print(aj[i])"
   ]
  },
  {
   "cell_type": "markdown",
   "id": "b7b41feb",
   "metadata": {},
   "source": [
    "##### .clear() and del"
   ]
  },
  {
   "cell_type": "code",
   "execution_count": 64,
   "id": "6b40e7d3",
   "metadata": {},
   "outputs": [
    {
     "name": "stdout",
     "output_type": "stream",
     "text": [
      "{}\n"
     ]
    }
   ],
   "source": [
    "aj={'name': 'jack', 'age': 56, 'job': 'Scientist', 'salary': '$5078'}\n",
    "aj.clear()\n",
    "print(aj)"
   ]
  },
  {
   "cell_type": "code",
   "execution_count": 65,
   "id": "296d5986",
   "metadata": {},
   "outputs": [],
   "source": [
    "aj={'name': 'jack', 'age': 56, 'job': 'Scientist', 'salary': '$5078'}\n",
    "del aj"
   ]
  },
  {
   "cell_type": "markdown",
   "id": "a6bc8815",
   "metadata": {},
   "source": [
    "##### .copy()\n",
    "-Gives a shallow copy"
   ]
  },
  {
   "cell_type": "code",
   "execution_count": 60,
   "id": "684b0577",
   "metadata": {},
   "outputs": [
    {
     "name": "stdout",
     "output_type": "stream",
     "text": [
      "{'name': 'jack', 'age': 56, 'job': 'Scientist', 'salary': '$5078'} \n",
      "\n",
      "{'name': 'jack', 'age': 56, 'job': 'Scientist', 'salary': '100$'} \n",
      "\n",
      "{'name': 'jack', 'age': 56, 'job': 'Scientist', 'salary': '$5078'}\n"
     ]
    }
   ],
   "source": [
    "abc={'name': 'jack', 'age': 56, 'job': 'Scientist', 'salary': '$5078'}\n",
    "\n",
    "abc2=abc.copy()\n",
    "print(abc2 , \"\\n\")\n",
    "\n",
    "abc[\"salary\"]=\"100$\"\n",
    "print(abc , \"\\n\")\n",
    "print(abc2)  #Change in one doesnot affect other"
   ]
  },
  {
   "cell_type": "markdown",
   "id": "bfbc8560",
   "metadata": {},
   "source": [
    "##### .items()\n",
    "a set-like object providing a view on D's items"
   ]
  },
  {
   "cell_type": "code",
   "execution_count": 62,
   "id": "cd01fd79",
   "metadata": {},
   "outputs": [
    {
     "data": {
      "text/plain": [
       "dict_items([('name', 'jack'), ('age', 56), ('job', 'Scientist'), ('salary', '100$')])"
      ]
     },
     "execution_count": 62,
     "metadata": {},
     "output_type": "execute_result"
    }
   ],
   "source": [
    "abc.items()"
   ]
  },
  {
   "cell_type": "markdown",
   "id": "d799bd62",
   "metadata": {},
   "source": [
    "##### dict.fromkeys()\n",
    "fromkeys(iterable, value=None, /)\n",
    "\n",
    "Create a new dictionary with keys from iterable and values set to value."
   ]
  },
  {
   "cell_type": "code",
   "execution_count": 68,
   "id": "ce8661b0",
   "metadata": {},
   "outputs": [
    {
     "name": "stdout",
     "output_type": "stream",
     "text": [
      "{'C': None, 'A': None, 'B': None, 'D': None}\n",
      "{'C': [1, 2], 'A': [1, 2], 'B': [1, 2], 'D': [1, 2]}\n",
      "{'C': [1, 2], 'A': 18, 'B': [1, 2], 'D': [1, 2]}\n"
     ]
    }
   ],
   "source": [
    "a={\"A\",\"B\",\"C\",\"D\"}\n",
    "b=[1,2]\n",
    "\n",
    "xyz=dict.fromkeys(a) #Default value is None\n",
    "print(xyz)\n",
    "\n",
    "xyz=dict.fromkeys(a,b)\n",
    "print(xyz) \n",
    "#Order of a's keys and xyz's key need not be same\n",
    "#Values of all keys are same\n",
    "\n",
    "xyz[\"A\"]=18\n",
    "print(xyz)"
   ]
  },
  {
   "cell_type": "code",
   "execution_count": 69,
   "id": "12b46a91",
   "metadata": {},
   "outputs": [
    {
     "name": "stdout",
     "output_type": "stream",
     "text": [
      "{1: {'C', 'A', 'B', 'D'}, 2: {'C', 'A', 'B', 'D'}}\n"
     ]
    }
   ],
   "source": [
    "xyz1=dict.fromkeys(b,a)\n",
    "print(xyz1)"
   ]
  },
  {
   "cell_type": "markdown",
   "id": "288dc848",
   "metadata": {},
   "source": [
    "##### .get((key, default=None, /)\n",
    "Return the value for key if key is in the dictionary, else default."
   ]
  },
  {
   "cell_type": "code",
   "execution_count": 72,
   "id": "a320d632",
   "metadata": {},
   "outputs": [
    {
     "name": "stdout",
     "output_type": "stream",
     "text": [
      "Scientist\n"
     ]
    },
    {
     "data": {
      "text/plain": [
       "'NOT FOUND BRO'"
      ]
     },
     "execution_count": 72,
     "metadata": {},
     "output_type": "execute_result"
    }
   ],
   "source": [
    "abc={'name': 'jack', 'age': 56, 'job': 'Scientist', 'salary': '100$'}\n",
    "print(abc.get(\"job\"))\n",
    "abc.get(\"college\",\"NOT FOUND BRO\")"
   ]
  },
  {
   "cell_type": "markdown",
   "id": "2a95bff3",
   "metadata": {},
   "source": [
    "##### .items()\n",
    "-D.items() -> a set-like object providing a view on D's items\n",
    "\n",
    "-It will return a view object of dict(key and values) IN FORM OF TUPLE PAIR\n",
    "\n",
    "-items method is similar to viewitems()method in python2.7"
   ]
  },
  {
   "cell_type": "code",
   "execution_count": 81,
   "id": "44c6e41e",
   "metadata": {},
   "outputs": [
    {
     "data": {
      "text/plain": [
       "dict_items([('name', 'jack'), ('age', 56), ('job', 'Scientist'), ('salary', '100$')])"
      ]
     },
     "execution_count": 81,
     "metadata": {},
     "output_type": "execute_result"
    }
   ],
   "source": [
    "abc={'name': 'jack', 'age': 56, 'job': 'Scientist', 'salary': '100$'}\n",
    "abc.items()"
   ]
  },
  {
   "cell_type": "code",
   "execution_count": 82,
   "id": "20fe9457",
   "metadata": {},
   "outputs": [
    {
     "data": {
      "text/plain": [
       "dict_items([('apple', 5), ('orange', 7), ('kiwi', 10)])"
      ]
     },
     "execution_count": 82,
     "metadata": {},
     "output_type": "execute_result"
    }
   ],
   "source": [
    "fruits={\"apple\":5,\"orange\":7,\"kiwi\":10}\n",
    "fruits.items()"
   ]
  },
  {
   "cell_type": "markdown",
   "id": "8769777e",
   "metadata": {},
   "source": [
    "##### .update()\n",
    "-The update() method updates the dictionary with the elements from the another dictionary object or from an iterable of key/value PAIRS.\n",
    "\n",
    "-D.update([E, ]**F) -> None.  Update D from dict/iterable E and F.\n",
    "\n",
    "-It returns none but makes changes in original dictionary"
   ]
  },
  {
   "cell_type": "code",
   "execution_count": 90,
   "id": "32c396bf",
   "metadata": {},
   "outputs": [
    {
     "name": "stdout",
     "output_type": "stream",
     "text": [
      "{'apple': 5, 'orange': 7, 'kiwi': 10, 'chiku': 5, 'pine': 8}\n"
     ]
    }
   ],
   "source": [
    "fruits={\"apple\":5,\"orange\":7,\"kiwi\":10}\n",
    "fruits.update({\"chiku\":5,\"pine\":8})\n",
    "print(fruits)"
   ]
  },
  {
   "cell_type": "code",
   "execution_count": 11,
   "id": "6e064f31",
   "metadata": {},
   "outputs": [
    {
     "name": "stdout",
     "output_type": "stream",
     "text": [
      "{'apple': 5, 'orange': 7, 'kiwi': 10, 'y': 5, 'z': 'No'}\n"
     ]
    }
   ],
   "source": [
    "fruits={\"apple\":5,\"orange\":7,\"kiwi\":10}\n",
    "fruits.update(y=5,z='No')\n",
    "print(fruits)"
   ]
  },
  {
   "cell_type": "code",
   "execution_count": 84,
   "id": "f05c7e36",
   "metadata": {},
   "outputs": [
    {
     "name": "stdout",
     "output_type": "stream",
     "text": [
      "{1: 'one', 2: 'Two'}\n",
      "{1: 'one', 2: 'Two', 3: 'three'}\n"
     ]
    }
   ],
   "source": [
    "d = {1: \"one\", 2: \"three\"}\n",
    "d1 = {2:\"Two\"}\n",
    "\n",
    "# updates the value of key 2\n",
    "d.update(d1)\n",
    "print(d)\n",
    "\n",
    "d1 = {3: \"three\"}\n",
    "\n",
    "# adds element with key 3\n",
    "d.update(d1)\n",
    "print(d)"
   ]
  },
  {
   "cell_type": "code",
   "execution_count": 78,
   "id": "17f6300a",
   "metadata": {},
   "outputs": [
    {
     "name": "stdout",
     "output_type": "stream",
     "text": [
      "{1: 'one', 2: 'two'}\n"
     ]
    }
   ],
   "source": [
    "d = {1: \"one\", 2: \"three\",2:\"four\"}\n",
    "d1 = {2:\"five\", 2: \"two\"}\n",
    "# updates the value of last occured multiple key 2\n",
    "d.update(d1)\n",
    "print(d)"
   ]
  },
  {
   "cell_type": "markdown",
   "id": "9ca70edf",
   "metadata": {},
   "source": [
    "##### .setdefault(key, default=None, /)\n",
    "\n",
    "Insert key with a value of default if key is not in the dictionary.\n",
    "\n",
    "Return the value for key if key is in the dictionary, else default."
   ]
  },
  {
   "cell_type": "code",
   "execution_count": 13,
   "id": "ee16757e",
   "metadata": {},
   "outputs": [
    {
     "name": "stdout",
     "output_type": "stream",
     "text": [
      "{'apple': 5, 'orange': 7, 'kiwi': 10, 'pine': None}\n",
      "{'apple': 5, 'orange': 7, 'kiwi': 10, 'pine': None, 'mango': 65000}\n",
      "{'apple': 5, 'orange': 7, 'kiwi': 10, 'pine': None, 'mango': 65000}\n",
      "{'apple': 5, 'orange': 7, 'kiwi': 10, 'pine': None, 'mango': 65000}\n"
     ]
    }
   ],
   "source": [
    "fruity={\"apple\":5,\"orange\":7,\"kiwi\":10}\n",
    "fruity.setdefault(\"pine\") #Default is None\n",
    "print(fruity)\n",
    "fruity.setdefault(\"mango\",65000)\n",
    "print(fruity)\n",
    "fruity.setdefault(\"apple\",\"doesnot matter as apple key is present\")\n",
    "print(fruity)\n",
    "fruity.setdefault(\"apple\", 56000000)\n",
    "print(fruity)"
   ]
  },
  {
   "cell_type": "code",
   "execution_count": null,
   "id": "1448767e",
   "metadata": {},
   "outputs": [],
   "source": []
  }
 ],
 "metadata": {
  "kernelspec": {
   "display_name": "Python 3 (ipykernel)",
   "language": "python",
   "name": "python3"
  },
  "language_info": {
   "codemirror_mode": {
    "name": "ipython",
    "version": 3
   },
   "file_extension": ".py",
   "mimetype": "text/x-python",
   "name": "python",
   "nbconvert_exporter": "python",
   "pygments_lexer": "ipython3",
   "version": "3.9.13"
  }
 },
 "nbformat": 4,
 "nbformat_minor": 5
}

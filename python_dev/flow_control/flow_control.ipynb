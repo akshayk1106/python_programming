{
 "cells": [
  {
   "cell_type": "markdown",
   "id": "0fc1eb40",
   "metadata": {},
   "source": [
    "# <font color='blue'> FLOW CONTROL </font>\n",
    "A program's control flow is the order in which the program's code executes. The control flow of a Python program is regulated by conditional statements, loops, and function calls. \n",
    "\n",
    "    if else\n",
    "    for loop\n",
    "    range\n",
    "    while loop\n",
    "    break\n",
    "    continue\n",
    "    pass\n",
    "    function calls"
   ]
  },
  {
   "cell_type": "markdown",
   "id": "285034f5-c479-4447-84f7-d3ff96190367",
   "metadata": {},
   "source": [
    "## <mark>if else</mark>"
   ]
  },
  {
   "cell_type": "code",
   "execution_count": null,
   "id": "1613fd7a",
   "metadata": {
    "tags": []
   },
   "outputs": [],
   "source": [
    "num=int(input(\"Please enter a number \"))\n",
    "if num>0:\n",
    "        print(\"Number is positive\")\n",
    "elif num==0:\n",
    "    print(\"OMG, Its zero\")\n",
    "else:\n",
    "    print(\"Number is negative\")"
   ]
  },
  {
   "cell_type": "markdown",
   "id": "909fc510",
   "metadata": {},
   "source": [
    "##### Palindrome - Ex. nitin, radar"
   ]
  },
  {
   "cell_type": "code",
   "execution_count": null,
   "id": "be81aa7c",
   "metadata": {},
   "outputs": [],
   "source": [
    "#PALINDROME\n",
    "\n",
    "'''A string is said to be PALINDROME if the reverse of the string is the same as string. \n",
    "For example, “radar” is a palindrome, \n",
    "but “radix” is not a palindrome.'''\n",
    "#PALINDROME: radar, nitin, kadak\n",
    "\n",
    "pall=input(\"Please enter string\")\n",
    "pall=pall.lower() #because python is case sensitive\n",
    "if pall==pall[::-1]:\n",
    "    print(\"string is a palindrome\")\n",
    "else:\n",
    "    print(\"string is NOT palindrome\")"
   ]
  },
  {
   "cell_type": "markdown",
   "id": "de1ae49c-23f9-41f4-bb9b-3aea2e580bf2",
   "metadata": {},
   "source": [
    "#### n=eval(input(\"Enter: \"))\n",
    "\n",
    "type(n) >>> int\n",
    "\n",
    "-eval is a built-in- function used in python, eval function parses the expression argument and evaluates it as a python expression. In simple words, the eval function evaluates the “String” like a python expression and returns the result as an integer.\n",
    "\n",
    "-Use int , because it's safer, doesn't have security issues (eval can evaluate any expression, including system calls and file deletion), and suits your purpose perfectly. "
   ]
  },
  {
   "cell_type": "code",
   "execution_count": null,
   "id": "aea14f31-ad8a-414e-8cb3-cd67fdf5d95a",
   "metadata": {},
   "outputs": [],
   "source": [
    "var_no =eval(input(\"enter the no\"))\n",
    "\n",
    "if (type(var_no)== int):\n",
    "    print(\"The type of variable is integer\")\n",
    "    \n",
    "elif (type(var_no)== float):\n",
    "    print(\"The type of variable is Float\")\n",
    "elif (type(var_no)== complex ):\n",
    "    print(\"The type of variable is Complex\")\n",
    "elif (type(var_no)== str):\n",
    "    print(\"The type of variable is String\")\n",
    "elif (type(var_no)== bool):\n",
    "    print(\"The type of variable is Boolean\")\n",
    "elif (type(var_no)== dict):\n",
    "    print(\"The type of variable is dictionary\")\n",
    "elif (type(var_no)== list):\n",
    "    print(\"The type of variable is List\")\n",
    "elif (type(var_no)== tuple):\n",
    "    print(\"The type of variable is tuple\")\n",
    "elif (type(var_no)== frozenset):\n",
    "    print(\"The type of variable is Frozenset\")\n",
    "    \n",
    "else:\n",
    "    print(\"unknown\")"
   ]
  },
  {
   "cell_type": "markdown",
   "id": "6c84815c-68de-441e-ac08-87f26da3fb80",
   "metadata": {},
   "source": [
    "## <mark>while loop</mark>\n",
    "\n",
    "-With the while loop we can execute a set of statements as long as a condition is true.\n",
    "\n",
    "-end condition to terminate loop is necessary otherwise infinite loop\n",
    "\n",
    "BREAK -With the break statement we can stop the loop even if the while condition is true\n",
    "\n",
    "CONTINUE -With the continue statement we can stop the current iteration, and continue with the next\n",
    "\n",
    "ELSE -With the else statement we can run a block of code once when the condition no longer is true"
   ]
  },
  {
   "cell_type": "code",
   "execution_count": null,
   "id": "ad9691fe-b638-4563-ab96-d52e75ce8525",
   "metadata": {},
   "outputs": [],
   "source": [
    "#Sum of first n natural numbers using while loop\n",
    "\n",
    "n=int(input(\"Number: \"))\n",
    "sum=0\n",
    "i=0 # Initialization\n",
    "while i<=n: #This condition is imp to avoid infinite looping\n",
    "    sum+=i\n",
    "    i+=1 # increament\n",
    "print(sum)\n",
    "\n",
    "#Initialization : i=0\n",
    "#Condition : i<=n\n",
    "#Increament/Deceament : i+=1"
   ]
  },
  {
   "cell_type": "code",
   "execution_count": null,
   "id": "6b5d6645-cd1b-4d08-9912-713b749ab665",
   "metadata": {},
   "outputs": [],
   "source": [
    "n = int(input(\"Enter a number\"))\n",
    "i = 0\n",
    "while i<=n:\n",
    "    print(i, end=' ')\n",
    "    i+=1"
   ]
  },
  {
   "cell_type": "code",
   "execution_count": null,
   "id": "1ffcc7c1-02d8-483e-96e2-57bfbc14fe11",
   "metadata": {},
   "outputs": [],
   "source": [
    "i = 0\n",
    "while i<=5:\n",
    "    print(i, end=' ')\n",
    "    i+=1\n",
    "else:\n",
    "    print('END')"
   ]
  },
  {
   "cell_type": "code",
   "execution_count": null,
   "id": "4461aaf5-d6eb-4b49-80c1-16496ba8dc9e",
   "metadata": {},
   "outputs": [],
   "source": [
    "i = 0\n",
    "while i<=5:\n",
    "    print(i, end=' ')\n",
    "    i+=2\n",
    "    break\n",
    "else:\n",
    "    print('END')"
   ]
  },
  {
   "cell_type": "code",
   "execution_count": 18,
   "id": "37f301ef-ef54-42e4-8231-5b047ca15ae2",
   "metadata": {},
   "outputs": [
    {
     "name": "stdout",
     "output_type": "stream",
     "text": [
      "2\n",
      "4\n",
      "6\n",
      "8\n",
      "10\n",
      "12\n",
      "14\n",
      "16\n",
      "18\n",
      "20\n"
     ]
    }
   ],
   "source": [
    "i = 0\n",
    "while i <= 20 :\n",
    "    i += 1\n",
    "    if i % 2 == 1 :\n",
    "        continue\n",
    "    print(i)"
   ]
  },
  {
   "cell_type": "code",
   "execution_count": 19,
   "id": "5247bb2c-efb6-48e5-87bf-dc6b0b0c7c2d",
   "metadata": {},
   "outputs": [
    {
     "name": "stdout",
     "output_type": "stream",
     "text": [
      "2 4 6 \n",
      "4 8 12 \n",
      "6 12 18 \n",
      "8 16 24 \n",
      "10 20 30 \n"
     ]
    }
   ],
   "source": [
    "i = 1\n",
    "while i < 6 :\n",
    "    j = 1\n",
    "    while j < 8 :\n",
    "        if j % 2 == 1 :\n",
    "            j += 1\n",
    "            continue\n",
    "        print(i*j, end=\" \")\n",
    "        j += 1\n",
    "    print()\n",
    "    i += 1"
   ]
  },
  {
   "cell_type": "code",
   "execution_count": null,
   "id": "981fb5ac-57d3-425b-8303-6d7f261c67b4",
   "metadata": {},
   "outputs": [],
   "source": [
    "# take input from user unless it is multiple of 3\n",
    "n = int(input('Enter a number'))\n",
    "while n%3!=0:\n",
    "    n = int(input('Enter a number'))\n",
    "else:\n",
    "    print(f'{n} is a multiple of 3')"
   ]
  },
  {
   "cell_type": "markdown",
   "id": "d03c19c6-7c64-4fe0-9d73-f6969ff1d27e",
   "metadata": {},
   "source": [
    "### <mark> range </mark>\n",
    "\n",
    "-we can say it generates a sequence of numbers\n",
    "\n",
    "-range(start,end,stepsize)\n",
    "\n",
    "-Range is a Lazy function/Lazy sequences\n",
    "\n",
    "Because it doesn't generate every number that it “contains” when we create it. Instead it gives those numbers to us as we need them when looping over it."
   ]
  },
  {
   "cell_type": "markdown",
   "id": "dca6fd0f-9aa4-4c27-ade8-e8109236cb69",
   "metadata": {},
   "source": [
    "In Python an iterable is anything that you can iterate over and an iterator is the thing that does the actual iterating.\n",
    "\n",
    "Iter-ables are able to be iterated over. Iter-ators are the agents that perform the iteration.\n",
    "\n",
    "You can get an iterator from any iterable in Python by using the iter function:\n",
    "\n",
    "    iter([1, 2])\n",
    "    iter('hello')\n",
    "Once you have an iterator, the only thing you can do with it is get its next item:\n",
    "    \n",
    "    my_iterator = iter([1, 2])\n",
    "    next(my_iterator)\n",
    "    next(my_iterator)\n",
    "And you’ll get a stop iteration exception if you ask for the next item but there aren’t anymore items:"
   ]
  },
  {
   "cell_type": "code",
   "execution_count": 33,
   "id": "f60afde7-19e1-4276-a9cc-2bb3c8148fc6",
   "metadata": {},
   "outputs": [
    {
     "name": "stdin",
     "output_type": "stream",
     "text": [
      "How many natural no. sum?  60\n"
     ]
    },
    {
     "name": "stdout",
     "output_type": "stream",
     "text": [
      "Sum of first 60 natural no. is: 1830\n"
     ]
    }
   ],
   "source": [
    "#Sum of first n natural no.\n",
    "\n",
    "n=int(input(\"How many natural no. sum? \"))\n",
    "sum=0\n",
    "for i in range(1,n+1):\n",
    "    sum+=i\n",
    "print(f\"Sum of first {n} natural no. is:\", sum)"
   ]
  },
  {
   "cell_type": "code",
   "execution_count": 20,
   "id": "2b44c56f-fba5-432a-a4f8-fb06380040f2",
   "metadata": {},
   "outputs": [
    {
     "name": "stdout",
     "output_type": "stream",
     "text": [
      "[1, 2, 3, 4, 5, 6, 7, 8, 9]\n",
      "[]\n",
      "[1, 4, 7, 10]\n",
      "[]\n"
     ]
    }
   ],
   "source": [
    "print(list(range(1,10)))\n",
    "print(list(range(11,1)))\n",
    "print(list(range(1,11,3)))\n",
    "print(list(range(11,-11,2)))"
   ]
  },
  {
   "cell_type": "markdown",
   "id": "773a573d-9486-482b-a1f4-6b55dadcecad",
   "metadata": {},
   "source": [
    "#### <mark> Continue statement (to skip an iteration) </mark>\n",
    "-used to skip the rest of the code inside a loop for current iteration only\n",
    "\n",
    "-it does not terminate the loop but continues with next iteration"
   ]
  },
  {
   "cell_type": "code",
   "execution_count": 26,
   "id": "bf82d9d7-ee04-416e-8120-280e9aa34a29",
   "metadata": {},
   "outputs": [
    {
     "name": "stdout",
     "output_type": "stream",
     "text": [
      "P - y - t - h - \n",
      "It ends\n"
     ]
    }
   ],
   "source": [
    "typed=\"Python\"\n",
    "for i in typed:\n",
    "    if i==\"o\":\n",
    "        break # To stop loop at current iteration\n",
    "    print(i, '-', end=' ')\n",
    "    \n",
    "print(\"\\nIt ends\")"
   ]
  },
  {
   "cell_type": "code",
   "execution_count": 27,
   "id": "90a5b526-179f-45ae-8bae-b17eb56512f1",
   "metadata": {},
   "outputs": [
    {
     "name": "stdout",
     "output_type": "stream",
     "text": [
      "P - y - t - h - n - \n",
      "It ends\n"
     ]
    }
   ],
   "source": [
    "typed=\"Python\"\n",
    "for i in typed:\n",
    "    if i==\"o\":\n",
    "        continue\n",
    "    print(i, '-', end=' ')\n",
    "    \n",
    "print(\"\\nIt ends\")"
   ]
  },
  {
   "cell_type": "markdown",
   "id": "34bc4090-07fb-49b5-8fb7-4c45469c9850",
   "metadata": {},
   "source": [
    "####  <mark> Pass statement </mark>\n",
    "-pass is a NULL STATEMENT that does nothing\n",
    "\n",
    "-it is used as A PLACEHOLDER for future implementation of functions and loops\n",
    "\n",
    "-it is used to creat the loops, if else, classes and functions WITH EMPTY BODY\n",
    "\n",
    "-comment # is completely ignored by interpreter, but NOT IGNORED with pass"
   ]
  },
  {
   "cell_type": "code",
   "execution_count": 21,
   "id": "0a933341-6f1f-4f59-89cd-3bd570a76732",
   "metadata": {},
   "outputs": [],
   "source": [
    "for i in range(1,10):\n",
    "    pass"
   ]
  },
  {
   "cell_type": "markdown",
   "id": "5ba5c71c-2738-4a61-9fc0-5f03503cb89e",
   "metadata": {},
   "source": [
    "### <mark> For loops </mark>"
   ]
  },
  {
   "cell_type": "code",
   "execution_count": 28,
   "id": "8ce16fdc-cd32-4135-9f1f-8a118ab4c946",
   "metadata": {},
   "outputs": [
    {
     "name": "stdout",
     "output_type": "stream",
     "text": [
      "1\n",
      "2\n",
      "3\n",
      "4\n",
      "5\n",
      "list is over\n"
     ]
    }
   ],
   "source": [
    "n=[1,2,3,4,5]\n",
    "for i in n:\n",
    "    print(i)\n",
    "else:\n",
    "    print(\"list is over\")"
   ]
  },
  {
   "cell_type": "code",
   "execution_count": 29,
   "id": "2bf48be5-e780-4bb9-bdab-c514a64ead2f",
   "metadata": {},
   "outputs": [
    {
     "name": "stdout",
     "output_type": "stream",
     "text": [
      "5\n",
      "4\n",
      "3\n"
     ]
    },
    {
     "data": {
      "text/plain": [
       "' This else executes only if break is NEVER\\nreached and loop terminated after all iterations.'"
      ]
     },
     "execution_count": 29,
     "metadata": {},
     "output_type": "execute_result"
    }
   ],
   "source": [
    "n=[1,2,3,4,5]\n",
    "for i in n[::-1]:\n",
    "    print(i)\n",
    "    if i==3:\n",
    "        break\n",
    "else:\n",
    "    print(\"list is over\")\n",
    "\n",
    "''' This else executes only if break is NEVER\n",
    "reached and loop terminated after all iterations.'''"
   ]
  },
  {
   "cell_type": "code",
   "execution_count": 30,
   "id": "af0ed5e1-c901-45eb-95f4-7d1d0226382f",
   "metadata": {},
   "outputs": [
    {
     "name": "stdout",
     "output_type": "stream",
     "text": [
      "5\n",
      "4\n",
      "3\n",
      "2\n",
      "1\n",
      "list is over\n"
     ]
    }
   ],
   "source": [
    "n=[1,2,3,4,5]\n",
    "for i in n[::-1]:\n",
    "    print(i)\n",
    "    if i==6:\n",
    "        break\n",
    "else:\n",
    "    print(\"list is over\")"
   ]
  },
  {
   "cell_type": "code",
   "execution_count": 31,
   "id": "d316f26e-d728-46df-93be-53e1253c5ebc",
   "metadata": {},
   "outputs": [
    {
     "name": "stdin",
     "output_type": "stream",
     "text": [
      "Enter name  k\n"
     ]
    },
    {
     "name": "stdout",
     "output_type": "stream",
     "text": [
      "89\n"
     ]
    }
   ],
   "source": [
    "school={\"j\":45,\"k\":89,\"l\":78}\n",
    "name=input(\"Enter name \")\n",
    "for student in school:\n",
    "    if student==name:\n",
    "        print(school[name])\n",
    "        break\n",
    "else:\n",
    "    print(\"Absent\")"
   ]
  },
  {
   "cell_type": "markdown",
   "id": "a4cf4dfa-25f3-42fe-8d79-dea4147e1090",
   "metadata": {},
   "source": [
    "##### gives error:  SyntaxError: 'break' outside loop\n",
    "\n",
    "\n",
    "    for i in range(1,5):\n",
    "        print(i)\n",
    "    else:\n",
    "        break\n",
    "        print(\"It ends\")"
   ]
  },
  {
   "cell_type": "markdown",
   "id": "1913cba7-165d-4f73-b194-d093844a65a6",
   "metadata": {},
   "source": [
    "### <mark> Problems </mark>"
   ]
  },
  {
   "cell_type": "code",
   "execution_count": 34,
   "id": "f926c517-1bc4-4c74-b683-e3c70a00eaab",
   "metadata": {},
   "outputs": [
    {
     "name": "stdin",
     "output_type": "stream",
     "text": [
      "Enter first number of your range:  6\n",
      "Enter second number of your range:  16\n"
     ]
    },
    {
     "name": "stdout",
     "output_type": "stream",
     "text": [
      "6 to 16 contains 6 even no.s and 5 odd no.s\n"
     ]
    }
   ],
   "source": [
    "#COUNT n1 TO n2, even and odd\n",
    "n1=int(input(\"Enter first number of your range: \"))\n",
    "n2=int(input(\"Enter second number of your range: \"))\n",
    "even=0\n",
    "odd=0\n",
    "for i in range(n1,n2+1):\n",
    "    if i%2==0:\n",
    "        even+=1\n",
    "    else:\n",
    "        odd+=1\n",
    "        \n",
    "print(f\"{n1} to {n2} contains {even} even no.s and {odd} odd no.s\")"
   ]
  },
  {
   "cell_type": "code",
   "execution_count": 37,
   "id": "db2b0f4b-ca3c-4ae0-bb88-02e50be010b0",
   "metadata": {},
   "outputs": [
    {
     "name": "stdout",
     "output_type": "stream",
     "text": [
      "*\n",
      "**\n",
      "***\n",
      "****\n",
      "*****\n"
     ]
    }
   ],
   "source": [
    "for i in range(1, 6):\n",
    "    print('*'*i)"
   ]
  },
  {
   "cell_type": "code",
   "execution_count": 38,
   "id": "22208fe6-afc6-40e2-88b0-b497e9266863",
   "metadata": {},
   "outputs": [
    {
     "name": "stdout",
     "output_type": "stream",
     "text": [
      "      *\n",
      "     **\n",
      "    ***\n",
      "   ****\n",
      "  *****\n"
     ]
    }
   ],
   "source": [
    "for i in range(1, 6):\n",
    "    print(' '*(6-i), '*'*i)"
   ]
  },
  {
   "cell_type": "code",
   "execution_count": 42,
   "id": "b3606109-5e52-4d08-a1b5-e2427c654fdf",
   "metadata": {},
   "outputs": [
    {
     "name": "stdout",
     "output_type": "stream",
     "text": [
      "1 \n",
      "\n",
      "1 2 \n",
      "\n",
      "1 2 3 \n",
      "\n",
      "1 2 3 4 \n",
      "\n",
      "1 2 3 4 5 \n",
      "\n"
     ]
    }
   ],
   "source": [
    "for i in range(1, 6):\n",
    "    for j in range(1, i+1):\n",
    "        print(j, end=' ')\n",
    "    print('\\n')"
   ]
  },
  {
   "cell_type": "code",
   "execution_count": null,
   "id": "fe29d9ee-def9-4b88-a7f3-983f7ace93b0",
   "metadata": {},
   "outputs": [],
   "source": []
  }
 ],
 "metadata": {
  "kernelspec": {
   "display_name": "Python 3 (ipykernel)",
   "language": "python",
   "name": "python3"
  },
  "language_info": {
   "codemirror_mode": {
    "name": "ipython",
    "version": 3
   },
   "file_extension": ".py",
   "mimetype": "text/x-python",
   "name": "python",
   "nbconvert_exporter": "python",
   "pygments_lexer": "ipython3",
   "version": "3.9.13"
  }
 },
 "nbformat": 4,
 "nbformat_minor": 5
}

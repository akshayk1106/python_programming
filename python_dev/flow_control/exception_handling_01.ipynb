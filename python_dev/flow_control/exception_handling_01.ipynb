{
 "cells": [
  {
   "cell_type": "markdown",
   "id": "93226069-554a-4980-b6e4-7a443158cf2a",
   "metadata": {},
   "source": [
    "https://docs.python.org/3/tutorial/errors.html"
   ]
  },
  {
   "cell_type": "markdown",
   "id": "406cf048-2925-4b8d-92f3-e9eeaac401a4",
   "metadata": {},
   "source": [
    "Error in Python can be of two types i.e. Syntax errors and Exceptions. Errors are problems in a program due to which the program will stop the execution. On the other hand, exceptions are raised when some internal events occur which change the normal flow of the program. \n",
    "In Python, there are several built-in exceptions that can be raised when an error occurs during the execution of a program.\n",
    "Even if a statement or expression is syntactically correct, it may cause an error when an attempt is made to execute it. Errors detected during execution are called exceptions and are not unconditionally fatal:\n",
    "\n",
    "SyntaxError: This exception is raised when the interpreter encounters a syntax error in the code, such as a misspelled keyword, a missing colon, or an unbalanced parenthesis.\n",
    "TypeError: This exception is raised when an operation or function is applied to an object of the wrong type, such as adding a string to an integer.\n",
    "NameError: This exception is raised when a variable or function name is not found in the current scope.\n",
    "IndexError: This exception is raised when an index is out of range for a list, tuple, or other sequence types.\n",
    "KeyError: This exception is raised when a key is not found in a dictionary.\n",
    "ValueError: This exception is raised when a function or method is called with an invalid argument or input, such as trying to convert a string to an integer when the string does not represent a valid integer.\n",
    "AttributeError: This exception is raised when an attribute or method is not found on an object, such as trying to access a non-existent attribute of a class instance.\n",
    "IOError: This exception is raised when an I/O operation, such as reading or writing a file, fails due to an input/output error.\n",
    "ZeroDivisionError: This exception is raised when an attempt is made to divide a number by zero.\n",
    "ImportError: This exception is raised when an import statement fails to find or load a module."
   ]
  },
  {
   "cell_type": "code",
   "execution_count": 5,
   "id": "4a8d34d3-95ad-4e97-9a30-65ffd0fb3387",
   "metadata": {},
   "outputs": [
    {
     "ename": "SyntaxError",
     "evalue": "EOL while scanning string literal (425381958.py, line 2)",
     "output_type": "error",
     "traceback": [
      "\u001b[1;36m  File \u001b[1;32m\"C:\\Users\\AdmiN\\AppData\\Local\\Temp\\ipykernel_9920\\425381958.py\"\u001b[1;36m, line \u001b[1;32m2\u001b[0m\n\u001b[1;33m    print('python)\u001b[0m\n\u001b[1;37m                  ^\u001b[0m\n\u001b[1;31mSyntaxError\u001b[0m\u001b[1;31m:\u001b[0m EOL while scanning string literal\n"
     ]
    }
   ],
   "source": [
    "# syntax error\n",
    "print('python)"
   ]
  },
  {
   "cell_type": "code",
   "execution_count": 4,
   "id": "843da4f9-4a14-40d2-849c-3c7a750d1bd2",
   "metadata": {},
   "outputs": [
    {
     "ename": "ZeroDivisionError",
     "evalue": "division by zero",
     "output_type": "error",
     "traceback": [
      "\u001b[1;31m---------------------------------------------------------------------------\u001b[0m",
      "\u001b[1;31mZeroDivisionError\u001b[0m                         Traceback (most recent call last)",
      "\u001b[1;32m~\\AppData\\Local\\Temp\\ipykernel_9920\\2642525151.py\u001b[0m in \u001b[0;36m<module>\u001b[1;34m\u001b[0m\n\u001b[0;32m      1\u001b[0m \u001b[1;31m# exception\u001b[0m\u001b[1;33m\u001b[0m\u001b[1;33m\u001b[0m\u001b[0m\n\u001b[0;32m      2\u001b[0m \u001b[0ma\u001b[0m \u001b[1;33m=\u001b[0m \u001b[1;36m9\u001b[0m\u001b[1;33m\u001b[0m\u001b[1;33m\u001b[0m\u001b[0m\n\u001b[1;32m----> 3\u001b[1;33m \u001b[0mb\u001b[0m \u001b[1;33m=\u001b[0m \u001b[0ma\u001b[0m\u001b[1;33m/\u001b[0m\u001b[1;36m0\u001b[0m\u001b[1;33m\u001b[0m\u001b[1;33m\u001b[0m\u001b[0m\n\u001b[0m",
      "\u001b[1;31mZeroDivisionError\u001b[0m: division by zero"
     ]
    }
   ],
   "source": [
    "# exception\n",
    "a = 9\n",
    "b = a/0"
   ]
  },
  {
   "cell_type": "markdown",
   "id": "45600714-a554-4341-927c-ff53c910da6d",
   "metadata": {},
   "source": [
    "Try and except statements are used to catch and handle exceptions in Python. Statements that can raise exceptions are kept inside the try clause and the statements that handle the exception are written inside except clause.\n",
    "\n",
    "The statements that can cause the error are placed inside the try statement (second print statement in our case). This exception is then caught by the except statement."
   ]
  },
  {
   "cell_type": "code",
   "execution_count": 6,
   "id": "6d55e8d7-02ca-45e0-8b27-5ee938cd3fc0",
   "metadata": {},
   "outputs": [
    {
     "name": "stdout",
     "output_type": "stream",
     "text": [
      "2\n",
      "Index out of range\n"
     ]
    }
   ],
   "source": [
    "a = [1, 2, 3]\n",
    "\n",
    "try:\n",
    "    print(a[1])\n",
    "    print(a[3])\n",
    "except:\n",
    "    print('Index out of range')"
   ]
  },
  {
   "cell_type": "markdown",
   "id": "3fdb92a5-10c0-4825-8160-bb6926c0680c",
   "metadata": {},
   "source": [
    "### try except block\n",
    "\n",
    "A try statement can have more than one except clause, to specify handlers for different exceptions. Please note that at most one handler will be executed. \n",
    "\n",
    "The try statement works as follows.\n",
    "\n",
    "    First, the try clause (the statement(s) between the try and except keywords) is executed.\n",
    "    If no exception occurs, the except clause is skipped and execution of the try statement is finished.\n",
    "    If an exception occurs during execution of the try clause, the rest of the clause is skipped. Then, if its type matches the exception named after the except keyword, the except clause is executed, and then execution continues after the try/except block.\n",
    "    If an exception occurs which does not match the exception named in the except clause, it is passed on to outer try statements; if no handler is found, it is an unhandled exception and execution stops with a message as shown above.\n",
    "    \n",
    "A try statement may have more than one except clause, to specify handlers for different exceptions. At most one handler will be executed. Handlers only handle exceptions that occur in the corresponding try clause, not in other handlers of the same try statement. An except clause may name multiple exceptions as a parenthesized tuple"
   ]
  },
  {
   "cell_type": "code",
   "execution_count": 7,
   "id": "3d893761-7858-4096-acd9-bbf1eff90ce5",
   "metadata": {},
   "outputs": [
    {
     "name": "stdout",
     "output_type": "stream",
     "text": [
      "ZeroDivisionError Occurred and Handled\n"
     ]
    }
   ],
   "source": [
    "def fun(a):\n",
    "    if a < 4:\n",
    "         b = a/(a-3)\n",
    " \n",
    "    print(\"Value of b = \", b)\n",
    "     \n",
    "try:\n",
    "    fun(3)\n",
    "    fun(5)\n",
    "except ZeroDivisionError:\n",
    "    print(\"ZeroDivisionError Occurred and Handled\")\n",
    "except NameError:\n",
    "    print(\"NameError Occurred and Handled\")"
   ]
  },
  {
   "cell_type": "code",
   "execution_count": 12,
   "id": "9f1b0f71-22dd-42b2-bcd5-14bb160fbc8d",
   "metadata": {},
   "outputs": [],
   "source": [
    "try:\n",
    "    pass\n",
    "except (RuntimeError, TypeError, NameError):\n",
    "    pass"
   ]
  },
  {
   "cell_type": "markdown",
   "id": "9e3442d2-fbf8-47aa-ae91-2776fe29d02f",
   "metadata": {},
   "source": [
    "## else\n",
    "\n",
    "The code enters the else block only if the try clause does not raise an exception.\n"
   ]
  },
  {
   "cell_type": "code",
   "execution_count": 9,
   "id": "1a45b8f2-1f22-43dd-9d4e-f31185cd10b6",
   "metadata": {},
   "outputs": [
    {
     "name": "stdout",
     "output_type": "stream",
     "text": [
      "Division successful, result is  1.6666666666666667\n",
      "Division by zero not possible\n"
     ]
    }
   ],
   "source": [
    "def division(a, b):\n",
    "    try:\n",
    "        c = a/b\n",
    "    except:\n",
    "        print('Division by zero not possible')\n",
    "    else:\n",
    "        print('Division successful, result is ', c)\n",
    "\n",
    "division(5, 3)\n",
    "division(4, 0)"
   ]
  },
  {
   "cell_type": "markdown",
   "id": "4ee2a908-4611-4ae0-a336-05a0e40f4208",
   "metadata": {},
   "source": [
    "## finally\n",
    "\n",
    "Python provides a keyword finally, which is always executed after the try and except blocks. The final block always executes after the normal termination of the try block or after the try block terminates due to some exception."
   ]
  },
  {
   "cell_type": "code",
   "execution_count": 10,
   "id": "0749c635-6dc1-42c1-8a96-deef7011dab7",
   "metadata": {},
   "outputs": [
    {
     "name": "stdout",
     "output_type": "stream",
     "text": [
      "Please enter same datatypes\n",
      "All Done...!\n"
     ]
    }
   ],
   "source": [
    "def addition(a, b):\n",
    "    try:\n",
    "        c = a+b\n",
    "    except:\n",
    "        print('Please enter same datatypes')\n",
    "    else:\n",
    "        print('Result is:', c)\n",
    "    finally:\n",
    "        print('All Done...!')\n",
    "        \n",
    "addition(10, 'poo')"
   ]
  },
  {
   "cell_type": "markdown",
   "id": "65e187e2-80c8-432f-b9eb-e3c94396021a",
   "metadata": {},
   "source": [
    "## Raising Exception\n",
    "\n",
    "The raise statement allows the programmer to force a specific exception to occur. The sole argument in raise indicates the exception to be raised. This must be either an exception instance or an exception class (a class that derives from Exception)."
   ]
  },
  {
   "cell_type": "markdown",
   "id": "70c5becd-d98d-4c07-b866-e51e3927dae6",
   "metadata": {},
   "source": [
    "#### raise  {name_of_ the_ exception_class}\n",
    "raise Exception(“user text”)\n",
    "\n",
    "Python raise Keyword is used to raise exceptions or errors. The raise keyword raises an error and stops the control flow of the program. It is used to bring up the current exception in an exception handler so that it can be handled further up the call stack.\n",
    "\n",
    "we can specify which exception to raise and text to print\n",
    "\n",
    "When we use the raise keyword, there’s no compulsion to give an exception class along with it. When we do not give any exception class name with the raise keyword, it reraises the exception that last occurred.\n",
    "\n",
    "Advantages of the raise keyword:\n",
    "\n",
    "    It helps us raise exceptions when we may run into situations where execution can’t proceed.\n",
    "    It helps us reraise an exception that is caught.\n",
    "    Raise allows us to throw one exception at any time.\n",
    "    It is useful when we want to work with input validations."
   ]
  },
  {
   "cell_type": "raw",
   "id": "50733304-1bdf-4a5c-b533-620f2a240850",
   "metadata": {},
   "source": [
    "a = 5\n",
    "\n",
    "if a % 2 != 0:\n",
    "    raise Exception(\"The number shouldn't be an odd integer\")"
   ]
  },
  {
   "cell_type": "raw",
   "id": "5c0f3a3d-3321-42c5-8ace-64bb49152a6f",
   "metadata": {},
   "source": [
    "# we can specify which exception to raise and text to print\n",
    "s = 'apple'\n",
    "  \n",
    "try:\n",
    "    num = int(s)\n",
    "except:\n",
    "    raise ValueError(\"String can't be changed into integer\")"
   ]
  },
  {
   "cell_type": "raw",
   "id": "2c66824f-aed5-42e1-ab20-60a67c7dc1e2",
   "metadata": {},
   "source": [
    "# if excpetion class is not mentioned, it raises the exception that was last raised.\n",
    "s = 'apple'\n",
    "  \n",
    "try:\n",
    "    num = int(s)\n",
    "except:\n",
    "    raise"
   ]
  },
  {
   "cell_type": "code",
   "execution_count": 20,
   "id": "d9586326-1ed0-482e-a28c-b6831e1378aa",
   "metadata": {},
   "outputs": [
    {
     "name": "stdout",
     "output_type": "stream",
     "text": [
      "B\n",
      "C\n",
      "D\n"
     ]
    }
   ],
   "source": [
    "class B(Exception):\n",
    "    pass\n",
    "\n",
    "class C(B):\n",
    "    pass\n",
    "\n",
    "class D(C):\n",
    "    pass\n",
    "\n",
    "for cls in [B, C, D]:\n",
    "    try:\n",
    "        raise cls()\n",
    "    except D:\n",
    "        print(\"D\")\n",
    "    except C:\n",
    "        print(\"C\")\n",
    "    except B:\n",
    "        print(\"B\")"
   ]
  },
  {
   "cell_type": "code",
   "execution_count": 1,
   "id": "923f1e9f-d26e-4d2e-9853-68466144ea65",
   "metadata": {},
   "outputs": [
    {
     "name": "stdout",
     "output_type": "stream",
     "text": [
      "B\n",
      "B\n",
      "B\n"
     ]
    }
   ],
   "source": [
    "class B(Exception):\n",
    "    pass\n",
    "\n",
    "class C(B):\n",
    "    pass\n",
    "\n",
    "class D(C):\n",
    "    pass\n",
    "\n",
    "for cls in [B, C, D]:\n",
    "    try:\n",
    "        raise cls()\n",
    "    except B:\n",
    "        print(\"B\")\n",
    "    except C:\n",
    "        print(\"C\")\n",
    "    except D:\n",
    "        print(\"D\")"
   ]
  },
  {
   "cell_type": "code",
   "execution_count": 5,
   "id": "65943d2d-f06c-41bc-9537-3935158d0616",
   "metadata": {},
   "outputs": [
    {
     "name": "stdout",
     "output_type": "stream",
     "text": [
      "The error is:  division by zero\n"
     ]
    }
   ],
   "source": [
    "def divide(x, y):\n",
    "    try:\n",
    "        result = x / y\n",
    "        print(result)\n",
    "    except Exception as e:\n",
    "        print(\"The error is: \", e)  # By this way we can know about the type of error occurring\n",
    "\n",
    "# divide(3, \"GFG\")\n",
    "divide(3, 0)"
   ]
  },
  {
   "cell_type": "code",
   "execution_count": 9,
   "id": "13938d2f-ed2b-40da-b0f7-b90183855c01",
   "metadata": {},
   "outputs": [
    {
     "name": "stdout",
     "output_type": "stream",
     "text": [
      "1999\n",
      "inside excpet clause: please add money in your account\n"
     ]
    }
   ],
   "source": [
    "try:\n",
    "    amount = 1999\n",
    "    if amount < 2999:\n",
    "        print(amount)\n",
    "        raise ValueError(\"please add money in your account\")\n",
    "    else:\n",
    "        print(\"You are eligible to purchase DSA Self Paced course\")\n",
    "\n",
    "except ValueError as e:\n",
    "        print('inside excpet clause:', e)"
   ]
  },
  {
   "cell_type": "markdown",
   "id": "51f9b246-e0e9-4e7d-bc9e-ca37628d2ffe",
   "metadata": {},
   "source": [
    "## User defined exceptions\n",
    "\n",
    "Exceptions need to be derived from the Exception class, either directly or indirectly. Although not mandatory, most of the exceptions are named as names that end in “Error” similar to the naming of the standard exceptions in python.\n",
    "\n",
    "    class CustomError(Exception):\n",
    "        pass\n",
    "    raise CustomError(\"Example of Custom Exceptions in Python\")\n",
    "    >>> Output: CustomError: Example of Custom Exceptions in Python"
   ]
  },
  {
   "cell_type": "code",
   "execution_count": 15,
   "id": "0ea423eb-2dc6-4b48-8e6b-6e5273fe01c9",
   "metadata": {},
   "outputs": [
    {
     "name": "stdout",
     "output_type": "stream",
     "text": [
      "A New Exception occurred:  6\n"
     ]
    }
   ],
   "source": [
    "class MyError(Exception):\n",
    "    def __init__(self, value):\n",
    "        self.value = value\n",
    " \n",
    "    def __str__(self): # __str__ is to print() the value\n",
    "        return(repr(self.value))\n",
    "\n",
    "try:\n",
    "    raise(MyError(3*2))\n",
    "\n",
    "# Value of Exception is stored in error\n",
    "except MyError as error:\n",
    "    print('A New Exception occurred: ', error.value)"
   ]
  },
  {
   "cell_type": "code",
   "execution_count": 1,
   "id": "798e62aa-ae29-4178-82cf-14e5fb08d3f4",
   "metadata": {},
   "outputs": [
    {
     "ename": "ZeroDivisionError",
     "evalue": "division by zero",
     "output_type": "error",
     "traceback": [
      "\u001b[1;31m---------------------------------------------------------------------------\u001b[0m",
      "\u001b[1;31mZeroDivisionError\u001b[0m                         Traceback (most recent call last)",
      "\u001b[1;32m~\\AppData\\Local\\Temp\\ipykernel_8336\\3414759172.py\u001b[0m in \u001b[0;36m<module>\u001b[1;34m\u001b[0m\n\u001b[0;32m     10\u001b[0m \u001b[1;33m\u001b[0m\u001b[0m\n\u001b[0;32m     11\u001b[0m \u001b[1;32mtry\u001b[0m\u001b[1;33m:\u001b[0m\u001b[1;33m\u001b[0m\u001b[1;33m\u001b[0m\u001b[0m\n\u001b[1;32m---> 12\u001b[1;33m     \u001b[0mdivide\u001b[0m\u001b[1;33m(\u001b[0m\u001b[1;36m4\u001b[0m\u001b[1;33m,\u001b[0m \u001b[1;36m0\u001b[0m\u001b[1;33m)\u001b[0m\u001b[1;33m\u001b[0m\u001b[1;33m\u001b[0m\u001b[0m\n\u001b[0m\u001b[0;32m     13\u001b[0m \u001b[1;32mexcept\u001b[0m \u001b[0mMyError\u001b[0m \u001b[1;32mas\u001b[0m \u001b[0merror\u001b[0m\u001b[1;33m:\u001b[0m\u001b[1;33m\u001b[0m\u001b[1;33m\u001b[0m\u001b[0m\n\u001b[0;32m     14\u001b[0m     \u001b[0mprint\u001b[0m\u001b[1;33m(\u001b[0m\u001b[1;34m'Division by zero not possible'\u001b[0m\u001b[1;33m,\u001b[0m \u001b[0merror\u001b[0m\u001b[1;33m)\u001b[0m\u001b[1;33m\u001b[0m\u001b[1;33m\u001b[0m\u001b[0m\n",
      "\u001b[1;32m~\\AppData\\Local\\Temp\\ipykernel_8336\\3414759172.py\u001b[0m in \u001b[0;36mdivide\u001b[1;34m(a, b)\u001b[0m\n\u001b[0;32m      7\u001b[0m \u001b[1;33m\u001b[0m\u001b[0m\n\u001b[0;32m      8\u001b[0m \u001b[1;32mdef\u001b[0m \u001b[0mdivide\u001b[0m\u001b[1;33m(\u001b[0m\u001b[0ma\u001b[0m\u001b[1;33m,\u001b[0m \u001b[0mb\u001b[0m\u001b[1;33m)\u001b[0m\u001b[1;33m:\u001b[0m\u001b[1;33m\u001b[0m\u001b[1;33m\u001b[0m\u001b[0m\n\u001b[1;32m----> 9\u001b[1;33m     \u001b[1;32mreturn\u001b[0m \u001b[0ma\u001b[0m\u001b[1;33m/\u001b[0m\u001b[0mb\u001b[0m\u001b[1;33m\u001b[0m\u001b[1;33m\u001b[0m\u001b[0m\n\u001b[0m\u001b[0;32m     10\u001b[0m \u001b[1;33m\u001b[0m\u001b[0m\n\u001b[0;32m     11\u001b[0m \u001b[1;32mtry\u001b[0m\u001b[1;33m:\u001b[0m\u001b[1;33m\u001b[0m\u001b[1;33m\u001b[0m\u001b[0m\n",
      "\u001b[1;31mZeroDivisionError\u001b[0m: division by zero"
     ]
    }
   ],
   "source": [
    "class MyError(Exception):\n",
    "    def __init__(self, value):\n",
    "        self.value = value\n",
    " \n",
    "    def __str__(self): # __str__ is to print() the value\n",
    "        return(repr(self.value))\n",
    "\n",
    "def divide(a, b):\n",
    "    return a/b\n",
    "\n",
    "try:\n",
    "    divide(4, 0)\n",
    "except MyError as error:\n",
    "    print('Division by zero not possible', error)\n",
    "\n",
    "# # Value of Exception is stored in error\n",
    "# except MyError as error:\n",
    "#     print('A New Exception occurred: ', error.value)"
   ]
  },
  {
   "cell_type": "code",
   "execution_count": null,
   "id": "12459044-1ad4-4ac6-91c6-10dbdc7cf5a6",
   "metadata": {},
   "outputs": [],
   "source": []
  },
  {
   "cell_type": "markdown",
   "id": "e1db5ae7-fba4-404c-94ac-4064f14ee33a",
   "metadata": {},
   "source": [
    "### Advantages of Exception Handling:\n",
    "\n",
    "    Improved program reliability: By handling exceptions properly, you can prevent your program from crashing or producing incorrect results due to unexpected errors or input.\n",
    "    Simplified error handling: Exception handling allows you to separate error handling code from the main program logic, making it easier to read and maintain your code.\n",
    "    Cleaner code: With exception handling, you can avoid using complex conditional statements to check for errors, leading to cleaner and more readable code.\n",
    "    Easier debugging: When an exception is raised, the Python interpreter prints a traceback that shows the exact location where the exception occurred, making it easier to debug your code.\n",
    "\n",
    "### Disadvantages of Exception Handling:\n",
    "\n",
    "    Performance overhead: Exception handling can be slower than using conditional statements to check for errors, as the interpreter has to perform additional work to catch and handle the exception.\n",
    "    Increased code complexity: Exception handling can make your code more complex, especially if you have to handle multiple types of exceptions or implement complex error handling logic.\n",
    "    Possible security risks: Improperly handled exceptions can potentially reveal sensitive information or create security vulnerabilities in your code, so it’s important to handle exceptions carefully and avoid exposing too much information about your program."
   ]
  },
  {
   "cell_type": "markdown",
   "id": "3aaef5e6-dece-4205-8245-8edee6694b89",
   "metadata": {},
   "source": [
    "# Assert\n",
    "\n",
    "    The assert keyword is used when debugging code.\n",
    "    The assert keyword lets you test if a condition in your code returns True, if not, the program will raise an AssertionError.\n",
    "    If condition returns True, nothing happens."
   ]
  },
  {
   "cell_type": "code",
   "execution_count": 14,
   "id": "5ff0da1e-a6d2-4187-a94c-abb6654f5790",
   "metadata": {},
   "outputs": [],
   "source": [
    "x = \"hello\"\n",
    "\n",
    "assert x == 'hello'"
   ]
  },
  {
   "cell_type": "code",
   "execution_count": 13,
   "id": "1b1e79d5-0303-48f0-b578-1d8febf72911",
   "metadata": {},
   "outputs": [
    {
     "ename": "AssertionError",
     "evalue": "",
     "output_type": "error",
     "traceback": [
      "\u001b[1;31m---------------------------------------------------------------------------\u001b[0m",
      "\u001b[1;31mAssertionError\u001b[0m                            Traceback (most recent call last)",
      "\u001b[1;32m~\\AppData\\Local\\Temp\\ipykernel_9920\\1537477483.py\u001b[0m in \u001b[0;36m<module>\u001b[1;34m\u001b[0m\n\u001b[0;32m      1\u001b[0m \u001b[0mx\u001b[0m \u001b[1;33m=\u001b[0m \u001b[1;34m\"hello\"\u001b[0m\u001b[1;33m\u001b[0m\u001b[1;33m\u001b[0m\u001b[0m\n\u001b[0;32m      2\u001b[0m \u001b[1;33m\u001b[0m\u001b[0m\n\u001b[1;32m----> 3\u001b[1;33m \u001b[1;32massert\u001b[0m \u001b[0mx\u001b[0m \u001b[1;33m==\u001b[0m \u001b[1;34m'bye'\u001b[0m\u001b[1;33m\u001b[0m\u001b[1;33m\u001b[0m\u001b[0m\n\u001b[0m",
      "\u001b[1;31mAssertionError\u001b[0m: "
     ]
    }
   ],
   "source": [
    "x = \"hello\"\n",
    "\n",
    "assert x == 'bye'"
   ]
  }
 ],
 "metadata": {
  "kernelspec": {
   "display_name": "Python 3 (ipykernel)",
   "language": "python",
   "name": "python3"
  },
  "language_info": {
   "codemirror_mode": {
    "name": "ipython",
    "version": 3
   },
   "file_extension": ".py",
   "mimetype": "text/x-python",
   "name": "python",
   "nbconvert_exporter": "python",
   "pygments_lexer": "ipython3",
   "version": "3.9.13"
  }
 },
 "nbformat": 4,
 "nbformat_minor": 5
}

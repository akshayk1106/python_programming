{
 "cells": [
  {
   "cell_type": "code",
   "execution_count": 6,
   "id": "fffcba4f-65f9-4eea-8737-98a2d1e18503",
   "metadata": {
    "tags": []
   },
   "outputs": [],
   "source": [
    "nums = [1,2,3,4,5]"
   ]
  },
  {
   "cell_type": "code",
   "execution_count": 7,
   "id": "17e37814-9916-4282-9c97-6b2fe85bbac3",
   "metadata": {
    "tags": []
   },
   "outputs": [
    {
     "name": "stdout",
     "output_type": "stream",
     "text": [
      "15\n",
      "15\n"
     ]
    }
   ],
   "source": [
    "# 1. Write a Python program to sum all the items in a list.\n",
    "\n",
    "print(sum(x))\n",
    "from functools import reduce\n",
    "print(reduce(lambda x, y: x+y, nums))"
   ]
  },
  {
   "cell_type": "code",
   "execution_count": 14,
   "id": "addde789-8efb-4af3-9573-082f1da8d903",
   "metadata": {
    "tags": []
   },
   "outputs": [
    {
     "name": "stdout",
     "output_type": "stream",
     "text": [
      "5\n",
      "5\n",
      "5\n"
     ]
    }
   ],
   "source": [
    "# 3. Write a Python program to get the largest number from a list.\n",
    "print(max(nums))\n",
    "import numpy as np\n",
    "print(np.array(nums).max())\n",
    "\n",
    "largest = nums[0]\n",
    "for i in nums:\n",
    "    if i>largest:\n",
    "        largest = i\n",
    "print(largest)"
   ]
  },
  {
   "cell_type": "raw",
   "id": "dcd000ea-d84a-4f30-93ae-ca87b67a7e94",
   "metadata": {},
   "source": [
    "5. Write a Python program to count the number of strings from a given list of strings where The string length is 2 or more and the first and last characters are the same.\n",
    "Sample List : ['abc', 'xyz', 'aba', '1221']\n",
    "Expected Result : 2"
   ]
  },
  {
   "cell_type": "code",
   "execution_count": 16,
   "id": "8908a57e-9856-44b3-a2ac-367d61a526b8",
   "metadata": {
    "tags": []
   },
   "outputs": [
    {
     "name": "stdout",
     "output_type": "stream",
     "text": [
      "2\n"
     ]
    }
   ],
   "source": [
    "sample = ['abc', 'xyz', 'aba', '1221']\n",
    "count = 0\n",
    "for i in sample:\n",
    "    if len(i)>2 and i[0]==i[-1]:\n",
    "        count+=1\n",
    "print(count)"
   ]
  },
  {
   "cell_type": "code",
   "execution_count": 22,
   "id": "c871d050-6d37-49e4-b82f-cc2a0903c788",
   "metadata": {
    "tags": []
   },
   "outputs": [
    {
     "name": "stdout",
     "output_type": "stream",
     "text": [
      "['abc', 'xyz', '1221']\n",
      "['xyz', '1221', 'abc']\n"
     ]
    }
   ],
   "source": [
    "# 7. Write a Python program to remove duplicates from a list.\n",
    "\n",
    "sample = ['abc', 'xyz', 'abc', '1221']\n",
    "sample1 = []\n",
    "[sample1.append(i) for i in sample if i not in sample1]\n",
    "print(sample1)  #keeping the order\n",
    "print(list(set(sample)))  #losing the order"
   ]
  },
  {
   "cell_type": "code",
   "execution_count": 25,
   "id": "9bc4bdcd-5e60-4b28-b04d-0f64c3d0e5fa",
   "metadata": {
    "tags": []
   },
   "outputs": [
    {
     "data": {
      "text/plain": [
       "['abc', 'xyz', 'abc', '1221']"
      ]
     },
     "execution_count": 25,
     "metadata": {},
     "output_type": "execute_result"
    }
   ],
   "source": [
    "# 9. Write a Python program to clone or copy a list.\n",
    "\n",
    "new = sample.copy()\n",
    "\n",
    "import copy\n",
    "new2 = copy.deepcopy(sample)\n",
    "new2"
   ]
  },
  {
   "cell_type": "code",
   "execution_count": 29,
   "id": "81976ea3-c990-4df5-82d1-fd01dec16e90",
   "metadata": {
    "tags": []
   },
   "outputs": [
    {
     "name": "stdout",
     "output_type": "stream",
     "text": [
      "True\n"
     ]
    }
   ],
   "source": [
    "# 11. Write a Python function that takes two lists and returns True if they have at least one common member.\n",
    "\n",
    "def if_common(l1, l2):\n",
    "    if set(l1).intersection(l2):\n",
    "        return True\n",
    "print(if_common([1,2,3,4,5], [5,6,7,8,9]))"
   ]
  },
  {
   "cell_type": "code",
   "execution_count": 32,
   "id": "8c56d8d9-caeb-419c-aa41-8571bd801e2c",
   "metadata": {
    "tags": []
   },
   "outputs": [
    {
     "name": "stdout",
     "output_type": "stream",
     "text": [
      "[[['*', '*', '*', '*', '*', '*'], ['*', '*', '*', '*', '*', '*'], ['*', '*', '*', '*', '*', '*'], ['*', '*', '*', '*', '*', '*']], [['*', '*', '*', '*', '*', '*'], ['*', '*', '*', '*', '*', '*'], ['*', '*', '*', '*', '*', '*'], ['*', '*', '*', '*', '*', '*']], [['*', '*', '*', '*', '*', '*'], ['*', '*', '*', '*', '*', '*'], ['*', '*', '*', '*', '*', '*'], ['*', '*', '*', '*', '*', '*']]]\n"
     ]
    }
   ],
   "source": [
    "# 13. Write a Python program to generate a 3*4*6 3D array whose each element is *.\n",
    "\n",
    "import numpy as np\n",
    "# a = np.array()\n",
    "array = [[ ['*' for col in range(6)] for col in range(4)] for row in range(3)]\n",
    "print(array)"
   ]
  },
  {
   "cell_type": "code",
   "execution_count": 34,
   "id": "29f67c55-ae56-4ee5-a323-6461155b8dad",
   "metadata": {
    "tags": []
   },
   "outputs": [
    {
     "data": {
      "text/plain": [
       "[[['*', '*', '*', '*', '*', '*'],\n",
       "  ['*', '*', '*', '*', '*', '*'],\n",
       "  ['*', '*', '*', '*', '*', '*'],\n",
       "  ['*', '*', '*', '*', '*', '*']],\n",
       " [['*', '*', '*', '*', '*', '*'],\n",
       "  ['*', '*', '*', '*', '*', '*'],\n",
       "  ['*', '*', '*', '*', '*', '*'],\n",
       "  ['*', '*', '*', '*', '*', '*']],\n",
       " [['*', '*', '*', '*', '*', '*'],\n",
       "  ['*', '*', '*', '*', '*', '*'],\n",
       "  ['*', '*', '*', '*', '*', '*'],\n",
       "  ['*', '*', '*', '*', '*', '*']]]"
      ]
     },
     "execution_count": 34,
     "metadata": {},
     "output_type": "execute_result"
    }
   ],
   "source": [
    "arr = [[['*' for k in range(6)] for j in range(4)] for i in range(3)]\n",
    "arr"
   ]
  },
  {
   "cell_type": "code",
   "execution_count": 36,
   "id": "940fc3b2-56e9-489a-8daf-97a5cb9d4be7",
   "metadata": {
    "tags": []
   },
   "outputs": [
    {
     "name": "stdout",
     "output_type": "stream",
     "text": [
      "['Green', 'Pink', 'Black', 'Yellow', 'Red', 'White']\n"
     ]
    }
   ],
   "source": [
    "# 15. Write a Python program to shuffle and print a specified list.\n",
    "from random import shuffle\n",
    "color = ['Red', 'Green', 'White', 'Black', 'Pink', 'Yellow']\n",
    "shuffle(color)\n",
    "print(color)"
   ]
  },
  {
   "cell_type": "code",
   "execution_count": 40,
   "id": "d0f85581-c177-49a2-b95c-613beb0ed06b",
   "metadata": {
    "tags": []
   },
   "outputs": [
    {
     "name": "stdout",
     "output_type": "stream",
     "text": [
      "False\n",
      "False\n",
      "False\n"
     ]
    }
   ],
   "source": [
    "# 17. Write a Python program to check if each number is prime in a given list of numbers. Return True if all numbers are prime otherwise False.\n",
    "ls =[4, 6, 9]\n",
    "for i in ls:\n",
    "    for x in range(2, i):\n",
    "        if not i%x==0:\n",
    "            continue\n",
    "        else:\n",
    "            print(False)\n",
    "            break"
   ]
  },
  {
   "cell_type": "code",
   "execution_count": 41,
   "id": "56b52d72-ab83-4f5e-9e4f-b59e605c7be8",
   "metadata": {
    "tags": []
   },
   "outputs": [
    {
     "data": {
      "text/plain": [
       "[3, 5, 9, 3, 5, 9]"
      ]
     },
     "execution_count": 41,
     "metadata": {},
     "output_type": "execute_result"
    }
   ],
   "source": [
    "# 19. Write a Python program to calculate the difference between the two lists.\n",
    "list1 = [1, 3, 5, 7, 9]\n",
    "list2=[1, 2, 4, 6, 7, 8]\n",
    "\n",
    "diff = [i for i in list1 if i not in list2] + [i for i in list1 if i not in list2]\n",
    "diff"
   ]
  },
  {
   "cell_type": "code",
   "execution_count": 42,
   "id": "ebaef75b-e308-4c48-a463-6b5cbb4184ca",
   "metadata": {
    "tags": []
   },
   "outputs": [
    {
     "data": {
      "text/plain": [
       "'abcd'"
      ]
     },
     "execution_count": 42,
     "metadata": {},
     "output_type": "execute_result"
    }
   ],
   "source": [
    "# 21. Write a Python program to convert a list of characters into a string.\n",
    "s = ['a', 'b', 'c', 'd']\n",
    "''.join(s)"
   ]
  },
  {
   "cell_type": "code",
   "execution_count": 43,
   "id": "ec4d016b-c54e-410d-b3a0-3bacdc0f8ac8",
   "metadata": {
    "tags": []
   },
   "outputs": [
    {
     "data": {
      "text/plain": [
       "[2, 4, 3, 1, 5, 6, 9, 7, 9, 0]"
      ]
     },
     "execution_count": 43,
     "metadata": {},
     "output_type": "execute_result"
    }
   ],
   "source": [
    "# 23. Write a Python program to flatten a shallow list.\n",
    "original_list = [[2,4,3],[1,5,6], [9], [7,9,0]]\n",
    "x = [j for i in original_list for j in i]\n",
    "x"
   ]
  },
  {
   "cell_type": "code",
   "execution_count": 46,
   "id": "aa9a96fc-dfa7-4054-b680-7d08a818189a",
   "metadata": {
    "tags": []
   },
   "outputs": [
    {
     "data": {
      "text/plain": [
       "[2, 4, 3, 1, 5, 6, 9, 7, 9, 0]"
      ]
     },
     "execution_count": 46,
     "metadata": {},
     "output_type": "execute_result"
    }
   ],
   "source": [
    "from itertools import chain\n",
    "list(chain(*original_list))"
   ]
  },
  {
   "cell_type": "code",
   "execution_count": 54,
   "id": "e8ee9634-2378-457e-8e7e-ef35eb85aaf3",
   "metadata": {
    "tags": []
   },
   "outputs": [
    {
     "data": {
      "text/plain": [
       "[3]"
      ]
     },
     "execution_count": 54,
     "metadata": {},
     "output_type": "execute_result"
    }
   ],
   "source": [
    "# 25. Write a Python program to select an item randomly from a list.\n",
    "import random\n",
    "my = [2, 4, 3, 1, 5, 6, 9, 7, 9, 0]\n",
    "random.sample(my, 1)"
   ]
  },
  {
   "cell_type": "code",
   "execution_count": 57,
   "id": "a6a3154b-5323-4acb-82d9-95d35fe862d2",
   "metadata": {
    "tags": []
   },
   "outputs": [
    {
     "data": {
      "text/plain": [
       "2"
      ]
     },
     "execution_count": 57,
     "metadata": {},
     "output_type": "execute_result"
    }
   ],
   "source": [
    "random.choice(my)"
   ]
  },
  {
   "cell_type": "code",
   "execution_count": 59,
   "id": "7737703f-6814-469f-9a7f-bbbe8877112c",
   "metadata": {
    "tags": []
   },
   "outputs": [
    {
     "data": {
      "text/plain": [
       "-2"
      ]
     },
     "execution_count": 59,
     "metadata": {},
     "output_type": "execute_result"
    }
   ],
   "source": [
    "# 27. Write a Python program to find the second smallest number in a list.\n",
    "my = [1, 2, -8, -2, 0, -2]\n",
    "\n",
    "sorted(my)[1]"
   ]
  },
  {
   "cell_type": "code",
   "execution_count": 65,
   "id": "4dfe0095-71fc-445f-a16c-21b1d6d3fc36",
   "metadata": {
    "tags": []
   },
   "outputs": [
    {
     "name": "stdout",
     "output_type": "stream",
     "text": [
      "{0, 1, 2, -8, -2}\n",
      "[1, 0, 2, -8, -2]\n"
     ]
    }
   ],
   "source": [
    "# 29. Write a Python program to get unique values from a list.\n",
    "my = [1, 0, 2, -8, -2, 0, -2]\n",
    "new = []\n",
    "[new.append(i) for i in my if i not in new]\n",
    "print(set(my))\n",
    "print(new)"
   ]
  },
  {
   "cell_type": "code",
   "execution_count": 66,
   "id": "a46cf404-e7d7-4abc-b954-2ea5c382b2f9",
   "metadata": {
    "tags": []
   },
   "outputs": [
    {
     "data": {
      "text/plain": [
       "[4, 3, 5]"
      ]
     },
     "execution_count": 66,
     "metadata": {},
     "output_type": "execute_result"
    }
   ],
   "source": [
    "# 31. Write a Python program to count the number of elements in a list within a specified range.\n",
    "x = [2, 4, 3, 1, 5, 6, 9, 7, 9, 0]\n",
    "low = 3\n",
    "high = 6\n",
    "\n",
    "[i for i in x if i in range(low, high)]"
   ]
  },
  {
   "cell_type": "code",
   "execution_count": 67,
   "id": "bf4e8e80-ef9c-4e24-8742-f0243828ebc9",
   "metadata": {
    "tags": []
   },
   "outputs": [],
   "source": [
    "# 33. Write a Python program to generate all sublists of a list.\n",
    "from itertools import combinations\n",
    "alphas = ['X', 'Y', 'Z']\n",
    "new = []\n",
    "for i in alphas:\n",
    "    j = i\n",
    "    new.append(i)"
   ]
  },
  {
   "cell_type": "code",
   "execution_count": 75,
   "id": "d0903fe0-f59c-4648-b1f1-9bb39d9805dc",
   "metadata": {
    "tags": []
   },
   "outputs": [
    {
     "data": {
      "text/plain": [
       "('X', 'Y')"
      ]
     },
     "execution_count": 75,
     "metadata": {},
     "output_type": "execute_result"
    }
   ],
   "source": [
    "next(combinations(alphas, 2))"
   ]
  },
  {
   "cell_type": "markdown",
   "id": "f295ac2a-db3e-4ae6-b141-efe9eaddbfdb",
   "metadata": {},
   "source": [
    "    35. Write a Python program to create a list by concatenating a given list with a range from 1 to n.\n",
    "    Sample list : ['p', 'q']\n",
    "    n =5\n",
    "    Sample Output : ['p1', 'q1', 'p2', 'q2', 'p3', 'q3', 'p4', 'q4', 'p5', 'q5']"
   ]
  },
  {
   "cell_type": "code",
   "execution_count": 76,
   "id": "54573635-35d7-4403-bbb8-300059f26d0a",
   "metadata": {
    "tags": []
   },
   "outputs": [
    {
     "data": {
      "text/plain": [
       "['p1', 'q1', 'p2', 'q2', 'p3', 'q3', 'p4', 'q4', 'p5', 'q5']"
      ]
     },
     "execution_count": 76,
     "metadata": {},
     "output_type": "execute_result"
    }
   ],
   "source": [
    "sample = ['p', 'q']\n",
    "n = 5\n",
    "new = []\n",
    "for i in range(1, n+1):\n",
    "    for j in sample:\n",
    "        new.append(j+str(i))\n",
    "    \n",
    "new"
   ]
  },
  {
   "cell_type": "code",
   "execution_count": 79,
   "id": "f8e895d6-17f8-4e99-8224-a48e3d1a1920",
   "metadata": {
    "tags": []
   },
   "outputs": [
    {
     "data": {
      "text/plain": [
       "{'Green', 'White'}"
      ]
     },
     "execution_count": 79,
     "metadata": {},
     "output_type": "execute_result"
    }
   ],
   "source": [
    "# 37. Write a Python program to find common items in two lists.\n",
    "color1 = \"Red\", \"Green\", \"Orange\", \"White\"\n",
    "color2 = \"Black\", \"Green\", \"White\", \"Pink\"\n",
    "\n",
    "set(color1).intersection(set(color2))"
   ]
  },
  {
   "cell_type": "markdown",
   "id": "479fb0b5-1278-462d-a08a-6f3cfb601e90",
   "metadata": {},
   "source": [
    "    39. Write a Python program to convert a list of multiple integers into a single integer.\n",
    "    Sample list: [11, 33, 50]\n",
    "    Expected Output: 113350"
   ]
  },
  {
   "cell_type": "code",
   "execution_count": 80,
   "id": "23f3e1c1-8288-4c55-80e6-37484e3749f8",
   "metadata": {
    "tags": []
   },
   "outputs": [
    {
     "data": {
      "text/plain": [
       "'113350'"
      ]
     },
     "execution_count": 80,
     "metadata": {},
     "output_type": "execute_result"
    }
   ],
   "source": [
    "sample = [11, 33, 50]\n",
    "sample1 = [str(i) for i in sample]\n",
    "''.join(sample1)"
   ]
  },
  {
   "cell_type": "code",
   "execution_count": 81,
   "id": "12212505-cab9-4e50-aaef-6900e05c3575",
   "metadata": {
    "tags": []
   },
   "outputs": [
    {
     "data": {
      "text/plain": [
       "33"
      ]
     },
     "execution_count": 81,
     "metadata": {},
     "output_type": "execute_result"
    }
   ],
   "source": [
    "# 43. Write a Python program to split a list into different variables.\n",
    "sample = [11, 33, 50]\n",
    "v1, v2, v3 = sample\n",
    "v2"
   ]
  },
  {
   "cell_type": "code",
   "execution_count": 84,
   "id": "c32ec2ff-befe-454e-9b4e-41b1da463505",
   "metadata": {
    "tags": []
   },
   "outputs": [
    {
     "data": {
      "text/plain": [
       "[1, 2, 3, 4, 5, 6, 7, 8, 9, 10]"
      ]
     },
     "execution_count": 84,
     "metadata": {},
     "output_type": "execute_result"
    }
   ],
   "source": [
    "# 45. Write a Python program to convert a pair of values into a sorted unique array.\n",
    "L = [(1, 2), (3, 4), (1, 2), (5, 6), (7, 8), (1, 2), (3, 4), (3, 4), (7, 8), (9, 10)]\n",
    "new = set([j for i in L for j in i])\n",
    "sorted(new)"
   ]
  },
  {
   "cell_type": "code",
   "execution_count": 87,
   "id": "b587fbb7-5202-4828-a173-2f2fed23cdc9",
   "metadata": {
    "tags": []
   },
   "outputs": [
    {
     "data": {
      "text/plain": [
       "['Red', 55, 'Green', 55, 'Black', 55]"
      ]
     },
     "execution_count": 87,
     "metadata": {},
     "output_type": "execute_result"
    }
   ],
   "source": [
    "# 47. Write a Python program to insert an element before each element of a list.\n",
    "color = ['Red', 'Green', 'Black']\n",
    "new = []\n",
    "element = 55\n",
    "for i in color:\n",
    "    new.extend((i, element))\n",
    "new"
   ]
  },
  {
   "cell_type": "code",
   "execution_count": 89,
   "id": "7e47c667-b7ec-407a-9645-bf90d83e885d",
   "metadata": {
    "tags": []
   },
   "outputs": [
    {
     "data": {
      "text/plain": [
       "['Red', 55, 'Green', 55, 'Black', 55]"
      ]
     },
     "execution_count": 89,
     "metadata": {},
     "output_type": "execute_result"
    }
   ],
   "source": [
    "[j for i in color for j in [i, element]]"
   ]
  },
  {
   "cell_type": "code",
   "execution_count": 90,
   "id": "223ad757-dc18-4260-b559-0bef1df7dc16",
   "metadata": {
    "tags": []
   },
   "outputs": [
    {
     "data": {
      "text/plain": [
       "['Red', 55, 'Green', 55, 'Black', 55]"
      ]
     },
     "execution_count": 90,
     "metadata": {},
     "output_type": "execute_result"
    }
   ],
   "source": [
    "[j for i in color for j in (i, element)]"
   ]
  },
  {
   "cell_type": "markdown",
   "id": "a516e4d1-68aa-478f-80a2-7f066cbde506",
   "metadata": {},
   "source": [
    "    49. Write a Python program to convert a list to a list of dictionaries.\n",
    "    Sample lists: [\"Black\", \"Red\", \"Maroon\", \"Yellow\"], [\"#000000\", \"#FF0000\", \"#800000\", \"#FFFF00\"]\n",
    "    Expected Output: [{'color_name': 'Black', 'color_code': '#000000'}, {'color_name': 'Red', 'color_code': '#FF0000'}, {'color_name': 'Maroon', 'color_code': '#800000'}, {'color_name': 'Yellow', 'color_code': '#FFFF00'}]"
   ]
  },
  {
   "cell_type": "code",
   "execution_count": 96,
   "id": "647199ca-a60c-4030-b4ba-fc515958afe3",
   "metadata": {
    "tags": []
   },
   "outputs": [
    {
     "data": {
      "text/plain": [
       "[{'color_name': 'Black', 'color_code': '#000000'},\n",
       " {'color_name': 'Red', 'color_code': '#FF0000'},\n",
       " {'color_name': 'Maroon', 'color_code': '#800000'},\n",
       " {'color_name': 'Yellow', 'color_code': '#FFFF00'}]"
      ]
     },
     "execution_count": 96,
     "metadata": {},
     "output_type": "execute_result"
    }
   ],
   "source": [
    "s1, s2 = [\"Black\", \"Red\", \"Maroon\", \"Yellow\"], [\"#000000\", \"#FF0000\", \"#800000\", \"#FFFF00\"]\n",
    "new = []\n",
    "for i in range(len(s1)):\n",
    "    new.append({'color_name':s1[i], 'color_code':s2[i]})\n",
    "new"
   ]
  },
  {
   "cell_type": "markdown",
   "id": "9b58a26f-776c-4a1c-843c-8c2922ce8432",
   "metadata": {
    "tags": []
   },
   "source": [
    "    51. Write a Python program to split a list every Nth element.\n",
    "    Sample list: ['a', 'b', 'c', 'd', 'e', 'f', 'g', 'h', 'i', 'j', 'k', 'l', 'm', 'n']\n",
    "    Expected Output: [['a', 'd', 'g', 'j', 'm'], ['b', 'e', 'h', 'k', 'n'], ['c', 'f', 'i', 'l']]"
   ]
  },
  {
   "cell_type": "code",
   "execution_count": 104,
   "id": "891981af-0415-4181-9c75-c8e6ac32a9f8",
   "metadata": {
    "tags": []
   },
   "outputs": [
    {
     "data": {
      "text/plain": [
       "[['a', 'e', 'i', 'm'], ['b', 'f', 'j', 'n'], ['c', 'g', 'k'], ['d', 'h', 'l']]"
      ]
     },
     "execution_count": 104,
     "metadata": {},
     "output_type": "execute_result"
    }
   ],
   "source": [
    "sample = ['a', 'b', 'c', 'd', 'e', 'f', 'g', 'h', 'i', 'j', 'k', 'l', 'm', 'n']\n",
    "n = 4\n",
    "\n",
    "[sample[i::n] for i in range(n)]"
   ]
  },
  {
   "cell_type": "code",
   "execution_count": 105,
   "id": "4bf75e53-f97a-4c7f-a64c-337558f0dafb",
   "metadata": {
    "tags": []
   },
   "outputs": [
    {
     "data": {
      "text/plain": [
       "[['a', 'e', 'i', 'm'], ['b', 'f', 'j', 'n'], ['c', 'g', 'k'], ['d', 'h', 'l']]"
      ]
     },
     "execution_count": 105,
     "metadata": {},
     "output_type": "execute_result"
    }
   ],
   "source": [
    "new = []\n",
    "for i in range(n):\n",
    "    new.append(sample[i::n])\n",
    "new"
   ]
  },
  {
   "cell_type": "code",
   "execution_count": 151,
   "id": "dfcf2a5e-7050-4f3c-ad9b-3bb8ff448e27",
   "metadata": {
    "tags": []
   },
   "outputs": [],
   "source": [
    "# 53. Write a Python program to create a list with infinite elements.\n",
    "i=0\n",
    "def num():\n",
    "    i=2\n",
    "    while True:\n",
    "        yield i\n",
    "        i += 5\n",
    "x = num()"
   ]
  },
  {
   "cell_type": "code",
   "execution_count": 150,
   "id": "d71ab92b-82a1-438b-a854-b67ec692ab13",
   "metadata": {
    "tags": []
   },
   "outputs": [
    {
     "name": "stdout",
     "output_type": "stream",
     "text": [
      "7\n"
     ]
    }
   ],
   "source": [
    "print(next(x))"
   ]
  },
  {
   "cell_type": "code",
   "execution_count": 113,
   "id": "d205ca84-e08f-4340-819c-7cd48a12ac07",
   "metadata": {
    "tags": []
   },
   "outputs": [
    {
     "name": "stdout",
     "output_type": "stream",
     "text": [
      "0\n",
      "1\n"
     ]
    }
   ],
   "source": [
    "import itertools\n",
    "c = itertools.count()\n",
    "\n",
    "print(next(c))\n",
    "print(next(c))"
   ]
  },
  {
   "cell_type": "code",
   "execution_count": 153,
   "id": "59d3bdde-4011-43e5-ac50-f935ee8e84fa",
   "metadata": {
    "tags": []
   },
   "outputs": [
    {
     "data": {
      "text/plain": [
       "[{'key2': 'value2'}, {'key2': 'value4'}]"
      ]
     },
     "execution_count": 153,
     "metadata": {},
     "output_type": "execute_result"
    }
   ],
   "source": [
    "# 55. Write a Python program to remove key-value pairs from a list of dictionaries.\n",
    "sample = [{'key1':'value1', 'key2':'value2'}, {'key1':'value3', 'key2':'value4'}]\n",
    "to_remove = 'key1'\n",
    "new = []\n",
    "for i in sample:\n",
    "    i.pop(to_remove)\n",
    "    new.append(i)\n",
    "new"
   ]
  },
  {
   "cell_type": "code",
   "execution_count": 154,
   "id": "1ac047e6-d74e-4899-8bea-1168dff871f1",
   "metadata": {
    "tags": []
   },
   "outputs": [],
   "source": [
    "# 57. Write a Python program to check if all items in a given list of strings are equal to a given string.\n",
    "sample = [\"green\", \"green\", \"green\", \"green\"]\n",
    "check = 'green'\n",
    "\n",
    "for i in sample:\n",
    "    if i==check:\n",
    "        continue\n",
    "    else:\n",
    "        print(False)\n",
    "        break"
   ]
  },
  {
   "cell_type": "code",
   "execution_count": 155,
   "id": "e2b86ea1-d5f1-49b8-bb67-4af1babcc823",
   "metadata": {
    "tags": []
   },
   "outputs": [
    {
     "data": {
      "text/plain": [
       "True"
      ]
     },
     "execution_count": 155,
     "metadata": {},
     "output_type": "execute_result"
    }
   ],
   "source": [
    "all(i==check for i in sample)"
   ]
  },
  {
   "cell_type": "code",
   "execution_count": 163,
   "id": "547c3d5a-f3b6-4f84-bc57-e3c20a3db2e8",
   "metadata": {
    "tags": []
   },
   "outputs": [
    {
     "name": "stdout",
     "output_type": "stream",
     "text": [
      "True\n"
     ]
    }
   ],
   "source": [
    "# 59. Write a Python program to check whether the n-th element exists in a given list.\n",
    "x = [1, 2, 3, 4, 5, 6]\n",
    "n=6\n",
    "\n",
    "if n-1 > len(x):\n",
    "    print(False)\n",
    "else:\n",
    "    print(True)"
   ]
  },
  {
   "cell_type": "code",
   "execution_count": 1,
   "id": "70bc0d7f-3609-4fd0-aa22-7dea657fb5e9",
   "metadata": {},
   "outputs": [
    {
     "data": {
      "text/plain": [
       "[{}, {}, {}, {}]"
      ]
     },
     "execution_count": 1,
     "metadata": {},
     "output_type": "execute_result"
    }
   ],
   "source": [
    "# 61. Write a Python program to create a list of empty dictionaries.\n",
    "n = 4\n",
    "car = [{} for i in range(n)]\n",
    "car"
   ]
  },
  {
   "cell_type": "code",
   "execution_count": 2,
   "id": "5dada1c3-5ceb-4a0e-ab77-71c85e31ce11",
   "metadata": {},
   "outputs": [
    {
     "data": {
      "text/plain": [
       "['emp1', 'emp2', 'emp3', 'emp4']"
      ]
     },
     "execution_count": 2,
     "metadata": {},
     "output_type": "execute_result"
    }
   ],
   "source": [
    "# 63. Write a Python program to insert a given string at the beginning of all items in a list.\n",
    "\n",
    "car = [1,2,3,4]\n",
    "bike = 'emp'\n",
    "\n",
    "cars = list(map(lambda x: bike+str(x), car))\n",
    "cars"
   ]
  },
  {
   "cell_type": "code",
   "execution_count": 3,
   "id": "7818565b-5bfe-441c-a230-c7702c432cdf",
   "metadata": {},
   "outputs": [
    {
     "data": {
      "text/plain": [
       "['emp1', 'emp2', 'emp3', 'emp4']"
      ]
     },
     "execution_count": 3,
     "metadata": {},
     "output_type": "execute_result"
    }
   ],
   "source": [
    "cars = [f\"{bike}{i}\" for i in car]\n",
    "cars"
   ]
  },
  {
   "cell_type": "code",
   "execution_count": 4,
   "id": "b7a882e6-988c-44e1-98cb-58202d4a34bb",
   "metadata": {},
   "outputs": [
    {
     "data": {
      "text/plain": [
       "[-3,\n",
       " -4,\n",
       " 6,\n",
       " 2,\n",
       " 6,\n",
       " 7,\n",
       " 6,\n",
       " 9,\n",
       " 10,\n",
       " 7,\n",
       " 4,\n",
       " 4,\n",
       " 5,\n",
       " 3,\n",
       " 2,\n",
       " 9,\n",
       " 7,\n",
       " 1,\n",
       " 0,\n",
       " 0,\n",
       " 0,\n",
       " 0,\n",
       " 0,\n",
       " 0,\n",
       " 0,\n",
       " 0,\n",
       " 0]"
      ]
     },
     "execution_count": 4,
     "metadata": {},
     "output_type": "execute_result"
    }
   ],
   "source": [
    "# 65. Write a Python program to move all zero digits to the end of a given list of numbers.\n",
    "\n",
    "original=[-3, -4, 0, 0, 0, 6, 2, 0, 6, 7, 6, 0, 0, 0, 9, 10, 7, 4, 4, 5, 3, 0, 0, 2, 9, 7, 1]\n",
    "new  = []\n",
    "zeros = 0\n",
    "for i in original:\n",
    "    if i!=0:\n",
    "        new.append(i)\n",
    "    else:\n",
    "        zeros+=1\n",
    "new.extend([0 for i in range(zeros)])\n",
    "new"
   ]
  },
  {
   "cell_type": "code",
   "execution_count": 5,
   "id": "704e36b3-0972-4e44-9bc5-ee93cb0e0676",
   "metadata": {},
   "outputs": [
    {
     "data": {
      "text/plain": [
       "[40]"
      ]
     },
     "execution_count": 5,
     "metadata": {},
     "output_type": "execute_result"
    }
   ],
   "source": [
    "# 67. Write a Python program to find all the values in a list that are greater than a specified number.\n",
    "cars = [1, 5, 4, 3, 40]\n",
    "n = 6\n",
    "[i for i in cars if i>n]"
   ]
  },
  {
   "cell_type": "code",
   "execution_count": 8,
   "id": "47413c96-458f-4211-8084-a39d5c77bebb",
   "metadata": {},
   "outputs": [
    {
     "data": {
      "text/plain": [
       "[[10, 20], [40], [30, 56, 25], [33]]"
      ]
     },
     "execution_count": 8,
     "metadata": {},
     "output_type": "execute_result"
    }
   ],
   "source": [
    "# 69. Write a Python program to remove duplicates from a list of lists.\n",
    "cars = [[10, 20], [40], [30, 56, 25], [10, 20], [33], [40]]\n",
    "new = []\n",
    "for i in cars:\n",
    "    if i not in new:\n",
    "        new.append(i)\n",
    "new"
   ]
  },
  {
   "cell_type": "code",
   "execution_count": 11,
   "id": "9bad107e-085a-4819-88ae-72bf3ace4ea8",
   "metadata": {},
   "outputs": [
    {
     "data": {
      "text/plain": [
       "[[10, 20], [30, 56, 25], [33], [40]]"
      ]
     },
     "execution_count": 11,
     "metadata": {},
     "output_type": "execute_result"
    }
   ],
   "source": [
    "import itertools\n",
    "cars.sort()\n",
    "\n",
    "[num for num, _ in itertools.groupby(cars)]"
   ]
  },
  {
   "cell_type": "code",
   "execution_count": 12,
   "id": "bfd160f7-dfa6-4981-8b1d-3eb66547c3e0",
   "metadata": {},
   "outputs": [
    {
     "name": "stdout",
     "output_type": "stream",
     "text": [
      "[10, 20] <itertools._grouper object at 0x000002A7A13EF880>\n",
      "[30, 56, 25] <itertools._grouper object at 0x000002A7A13ED180>\n",
      "[33] <itertools._grouper object at 0x000002A7A13EF880>\n",
      "[40] <itertools._grouper object at 0x000002A7A13ED180>\n"
     ]
    }
   ],
   "source": [
    "for num, _ in itertools.groupby(cars):\n",
    "    print(num, _)"
   ]
  },
  {
   "cell_type": "markdown",
   "id": "6c184130-0e27-45cd-b7b2-a237a9655eac",
   "metadata": {},
   "source": [
    "71. Write a Python program to check whether all dictionaries in a list are empty or not.\n",
    "\n",
    "    Sample list : [{},{},{}]\n",
    "    Return value : True\n",
    "    Sample list : [{1,2},{},{}]\n",
    "    Return value : False"
   ]
  },
  {
   "cell_type": "code",
   "execution_count": 20,
   "id": "649c348f-af44-4f98-a330-c73f04b1400b",
   "metadata": {
    "tags": []
   },
   "outputs": [
    {
     "data": {
      "text/plain": [
       "False"
      ]
     },
     "execution_count": 20,
     "metadata": {},
     "output_type": "execute_result"
    }
   ],
   "source": [
    "my = [{},{},{}]\n",
    "\n",
    "any(my)"
   ]
  },
  {
   "cell_type": "code",
   "execution_count": 21,
   "id": "2d23f4f1-8a4d-4b55-bffd-dd15f16b072b",
   "metadata": {
    "tags": []
   },
   "outputs": [
    {
     "data": {
      "text/plain": [
       "True"
      ]
     },
     "execution_count": 21,
     "metadata": {},
     "output_type": "execute_result"
    }
   ],
   "source": [
    "my = [{1, 2},{},{}]\n",
    "\n",
    "any(my)"
   ]
  },
  {
   "cell_type": "code",
   "execution_count": 22,
   "id": "bfdca43c-8455-469c-8577-944735b1d037",
   "metadata": {},
   "outputs": [
    {
     "data": {
      "text/plain": [
       "False"
      ]
     },
     "execution_count": 22,
     "metadata": {},
     "output_type": "execute_result"
    }
   ],
   "source": [
    "my = [{1},{3},{}]\n",
    "\n",
    "all(my)"
   ]
  },
  {
   "cell_type": "code",
   "execution_count": 23,
   "id": "8eedf6bc-e2c6-42ae-820d-cf971df0e389",
   "metadata": {
    "tags": []
   },
   "outputs": [
    {
     "data": {
      "text/plain": [
       "True"
      ]
     },
     "execution_count": 23,
     "metadata": {},
     "output_type": "execute_result"
    }
   ],
   "source": [
    "my = [{1},{3},{6}]\n",
    "\n",
    "all(my)"
   ]
  },
  {
   "cell_type": "code",
   "execution_count": 33,
   "id": "ec8f14b4-8dbd-4440-bd72-2d3b0472456f",
   "metadata": {
    "tags": []
   },
   "outputs": [
    {
     "name": "stdout",
     "output_type": "stream",
     "text": [
      "[0]\n",
      "[0, 1]\n",
      "[0, 1, 2]\n",
      "[0, 1, 2, 3]\n",
      "[0, 1, 2, 3, 4]\n",
      "[0, 1, 2, 3, 4, 5]\n",
      "[0, 1, 2, 3, 4, 5, 6]\n",
      "[0, 1, 2, 3, 4, 5, 6, 7]\n",
      "[0, 1, 2, 3, 4, 5, 6, 7, 8]\n",
      "[0, 1, 2, 3, 4, 5, 6, 7, 8, 9]\n"
     ]
    },
    {
     "ename": "IndexError",
     "evalue": "list index out of range",
     "output_type": "error",
     "traceback": [
      "\u001b[1;31m---------------------------------------------------------------------------\u001b[0m",
      "\u001b[1;31mIndexError\u001b[0m                                Traceback (most recent call last)",
      "Cell \u001b[1;32mIn[33], line 6\u001b[0m\n\u001b[0;32m      4\u001b[0m new \u001b[38;5;241m=\u001b[39m []\n\u001b[0;32m      5\u001b[0m \u001b[38;5;28;01mfor\u001b[39;00m i, num \u001b[38;5;129;01min\u001b[39;00m \u001b[38;5;28menumerate\u001b[39m(my):\n\u001b[1;32m----> 6\u001b[0m     \u001b[38;5;28;01mif\u001b[39;00m my[i]\u001b[38;5;241m!=\u001b[39mmy[i\u001b[38;5;241m+\u001b[39m\u001b[38;5;241m1\u001b[39m]:\n\u001b[0;32m      7\u001b[0m         new\u001b[38;5;241m.\u001b[39mappend(num)\n\u001b[0;32m      8\u001b[0m         \u001b[38;5;28mprint\u001b[39m(new)\n",
      "\u001b[1;31mIndexError\u001b[0m: list index out of range"
     ]
    }
   ],
   "source": [
    "# 73. Write a Python program to remove consecutive (following each other continuously) duplicates (elements) from a given list.\n",
    "from collections import Counter\n",
    "my = [0, 0, 1, 2, 3, 4, 4, 5, 6, 6, 6, 7, 8, 9, 4, 4]\n",
    "new = []\n",
    "for i, num in enumerate(my):\n",
    "    if my[i]!=my[i+1]:\n",
    "        new.append(num)\n",
    "        print(new)\n",
    "new"
   ]
  },
  {
   "cell_type": "code",
   "execution_count": 34,
   "id": "eaf715d1-f2d1-41cc-aadd-f02dccf2599b",
   "metadata": {
    "tags": []
   },
   "outputs": [
    {
     "data": {
      "text/plain": [
       "0"
      ]
     },
     "execution_count": 34,
     "metadata": {},
     "output_type": "execute_result"
    }
   ],
   "source": [
    "from functools import reduce\n",
    "my = [0, 0, 1, 2, 3, 4, 4, 5, 6, 6, 6, 7, 8, 9, 4, 4]\n",
    "reduce(lambda x, y: x if x==y else x, my)"
   ]
  },
  {
   "cell_type": "code",
   "execution_count": 36,
   "id": "e99e342b-b28d-4e7c-a906-66987114424a",
   "metadata": {
    "tags": []
   },
   "outputs": [
    {
     "data": {
      "text/plain": [
       "[0, 1, 2, 3, 4, 5, 6, 7, 8, 9, 4]"
      ]
     },
     "execution_count": 36,
     "metadata": {},
     "output_type": "execute_result"
    }
   ],
   "source": [
    "my = [0, 0, 1, 2, 3, 4, 4, 5, 6, 6, 6, 7, 8, 9, 4, 4]\n",
    "cleaned_list = []\n",
    "previous_item = None\n",
    "\n",
    "for i in my:\n",
    "    if i != previous_item:\n",
    "        cleaned_list.append(i)\n",
    "    previous_item = i\n",
    "    \n",
    "cleaned_list"
   ]
  },
  {
   "cell_type": "code",
   "execution_count": 37,
   "id": "c381e82b-5397-446f-8c61-0913171519bb",
   "metadata": {
    "tags": []
   },
   "outputs": [
    {
     "data": {
      "text/plain": [
       "[1, 1, 2, 3, 4, 4, 5, 1]"
      ]
     },
     "execution_count": 37,
     "metadata": {},
     "output_type": "execute_result"
    }
   ],
   "source": [
    "# 75. List reflecting the modified run-length encoding from the said list:\n",
    "my = [1, 1, 2, 3, 4, 4, 5, 1]\n",
    "new = []\n",
    "item = None\n",
    "\n",
    "for i in my:\n",
    "    if i==item:\n",
    "        new.append([item, i])\n",
    "    else:\n",
    "        new.append(i)\n",
    "        \n",
    "new"
   ]
  }
 ],
 "metadata": {
  "kernelspec": {
   "display_name": "Python 3 (ipykernel)",
   "language": "python",
   "name": "python3"
  },
  "language_info": {
   "codemirror_mode": {
    "name": "ipython",
    "version": 3
   },
   "file_extension": ".py",
   "mimetype": "text/x-python",
   "name": "python",
   "nbconvert_exporter": "python",
   "pygments_lexer": "ipython3",
   "version": "3.11.4"
  }
 },
 "nbformat": 4,
 "nbformat_minor": 5
}

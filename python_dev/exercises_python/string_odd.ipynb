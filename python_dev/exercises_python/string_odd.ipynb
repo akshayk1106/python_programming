{
 "cells": [
  {
   "cell_type": "markdown",
   "id": "dd9ce2d0-a48e-411c-82cb-4e22c90d3ccc",
   "metadata": {},
   "source": [
    "    3. Write a Python program to get a string made of the first 2 and last 2 characters of a given string. If the string length is less than 2, return the empty string instead.\n",
    "    Sample String : 'w3resource'"
   ]
  },
  {
   "cell_type": "code",
   "execution_count": 1,
   "id": "15e4311d-7d22-48be-afb1-e1613c7b0870",
   "metadata": {
    "tags": []
   },
   "outputs": [
    {
     "name": "stdout",
     "output_type": "stream",
     "text": [
      "w3ce\n"
     ]
    }
   ],
   "source": [
    "sample = 'w3resource'\n",
    "if len(sample)>2:\n",
    "    print(sample[:2]+sample[-2:])\n",
    "else:\n",
    "    print(None)"
   ]
  },
  {
   "cell_type": "markdown",
   "id": "00b07e53-c0c3-486b-a9c8-64e889539714",
   "metadata": {},
   "source": [
    "    5. Write a Python program to get a single string from two given strings, separated by a space and swap the first two characters of each string.\n",
    "    Sample String : 'abc', 'xyz'\n",
    "    Expected Result : 'xyc abz'"
   ]
  },
  {
   "cell_type": "code",
   "execution_count": 3,
   "id": "73a470ae-8f07-494c-8356-83fd062d7740",
   "metadata": {
    "tags": []
   },
   "outputs": [
    {
     "data": {
      "text/plain": [
       "'ayzxbc'"
      ]
     },
     "execution_count": 3,
     "metadata": {},
     "output_type": "execute_result"
    }
   ],
   "source": [
    "s1 = 'abc'\n",
    "s2 = 'xyz'\n",
    "\n",
    "new_s1 = s1.replace(s1[0], s2[0])\n",
    "new_s2 = s2.replace(s2[0], s1[0])\n",
    "\n",
    "s = new_s2 + new_s1\n",
    "s"
   ]
  },
  {
   "cell_type": "markdown",
   "id": "e8b0eeeb-4666-44ec-97aa-425ff38fdc2c",
   "metadata": {},
   "source": [
    "    7. Write a Python program to find the first appearance of the substrings 'not' and 'poor' in a given string. If 'not' follows 'poor', replace the whole 'not'...'poor' substring with 'good'. Return the resulting string.\n",
    "    Sample String : 'The lyrics is not that poor!'\n",
    "    'The lyrics is poor!'\n",
    "    Expected Result : 'The lyrics is good!'\n",
    "    'The lyrics is poor!'"
   ]
  },
  {
   "cell_type": "code",
   "execution_count": 17,
   "id": "35a3f752-ddef-46f9-842b-aa362c24365d",
   "metadata": {
    "tags": []
   },
   "outputs": [
    {
     "data": {
      "text/plain": [
       "'The lyrics is good'"
      ]
     },
     "execution_count": 17,
     "metadata": {},
     "output_type": "execute_result"
    }
   ],
   "source": [
    "sample = 'The lyrics is not that poor!'\n",
    "x = sample.split(' ')\n",
    "if 'not' in x:\n",
    "    i = x.index('not')\n",
    "    for j in x[i+1:]:\n",
    "        if 'poor' in j:\n",
    "            new_x = x[:i]\n",
    "            new_x.append('good')\n",
    "            new_sample = ' '.join(new_x)\n",
    "new_sample"
   ]
  },
  {
   "cell_type": "code",
   "execution_count": 19,
   "id": "3384262a-cf41-415f-9874-177fb55cc3b9",
   "metadata": {
    "tags": []
   },
   "outputs": [
    {
     "data": {
      "text/plain": [
       "'pyton'"
      ]
     },
     "execution_count": 19,
     "metadata": {},
     "output_type": "execute_result"
    }
   ],
   "source": [
    "# 9. Write a Python program to remove the nth index character from a nonempty string.\n",
    "my = 'python'\n",
    "index = 3\n",
    "\n",
    "# note: string has no method to remove any character since it is immutable\n",
    "new = my[:index] + my[index+1:]\n",
    "new"
   ]
  },
  {
   "cell_type": "code",
   "execution_count": 20,
   "id": "ce051645-56a7-4de2-9265-fa93ba4054aa",
   "metadata": {
    "tags": []
   },
   "outputs": [
    {
     "data": {
      "text/plain": [
       "'#ytho#'"
      ]
     },
     "execution_count": 20,
     "metadata": {},
     "output_type": "execute_result"
    }
   ],
   "source": [
    "# 10. Write a Python program to change a given string to a newly string where the first and last chars have been exchanged.\n",
    "my = 'python'\n",
    "new = '#' + my[1:-1] + '#'\n",
    "new"
   ]
  },
  {
   "cell_type": "code",
   "execution_count": 21,
   "id": "e79622bf-5554-496f-82e3-c33c138f28de",
   "metadata": {
    "tags": []
   },
   "outputs": [
    {
     "data": {
      "text/plain": [
       "'pto'"
      ]
     },
     "execution_count": 21,
     "metadata": {},
     "output_type": "execute_result"
    }
   ],
   "source": [
    "# 11. Write a Python program to remove characters that have odd index values in a given string.\n",
    "my = 'python'\n",
    "new = ''\n",
    "for i in range(0, len(my), 2):\n",
    "    new += my[i]\n",
    "    \n",
    "new"
   ]
  },
  {
   "cell_type": "code",
   "execution_count": 22,
   "id": "5ed7ea59-1fa7-4937-8275-a9a156d86a0f",
   "metadata": {
    "tags": []
   },
   "outputs": [
    {
     "name": "stdin",
     "output_type": "stream",
     "text": [
      "Enter string CompanY\n"
     ]
    },
    {
     "name": "stdout",
     "output_type": "stream",
     "text": [
      "COMPANY\n",
      "company\n"
     ]
    }
   ],
   "source": [
    "# 13. Write a Python script that takes input from the user and displays that input back in upper and lower cases.\n",
    "inp = input('Enter string')\n",
    "\n",
    "print(inp.upper())\n",
    "print(inp.lower())"
   ]
  },
  {
   "cell_type": "markdown",
   "id": "007a9422-e97d-400c-900d-3376257d2e45",
   "metadata": {},
   "source": [
    "    15. Write a Python function to create an HTML string with tags around the word(s).\n",
    "    Sample function and result :\n",
    "    add_tags('i', 'Python') -> '<i>Python</i>'\n",
    "    add_tags('b', 'Python Tutorial') -> '<b>Python Tutorial </b>'"
   ]
  },
  {
   "cell_type": "code",
   "execution_count": 23,
   "id": "feaa9c4b-f2e4-423b-8b87-5f27458811c9",
   "metadata": {
    "tags": []
   },
   "outputs": [
    {
     "data": {
      "text/plain": [
       "'<i>python</i>'"
      ]
     },
     "execution_count": 23,
     "metadata": {},
     "output_type": "execute_result"
    }
   ],
   "source": [
    "def add_tags(tag, doc):\n",
    "    return f'<{tag}>{doc}</{tag}>'\n",
    "\n",
    "x = add_tags('i', 'python')\n",
    "x"
   ]
  },
  {
   "cell_type": "markdown",
   "id": "67927434-bf3e-4b34-aebe-75ac3dcff5ba",
   "metadata": {},
   "source": [
    "    17. Write a Python function to get a string made of 4 copies of the last two characters of a specified string (length must be at least 2).\n",
    "    Sample function and result :\n",
    "    insert_end('Python') -> onononon"
   ]
  },
  {
   "cell_type": "code",
   "execution_count": 24,
   "id": "0c73f6ff-b9d5-4e97-adb8-4dce048322f8",
   "metadata": {
    "tags": []
   },
   "outputs": [
    {
     "data": {
      "text/plain": [
       "'onononon'"
      ]
     },
     "execution_count": 24,
     "metadata": {},
     "output_type": "execute_result"
    }
   ],
   "source": [
    "def copy_ends(doc):\n",
    "    return doc[-2:]*4\n",
    "\n",
    "sample = copy_ends('python')\n",
    "sample"
   ]
  },
  {
   "cell_type": "code",
   "execution_count": 26,
   "id": "a7d24a04-c4d8-4a92-b6cd-74ba87f07c37",
   "metadata": {
    "tags": []
   },
   "outputs": [
    {
     "data": {
      "text/plain": [
       "'https://www.w3resource.com/python'"
      ]
     },
     "execution_count": 26,
     "metadata": {},
     "output_type": "execute_result"
    }
   ],
   "source": [
    "# 19. Write a Python program to get the last part of a string before a specified character.\n",
    "\n",
    "doc = 'https://www.w3resource.com/python-exercises'\n",
    "char = '-'\n",
    "\n",
    "index = doc.rfind('-')\n",
    "new = doc[:index]\n",
    "new"
   ]
  },
  {
   "cell_type": "code",
   "execution_count": 28,
   "id": "22274d88-f516-42d5-829e-f51b303fc3b2",
   "metadata": {
    "tags": []
   },
   "outputs": [
    {
     "name": "stdout",
     "output_type": "stream",
     "text": [
      "IIAM PROGRAMMER\n"
     ]
    }
   ],
   "source": [
    "# 21. Write a Python function to convert a given string to all uppercase \n",
    "#if it contains at least 2 uppercase characters in the first 4 characters.\n",
    "\n",
    "doc = 'iIaM ProGrammer'\n",
    "count = 0\n",
    "for i in doc[:4]:\n",
    "    if i.isupper():\n",
    "        count+=1\n",
    "if count>=2:\n",
    "    print(doc.upper())"
   ]
  },
  {
   "cell_type": "code",
   "execution_count": 33,
   "id": "1f132cf9-df71-480c-a9cb-c2cd8c76e582",
   "metadata": {
    "tags": []
   },
   "outputs": [
    {
     "name": "stdout",
     "output_type": "stream",
     "text": [
      "iIaM ProGrammer   i can code well   Ok\n"
     ]
    }
   ],
   "source": [
    "# 23. Write a Python program to remove a newline in Python.\n",
    "doc = 'iIaM ProGrammer \\n i can code well \\n Ok'\n",
    "print(doc.replace('\\n', ' '))\n",
    "\n",
    "# doc.rstrip('\\n') #if single statement"
   ]
  },
  {
   "cell_type": "code",
   "execution_count": 34,
   "id": "0db3c743-e6bf-41fb-9d8d-ccd9dcb65db1",
   "metadata": {
    "tags": []
   },
   "outputs": [
    {
     "name": "stdout",
     "output_type": "stream",
     "text": [
      "\n",
      "Python is a widely used high-level, general-purpose, interpreted,\n",
      "dynamic programming language. Its design philosophy emphasizes\n",
      "code readability, and its syntax allows programmers to express\n",
      "concepts in fewer lines of code than possible in languages such\n",
      "as C++ or Java.\n",
      "\n"
     ]
    }
   ],
   "source": [
    "# 27. Write a Python program to remove existing indentation from all of the lines in a given text.\n",
    "import textwrap\n",
    "sample_text = '''\n",
    "    Python is a widely used high-level, general-purpose, interpreted,\n",
    "    dynamic programming language. Its design philosophy emphasizes\n",
    "    code readability, and its syntax allows programmers to express\n",
    "    concepts in fewer lines of code than possible in languages such\n",
    "    as C++ or Java.\n",
    "    '''\n",
    "text_without_Indentation = textwrap.dedent(sample_text)\n",
    "print(text_without_Indentation )"
   ]
  },
  {
   "cell_type": "code",
   "execution_count": 36,
   "id": "b3275626-11b7-4dba-99d9-a67c87d2957c",
   "metadata": {
    "tags": []
   },
   "outputs": [
    {
     "name": "stdout",
     "output_type": "stream",
     "text": [
      "Python is a widely used high-level, general-purpose, interpreted, dynamic\n",
      "    programming language. Its design philosophy emphasizes code readability, and\n",
      "    its syntax allows programmers to express concepts in fewer lines of code\n",
      "    than possible in languages such as C++ or Java.\n"
     ]
    }
   ],
   "source": [
    "# Write a Python program to set the indentation of the first line.\n",
    "\n",
    "import textwrap\n",
    "sample_text ='''\n",
    "Python is a widely used high-level, general-purpose, interpreted, dynamic\n",
    "programming language. Its design philosophy emphasizes code readability,\n",
    "and its syntax allows programmers to express concepts in fewer lines of\n",
    "code than possible in languages such as C++ or Java.\n",
    "    '''\n",
    "\n",
    "text1 =  textwrap.dedent(sample_text).strip()\n",
    "print(textwrap.fill(text1,\n",
    "                    initial_indent='',\n",
    "                    subsequent_indent=' ' * 4,\n",
    "                    width=80,\n",
    "                    ))"
   ]
  },
  {
   "cell_type": "code",
   "execution_count": 43,
   "id": "19f486b2-392d-45b3-ada4-2441bccd0215",
   "metadata": {
    "tags": []
   },
   "outputs": [
    {
     "name": "stdout",
     "output_type": "stream",
     "text": [
      "3.2f\n",
      "3.1416\n"
     ]
    }
   ],
   "source": [
    "# 31. Write a Python program to print the following numbers up to 2 decimal places with a sign.\n",
    "x = 3.1415926\n",
    "y = -12.9999\n",
    "\n",
    "print(\"%d.2f\" %(x))\n",
    "print(\"{:.4f}\".format(x))"
   ]
  },
  {
   "cell_type": "code",
   "execution_count": 45,
   "id": "279e15ee-6ddf-4da8-bd9b-5b2652288af4",
   "metadata": {
    "tags": []
   },
   "outputs": [
    {
     "name": "stdout",
     "output_type": "stream",
     "text": [
      "3,000,000\n"
     ]
    }
   ],
   "source": [
    "# 35. Write a Python program to display a number with a comma separator.\n",
    "x = 3000000\n",
    "y = 30000000\n",
    "print(\"{:,}\".format(x))"
   ]
  },
  {
   "cell_type": "code",
   "execution_count": 50,
   "id": "82fdc3d8-3f91-4a56-ae49-9905681cacd7",
   "metadata": {
    "tags": []
   },
   "outputs": [
    {
     "name": "stdout",
     "output_type": "stream",
     "text": [
      "esoprup lareneg ,level hgih desu ylediw a si nohtyP\n",
      "purpose general level, high used widely a is Python\n"
     ]
    }
   ],
   "source": [
    "# 39. Write a Python program to reverse a string.\n",
    "doc = 'Python is a widely used high level, general purpose'\n",
    "\n",
    "print(doc[::-1])\n",
    "print(' '.join(doc.split(' ')[::-1]))"
   ]
  },
  {
   "cell_type": "code",
   "execution_count": 59,
   "id": "ccf97a71-bb97-457c-a92f-e4262f9222c0",
   "metadata": {
    "tags": []
   },
   "outputs": [
    {
     "data": {
      "text/plain": [
       "'Pythn s  wdly sd hgh lvl, gnrl prps'"
      ]
     },
     "execution_count": 59,
     "metadata": {},
     "output_type": "execute_result"
    }
   ],
   "source": [
    "# 41. Write a Python program to strip a set of characters from a string.\n",
    "doc = 'Python is a widely used high level, general purpose'\n",
    "chars_to_split = 'a', 'e', 'i', 'o', 'u'\n",
    "    \n",
    "for i in doc:\n",
    "    if i in chars_to_split:\n",
    "        doc = doc.replace(i, '')\n",
    "doc"
   ]
  },
  {
   "cell_type": "code",
   "execution_count": 60,
   "id": "e9962bf0-3bcc-4c39-b032-0c4ece7e826c",
   "metadata": {
    "tags": []
   },
   "outputs": [
    {
     "data": {
      "text/plain": [
       "'Pythn s  wdly sd hgh lvl, gnrl prps'"
      ]
     },
     "execution_count": 60,
     "metadata": {},
     "output_type": "execute_result"
    }
   ],
   "source": [
    "\"\".join(i for i in doc if i not in chars_to_split)"
   ]
  },
  {
   "cell_type": "code",
   "execution_count": 71,
   "id": "22c79631-2dc6-479b-bfb2-84dbf538e9a0",
   "metadata": {
    "tags": []
   },
   "outputs": [
    {
     "name": "stdout",
     "output_type": "stream",
     "text": [
      "['a', 'b', 'c', 'd', 'e', 'f', 'g', 'h', 'i', 'j', 'k', 'l', 'm', 'n', 'o', 'p', 'q', 'r', 's', 't', 'u', 'v', 'w', 'x', 'y', 'z']\n",
      "a\n",
      "b\n",
      "Some absent\n"
     ]
    }
   ],
   "source": [
    "# 45. Write a Python program to check whether a string contains all letters of the alphabet.\n",
    "\n",
    "import string\n",
    "alphabets = list(string.ascii_lowercase)\n",
    "print(sorted(alphabets))\n",
    "doc = 'Python is a widely used high level, general purpose'\n",
    "\n",
    "for i in alphabets:\n",
    "    if i in doc:\n",
    "        print(i)\n",
    "        continue\n",
    "    elif i not in doc:\n",
    "        print(i)\n",
    "        print('Some absent')\n",
    "        break\n",
    "    else:\n",
    "        print('All present')"
   ]
  },
  {
   "cell_type": "code",
   "execution_count": 75,
   "id": "310ad961-7897-42fe-a467-05aa4ea1fe0f",
   "metadata": {
    "tags": []
   },
   "outputs": [
    {
     "name": "stdout",
     "output_type": "stream",
     "text": [
      "['P', 'y', 't', 'h', 'o', 'n', ' ', 'i', 's', ' ', 'a', ' ', 'w', 'i', 'd', 'e', 'l', 'y', ' ', 'u', 's', 'e', 'd', ' ', 'h', 'i', 'g', 'h', ' ', 'l', 'e', 'v', 'e', 'l', ',', ' ', 'g', 'e', 'n', 'e', 'r', 'a', 'l', ' ', 'p', 'u', 'r', 'p', 'o', 's', 'e']\n",
      "['Python', 'is', 'a', 'widely', 'used', 'high', 'level,', 'general', 'purpose']\n"
     ]
    }
   ],
   "source": [
    "# to convert each CHARACTER of string into list item\n",
    "print(list(doc))\n",
    "\n",
    "# to convert each WORD of string into list item\n",
    "print(doc.split(' '))"
   ]
  },
  {
   "cell_type": "code",
   "execution_count": 78,
   "id": "57ae8622-e291-427e-9ab6-eae354d54e76",
   "metadata": {
    "tags": []
   },
   "outputs": [
    {
     "data": {
      "text/plain": [
       "'PYTHON IS A Widely used high level, general purpose'"
      ]
     },
     "execution_count": 78,
     "metadata": {},
     "output_type": "execute_result"
    }
   ],
   "source": [
    "# 47. Write a Python program to lowercase the first n characters in a string.\n",
    "doc = 'PytHon IS a Widely used high level, general purpose'\n",
    "n = 10\n",
    "\n",
    "doc1 = doc[:n+1].upper() + doc[n+1:]\n",
    "doc1"
   ]
  },
  {
   "cell_type": "code",
   "execution_count": 82,
   "id": "0cfc4cf2-5a7d-4390-b731-d78b557352bf",
   "metadata": {
    "tags": []
   },
   "outputs": [
    {
     "data": {
      "text/plain": [
       "{'a': 2,\n",
       " 'e': 7,\n",
       " 'i': 2,\n",
       " 'o': 2,\n",
       " 'u': 2,\n",
       " 'A': 0,\n",
       " 'E': 0,\n",
       " 'I': 1,\n",
       " 'O': 0,\n",
       " 'U': 0}"
      ]
     },
     "execution_count": 82,
     "metadata": {},
     "output_type": "execute_result"
    }
   ],
   "source": [
    "# 49. Write a Python program to count and display vowels in text.\n",
    "doc = 'PytHon IS a Widely used high level, general purpose'\n",
    "vow = 'aeiouAEIOU'\n",
    "\n",
    "dic = {}\n",
    "for i in vow:\n",
    "    dic.update({i:doc.count(i)})\n",
    "    \n",
    "dic"
   ]
  },
  {
   "cell_type": "code",
   "execution_count": 80,
   "id": "89a28c70-70c5-4204-960d-dec52bb212c8",
   "metadata": {
    "tags": []
   },
   "outputs": [
    {
     "name": "stdout",
     "output_type": "stream",
     "text": [
      "abcdefghijklmnopqrstuvwxyzABCDEFGHIJKLMNOPQRSTUVWXYZ\n",
      "abcdefghijklmnopqrstuvwxyz\n",
      "ABCDEFGHIJKLMNOPQRSTUVWXYZ\n",
      "0123456789\n",
      "0123456789abcdefABCDEF\n",
      " \t\n",
      "\u000b",
      "\f",
      "\n",
      "!\"#$%&'()*+,-./:;<=>?@[\\]^_`{|}~\n"
     ]
    }
   ],
   "source": [
    "import string\n",
    "\n",
    "# string module constants\n",
    "print(string.ascii_letters)\n",
    "print(string.ascii_lowercase)\n",
    "print(string.ascii_uppercase)\n",
    "print(string.digits)\n",
    "print(string.hexdigits)\n",
    "print(string.whitespace)  # ' \\t\\n\\r\\x0b\\x0c'\n",
    "print(string.punctuation)"
   ]
  },
  {
   "cell_type": "code",
   "execution_count": 81,
   "id": "db4cb001-bf54-4155-88f6-b9d8758cf589",
   "metadata": {
    "tags": []
   },
   "outputs": [
    {
     "data": {
      "text/plain": [
       "['Formatter',\n",
       " 'Template',\n",
       " '_ChainMap',\n",
       " '__all__',\n",
       " '__builtins__',\n",
       " '__cached__',\n",
       " '__doc__',\n",
       " '__file__',\n",
       " '__loader__',\n",
       " '__name__',\n",
       " '__package__',\n",
       " '__spec__',\n",
       " '_re',\n",
       " '_sentinel_dict',\n",
       " '_string',\n",
       " 'ascii_letters',\n",
       " 'ascii_lowercase',\n",
       " 'ascii_uppercase',\n",
       " 'capwords',\n",
       " 'digits',\n",
       " 'hexdigits',\n",
       " 'octdigits',\n",
       " 'printable',\n",
       " 'punctuation',\n",
       " 'whitespace']"
      ]
     },
     "execution_count": 81,
     "metadata": {},
     "output_type": "execute_result"
    }
   ],
   "source": [
    "dir(string)"
   ]
  },
  {
   "cell_type": "code",
   "execution_count": 91,
   "id": "f1d4b51f-9b7a-457c-ba30-3a3f97b8239d",
   "metadata": {
    "tags": []
   },
   "outputs": [
    {
     "name": "stdout",
     "output_type": "stream",
     "text": [
      "t\n"
     ]
    }
   ],
   "source": [
    "# 51. Write a Python program to find the first non-repeating character in a given string.\n",
    "doc = 'PyTHon X IS a Widely used high level, is general purpose, '\n",
    "doc = doc.lower()\n",
    "for index, i in enumerate(doc):\n",
    "    if i not in doc[index+1:]:\n",
    "        print(i)\n",
    "        break"
   ]
  },
  {
   "cell_type": "code",
   "execution_count": 93,
   "id": "1ea2af8d-5553-4dd0-89dc-97d3186e961c",
   "metadata": {
    "tags": []
   },
   "outputs": [
    {
     "name": "stdout",
     "output_type": "stream",
     "text": [
      "is\n"
     ]
    }
   ],
   "source": [
    "# 55.Write a Python program to find the first repeated word in a given string.\n",
    "doc = 'PyTHon X IS a Widely used high level, is general purpose, '\n",
    "doc1 = doc.lower().split()\n",
    "for i, word in enumerate(doc1):\n",
    "    if word in doc1[i+1:]:\n",
    "        print(word)\n",
    "        break"
   ]
  },
  {
   "cell_type": "code",
   "execution_count": 94,
   "id": "57a70275-cbcc-44de-8c16-708dc79e153f",
   "metadata": {
    "tags": []
   },
   "outputs": [
    {
     "name": "stdout",
     "output_type": "stream",
     "text": [
      "PyTHonXISaWidelyusedhighlevel,isgeneralpurpose,\n"
     ]
    }
   ],
   "source": [
    "# 57.Write a Python program to remove spaces from a given string.\n",
    "doc = 'PyTHon X IS a Widely used high level, is general purpose, '\n",
    "print(doc.replace(' ', ''))"
   ]
  },
  {
   "cell_type": "code",
   "execution_count": 95,
   "id": "bc994686-b982-4ede-b52d-1f958622b8f8",
   "metadata": {
    "tags": []
   },
   "outputs": [
    {
     "name": "stdout",
     "output_type": "stream",
     "text": [
      "24\n"
     ]
    }
   ],
   "source": [
    "# 59. Write a Python program to find the maximum number of characters in a given string.\n",
    "doc = 'PyTHon X IS a Widely used high level, is general purpose, '\n",
    "print(len(set(doc)))"
   ]
  },
  {
   "cell_type": "code",
   "execution_count": null,
   "id": "0644e2d7-d7f2-456b-9a2a-8e3aa0d50f4b",
   "metadata": {},
   "outputs": [],
   "source": []
  },
  {
   "cell_type": "code",
   "execution_count": null,
   "id": "b45819bf-8eb0-4ea7-b06b-cf76bcb29984",
   "metadata": {},
   "outputs": [],
   "source": []
  },
  {
   "cell_type": "code",
   "execution_count": null,
   "id": "7e8b82aa-aa4f-40bc-afae-c69a4afe0b85",
   "metadata": {},
   "outputs": [],
   "source": []
  },
  {
   "cell_type": "code",
   "execution_count": null,
   "id": "9e00e258-31e3-486e-b628-d7e267865dcc",
   "metadata": {},
   "outputs": [],
   "source": []
  },
  {
   "cell_type": "code",
   "execution_count": null,
   "id": "383e7b45-571d-4245-ba24-482f4bd3abac",
   "metadata": {},
   "outputs": [],
   "source": []
  },
  {
   "cell_type": "code",
   "execution_count": null,
   "id": "d79fa54e-1407-48b9-a81b-bb44fa7a19ea",
   "metadata": {},
   "outputs": [],
   "source": []
  }
 ],
 "metadata": {
  "kernelspec": {
   "display_name": "Python 3 (ipykernel)",
   "language": "python",
   "name": "python3"
  },
  "language_info": {
   "codemirror_mode": {
    "name": "ipython",
    "version": 3
   },
   "file_extension": ".py",
   "mimetype": "text/x-python",
   "name": "python",
   "nbconvert_exporter": "python",
   "pygments_lexer": "ipython3",
   "version": "3.11.4"
  }
 },
 "nbformat": 4,
 "nbformat_minor": 5
}

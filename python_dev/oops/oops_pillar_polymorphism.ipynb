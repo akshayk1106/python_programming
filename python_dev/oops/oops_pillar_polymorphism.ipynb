{
 "cells": [
  {
   "cell_type": "markdown",
   "id": "09a6dc57",
   "metadata": {},
   "source": [
    "# <mark> Polymorphism\n",
    "\n",
    "Polymorphism is that in which we can perform a task in multiple forms or ways. It is applied to the functions or methods. \n",
    "    \n",
    "`Many forms of an object. Polymorphism allows the object to decide which form of the function to implement at compile-time as well as run-time.`\n",
    "\n",
    "Types of Polymorphism are:\n",
    "    \n",
    "    1.Compile-time polymorphism (Method overloading)\n",
    "    2.Run-time polymorphism (Method Overriding)\n",
    "\n",
    "POLYMORPHISM -many forms of an object\n",
    "    \n",
    "    Use in - Loose coupling, Dependency injection, Interface\n",
    "\n",
    "##### Ways of implementing polymorphism -\n",
    "\n",
    "    1) `OVERLOADING` - \n",
    "\n",
    "        a)Operator Overloading - defining a method for existing operator\n",
    "\n",
    "        b)Method overloading - \n",
    "            \n",
    "            Usually not done in python\n",
    "            method name sholud be same but arguements different. Default arguement should be used. Method overloading means a class containing multiple methods with the same name but may have different arguments.\n",
    "\n",
    "    2) `OVERRIDING`: Method overriding - when subclass overrides a method of super class\n",
    "\n",
    "    3) `Duck Typing`\n",
    "        \n",
    "        related to dynamic typing, where class/type of an object is less imp than the method it defines.\n",
    "        iteration in python\n",
    "        ex. len('python'), len([1, 3, 6])\n",
    "        ex. for i in 'python':,   for i in [1, 2, 3]:"
   ]
  },
  {
   "cell_type": "markdown",
   "id": "8ae47007",
   "metadata": {},
   "source": [
    "#### <mark> Operator Overloading\n",
    "\n",
    "OPERATOR OVERLOADING-DEFINING A METHOD FOR EXISTING OPERATOR for operations on objects.\n",
    "Operator Overloading means GIVING EXTENDED MEANING BEYOND THEIR PREDEFINED OPERATIONAL MEANING.\n",
    "\n",
    "For example operator + is used to add two integers as well as join two strings and merge two lists. \n",
    "It is achievable because ‘+’ operator is overloaded by int class and str class. \n",
    "You might have noticed that the same built-in operator or function shows different behavior for objects of different classes, this is called Operator Overloading.\n",
    "\n",
    "How to overload the operators in Python? \n",
    "Consider that we have two objects which are a physical representation of a class (user-defined data type) \n",
    "and we have to add two objects with binary ‘+’ operator it throws an error, \n",
    "because compiler don’t know how to add two objects. \n",
    "So we define a method for a (+) operator and that process is called operator overloading. \n",
    "We can overload all existing operators but we can’t create a new operator.\n",
    "\n",
    "To perform operator overloading, Python provides some special function or magic function \n",
    "that is automatically invoked when it is associated with that particular operator. \n",
    "For example, when we use + operator, the magic method __add__ is automatically invoked \n",
    "in which the operation for + operator is defined."
   ]
  },
  {
   "cell_type": "markdown",
   "id": "4798db8b-cc4e-41e9-a2e6-d0bd4d389a27",
   "metadata": {},
   "source": [
    "    Operator\tMagic Method\n",
    "\n",
    "    +\t__add__(self, other)\n",
    "    –\t__sub__(self, other)\n",
    "    *\t__mul__(self, other)\n",
    "    /\t__truediv__(self, other)\n",
    "    //\t__floordiv__(self, other)\n",
    "    %\t__mod__(self, other)\n",
    "    **\t__pow__(self, other)\n",
    "    >>\t__rshift__(self, other)\n",
    "    <<\t__lshift__(self, other)\n",
    "    &\t__and__(self, other)\n",
    "    |\t__or__(self, other)\n",
    "    ^\t__xor__(self, other)\n",
    "    <\t__lt__(self, other)\n",
    "    >\t__gt__(self, other)\n",
    "    <=\t__le__(self, other)\n",
    "    >=\t__ge__(self, other)\n",
    "    ==\t__eq__(self, other)\n",
    "    !=\t__ne__(self, other)"
   ]
  },
  {
   "cell_type": "code",
   "execution_count": 20,
   "id": "2ac880f2-d30f-4583-84b2-a68da0a65d34",
   "metadata": {},
   "outputs": [
    {
     "name": "stdout",
     "output_type": "stream",
     "text": [
      "11\n",
      "11\n"
     ]
    }
   ],
   "source": [
    "a=5\n",
    "b=6\n",
    "print(a+b)\n",
    "print(int.__add__(a,b))"
   ]
  },
  {
   "cell_type": "code",
   "execution_count": 25,
   "id": "d7d84761",
   "metadata": {
    "tags": []
   },
   "outputs": [],
   "source": [
    "class student:\n",
    "    \n",
    "    def __init__(self,m1,m2):\n",
    "        self.m1=m1\n",
    "        self.m2=m2\n",
    "        \n",
    "    def __add__(self, other):\n",
    "        m1 = self.m1 + other.m1\n",
    "        m2 = self.m2 + other.m2\n",
    "        s3 = student(m1, m2)\n",
    "        print('Sum is', m1, m2)\n",
    "        return s3\n",
    "    \n",
    "    def __gt__(self, other):\n",
    "        r1=self.m1+self.m2\n",
    "        r2=other.m1+other.m2\n",
    "        if r1>r2:\n",
    "            True\n",
    "        else:\n",
    "            False\n",
    "            \n",
    "    def __str__(self):\n",
    "        return '{} {}'.format(self.m1, self.m2)"
   ]
  },
  {
   "cell_type": "code",
   "execution_count": 26,
   "id": "a9cf546e",
   "metadata": {},
   "outputs": [
    {
     "name": "stdout",
     "output_type": "stream",
     "text": [
      "Sum is 110 125\n",
      "110 125\n",
      "s2 wins\n",
      "9\n",
      "50 60\n",
      "60 65\n"
     ]
    }
   ],
   "source": [
    "s1=student(50, 60)\n",
    "s2=student(60, 65)\n",
    "\n",
    "#s3=s1+s2 ---> This gives an error if def _add_ is absent\n",
    "s3=s1+s2\n",
    "print(s3.m1,s3.m2)\n",
    "\n",
    "if s1>s2:\n",
    "    print(\"s1 wins\")\n",
    "else:\n",
    "    print(\"s2 wins\") \n",
    "\n",
    "\n",
    "a=9\n",
    "print(a.__str__())\n",
    "#print(s1.__str__()) or\n",
    "print(s1)\n",
    "print(s2)"
   ]
  },
  {
   "cell_type": "markdown",
   "id": "3e9e1030",
   "metadata": {},
   "source": [
    "#### <mark> Method overloading\n",
    "    \n",
    "Method overloading: With one method, but calling the same in three different ways and on the basis of arguements.\n",
    "    \n",
    "`Method Overloading is the class having methods that are with the same name but with different arguments. Arguments different will be based on a number of arguments and types of arguments.`\n",
    "    \n",
    "It is used in a single class. It is also used to write the code clarity as well as reduce complexity.\n",
    "    \n",
    "`We cannot perform method overloading in the Python programming language as everything is considered an object in Python.`"
   ]
  },
  {
   "cell_type": "code",
   "execution_count": 38,
   "id": "387f8fd3-868e-4b35-ae35-82f71b20ebdb",
   "metadata": {},
   "outputs": [
    {
     "name": "stdout",
     "output_type": "stream",
     "text": [
      "35\n",
      "Hi folks\n"
     ]
    }
   ],
   "source": [
    "def add(datatype, *args):\n",
    "\n",
    "    if datatype =='int':\n",
    "        answer = 0\n",
    "           \n",
    "    if datatype =='str':\n",
    "        answer =''\n",
    "   \n",
    "    for x in args:\n",
    "        answer = answer + x\n",
    "    #addition if args are int and concatenation if args are strings\n",
    "   \n",
    "    print(answer)\n",
    "    \n",
    "# Integer\n",
    "add('int', 5, 6, 7, 8, 9)\n",
    "   \n",
    "# String\n",
    "add('str', 'Hi ', 'folks')"
   ]
  },
  {
   "cell_type": "code",
   "execution_count": 28,
   "id": "0efd53ff",
   "metadata": {},
   "outputs": [],
   "source": [
    "class sample:\n",
    "    def show(self,a=None,b=None):\n",
    "        print(a,b)\n",
    "        \n",
    "obj=sample()"
   ]
  },
  {
   "cell_type": "code",
   "execution_count": 29,
   "id": "4b47cad7",
   "metadata": {},
   "outputs": [
    {
     "name": "stdout",
     "output_type": "stream",
     "text": [
      "None None\n"
     ]
    }
   ],
   "source": [
    "obj.show()"
   ]
  },
  {
   "cell_type": "code",
   "execution_count": 30,
   "id": "b3e88e14",
   "metadata": {},
   "outputs": [
    {
     "name": "stdout",
     "output_type": "stream",
     "text": [
      "10 None\n"
     ]
    }
   ],
   "source": [
    "obj.show(10)"
   ]
  },
  {
   "cell_type": "code",
   "execution_count": 31,
   "id": "c7c1337d",
   "metadata": {},
   "outputs": [
    {
     "name": "stdout",
     "output_type": "stream",
     "text": [
      "10 20\n"
     ]
    }
   ],
   "source": [
    "obj.show(10,20)"
   ]
  },
  {
   "cell_type": "code",
   "execution_count": null,
   "id": "bfc9abad-fb3b-467a-8a59-d3a9ec1483bc",
   "metadata": {},
   "outputs": [],
   "source": []
  },
  {
   "cell_type": "markdown",
   "id": "14416482",
   "metadata": {},
   "source": [
    "#### <mark> Method overriding\n",
    "    \n",
    "Method overriding is an ability of any object-oriented programming language `that allows a subclass to provide a specific implementation of a method that is already provided by one of its super-classes or parent classes.`\n",
    "    \n",
    "Method overriding is an example of run time polymorphism. In this, the specific implementation of the method that is already provided by the parent class is provided by the child class. It is used to change the behavior of existing methods and there is a need for at least two classes for method overriding. In method overriding, inheritance always required as it is done between parent class(superclass) and child class(child class) methods."
   ]
  },
  {
   "cell_type": "code",
   "execution_count": 32,
   "id": "2e46bd01",
   "metadata": {},
   "outputs": [
    {
     "name": "stdout",
     "output_type": "stream",
     "text": [
      "in B show\n"
     ]
    }
   ],
   "source": [
    "class A:\n",
    "    def show(self):\n",
    "        print(\"in A show\")\n",
    "        \n",
    "class B(A):\n",
    "    def show(self):\n",
    "        print(\"in B show\")\n",
    "a1=B()\n",
    "a1.show()"
   ]
  },
  {
   "cell_type": "code",
   "execution_count": 34,
   "id": "4c5391c5",
   "metadata": {},
   "outputs": [
    {
     "name": "stdout",
     "output_type": "stream",
     "text": [
      "in A show\n"
     ]
    }
   ],
   "source": [
    "# Use of super_ if you want to use method of superclass and not child class\n",
    "class A:\n",
    "    def show(self):\n",
    "        print(\"in A show\")\n",
    "        \n",
    "class B(A):\n",
    "    def super_show(self):\n",
    "        print(\"in B show\")\n",
    "a1=B()\n",
    "a1.show()"
   ]
  },
  {
   "cell_type": "code",
   "execution_count": null,
   "id": "ba3ed8b7-9e37-4125-8200-314085e6b3ce",
   "metadata": {},
   "outputs": [],
   "source": []
  },
  {
   "cell_type": "markdown",
   "id": "c8d5cc60-e509-4e65-88b3-a933037ba53d",
   "metadata": {},
   "source": [
    "#### <mark> Duck Typing\n",
    "    \n",
    "`Duck typing is a concept related to dynamic typing, where the type or the class of an object is less important than the methods it defines.`\n",
    "    \n",
    "When you use duck typing, you do not check datatypes at all. Instead, you check for the presence of a given method or attribute.\n",
    "    \n",
    "Duck-typing emphasis what the object can really do (if it has a particular method), rather than what the object is (its type).\n",
    "\n",
    "The main reason for using duck typing is to provide support for dynamic typing in Python programming. In Python, we don't need to specify the variable's data type and we can reassign the different data type values to same variable in further code.\n",
    "    \n",
    "Duck typing gives more importance to the methods(behavior) defined inside the object, rather than the object itself. If the objects have the required methods, the object is allowed to pass.\n",
    "    \n",
    "One of the most used examples of duck typing is an iteration in python. Loops can be used on lists, numpy arrays, generator functions, Tensorflow/PyTorch data loaders, etc. No matter how different these objects are in terms of application, they are treated equally because of duck typing.\n",
    "For iteration the class must have __iter__() and __next__() functions which makes it eligible for iterating. Python does not strongly type check these classes making it more and more flexible.\n",
    "    \n",
    "    for i in 'cosmos':\n",
    "    for i in [4, 94, 5]:\n",
    "    for i in {8, 2, 3}:\n",
    "    \n",
    "concept can be applied to len() which duck checks if the object has __len__() method defined inside it rather than checking the type of that object itself.\n",
    "    \n",
    "    len([1, 4, 7])\n",
    "    len('cosmos')"
   ]
  },
  {
   "cell_type": "code",
   "execution_count": 39,
   "id": "49b92c3c-6733-4a78-afae-4703d5464cb7",
   "metadata": {},
   "outputs": [
    {
     "name": "stdout",
     "output_type": "stream",
     "text": [
      "<class 'int'>\n",
      "<class 'str'>\n",
      "<class 'list'>\n"
     ]
    }
   ],
   "source": [
    "x = 12000  \n",
    "print(type(x))  \n",
    "  \n",
    "x = 'Dynamic Typing'  \n",
    "print(type(x))  \n",
    "  \n",
    "x = [1, 2, 3, 4]  \n",
    "print(type(x))  "
   ]
  },
  {
   "cell_type": "code",
   "execution_count": 35,
   "id": "c762e43d",
   "metadata": {
    "tags": []
   },
   "outputs": [
    {
     "name": "stdout",
     "output_type": "stream",
     "text": [
      "Spell check\n",
      "Convention Check\n"
     ]
    }
   ],
   "source": [
    "class PyCharm:\n",
    "    def ducking(self):\n",
    "        print(\"Compiling\")\n",
    "        print(\"Running\")\n",
    "\n",
    "class MyEditor:\n",
    "    def ducking(self):\n",
    "        print(\"Spell check\")\n",
    "        print(\"Convention Check\")\n",
    "\n",
    "class Laptop:\n",
    "    def code(self, other):\n",
    "        other.ducking()\n",
    "        \n",
    "ide=MyEditor()\n",
    "lap1=Laptop()\n",
    "lap1.code(ide)"
   ]
  },
  {
   "cell_type": "markdown",
   "id": "4d168b14-221a-4966-8c40-d7f44227b38e",
   "metadata": {},
   "source": []
  }
 ],
 "metadata": {
  "kernelspec": {
   "display_name": "Python 3 (ipykernel)",
   "language": "python",
   "name": "python3"
  },
  "language_info": {
   "codemirror_mode": {
    "name": "ipython",
    "version": 3
   },
   "file_extension": ".py",
   "mimetype": "text/x-python",
   "name": "python",
   "nbconvert_exporter": "python",
   "pygments_lexer": "ipython3",
   "version": "3.9.13"
  }
 },
 "nbformat": 4,
 "nbformat_minor": 5
}

{
 "cells": [
  {
   "cell_type": "markdown",
   "id": "14863308-6e97-4afe-8566-22a40a71f9a6",
   "metadata": {},
   "source": [
    "Abstraction and Encapsulation both are basic object oriented programming (OOP) concepts which allow you to implement real-world objects into programs and codes. While both go hand in hand, they are very different from each other. While every method is an encapsulation, it’s also an abstraction. In simple terms, when you put different things together to create an entity, you actually create a concept – an abstract. While both are technically inseparable, they have got literally nothing in common. It’s almost true that every encapsulation is an abstraction because they both hide something, however, they have their fair share of differences.\n",
    "\n",
    "ENCAPSULATION:\n",
    "    \n",
    "    class naming:\n",
    "        def __init__(self, name):\n",
    "            self.__current = 0\n",
    "            self.__name = name\n",
    "        \n",
    "ABSTRACTIONS\n",
    "    \n",
    "    from abc import ABC, abstractmethod\n",
    "    class computer(ABC):\n",
    "        @abstractmethod\n",
    "        def mouse(self):\n",
    "            pass\n",
    "    class(computer):\n",
    "        pass"
   ]
  },
  {
   "cell_type": "markdown",
   "id": "a2295b71-bc2e-4a47-b565-f9d64778bc62",
   "metadata": {
    "tags": []
   },
   "source": [
    "### <mark> Encapsulation - Wrapping of data into single component\n",
    "    \n",
    "Encapsulation is yet another OOP concept which binds data and functions into a single component while restricting access to some components. It’s one of the main fundamental concepts of OOP which wraps data and information under a single unit. In technical terms, encapsulation means hiding attributes to shield variables from outside access so that change in one part of an application won’t affect the other parts. On the contrary, by making the information more open you’ll risk misuse of data. It provides basic integrity to the data by protecting it from the outside world. In simple terms, it hides the extra details from the outside world.\n",
    "    \n",
    "-combining attributes and methods in a single place\n",
    "\n",
    "-we do wrapping in capsule **BY RESTRICTING THE SCOPE**\n",
    "\n",
    "-public(default) & private(_ _)\n",
    "\n",
    "-We can hide the internal state of the object from the outside. This is known as **INFORMATION HIDING.**\n",
    "\n",
    "-A class is an example of encapsulation. A class bundles data and methods into a single unit. And a class provides the access to its attributes via methods.\n",
    "\n",
    "-The idea of information hiding is that if you have an attribute that isn’t visible to outside, you **CAN CONTROL THE ACCESS TO ITS VALUE TO MAKE SURE YOUR OBJECT HAS A VALID STATE.**\n",
    "\n",
    "-**PRIVATE ATTRIBUTE/VARIABLE** can be **only accessible from the methods of the class**. In other words, they cannot be accessible from outside of the class."
   ]
  },
  {
   "cell_type": "code",
   "execution_count": 7,
   "id": "eb58ea5e-df99-439a-bd5f-92faaf4a0aca",
   "metadata": {},
   "outputs": [
    {
     "name": "stdout",
     "output_type": "stream",
     "text": [
      "['__class__', '__delattr__', '__dict__', '__dir__', '__doc__', '__eq__', '__format__', '__ge__', '__getattribute__', '__gt__', '__hash__', '__init__', '__init_subclass__', '__le__', '__lt__', '__module__', '__ne__', '__new__', '__reduce__', '__reduce_ex__', '__repr__', '__setattr__', '__sizeof__', '__str__', '__subclasshook__', '__weakref__', 'count', 'type']\n"
     ]
    }
   ],
   "source": [
    "class A:\n",
    "    \"\"\"Documentation of class\"\"\"\n",
    "    count = 100\n",
    "    def type():\n",
    "        return None\n",
    "\n",
    "obj=A()\n",
    "print(dir(obj)) #BuiltIn private attributes of a class"
   ]
  },
  {
   "cell_type": "code",
   "execution_count": 8,
   "id": "68dfe400-1d6b-49cb-a122-2562d49702e8",
   "metadata": {},
   "outputs": [
    {
     "data": {
      "text/plain": [
       "'<__main__.A object at 0x000001B771FD6D00>'"
      ]
     },
     "execution_count": 8,
     "metadata": {},
     "output_type": "execute_result"
    }
   ],
   "source": [
    "repr(obj)"
   ]
  },
  {
   "cell_type": "code",
   "execution_count": 9,
   "id": "344d3159-ab3b-429e-bb9d-2cb4b7b7a647",
   "metadata": {},
   "outputs": [
    {
     "data": {
      "text/plain": [
       "'Documentation of class'"
      ]
     },
     "execution_count": 9,
     "metadata": {},
     "output_type": "execute_result"
    }
   ],
   "source": [
    "obj.__doc__"
   ]
  },
  {
   "cell_type": "code",
   "execution_count": 10,
   "id": "869e9b3c-0ce5-40d9-822c-556a4b71fd9d",
   "metadata": {},
   "outputs": [
    {
     "data": {
      "text/plain": [
       "2"
      ]
     },
     "execution_count": 10,
     "metadata": {},
     "output_type": "execute_result"
    }
   ],
   "source": [
    "class Counter:\n",
    "    def __init__(self):\n",
    "        self.current = 0\n",
    "\n",
    "    def increament(self):\n",
    "        self.current += 1\n",
    "\n",
    "    def value(self):\n",
    "        return self.current\n",
    "\n",
    "    def reset(self):\n",
    "        self.current = 0\n",
    "\n",
    "obj=Counter()\n",
    "obj.increament()\n",
    "obj.increament()\n",
    "obj.value()"
   ]
  },
  {
   "cell_type": "code",
   "execution_count": 11,
   "id": "eae84da1-5cfb-4309-84c6-b9426740ef5b",
   "metadata": {},
   "outputs": [
    {
     "data": {
      "text/plain": [
       "1000"
      ]
     },
     "execution_count": 11,
     "metadata": {},
     "output_type": "execute_result"
    }
   ],
   "source": [
    "#Value of attribute can be changed from outside of the class\n",
    "obj.current=999\n",
    "obj.increament()\n",
    "obj.value()"
   ]
  },
  {
   "cell_type": "code",
   "execution_count": 7,
   "id": "e78a8099-4c7e-42d5-b99c-e26a11357368",
   "metadata": {},
   "outputs": [
    {
     "name": "stdout",
     "output_type": "stream",
     "text": [
      "private vaiable can not be accessed from outside the class\n",
      "500\n"
     ]
    }
   ],
   "source": [
    "class Counter:\n",
    "    def __init__(self, name):\n",
    "        self.__current = 20\n",
    "        self.__name = name\n",
    "        self.end = 500\n",
    "\n",
    "    def increament(self):\n",
    "        self.__current += 1\n",
    "\n",
    "    def value(self):\n",
    "        return self.__current\n",
    "\n",
    "    def reset(self):\n",
    "        self.__current = 0\n",
    "\n",
    "obj=Counter('clock')\n",
    "# obj.increament()\n",
    "# obj.increament()\n",
    "# obj.value()\n",
    "\n",
    "# below line shall throw an error that obj has no attribute __name\n",
    "try:\n",
    "    print(obj.__name)\n",
    "except:\n",
    "    print('private vaiable can not be accessed from outside the class')\n",
    "    \n",
    "try:\n",
    "    print(obj.end)\n",
    "except:\n",
    "    print('private vaiable can not be accessed from outside the class')"
   ]
  },
  {
   "cell_type": "code",
   "execution_count": 15,
   "id": "80faca24-0626-488d-9b74-8e917e96b2a2",
   "metadata": {},
   "outputs": [
    {
     "data": {
      "text/plain": [
       "2"
      ]
     },
     "execution_count": 15,
     "metadata": {},
     "output_type": "execute_result"
    }
   ],
   "source": [
    "# Private attribute so cannot be changed from outside the class\n",
    "obj.__current=99\n",
    "obj.value() #No change in value"
   ]
  },
  {
   "cell_type": "markdown",
   "id": "15deb10a",
   "metadata": {},
   "source": [
    "### <mark> Abstraction: (Hide implementation details and show essential details)\n",
    "\n",
    "Abstraction is a basic OOP concept which focuses on just the relevant data of an object and hides all the irrelevant details which may or may not be for generic or specialized behavior. It hides the background details and emphasizes on the essential points to reduce complexity and increase efficiency. Basically, abstraction is a programming tool to manage complexity. Abstraction focuses on ideas rather than events. It hides the details on the design level by providing functionality to the users. The resulting object can also be called an abstraction. The programmer makes sure the named entity will have all the essential aspects included and none of the irrelevant ones.\n",
    "    \n",
    "-Abstract Class - A class which has abstract method.\n",
    "\n",
    "-Abstract Method - A method which has declaration and not definition/implementation\n",
    "\n",
    "-Concrete class - A class which does not have any abstract method.\n",
    "\n",
    "-Object cant instantiate or access the abstract class.\n",
    "\n",
    "-Need to import from module abc (abstract base class)."
   ]
  },
  {
   "cell_type": "code",
   "execution_count": 11,
   "id": "0f38c067",
   "metadata": {},
   "outputs": [
    {
     "name": "stdout",
     "output_type": "stream",
     "text": [
      "ERROR: Cant instantiate abstract class Physics_class with abstract methods light\n",
      "Physics_class just got initiated\n",
      "xyz light is working\n"
     ]
    }
   ],
   "source": [
    "from abc import ABC, abstractmethod\n",
    "\n",
    "class Physics_class(ABC): #Abstract class because it has special abstract method\n",
    "    \n",
    "    def __init__(self):\n",
    "        print('Physics_class just got initiated')\n",
    "    \n",
    "    # this abstract method can not be accessed/modified from children class\n",
    "    @abstractmethod\n",
    "    def light(self):\n",
    "        print(\"light method\")\n",
    "        \n",
    "    def sound(self):\n",
    "        print(\"sound method\")\n",
    "        \n",
    "try:\n",
    "    obj=Physics_class()\n",
    "except:\n",
    "    print('ERROR: Cant instantiate abstract class Physics_class with abstract methods light')\n",
    "\n",
    "class xyz(Physics_class): # Concrete class\n",
    "    def light(self):\n",
    "        print(\"xyz light is working\")\n",
    "        # super().light() #can be used\n",
    "    \n",
    "x=xyz()\n",
    "x.light()"
   ]
  },
  {
   "cell_type": "code",
   "execution_count": 6,
   "id": "8a66cdc1",
   "metadata": {},
   "outputs": [
    {
     "ename": "TypeError",
     "evalue": "Can't instantiate abstract class Physics_class with abstract method light",
     "output_type": "error",
     "traceback": [
      "\u001b[1;31m---------------------------------------------------------------------------\u001b[0m",
      "\u001b[1;31mTypeError\u001b[0m                                 Traceback (most recent call last)",
      "\u001b[1;32m~\\AppData\\Local\\Temp\\ipykernel_1256\\1251338863.py\u001b[0m in \u001b[0;36m<module>\u001b[1;34m\u001b[0m\n\u001b[1;32m----> 1\u001b[1;33m \u001b[0mpc\u001b[0m \u001b[1;33m=\u001b[0m \u001b[0mPhysics_class\u001b[0m\u001b[1;33m(\u001b[0m\u001b[1;33m)\u001b[0m\u001b[1;33m\u001b[0m\u001b[1;33m\u001b[0m\u001b[0m\n\u001b[0m",
      "\u001b[1;31mTypeError\u001b[0m: Can't instantiate abstract class Physics_class with abstract method light"
     ]
    }
   ],
   "source": [
    "pc = Physics_class()"
   ]
  },
  {
   "cell_type": "code",
   "execution_count": null,
   "id": "211033eb",
   "metadata": {},
   "outputs": [],
   "source": []
  }
 ],
 "metadata": {
  "kernelspec": {
   "display_name": "Python 3 (ipykernel)",
   "language": "python",
   "name": "python3"
  },
  "language_info": {
   "codemirror_mode": {
    "name": "ipython",
    "version": 3
   },
   "file_extension": ".py",
   "mimetype": "text/x-python",
   "name": "python",
   "nbconvert_exporter": "python",
   "pygments_lexer": "ipython3",
   "version": "3.9.13"
  }
 },
 "nbformat": 4,
 "nbformat_minor": 5
}

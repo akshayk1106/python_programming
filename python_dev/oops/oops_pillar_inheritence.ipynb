{
 "cells": [
  {
   "cell_type": "markdown",
   "id": "ced5cad2",
   "metadata": {},
   "source": [
    "# <mark> Inheritance\n",
    "Inheritance is the capability of one class to derive or inherit the properties(attributes and methods) from another class. \n",
    "\n",
    "Parent class/Base class/Existing class/Super class\n",
    "\n",
    "Child class/Derived class/New class/Sub class\n",
    "\n",
    "The benefits of inheritance are:\n",
    "    \n",
    "    -It represents real-world relationships well.\n",
    "    -It provides REUSABILITY of a code. We don’t have to write the same code again and again. Also, it allows us to add more features to a class without modifying it.\n",
    "    -It is TRANSITIVE in nature, which means that if class B inherits from another class A, then all the subclasses of B would automatically inherit from class A.\n",
    "    \n",
    "-Order of parent and child class does not matter\n",
    "\n",
    "-use isinstance method to check whether there is any relation between the object and that class\n",
    "\n",
    "-The __ init __ () function is called every time a class is being used to make an object. The child’s class __ init __ () function overrides the parent class’s __ init__ () function.\n"
   ]
  },
  {
   "cell_type": "markdown",
   "id": "c0107fe4",
   "metadata": {},
   "source": [
    "### <mark> Types of Inheritance:\n",
    "    \n",
    "    1.Single: B(A)\n",
    "    2.Multiple: B(A, C)\n",
    "    3.Multilevel: B(A), C(D)\n",
    "    4.Hierarchial: B(A), C(A)\n",
    "    5.Hybrid"
   ]
  },
  {
   "cell_type": "markdown",
   "id": "73696581",
   "metadata": {},
   "source": [
    "#### Single Inheritanc"
   ]
  },
  {
   "cell_type": "code",
   "execution_count": 1,
   "id": "063b3743",
   "metadata": {
    "tags": []
   },
   "outputs": [
    {
     "name": "stdout",
     "output_type": "stream",
     "text": [
      "F4 is working\n",
      "F2 is working\n"
     ]
    }
   ],
   "source": [
    "class A:\n",
    "    def feature1(self):\n",
    "        print(\"F1 is working\")\n",
    "    def feature2(self):\n",
    "        print(\"F2 is working\")\n",
    "\n",
    "class B(A):\n",
    "    def feature3(self):\n",
    "        print(\"F3 is working\")\n",
    "    def feature4(self):\n",
    "        print(\"F4 is working\")\n",
    "\n",
    "obj=A()\n",
    "obj1=B()\n",
    "\n",
    "obj1.feature4()\n",
    "obj1.feature2()"
   ]
  },
  {
   "cell_type": "code",
   "execution_count": 17,
   "id": "90ef8689",
   "metadata": {},
   "outputs": [
    {
     "data": {
      "text/plain": [
       "True"
      ]
     },
     "execution_count": 17,
     "metadata": {},
     "output_type": "execute_result"
    }
   ],
   "source": [
    "isinstance(obj,A)"
   ]
  },
  {
   "cell_type": "code",
   "execution_count": 18,
   "id": "b6200ff6",
   "metadata": {},
   "outputs": [
    {
     "data": {
      "text/plain": [
       "False"
      ]
     },
     "execution_count": 18,
     "metadata": {},
     "output_type": "execute_result"
    }
   ],
   "source": [
    "isinstance(obj,B)"
   ]
  },
  {
   "cell_type": "markdown",
   "id": "7543d06b",
   "metadata": {},
   "source": [
    "#### Multilevel Inheritance - B(A), C(B)\n",
    "-In multilevel inheritance, the transfer of the properties of characteristics is done to more than one class hierarchically. To get a better visualization we can consider it as an ancestor to grandchildren relation or a root to leaf in a tree with more than one level."
   ]
  },
  {
   "cell_type": "code",
   "execution_count": 2,
   "id": "fd9e948a",
   "metadata": {},
   "outputs": [
    {
     "name": "stdout",
     "output_type": "stream",
     "text": [
      "this is function 1\n",
      "this is function 2\n",
      "this is function 3\n"
     ]
    }
   ],
   "source": [
    "#When a child class becomes a parent class for another child class.\n",
    "\n",
    "class Parent:\n",
    "    def func1(self):\n",
    "        print(\"this is function 1\")\n",
    "        \n",
    "class Child(Parent):\n",
    "    def func2(self):\n",
    "        print(\"this is function 2\")\n",
    "        \n",
    "class GrandChild2(Child):\n",
    "    def func3(self):\n",
    "        print(\"this is function 3\")\n",
    "        \n",
    "ob = GrandChild2()\n",
    "ob.func1()\n",
    "ob.func2()\n",
    "ob.func3()"
   ]
  },
  {
   "cell_type": "markdown",
   "id": "7c2c8662",
   "metadata": {},
   "source": [
    "#### Muliple Inheritance - C(A,B)\n",
    "-This inheritance enables a child class to inherit from more than one parent class. This type of inheritance is not supported by java classes, but python does support this kind of inheritance. It has a massive advantage if we have a requirement of gathering multiple characteristics from different classes."
   ]
  },
  {
   "cell_type": "code",
   "execution_count": 22,
   "id": "6537415c",
   "metadata": {},
   "outputs": [
    {
     "name": "stdout",
     "output_type": "stream",
     "text": [
      "this is function 1\n",
      "this is function 2\n",
      "this is function 3\n"
     ]
    }
   ],
   "source": [
    "class Parent:\n",
    "    def func1(self):\n",
    "        print(\"this is function 1\")\n",
    "class Parent2:\n",
    "    def func2(self):\n",
    "        print(\"this is function 2\")\n",
    "class Child(Parent , Parent2):\n",
    "    def func3(self):\n",
    "        print(\"this is function 3\")\n",
    "\n",
    "ob = Child()\n",
    "ob.func1()\n",
    "ob.func2()\n",
    "ob.func3()"
   ]
  },
  {
   "cell_type": "markdown",
   "id": "98a09d48",
   "metadata": {},
   "source": [
    "#### Hierarchial Inheritance - B(A) and C(A)\n",
    "-Hierarchical inheritance involves multiple inheritance from the same base or parent class."
   ]
  },
  {
   "cell_type": "code",
   "execution_count": 3,
   "id": "1a0dbccd",
   "metadata": {},
   "outputs": [
    {
     "name": "stdout",
     "output_type": "stream",
     "text": [
      "this is function 1\n",
      "this is function 2\n"
     ]
    }
   ],
   "source": [
    "class Parent:\n",
    "      def func1(self):\n",
    "            print(\"this is function 1\")\n",
    "            \n",
    "class Child1(Parent):\n",
    "      def func2(self):\n",
    "            print(\"this is function 2\")\n",
    "class Child2(Parent):\n",
    "      def func3(self):\n",
    "            print(\"this is function 3\")\n",
    "\n",
    "ob = Child1()\n",
    "ob1 = Child2()\n",
    "ob.func1()\n",
    "ob.func2()"
   ]
  },
  {
   "cell_type": "markdown",
   "id": "c45650a0",
   "metadata": {},
   "source": [
    "#### Hybrid Inheritance\n",
    "-Hybrid Inheritance is the combinations of simple, multiple, multilevel and hierarchical inheritance. This type of inheritance is very helpful if we want to use concepts of inheritance without any limitations according to our requirements."
   ]
  },
  {
   "cell_type": "code",
   "execution_count": null,
   "id": "e7d7b6c9",
   "metadata": {},
   "outputs": [],
   "source": [
    "E(A),A(X,Y)\n",
    "E(B,Z),B(Y,Z)"
   ]
  },
  {
   "cell_type": "markdown",
   "id": "9a04eb96",
   "metadata": {},
   "source": [
    "### <mark> Methods Resolution Order(MRO)\n",
    "\n",
    "-Every class in python is ultimately inherited from the Object class in the backend\n",
    "\n",
    "-MRO is a concept used in inheritance. `It is the order in which a method is searched for in a classes hierarchy during inheretence` and is especially useful in Python because Python supports multiple inheritance method being called from a child object may exist in multiple super classes.\n",
    "\n",
    "In Python, the MRO is `from bottom to top and left to right.` This means that, first, the method is searched in the class of the object. If it’s not found, it is searched in the immediate super class. In the case of multiple super classes, it is searched left to right, in the order by which was declared by the developer."
   ]
  },
  {
   "cell_type": "markdown",
   "id": "f3b85da3-e8d9-4983-bf8f-2e65a614d2c5",
   "metadata": {},
   "source": [
    "Old and New Style Order :\n",
    "In the older version of Python(2.1) we are bound to use old-style classes but in Python(3.x & 2.2) we are bound to use only new classes. New style classes are the ones whose first parent inherits from Python root ‘object’ class.\n",
    "\n",
    "Method resolution order(MRO) in both the declaration style is different. Old style classes use DLR or depth-first left to right algorithm whereas `new style classes use C3 Linearization algorithm for method resolution while doing multiple inheritances.`\n",
    "\n",
    "C3 Linearization algorithm is an algorithm that uses new-style classes. It is used to remove an inconsistency created by DLR Algorithm. It has certain limitation they are:\n",
    "\n",
    "    •Children precede their parents\n",
    "    •If a class inherits from multiple classes, they are kept in the order specified in the tuple of the base class.\n",
    "\n",
    "C3 Linearization Algorithm works on three rules:\n",
    "    \n",
    "    •Inheritance graph determines the structure of method resolution order.\n",
    "    •User have to visit the super class only after the method of the local classes are visited.\n",
    "    •Monotonicity"
   ]
  },
  {
   "cell_type": "code",
   "execution_count": 13,
   "id": "d627797f",
   "metadata": {
    "tags": []
   },
   "outputs": [
    {
     "data": {
      "text/plain": [
       "[__main__.E,\n",
       " __main__.A,\n",
       " __main__.X,\n",
       " __main__.B,\n",
       " __main__.Y,\n",
       " __main__.Z,\n",
       " object]"
      ]
     },
     "execution_count": 13,
     "metadata": {},
     "output_type": "execute_result"
    }
   ],
   "source": [
    "class X:\n",
    "    pass\n",
    "class Y:\n",
    "    pass\n",
    "class Z:\n",
    "    pass\n",
    "class A(X, Y):\n",
    "    pass\n",
    "class B(Y,Z):\n",
    "    pass\n",
    "class E(A,B,Z):\n",
    "    pass\n",
    "\n",
    "\"\"\"\n",
    "X      Y      Z\n",
    "A(X, Y)   B(Y, Z)\n",
    "    E(A, B, Z)\n",
    "\"\"\"\n",
    "E.mro() #or print(E.__mro__)"
   ]
  },
  {
   "cell_type": "code",
   "execution_count": 9,
   "id": "f910ea8e",
   "metadata": {},
   "outputs": [
    {
     "name": "stdout",
     "output_type": "stream",
     "text": [
      "init of B\n"
     ]
    }
   ],
   "source": [
    "class A:\n",
    "    def __init__(self):\n",
    "        print(\"init of A\")\n",
    "    def feature1(self):\n",
    "        print(\"Feature of A\")\n",
    "        \n",
    "class B(A):\n",
    "    def __init__(self):\n",
    "        print(\"init of B\")\n",
    "    def feature2(self):\n",
    "        print(\"Feature of B\")\n",
    "        \n",
    "b=B()"
   ]
  },
  {
   "cell_type": "markdown",
   "id": "698813cf",
   "metadata": {},
   "source": [
    "### <mark> super\n",
    "\n",
    "    In an inherited subclass, a parent class can be referred to with the use of the super() function. \n",
    "    \n",
    "    `The super function returns a temporary object of the superclass that allows access to all of its methods to its child class.`\n",
    "\n",
    "    Need not remember or specify the parent class name to access its methods. \n",
    "    \n",
    "    This function can be used both in single and multiple inheritances.\n",
    "    \n",
    "    This implements modularity (isolating changes) and code reusability as there is no need to rewrite the entire function.\n",
    "    \n",
    "    Super function in Python is called dynamically because Python is a dynamic language unlike other languages.\n",
    "\n",
    "    The arguments of the super function and the called function should match.\n",
    "    \n",
    "    `Every occurrence of the method must include super() after you use it.`\n",
    "\n",
    "super(). __ init __ ()"
   ]
  },
  {
   "cell_type": "code",
   "execution_count": 19,
   "id": "a373a817",
   "metadata": {},
   "outputs": [
    {
     "name": "stdout",
     "output_type": "stream",
     "text": [
      "in A init\n",
      "in A init\n",
      "in B init\n",
      "<bound method B.feature3 of <__main__.B object at 0x000002FBAC47F880>>\n"
     ]
    }
   ],
   "source": [
    "class A:\n",
    "    class_var_A = 5000\n",
    "    def __init__(self, name, age):\n",
    "        self.name = name\n",
    "        self.age = age\n",
    "        print(\"in A init\")\n",
    "    def feature1(self):\n",
    "        print(\"Feature 1-A working\")\n",
    "    def feature2(self):\n",
    "        print(\"Feature 2-A working\")\n",
    "\n",
    "class B(A): \n",
    "    def __init__(self, name, age):\n",
    "        super().__init__(name, age)  # If you want to call init of superclass as well # here super() refers to class A\n",
    "        print(\"in B init\")\n",
    "    def feature3(self):\n",
    "        print(\"Feature 3 working\", self.age)\n",
    "\n",
    "# # below gives TypeError: __init__() missing 2 required positional arguments: 'name' and 'age'\n",
    "# b = B('Typist')\n",
    "# print(b.feature3)\n",
    "\n",
    "# # TypeError: __init__() takes 2 positional arguments but 4 were given\n",
    "# b = B('Mike', 45, 'Typist')\n",
    "# print(b.feature3)\n",
    "\n",
    "a = A('John', 56)\n",
    "b = B('Mike', 500)\n",
    "print(b.feature3)"
   ]
  },
  {
   "cell_type": "code",
   "execution_count": 20,
   "id": "0884ce8d-f7e2-43bf-acd1-b46896915caa",
   "metadata": {},
   "outputs": [],
   "source": [
    "class Animals:\n",
    "    # Initializing constructor\n",
    "    def __init__(self):\n",
    "        self.legs = 4\n",
    "        self.domestic = True\n",
    "        self.tail = True\n",
    "        self.mammals = True\n",
    " \n",
    "    def isMammal(self):\n",
    "        if self.mammals:\n",
    "            print(\"It is a mammal.\")\n",
    " \n",
    "    def isDomestic(self):\n",
    "        if self.domestic:\n",
    "            print(\"It is a domestic animal.\")\n",
    "\n",
    "class Dogs(Animals):\n",
    "    def __init__(self):\n",
    "        super().__init__()\n",
    " \n",
    "    def isMammal(self):\n",
    "        super().isMammal()"
   ]
  },
  {
   "cell_type": "code",
   "execution_count": 30,
   "id": "2e28844a",
   "metadata": {},
   "outputs": [
    {
     "name": "stdout",
     "output_type": "stream",
     "text": [
      "6\n",
      "Berlin 60\n"
     ]
    }
   ],
   "source": [
    "class artefacts:\n",
    "    usecase = 'marketing'\n",
    "    def __init__(self, calls, emails, events):\n",
    "        self.calls = calls\n",
    "        self.emails = emails\n",
    "        self.events = events\n",
    "    def total_activity(self):\n",
    "        total = self.calls + self.emails + self.events\n",
    "        print(total)\n",
    "        \n",
    "class country(artefacts):\n",
    "    # country_usecase = super().usecase\n",
    "    def __init__(self, calls, emails, events, city='Berlin'):\n",
    "        super().__init__(calls, emails, events)\n",
    "        self.city = city\n",
    "    def total_activity(self):\n",
    "        print(self.city, end=' ')\n",
    "        super().total_activity()\n",
    "        \n",
    "obj1 = artefacts(1, 2, 3)\n",
    "obj2 = country(30, 10, 20)\n",
    "obj1.total_activity()\n",
    "obj2.total_activity()"
   ]
  }
 ],
 "metadata": {
  "kernelspec": {
   "display_name": "Python 3 (ipykernel)",
   "language": "python",
   "name": "python3"
  },
  "language_info": {
   "codemirror_mode": {
    "name": "ipython",
    "version": 3
   },
   "file_extension": ".py",
   "mimetype": "text/x-python",
   "name": "python",
   "nbconvert_exporter": "python",
   "pygments_lexer": "ipython3",
   "version": "3.9.13"
  }
 },
 "nbformat": 4,
 "nbformat_minor": 5
}

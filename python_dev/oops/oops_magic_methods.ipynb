{
 "cells": [
  {
   "cell_type": "markdown",
   "id": "a8f80844-6f2b-401e-ae34-3ddaee9de396",
   "metadata": {},
   "source": [
    "## <mark> Magic methods\n",
    "\n",
    "also called dunder methods.\n",
    "\n",
    "always wrapped by double underscores from both sides. \n",
    "\n",
    "By granting us accessibility to Python's built-in syntax tools, magic methods can improve the structure of our classes.\n",
    "\n",
    "We can integrate Python's built-in classes with our classes. \n",
    "\n",
    "The class which has inherited from the built-in class is known as a child class. A child class has access to all of the attributes of the parent class, including its methods. By utilizing the essential built-in features, we can customize some of the tasks of our class by using magic methods.\n",
    "\n",
    "not meant to be invoked directly by you, but the invocation happens internally from the class on a certain action. For example, when you add two numbers using the + operator, internally, the __add__() method will be called.b"
   ]
  },
  {
   "cell_type": "code",
   "execution_count": 1,
   "id": "7cb2a91e-418c-43e9-b385-c0a3ffb1cf57",
   "metadata": {},
   "outputs": [
    {
     "name": "stdout",
     "output_type": "stream",
     "text": [
      "15\n"
     ]
    }
   ],
   "source": [
    "num=10\n",
    "ress = num + 5\n",
    "res = num.__add__(5) \n",
    "print(res)"
   ]
  },
  {
   "cell_type": "markdown",
   "id": "1d304c6a-1d9e-44c8-96fe-427cfbde34cf",
   "metadata": {},
   "source": [
    "#### **Magic methods are most frequently used to define overloaded behaviours of predefined operators in Python.** \n",
    "\n",
    "For instance, arithmetic operators by default operate upon numeric operands. This means that numeric objects must be used along with operators like +, -, *, /, etc. The + operator is also defined as a concatenation operator in string, list and tuple classes. We can say that the + operator is overloaded.\n",
    "\n",
    "For example, in order to use the + operator with objects of a user-defined class, it should include the __add__() method."
   ]
  },
  {
   "cell_type": "markdown",
   "id": "954ca96f-c965-4d69-a201-561b5f583bd7",
   "metadata": {},
   "source": [
    "In Python the __new__() magic method is implicitly called before the __init__() method. The __new__() method returns a new object, which is then initialized by __init__().\n",
    "\n",
    "__str__(). It is overridden to return a printable string representation of any user defined class.\n",
    "\n",
    "The __ge__() method gets invoked when the >= operator is used and returns True or False. The __ ge __() method is added in the distance class to overload the >= operator."
   ]
  },
  {
   "cell_type": "code",
   "execution_count": 4,
   "id": "5c3b89f4-1f66-4e6f-9c4d-6ff65a204eb4",
   "metadata": {},
   "outputs": [],
   "source": [
    "class Employee:\n",
    "    def __new__(cls):\n",
    "        print (\"__new__ magic method is called\")\n",
    "        inst = object.__new__(cls)\n",
    "        return inst\n",
    "    def __init__(self):\n",
    "        print (\"__init__ magic method is called\")\n",
    "        self.name='Rocky'"
   ]
  },
  {
   "cell_type": "markdown",
   "id": "9936c6f3-d82b-4d49-a701-8170a2a40452",
   "metadata": {},
   "source": [
    "### <mark> Examples of magic methods"
   ]
  },
  {
   "cell_type": "markdown",
   "id": "23bf0c8f-f5e7-4fee-99e9-4bf778b8e6a3",
   "metadata": {},
   "source": [
    "    __new__(cls, other)\tTo get called in an object's instantiation.\n",
    "    __init__(self, other)\tTo get called by the __new__ method.\n",
    "    __del__(self)\tDestructor method."
   ]
  },
  {
   "cell_type": "markdown",
   "id": "d2d95650-b0f8-4f1a-9b3e-788caf45be74",
   "metadata": {},
   "source": [
    "    __pos__(self)\tTo get called for unary positive e.g. +someobject.\n",
    "    __neg__(self)\tTo get called for unary negative e.g. -someobject.\n",
    "    __abs__(self)\tTo get called by built-in abs() function.\n",
    "    __invert__(self)\tTo get called for inversion using the ~ operator.\n",
    "    __round__(self,n)\tTo get called by built-in round() function.\n",
    "    __floor__(self)\tTo get called by built-in math.floor() function.\n",
    "    __ceil__(self)\tTo get called by built-in math.ceil() function.\n",
    "    __trunc__(self)\tTo get called by built-in math.trunc() function."
   ]
  },
  {
   "cell_type": "markdown",
   "id": "6860058a-f550-4879-bdd8-4c3b00f9ab51",
   "metadata": {},
   "source": [
    "    __int__(self)\tTo get called by built-int int() method to convert a type to an int.\n",
    "    __float__(self)\tTo get called by built-int float() method to convert a type to float.\n",
    "    __complex__(self)\tTo get called by built-int complex() method to convert a type to complex.\n",
    "    __oct__(self)\tTo get called by built-int oct() method to convert a type to octal.\n",
    "    __hex__(self)\tTo get called by built-int hex() method to convert a type to hexadecimal.\n",
    "    __index__(self)\tTo get called on type conversion to an int when the object is used in a slice expression.\n",
    "    __trunc__(self)\tTo get called from math.trunc() method."
   ]
  },
  {
   "cell_type": "markdown",
   "id": "77f16c64-6ec4-44df-ac2d-ab7e76ed1c04",
   "metadata": {},
   "source": [
    "    __str__(self)\tTo get called by built-int str() method to return a string representation of a type.\n",
    "    __repr__(self)\tTo get called by built-int repr() method to return a machine readable representation of a type.\n",
    "    __unicode__(self)\tTo get called by built-int unicode() method to return an unicode string of a type.\n",
    "    __format__(self, formatstr)\tTo get called by built-int string.format() method to return a new style of string.\n",
    "    __hash__(self)\tTo get called by built-int hash() method to return an integer.\n",
    "    __nonzero__(self)\tTo get called by built-int bool() method to return True or False.\n",
    "    __dir__(self)\tTo get called by built-int dir() method to return a list of attributes of a class.\n",
    "    __sizeof__(self)\tTo get called by built-int sys.getsizeof() method to return the size of an object."
   ]
  },
  {
   "cell_type": "markdown",
   "id": "5d2fa0c0-d248-4bc8-9f82-26b22c806820",
   "metadata": {},
   "source": [
    "    __getattr__(self, name)\tIs called when the accessing attribute of a class that does not exist.\n",
    "    __setattr__(self, name, value)\tIs called when assigning a value to the attribute of a class.\n",
    "    __delattr__(self, name)\tIs called when deleting an attribute of a class."
   ]
  },
  {
   "cell_type": "markdown",
   "id": "8525f06e-c894-4074-b159-beaef2cfae25",
   "metadata": {},
   "source": [
    "    __add__(self, other)\tTo get called on add operation using + operator\n",
    "    __sub__(self, other)\tTo get called on subtraction operation using - operator.\n",
    "    __mul__(self, other)\tTo get called on multiplication operation using * operator.\n",
    "    __floordiv__(self, other)\tTo get called on floor division operation using // operator.\n",
    "    __truediv__(self, other)\tTo get called on division operation using / operator.\n",
    "    __mod__(self, other)\tTo get called on modulo operation using % operator.\n",
    "    __pow__(self, other[, modulo])\tTo get called on calculating the power using ** operator.\n",
    "    __lt__(self, other)\tTo get called on comparison using < operator.\n",
    "    __le__(self, other)\tTo get called on comparison using <= operator.\n",
    "    __eq__(self, other)\tTo get called on comparison using == operator.\n",
    "    __ne__(self, other)\tTo get called on comparison using != operator.\n",
    "    __ge__(self, other)\tTo get called on comparison using >= operator."
   ]
  },
  {
   "cell_type": "markdown",
   "id": "1581401d-1972-49f7-93ad-b2079ab4603f",
   "metadata": {},
   "source": []
  },
  {
   "cell_type": "markdown",
   "id": "01fd36b3-d9ba-431e-8fb4-7ac0b0b1c90a",
   "metadata": {},
   "source": []
  }
 ],
 "metadata": {
  "kernelspec": {
   "display_name": "Python 3 (ipykernel)",
   "language": "python",
   "name": "python3"
  },
  "language_info": {
   "codemirror_mode": {
    "name": "ipython",
    "version": 3
   },
   "file_extension": ".py",
   "mimetype": "text/x-python",
   "name": "python",
   "nbconvert_exporter": "python",
   "pygments_lexer": "ipython3",
   "version": "3.9.13"
  }
 },
 "nbformat": 4,
 "nbformat_minor": 5
}

{
 "cells": [
  {
   "cell_type": "markdown",
   "id": "901a0c7a",
   "metadata": {},
   "source": [
    "# DATACLASSES"
   ]
  },
  {
   "cell_type": "markdown",
   "id": "f11bd1a0",
   "metadata": {},
   "source": [
    "A utility tool to make structured classes **specially for storing data.**\n",
    "\n",
    "These classes hold certain properties and functions to deal specifically with the data and its representation.\n",
    "\n",
    "DataClasses are **implemented by using decorators with classes.** \n",
    "\n",
    "**Attributes are declared using Type Hints in Python**\n",
    "\n",
    "**Without a __init__() constructor**, the class accepted values and assigned it to appropriate variables.\n",
    "\n",
    "The output of printing object is a neat representation of the data present in it, without any explicit function coded to do this. That means it has a **modified __repr__() function.**\n",
    "\n",
    "helps writing **cleaner code**\n",
    "\n",
    "We can specify certain things for dataclasses:\n",
    "\n",
    "    .typing [name: str]\n",
    "    .field\n",
    "        init   # to stop user from passing any initialization value\n",
    "        default_factory    # for complicated typings\n",
    "        repr\n",
    "    .default value\n",
    "    .post_init\n",
    "    .frozen=True   # In order to freeze the dataclasse, default is False. espcially when you want your data instance to be immutable once initialized.\n",
    "\n",
    "\n",
    "Notice how without dataclasses, we need to mention the instacne varibales so many times if we want to use them:\n",
    "\n",
    "    1. during iniitialization [self.name = name]\n",
    "    2. during mehtod arguement [def lower(self.name):]\n",
    "    3. during calling that attributebb [sorted(self.names_list)]"
   ]
  },
  {
   "cell_type": "code",
   "execution_count": 5,
   "id": "c876eb73",
   "metadata": {},
   "outputs": [
    {
     "name": "stdout",
     "output_type": "stream",
     "text": [
      "Rambo, 33, 4000\n"
     ]
    }
   ],
   "source": [
    "class Person:\n",
    "    def __init__(self, name, age, salary):\n",
    "        self.name = name\n",
    "        self.age = age\n",
    "        self.salary = salary\n",
    "\n",
    "    def __str__(self):\n",
    "        return f\"{self.name}, {self.age}, {self.salary}\"\n",
    "        #print(\"current data instance is\", (self.name, self.age, self.salary))\n",
    "    \n",
    "p1 = Person('Rambo', 33, 4000)\n",
    "print(p1)"
   ]
  },
  {
   "cell_type": "markdown",
   "id": "d08862d4",
   "metadata": {},
   "source": [
    "##### Using dataclasses all this can be reduced to a more cleaner code to handle such classes"
   ]
  },
  {
   "cell_type": "code",
   "execution_count": 6,
   "id": "2b5e2631",
   "metadata": {},
   "outputs": [
    {
     "name": "stdout",
     "output_type": "stream",
     "text": [
      "Car(name='BMW', price=90000, speed=200)\n"
     ]
    }
   ],
   "source": [
    "from dataclasses import dataclass\n",
    "\n",
    "@dataclass\n",
    "class Car:\n",
    "    name: str\n",
    "    price: int\n",
    "    speed: int\n",
    "        \n",
    "c1 = Car('BMW', 90000, 200)\n",
    "print(c1)"
   ]
  },
  {
   "cell_type": "code",
   "execution_count": 3,
   "id": "57baaef0",
   "metadata": {},
   "outputs": [
    {
     "name": "stdout",
     "output_type": "stream",
     "text": [
      "GfgArticle(title='DataClasses', author='vibhu4agarwal', language=70077744596, upvotes=89)\n",
      "vibhu4agarwal\n",
      "89\n"
     ]
    }
   ],
   "source": [
    "from dataclasses import dataclass\n",
    "\n",
    "@dataclass\n",
    "class GfgArticle():\n",
    "    \"\"\"A class for holding an article content\"\"\"\n",
    "    # Attributes Declaration using Type Hints\n",
    "    title: str\n",
    "    author: str\n",
    "    language: str\n",
    "    upvotes: int\n",
    "\n",
    "# A DataClass object\n",
    "article_1 = GfgArticle(\"DataClasses\",\n",
    "                     \"vibhu4agarwal\", \n",
    "                     70077744596,  ## notice: this is not giving any error\n",
    "                     89)\n",
    "print(article_1)\n",
    "print(article_1.author)\n",
    "print(article_1.upvotes)"
   ]
  },
  {
   "cell_type": "markdown",
   "id": "f89f88dc",
   "metadata": {},
   "source": []
  },
  {
   "cell_type": "code",
   "execution_count": null,
   "id": "dc929dfd-6e3a-414d-be83-05bb581e3575",
   "metadata": {},
   "outputs": [],
   "source": [
    "import numpy as np\n",
    "from dataclasses import dataclass, field\n",
    "\n",
    "@dataclass(frozen=True)\n",
    "class Person:\n",
    "    name: str\n",
    "    addr: str\n",
    "    mobile: int\n",
    "    male: bool = True\n",
    "    email_addr: list[str] = field(default_factory=list)\n",
    "    idd: str = field(init=False, default_factory=np.random.rand())\n",
    "    password: str = field(init=False, repr=False)\n",
    "        \n",
    "    def __post_init__(self) -> None:\n",
    "        self.password = np.random.random(self.mobile)\n",
    "        # OR #self.password = f\"{self.name} {self.addr}\"\n",
    "        \n",
    "    def test_freeze(self):\n",
    "        try:\n",
    "            self.name = 'Ryan'\n",
    "            #this will throw error as dataclass is frozen, you can not assign values to the class variables\n",
    "        except:\n",
    "            print('Cannot assign any name. Its all frozen!')\n",
    "\n",
    "per1 = Person('rancho', 'US', 97687667, False, ['@yahoo','@google'])\n",
    "per1"
   ]
  },
  {
   "cell_type": "code",
   "execution_count": null,
   "id": "7ea6ac1c",
   "metadata": {},
   "outputs": [],
   "source": []
  },
  {
   "cell_type": "code",
   "execution_count": null,
   "id": "89291d68",
   "metadata": {},
   "outputs": [],
   "source": []
  }
 ],
 "metadata": {
  "kernelspec": {
   "display_name": "Python 3 (ipykernel)",
   "language": "python",
   "name": "python3"
  },
  "language_info": {
   "codemirror_mode": {
    "name": "ipython",
    "version": 3
   },
   "file_extension": ".py",
   "mimetype": "text/x-python",
   "name": "python",
   "nbconvert_exporter": "python",
   "pygments_lexer": "ipython3",
   "version": "3.9.13"
  }
 },
 "nbformat": 4,
 "nbformat_minor": 5
}

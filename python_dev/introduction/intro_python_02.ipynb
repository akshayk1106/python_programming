{
 "cells": [
  {
   "cell_type": "markdown",
   "id": "18e2be00",
   "metadata": {},
   "source": [
    "# Variables and type() function\n",
    "Type function returns the <class of the variable"
   ]
  },
  {
   "cell_type": "code",
   "execution_count": 1,
   "id": "55bff35b",
   "metadata": {},
   "outputs": [
    {
     "name": "stdout",
     "output_type": "stream",
     "text": [
      "1\n",
      "number\n"
     ]
    }
   ],
   "source": [
    "number = 1\n",
    "print(number)\n",
    "print(\"number\")"
   ]
  },
  {
   "cell_type": "code",
   "execution_count": 2,
   "id": "9dd3ba1a",
   "metadata": {},
   "outputs": [
    {
     "name": "stdout",
     "output_type": "stream",
     "text": [
      "<class 'float'>\n"
     ]
    }
   ],
   "source": [
    "a=10.1\n",
    "print(type(a))"
   ]
  },
  {
   "cell_type": "code",
   "execution_count": 3,
   "id": "9f712cfb",
   "metadata": {},
   "outputs": [
    {
     "data": {
      "text/plain": [
       "float"
      ]
     },
     "execution_count": 3,
     "metadata": {},
     "output_type": "execute_result"
    }
   ],
   "source": [
    "k=5.6\n",
    "type(k)"
   ]
  },
  {
   "cell_type": "code",
   "execution_count": 4,
   "id": "d9118a92",
   "metadata": {},
   "outputs": [
    {
     "name": "stdout",
     "output_type": "stream",
     "text": [
      "<class 'str'>\n"
     ]
    }
   ],
   "source": [
    "b=\"10.1\"\n",
    "print(type(b))"
   ]
  },
  {
   "cell_type": "code",
   "execution_count": 5,
   "id": "35103306",
   "metadata": {},
   "outputs": [
    {
     "name": "stdout",
     "output_type": "stream",
     "text": [
      "<class 'str'>\n"
     ]
    }
   ],
   "source": [
    "website=\"facebook.com\"\n",
    "print(type(website))"
   ]
  },
  {
   "cell_type": "code",
   "execution_count": 6,
   "id": "2f1faeb4",
   "metadata": {},
   "outputs": [
    {
     "name": "stdout",
     "output_type": "stream",
     "text": [
      "5 5.9 value\n"
     ]
    }
   ],
   "source": [
    "x,y,z=5,5.9,\"value\"\n",
    "print(x ,y, z)"
   ]
  },
  {
   "cell_type": "code",
   "execution_count": 7,
   "id": "788be2d3",
   "metadata": {},
   "outputs": [
    {
     "ename": "SyntaxError",
     "evalue": "cannot assign to literal (<ipython-input-7-30944d6e1451>, line 3)",
     "output_type": "error",
     "traceback": [
      "\u001b[1;36m  File \u001b[1;32m\"<ipython-input-7-30944d6e1451>\"\u001b[1;36m, line \u001b[1;32m3\u001b[0m\n\u001b[1;33m    x=2,y=3,z=5\u001b[0m\n\u001b[1;37m      ^\u001b[0m\n\u001b[1;31mSyntaxError\u001b[0m\u001b[1;31m:\u001b[0m cannot assign to literal\n"
     ]
    }
   ],
   "source": [
    "#invalid syntax\n",
    "\n",
    "x=2,y=3,z=5\n",
    "print(x,y,z)\n",
    "\n",
    "#cannot assign to literal"
   ]
  },
  {
   "cell_type": "code",
   "execution_count": 1,
   "id": "3167983f",
   "metadata": {},
   "outputs": [
    {
     "name": "stdout",
     "output_type": "stream",
     "text": [
      "data\n"
     ]
    }
   ],
   "source": [
    "a=c=y=\"data\"\n",
    "print(c)"
   ]
  },
  {
   "cell_type": "markdown",
   "id": "0ba0ace5",
   "metadata": {},
   "source": [
    "# help() function"
   ]
  },
  {
   "cell_type": "code",
   "execution_count": 2,
   "id": "2971c66d",
   "metadata": {
    "scrolled": true
   },
   "outputs": [
    {
     "name": "stdout",
     "output_type": "stream",
     "text": [
      "Help on built-in function print in module builtins:\n",
      "\n",
      "print(...)\n",
      "    print(value, ..., sep=' ', end='\\n', file=sys.stdout, flush=False)\n",
      "    \n",
      "    Prints the values to a stream, or to sys.stdout by default.\n",
      "    Optional keyword arguments:\n",
      "    file:  a file-like object (stream); defaults to the current sys.stdout.\n",
      "    sep:   string inserted between values, default a space.\n",
      "    end:   string appended after the last value, default a newline.\n",
      "    flush: whether to forcibly flush the stream.\n",
      "\n"
     ]
    }
   ],
   "source": [
    "help(print)\n",
    "#print is : built in function\n",
    "#Has 4 optional keyword argueemnts : sep, end, file, flush"
   ]
  },
  {
   "cell_type": "code",
   "execution_count": 1,
   "id": "67c37a03",
   "metadata": {
    "scrolled": true
   },
   "outputs": [
    {
     "name": "stdout",
     "output_type": "stream",
     "text": [
      "Help on class type in module builtins:\n",
      "\n",
      "class type(object)\n",
      " |  type(object_or_name, bases, dict)\n",
      " |  type(object) -> the object's type\n",
      " |  type(name, bases, dict) -> a new type\n",
      " |  \n",
      " |  Methods defined here:\n",
      " |  \n",
      " |  __call__(self, /, *args, **kwargs)\n",
      " |      Call self as a function.\n",
      " |  \n",
      " |  __delattr__(self, name, /)\n",
      " |      Implement delattr(self, name).\n",
      " |  \n",
      " |  __dir__(self, /)\n",
      " |      Specialized __dir__ implementation for types.\n",
      " |  \n",
      " |  __getattribute__(self, name, /)\n",
      " |      Return getattr(self, name).\n",
      " |  \n",
      " |  __init__(self, /, *args, **kwargs)\n",
      " |      Initialize self.  See help(type(self)) for accurate signature.\n",
      " |  \n",
      " |  __instancecheck__(self, instance, /)\n",
      " |      Check if an object is an instance.\n",
      " |  \n",
      " |  __repr__(self, /)\n",
      " |      Return repr(self).\n",
      " |  \n",
      " |  __setattr__(self, name, value, /)\n",
      " |      Implement setattr(self, name, value).\n",
      " |  \n",
      " |  __sizeof__(self, /)\n",
      " |      Return memory consumption of the type object.\n",
      " |  \n",
      " |  __subclasscheck__(self, subclass, /)\n",
      " |      Check if a class is a subclass.\n",
      " |  \n",
      " |  __subclasses__(self, /)\n",
      " |      Return a list of immediate subclasses.\n",
      " |  \n",
      " |  mro(self, /)\n",
      " |      Return a type's method resolution order.\n",
      " |  \n",
      " |  ----------------------------------------------------------------------\n",
      " |  Class methods defined here:\n",
      " |  \n",
      " |  __prepare__(...)\n",
      " |      __prepare__() -> dict\n",
      " |      used to create the namespace for the class statement\n",
      " |  \n",
      " |  ----------------------------------------------------------------------\n",
      " |  Static methods defined here:\n",
      " |  \n",
      " |  __new__(*args, **kwargs)\n",
      " |      Create and return a new object.  See help(type) for accurate signature.\n",
      " |  \n",
      " |  ----------------------------------------------------------------------\n",
      " |  Data descriptors defined here:\n",
      " |  \n",
      " |  __abstractmethods__\n",
      " |  \n",
      " |  __dict__\n",
      " |  \n",
      " |  __text_signature__\n",
      " |  \n",
      " |  ----------------------------------------------------------------------\n",
      " |  Data and other attributes defined here:\n",
      " |  \n",
      " |  __base__ = <class 'object'>\n",
      " |      The base class of the class hierarchy.\n",
      " |      \n",
      " |      When called, it accepts no arguments and returns a new featureless\n",
      " |      instance that has no instance attributes and cannot be given any.\n",
      " |  \n",
      " |  __bases__ = (<class 'object'>,)\n",
      " |  \n",
      " |  __basicsize__ = 880\n",
      " |  \n",
      " |  __dictoffset__ = 264\n",
      " |  \n",
      " |  __flags__ = 2148291584\n",
      " |  \n",
      " |  __itemsize__ = 40\n",
      " |  \n",
      " |  __mro__ = (<class 'type'>, <class 'object'>)\n",
      " |  \n",
      " |  __weakrefoffset__ = 368\n",
      "\n"
     ]
    }
   ],
   "source": [
    "help(type)"
   ]
  },
  {
   "cell_type": "code",
   "execution_count": 3,
   "id": "d707915b",
   "metadata": {},
   "outputs": [
    {
     "name": "stdout",
     "output_type": "stream",
     "text": [
      "data\n"
     ]
    }
   ],
   "source": [
    "print(a)\n",
    "#shift+tab"
   ]
  },
  {
   "cell_type": "markdown",
   "id": "35da89bb",
   "metadata": {},
   "source": [
    "####  sep=' ' and end=' ' \n",
    "The are positional arguements of print() function"
   ]
  },
  {
   "cell_type": "code",
   "execution_count": 6,
   "id": "88b41422",
   "metadata": {},
   "outputs": [
    {
     "name": "stdout",
     "output_type": "stream",
     "text": [
      "Python@@Development@@Course..."
     ]
    }
   ],
   "source": [
    "x=\"Python\"\n",
    "y=\"Development\"\n",
    "z=\"Course\"\n",
    "print(x,y,z,sep='@@',end='...')"
   ]
  },
  {
   "cell_type": "code",
   "execution_count": 2,
   "id": "0ec33731",
   "metadata": {},
   "outputs": [
    {
     "ename": "SyntaxError",
     "evalue": "positional argument follows keyword argument (<ipython-input-2-9b91d0945361>, line 1)",
     "output_type": "error",
     "traceback": [
      "\u001b[1;36m  File \u001b[1;32m\"<ipython-input-2-9b91d0945361>\"\u001b[1;36m, line \u001b[1;32m1\u001b[0m\n\u001b[1;33m    print(x,y,z,sep='@@',end='...',\"At Velocity\")\u001b[0m\n\u001b[1;37m                                   ^\u001b[0m\n\u001b[1;31mSyntaxError\u001b[0m\u001b[1;31m:\u001b[0m positional argument follows keyword argument\n"
     ]
    }
   ],
   "source": [
    "print(x,y,z,sep='@@',end='...',\"At Velocity\")"
   ]
  },
  {
   "cell_type": "code",
   "execution_count": 5,
   "id": "0edd7313",
   "metadata": {},
   "outputs": [
    {
     "name": "stdout",
     "output_type": "stream",
     "text": [
      "123\n",
      "56**89\n",
      "1234\n"
     ]
    }
   ],
   "source": [
    "print(\"123\")\n",
    "print('56',end=\"**\") #notice here 89 is continued on same line\n",
    "print(\"89\")\n",
    "print(\"1234\")"
   ]
  },
  {
   "cell_type": "code",
   "execution_count": 6,
   "id": "1f1a000a",
   "metadata": {},
   "outputs": [
    {
     "name": "stdout",
     "output_type": "stream",
     "text": [
      "3*6*means*18\n"
     ]
    }
   ],
   "source": [
    "a=3\n",
    "b=6\n",
    "d=\"means\"\n",
    "c=18\n",
    "print(a,b,d,c,sep=\"*\")"
   ]
  },
  {
   "cell_type": "markdown",
   "id": "a35fd71c",
   "metadata": {},
   "source": [
    "# The .format() method of printing using number indexing {}\n",
    "\n",
    "-Python's str. format() technique of the string category permits you to try and ***do \"variable substitutions\" and \"data formatting\"***. This enables you ***\"to concatenate parts of a string at desired intervals\"*** through point data format."
   ]
  },
  {
   "cell_type": "code",
   "execution_count": 2,
   "id": "11e64556",
   "metadata": {},
   "outputs": [
    {
     "name": "stdout",
     "output_type": "stream",
     "text": [
      "the names are ram and shyam and om\n"
     ]
    }
   ],
   "source": [
    "#format method of printing using number indexing\n",
    "a=\"ram\"\n",
    "b=\"shyam\"\n",
    "c=\"om\"\n",
    "print(\"the names are {0} and {1} and {2}\".format(a,b,c))"
   ]
  },
  {
   "cell_type": "code",
   "execution_count": 8,
   "id": "d11ce46d",
   "metadata": {},
   "outputs": [
    {
     "name": "stdout",
     "output_type": "stream",
     "text": [
      "the names are om and ram and shyam\n"
     ]
    }
   ],
   "source": [
    "print(\"the names are {2} and {0} and {1}\".format(a,b,c))"
   ]
  },
  {
   "cell_type": "code",
   "execution_count": 3,
   "id": "9f6a7694",
   "metadata": {},
   "outputs": [
    {
     "name": "stdout",
     "output_type": "stream",
     "text": [
      "the names are ram and shyam and om\n"
     ]
    }
   ],
   "source": [
    "print(\"the names are {2} and {0} and {1}\".format(b,c,a))"
   ]
  },
  {
   "cell_type": "code",
   "execution_count": 10,
   "id": "81b88ab3",
   "metadata": {},
   "outputs": [
    {
     "name": "stdout",
     "output_type": "stream",
     "text": [
      "The colours are blue and red and pink\n"
     ]
    }
   ],
   "source": [
    "#NAMED INDEXING .format()\n",
    "print(\"The colours are {b} and {a} and {c}\".format(c=\"pink\",b=\"blue\",a=\"red\"))"
   ]
  },
  {
   "cell_type": "code",
   "execution_count": 11,
   "id": "c264d947",
   "metadata": {
    "scrolled": true
   },
   "outputs": [
    {
     "name": "stdout",
     "output_type": "stream",
     "text": [
      "The colours are 20 and blue and red \n",
      "Thank You!\n"
     ]
    }
   ],
   "source": [
    "#EMPTY PLACEHOLDER\n",
    "a=\"red\"\n",
    "b=\"blue\"\n",
    "c=4\n",
    "print(\"The colours are {} and {} and {}\".format(c*5,b,a),\"\\nThank You!\")"
   ]
  },
  {
   "cell_type": "markdown",
   "id": "fcdf93be",
   "metadata": {},
   "source": [
    "#### f string - Formated string literals\n",
    "-.format() becomes difficult to use when there are many variables.\n",
    "\n",
    "-f-strings are string literals that have an ***f at the beginning and curly braces containing expressions*** that will be replaced with their values. The expressions are evaluated at runtime and then formatted using the _format__ protocol. "
   ]
  },
  {
   "cell_type": "code",
   "execution_count": 1,
   "id": "1af55154",
   "metadata": {
    "scrolled": true
   },
   "outputs": [
    {
     "name": "stdout",
     "output_type": "stream",
     "text": [
      "The colours are red and blue and 4\n"
     ]
    }
   ],
   "source": [
    "a=\"red\"\n",
    "b=\"blue\"\n",
    "c=4\n",
    "print(f\"The colours are {a} and {b} and {c}\")"
   ]
  },
  {
   "cell_type": "markdown",
   "id": "173ffb22",
   "metadata": {},
   "source": [
    "# Valid and invalid syntax for variable and printing"
   ]
  },
  {
   "cell_type": "code",
   "execution_count": 12,
   "id": "9e4e3559",
   "metadata": {},
   "outputs": [
    {
     "name": "stdout",
     "output_type": "stream",
     "text": [
      "1 2 3\n"
     ]
    }
   ],
   "source": [
    "a=1\n",
    "b=2\n",
    "c=3\n",
    "print(a,b,c)"
   ]
  },
  {
   "cell_type": "code",
   "execution_count": 13,
   "id": "0838a855",
   "metadata": {},
   "outputs": [
    {
     "name": "stdout",
     "output_type": "stream",
     "text": [
      "1 2 3\n"
     ]
    }
   ],
   "source": [
    "a=1;b=2;c=3\n",
    "print(a,b,c)"
   ]
  },
  {
   "cell_type": "markdown",
   "id": "dcc335c8",
   "metadata": {},
   "source": [
    "#invalid syntax\n",
    "\n",
    "x=2,y=3,z=5\n",
    "print(x,y,z)\n",
    "\n",
    "#cannot assign to literal\n",
    "#Error is shown because end of a sentenced cant be done with a comma as it becomes a sentence"
   ]
  },
  {
   "cell_type": "code",
   "execution_count": 4,
   "id": "716ce50f",
   "metadata": {},
   "outputs": [
    {
     "name": "stdout",
     "output_type": "stream",
     "text": [
      "1 2 3\n",
      "(1, 2, 3, 4)\n"
     ]
    },
    {
     "data": {
      "text/plain": [
       "tuple"
      ]
     },
     "execution_count": 4,
     "metadata": {},
     "output_type": "execute_result"
    }
   ],
   "source": [
    "a,b,c = 1,2,3\n",
    "print(a,b,c)\n",
    "#Here a,b,c is not a tupple\n",
    "\n",
    "#But below d id a tuple though rounds () not used\n",
    "d=1,2,3,4\n",
    "print(d)\n",
    "type(d)"
   ]
  }
 ],
 "metadata": {
  "kernelspec": {
   "display_name": "Python 3",
   "language": "python",
   "name": "python3"
  },
  "language_info": {
   "codemirror_mode": {
    "name": "ipython",
    "version": 3
   },
   "file_extension": ".py",
   "mimetype": "text/x-python",
   "name": "python",
   "nbconvert_exporter": "python",
   "pygments_lexer": "ipython3",
   "version": "3.8.8"
  }
 },
 "nbformat": 4,
 "nbformat_minor": 5
}

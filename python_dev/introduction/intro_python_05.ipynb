{
 "cells": [
  {
   "cell_type": "markdown",
   "id": "0de403f1",
   "metadata": {},
   "source": [
    "### Use of import function\n",
    "\n",
    "import keyword \n",
    "\n",
    "Python3.7(33)\n",
    "Python3.8(35)\n",
    "\n",
    "only 3 have first letter capital: True, False, None"
   ]
  },
  {
   "cell_type": "code",
   "execution_count": 3,
   "id": "ff3edc27",
   "metadata": {},
   "outputs": [
    {
     "name": "stdout",
     "output_type": "stream",
     "text": [
      "['False', 'None', 'True', 'and', 'as', 'assert', 'async', 'await', 'break', 'class', 'continue', 'def', 'del', 'elif', 'else', 'except', 'finally', 'for', 'from', 'global', 'if', 'import', 'in', 'is', 'lambda', 'nonlocal', 'not', 'or', 'pass', 'raise', 'return', 'try', 'while', 'with', 'yield']\n"
     ]
    }
   ],
   "source": [
    "print(keyword.kwlist)"
   ]
  },
  {
   "cell_type": "markdown",
   "id": "929d26d5",
   "metadata": {},
   "source": [
    "#### use of backslash \\ or rounds () for next line command"
   ]
  },
  {
   "cell_type": "code",
   "execution_count": 4,
   "id": "57d63f0b",
   "metadata": {},
   "outputs": [
    {
     "data": {
      "text/plain": [
       "15"
      ]
     },
     "execution_count": 4,
     "metadata": {},
     "output_type": "execute_result"
    }
   ],
   "source": [
    "w=1+2+3+\\\n",
    "4+5\n",
    "w"
   ]
  },
  {
   "cell_type": "code",
   "execution_count": 5,
   "id": "942f9438",
   "metadata": {},
   "outputs": [
    {
     "data": {
      "text/plain": [
       "15"
      ]
     },
     "execution_count": 5,
     "metadata": {},
     "output_type": "execute_result"
    }
   ],
   "source": [
    "r=(1+2+3+\n",
    "   \n",
    "   \n",
    "4+5)\n",
    "r"
   ]
  },
  {
   "cell_type": "code",
   "execution_count": 11,
   "id": "c16f7613",
   "metadata": {},
   "outputs": [
    {
     "name": "stdout",
     "output_type": "stream",
     "text": [
      "1\n",
      "2\n",
      "3\n",
      "4\n",
      "5\n",
      "6\n",
      "7\n",
      "8\n",
      "9\n",
      "10\n"
     ]
    }
   ],
   "source": [
    "for i in range(1,11):\n",
    "    print(i)"
   ]
  },
  {
   "cell_type": "markdown",
   "id": "8dd57482",
   "metadata": {},
   "source": [
    "#### Comments\n",
    "\n",
    "\"\"\"multiline\"\"\"\n",
    "\n",
    "#single line"
   ]
  },
  {
   "cell_type": "code",
   "execution_count": 12,
   "id": "f3f34e59",
   "metadata": {},
   "outputs": [
    {
     "name": "stdout",
     "output_type": "stream",
     "text": [
      "1\n",
      "2\n",
      "3\n",
      "4\n",
      "5\n",
      "6\n",
      "7\n",
      "8\n",
      "9\n",
      "10\n"
     ]
    }
   ],
   "source": [
    "for i in range(1,11):\n",
    "    print(i)\n",
    "    \n",
    "# this is for comments"
   ]
  },
  {
   "cell_type": "code",
   "execution_count": 7,
   "id": "80977da5",
   "metadata": {},
   "outputs": [
    {
     "data": {
      "text/plain": [
       "str"
      ]
     },
     "execution_count": 7,
     "metadata": {},
     "output_type": "execute_result"
    }
   ],
   "source": [
    "type(\"\"\"this is \n",
    "multiline \n",
    "comment\"\"\")"
   ]
  },
  {
   "cell_type": "markdown",
   "id": "a681cb7e",
   "metadata": {},
   "source": [
    "#### Doc String \n",
    "\n",
    "function.__doc__  : To know the purpose of a function. It is function specific"
   ]
  },
  {
   "cell_type": "code",
   "execution_count": 1,
   "id": "86f4cafa",
   "metadata": {},
   "outputs": [],
   "source": [
    "def velocity(num):\n",
    "    \"Function to double the value\"\n",
    "    return 2*num"
   ]
  },
  {
   "cell_type": "code",
   "execution_count": 3,
   "id": "9b749194",
   "metadata": {},
   "outputs": [
    {
     "name": "stdout",
     "output_type": "stream",
     "text": [
      "Function to double the value\n"
     ]
    }
   ],
   "source": [
    "print(velocity.__doc__)"
   ]
  }
 ],
 "metadata": {
  "kernelspec": {
   "display_name": "Python 3",
   "language": "python",
   "name": "python3"
  },
  "language_info": {
   "codemirror_mode": {
    "name": "ipython",
    "version": 3
   },
   "file_extension": ".py",
   "mimetype": "text/x-python",
   "name": "python",
   "nbconvert_exporter": "python",
   "pygments_lexer": "ipython3",
   "version": "3.8.8"
  }
 },
 "nbformat": 4,
 "nbformat_minor": 5
}

{
 "cells": [
  {
   "cell_type": "markdown",
   "id": "96a81adc",
   "metadata": {},
   "source": [
    "## Assignment on Web Scrapping from flipkart:\n",
    "        Name: Akshay Kumbhar, Group D"
   ]
  },
  {
   "cell_type": "markdown",
   "id": "fbe77732",
   "metadata": {},
   "source": [
    "#### Importing necessary modules"
   ]
  },
  {
   "cell_type": "code",
   "execution_count": 1,
   "id": "b71c4c12",
   "metadata": {},
   "outputs": [],
   "source": [
    "import bs4\n",
    "from bs4 import BeautifulSoup\n",
    "import requests\n",
    "import pandas as pd"
   ]
  },
  {
   "cell_type": "markdown",
   "id": "291dc1b0",
   "metadata": {},
   "source": [
    "#### Create a soup of html content\n",
    "        WebScrap data from flikart websiteabout laptops: names, features, price and ratings"
   ]
  },
  {
   "cell_type": "code",
   "execution_count": 4,
   "id": "c8a771ce",
   "metadata": {
    "scrolled": true
   },
   "outputs": [],
   "source": [
    "flipkart='https://www.flipkart.com/laptops/pr?sid=6bo,b5g&otracker=categorytree&fm=neo%2Fmerchandising&iid=M_ca1232bb-d54d-48f8-a89b-8f965d535ad9_1_372UD5BXDFYS_MC.34WHNYFH5V2Y&otracker=hp_rich_navigation_7_1.navigationCard.RICH_NAVIGATION_Electronics~Laptop%2Band%2BDesktop_34WHNYFH5V2Y&otracker1=hp_rich_navigation_PINNED_neo%2Fmerchandising_NA_NAV_EXPANDABLE_navigationCard_cc_7_L1_view-all&cid=34WHNYFH5V2Y'\n",
    "#Class of name:_4rR01T\n",
    "#Class  of prices:_30jeq3 _1_WHN1\n",
    "#Class of ratings:_3LWZ1K\n",
    "\n",
    "source=requests.get(flipkart)\n",
    "\n",
    "soup=BeautifulSoup(source.text, 'html')"
   ]
  },
  {
   "cell_type": "markdown",
   "id": "33e60161",
   "metadata": {},
   "source": [
    "#### Details of FIRST product on the wesite"
   ]
  },
  {
   "cell_type": "code",
   "execution_count": 5,
   "id": "9217ad66",
   "metadata": {},
   "outputs": [],
   "source": [
    "product=soup.find('div',class_='_4rR01T')\n",
    "\n",
    "price=soup.find('div',class_='_30jeq3 _1_WHN1')\n",
    "\n",
    "rating=soup.find('div',class_='gUuXy-')"
   ]
  },
  {
   "cell_type": "code",
   "execution_count": 6,
   "id": "46ad2669",
   "metadata": {
    "scrolled": true
   },
   "outputs": [
    {
     "name": "stdout",
     "output_type": "stream",
     "text": [
      "acer Aspire 7 Ryzen 5 Quad Core 3550H - (8 GB/512 GB SSD/Windows 10 Home/4 GB Graphics/NVIDIA GeForce ...\n"
     ]
    }
   ],
   "source": [
    "print(product.text)"
   ]
  },
  {
   "cell_type": "code",
   "execution_count": 7,
   "id": "1c2a54a3",
   "metadata": {},
   "outputs": [
    {
     "name": "stdout",
     "output_type": "stream",
     "text": [
      "₹51,990\n"
     ]
    }
   ],
   "source": [
    "print(price.text)"
   ]
  },
  {
   "cell_type": "code",
   "execution_count": 8,
   "id": "7f682d5d",
   "metadata": {},
   "outputs": [
    {
     "name": "stdout",
     "output_type": "stream",
     "text": [
      "4.46\n"
     ]
    }
   ],
   "source": [
    "print(rating.text.split(',')[0])"
   ]
  },
  {
   "cell_type": "code",
   "execution_count": 9,
   "id": "50432bc6",
   "metadata": {},
   "outputs": [
    {
     "data": {
      "text/plain": [
       "'acer Aspire 7 Ryzen 5 Quad Core 3550H '"
      ]
     },
     "execution_count": 9,
     "metadata": {},
     "output_type": "execute_result"
    }
   ],
   "source": [
    "#splitting the laptop name and its features\n",
    "\n",
    "lap=product.text.split(\"- (\")[0]\n",
    "lap"
   ]
  },
  {
   "cell_type": "code",
   "execution_count": 10,
   "id": "5492d687",
   "metadata": {},
   "outputs": [
    {
     "data": {
      "text/plain": [
       "'8 GB/512 GB SSD/Windows 10 Home/4 GB Graphics/NVIDIA GeForce ...'"
      ]
     },
     "execution_count": 10,
     "metadata": {},
     "output_type": "execute_result"
    }
   ],
   "source": [
    "featur=product.text.split(\"- (\")[1]\n",
    "featur"
   ]
  },
  {
   "cell_type": "markdown",
   "id": "7159fc4f",
   "metadata": {},
   "source": [
    "#### Getting details of ALL products on the website into a list"
   ]
  },
  {
   "cell_type": "code",
   "execution_count": 11,
   "id": "6c5bf114",
   "metadata": {},
   "outputs": [],
   "source": [
    "products=soup.find_all('div',class_='_4rR01T')\n",
    "\n",
    "prices=soup.find_all('div',class_='_30jeq3 _1_WHN1')\n",
    "\n",
    "ratings=soup.find_all('div',class_='gUuXy-')"
   ]
  },
  {
   "cell_type": "code",
   "execution_count": 16,
   "id": "7ab6ea6f",
   "metadata": {},
   "outputs": [],
   "source": [
    "products_list=[x.text.split(\"- (\")[0] for x in products]\n",
    "\n",
    "prices_list=[x.text for x in prices]\n",
    "\n",
    "ratings_list=[x.text.split(',')[0][0:5] for x in ratings]\n",
    "\n",
    "features_list=[x.text.split(\"- (\")[1] for x in products]"
   ]
  },
  {
   "cell_type": "markdown",
   "id": "db483131",
   "metadata": {},
   "source": [
    "#### Creating a dataframe and exporting it to csv file"
   ]
  },
  {
   "cell_type": "code",
   "execution_count": 17,
   "id": "863df1e2",
   "metadata": {},
   "outputs": [],
   "source": [
    "df=pd.DataFrame({\n",
    "    \"Price\":prices_list,\n",
    "    \"Ratings\":ratings_list,\n",
    "    \"Product_name\":products_list,\n",
    "    \"Features\":features_list\n",
    "})"
   ]
  },
  {
   "cell_type": "code",
   "execution_count": 18,
   "id": "dad9bb20",
   "metadata": {},
   "outputs": [],
   "source": [
    "df.to_csv(\"Flipkart_Laptop.csv\", index=False)"
   ]
  },
  {
   "cell_type": "markdown",
   "id": "a1e3e4c1",
   "metadata": {},
   "source": [
    "#### Reading the Data from the csv file"
   ]
  },
  {
   "cell_type": "code",
   "execution_count": 19,
   "id": "59944005",
   "metadata": {},
   "outputs": [
    {
     "data": {
      "text/html": [
       "<div>\n",
       "<style scoped>\n",
       "    .dataframe tbody tr th:only-of-type {\n",
       "        vertical-align: middle;\n",
       "    }\n",
       "\n",
       "    .dataframe tbody tr th {\n",
       "        vertical-align: top;\n",
       "    }\n",
       "\n",
       "    .dataframe thead th {\n",
       "        text-align: right;\n",
       "    }\n",
       "</style>\n",
       "<table border=\"1\" class=\"dataframe\">\n",
       "  <thead>\n",
       "    <tr style=\"text-align: right;\">\n",
       "      <th></th>\n",
       "      <th>Price</th>\n",
       "      <th>Ratings</th>\n",
       "      <th>Product_name</th>\n",
       "      <th>Features</th>\n",
       "    </tr>\n",
       "  </thead>\n",
       "  <tbody>\n",
       "    <tr>\n",
       "      <th>0</th>\n",
       "      <td>₹51,990</td>\n",
       "      <td>4.460</td>\n",
       "      <td>acer Aspire 7 Ryzen 5 Quad Core 3550H</td>\n",
       "      <td>8 GB/512 GB SSD/Windows 10 Home/4 GB Graphics/...</td>\n",
       "    </tr>\n",
       "    <tr>\n",
       "      <th>1</th>\n",
       "      <td>₹42,990</td>\n",
       "      <td>4.541</td>\n",
       "      <td>HP 15s Ryzen 3 Quad Core 5300U</td>\n",
       "      <td>8 GB/512 GB SSD/Windows 10 Home) 15s- EQ2042AU...</td>\n",
       "    </tr>\n",
       "    <tr>\n",
       "      <th>2</th>\n",
       "      <td>₹37,590</td>\n",
       "      <td>4.240</td>\n",
       "      <td>HP 15s Ryzen 3 Dual Core 3250U</td>\n",
       "      <td>8 GB/1 TB HDD/Windows 10 Home) 15s-GR0011AU Th...</td>\n",
       "    </tr>\n",
       "    <tr>\n",
       "      <th>3</th>\n",
       "      <td>₹45,990</td>\n",
       "      <td>42.000</td>\n",
       "      <td>ASUS VivoBook 15 Core i5 10th Gen</td>\n",
       "      <td>8 GB/1 TB HDD/Windows 10 Home) X515JA-EJ501T T...</td>\n",
       "    </tr>\n",
       "    <tr>\n",
       "      <th>4</th>\n",
       "      <td>₹28,990</td>\n",
       "      <td>3.910</td>\n",
       "      <td>ASUS Celeron Dual Core</td>\n",
       "      <td>4 GB/1 TB HDD/Windows 10 Home) X543MA-GQ1015T ...</td>\n",
       "    </tr>\n",
       "    <tr>\n",
       "      <th>5</th>\n",
       "      <td>₹63,990</td>\n",
       "      <td>4.667</td>\n",
       "      <td>HP Pavilion Ryzen 5 Hexa Core 5600H</td>\n",
       "      <td>8 GB/512 GB SSD/Windows 10 Home/4 GB Graphics/...</td>\n",
       "    </tr>\n",
       "    <tr>\n",
       "      <th>6</th>\n",
       "      <td>₹66,990</td>\n",
       "      <td>4.611</td>\n",
       "      <td>ASUS TUF Gaming A17 Ryzen 5 Hexa Core 4600H</td>\n",
       "      <td>16 GB/512 GB SSD/Windows 10 Home/4 GB Graphics...</td>\n",
       "    </tr>\n",
       "    <tr>\n",
       "      <th>7</th>\n",
       "      <td>₹58,990</td>\n",
       "      <td>4.596</td>\n",
       "      <td>ASUS TUF Gaming F15 Core i5 10th Gen</td>\n",
       "      <td>8 GB/512 GB SSD/Windows 10 Home/4 GB Graphics/...</td>\n",
       "    </tr>\n",
       "    <tr>\n",
       "      <th>8</th>\n",
       "      <td>₹62,990</td>\n",
       "      <td>4.517</td>\n",
       "      <td>ASUS TUF Gaming A17 Ryzen 5 Hexa Core 4600H</td>\n",
       "      <td>8 GB/512 GB SSD/Windows 10 Home/4 GB Graphics/...</td>\n",
       "    </tr>\n",
       "    <tr>\n",
       "      <th>9</th>\n",
       "      <td>₹40,990</td>\n",
       "      <td>4.131</td>\n",
       "      <td>HP 15s Core i3 10th Gen</td>\n",
       "      <td>8 GB/1 TB HDD/Windows 10 Home) 15s-DU1066TU Th...</td>\n",
       "    </tr>\n",
       "    <tr>\n",
       "      <th>10</th>\n",
       "      <td>₹39,190</td>\n",
       "      <td>4.259</td>\n",
       "      <td>DELL Vostro Core i3 10th Gen</td>\n",
       "      <td>8 GB/256 GB SSD/Windows 10 Home) Vostro 3401 T...</td>\n",
       "    </tr>\n",
       "    <tr>\n",
       "      <th>11</th>\n",
       "      <td>₹38,990</td>\n",
       "      <td>4.280</td>\n",
       "      <td>Lenovo IdeaPad Core i3 10th Gen</td>\n",
       "      <td>8 GB/256 GB SSD/Windows 10 Home) 14 IML 05 Thi...</td>\n",
       "    </tr>\n",
       "    <tr>\n",
       "      <th>12</th>\n",
       "      <td>₹59,990</td>\n",
       "      <td>4.624</td>\n",
       "      <td>HP 15-ec1105AX Ryzen 5 Hexa Core 4600H</td>\n",
       "      <td>8 GB/512 GB SSD/Windows 10 Home/4 GB Graphics/...</td>\n",
       "    </tr>\n",
       "    <tr>\n",
       "      <th>13</th>\n",
       "      <td>₹39,170</td>\n",
       "      <td>4.212</td>\n",
       "      <td>DELL Inspiron Ryzen 3 Dual Core 3250U</td>\n",
       "      <td>8 GB/256 GB SSD/Windows 10) INSPIRON 3505 Laptop</td>\n",
       "    </tr>\n",
       "    <tr>\n",
       "      <th>14</th>\n",
       "      <td>₹56,990</td>\n",
       "      <td>4.466</td>\n",
       "      <td>acer Aspire 7 Core i5 10th Gen</td>\n",
       "      <td>8 GB/512 GB SSD/Windows 10 Home/4 GB Graphics/...</td>\n",
       "    </tr>\n",
       "    <tr>\n",
       "      <th>15</th>\n",
       "      <td>₹39,490</td>\n",
       "      <td>4.517</td>\n",
       "      <td>acer Aspire 5 Core i3 11th Gen</td>\n",
       "      <td>8 GB/1 TB HDD/Windows 10 Home) A514-54 Thin an...</td>\n",
       "    </tr>\n",
       "    <tr>\n",
       "      <th>16</th>\n",
       "      <td>₹36,057</td>\n",
       "      <td>4.245</td>\n",
       "      <td>DELL Vostro Core i3 10th Gen</td>\n",
       "      <td>4 GB/256 GB SSD/Windows 10 Home) Vostro 3401 T...</td>\n",
       "    </tr>\n",
       "    <tr>\n",
       "      <th>17</th>\n",
       "      <td>₹41,150</td>\n",
       "      <td>4.223</td>\n",
       "      <td>DELL Vostro Core i3 11th Gen</td>\n",
       "      <td>8 GB/256 GB SSD/Windows 10) VOSTRO 3400 Thin a...</td>\n",
       "    </tr>\n",
       "    <tr>\n",
       "      <th>18</th>\n",
       "      <td>₹44,490</td>\n",
       "      <td>4.324</td>\n",
       "      <td>Lenovo IdeaPad 3 Core i3 11th Gen</td>\n",
       "      <td>8 GB/512 GB SSD/Windows 10 Home) 15ITL6 Thin a...</td>\n",
       "    </tr>\n",
       "    <tr>\n",
       "      <th>19</th>\n",
       "      <td>₹57,490</td>\n",
       "      <td>4.370</td>\n",
       "      <td>DELL Inspiron 3501 Core i5 11th Gen</td>\n",
       "      <td>8 GB/1 TB HDD/256 GB SSD/Windows 10 Home) Insp...</td>\n",
       "    </tr>\n",
       "    <tr>\n",
       "      <th>20</th>\n",
       "      <td>₹57,990</td>\n",
       "      <td>4.224</td>\n",
       "      <td>HP Pavilion Gaming Ryzen 5 Hexa Core 4600H</td>\n",
       "      <td>8 GB/1 TB HDD/Windows 10 Home/4 GB Graphics/NV...</td>\n",
       "    </tr>\n",
       "    <tr>\n",
       "      <th>21</th>\n",
       "      <td>₹1,54,990</td>\n",
       "      <td>4.860</td>\n",
       "      <td>ASUS ROG Strix G15 (2021) Advantage Edition Ry...</td>\n",
       "      <td>16 GB/1 TB SSD/Windows 10 Home...</td>\n",
       "    </tr>\n",
       "    <tr>\n",
       "      <th>22</th>\n",
       "      <td>₹59,490</td>\n",
       "      <td>4.210</td>\n",
       "      <td>DELL Inspiron Core i5 11th Gen</td>\n",
       "      <td>8 GB/1 TB HDD/256 GB SSD/Windows 10) INSPIRON ...</td>\n",
       "    </tr>\n",
       "    <tr>\n",
       "      <th>23</th>\n",
       "      <td>₹64,990</td>\n",
       "      <td>4.810</td>\n",
       "      <td>HP Pavilion Ryzen 5 Hexa Core 4600H</td>\n",
       "      <td>8 GB/1 TB HDD/256 GB SSD/Windows 10 Home/4 GB ...</td>\n",
       "    </tr>\n",
       "  </tbody>\n",
       "</table>\n",
       "</div>"
      ],
      "text/plain": [
       "        Price  Ratings                                       Product_name  \\\n",
       "0     ₹51,990    4.460             acer Aspire 7 Ryzen 5 Quad Core 3550H    \n",
       "1     ₹42,990    4.541                    HP 15s Ryzen 3 Quad Core 5300U    \n",
       "2     ₹37,590    4.240                    HP 15s Ryzen 3 Dual Core 3250U    \n",
       "3     ₹45,990   42.000                 ASUS VivoBook 15 Core i5 10th Gen    \n",
       "4     ₹28,990    3.910                            ASUS Celeron Dual Core    \n",
       "5     ₹63,990    4.667               HP Pavilion Ryzen 5 Hexa Core 5600H    \n",
       "6     ₹66,990    4.611       ASUS TUF Gaming A17 Ryzen 5 Hexa Core 4600H    \n",
       "7     ₹58,990    4.596              ASUS TUF Gaming F15 Core i5 10th Gen    \n",
       "8     ₹62,990    4.517       ASUS TUF Gaming A17 Ryzen 5 Hexa Core 4600H    \n",
       "9     ₹40,990    4.131                           HP 15s Core i3 10th Gen    \n",
       "10    ₹39,190    4.259                      DELL Vostro Core i3 10th Gen    \n",
       "11    ₹38,990    4.280                   Lenovo IdeaPad Core i3 10th Gen    \n",
       "12    ₹59,990    4.624            HP 15-ec1105AX Ryzen 5 Hexa Core 4600H    \n",
       "13    ₹39,170    4.212             DELL Inspiron Ryzen 3 Dual Core 3250U    \n",
       "14    ₹56,990    4.466                    acer Aspire 7 Core i5 10th Gen    \n",
       "15    ₹39,490    4.517                    acer Aspire 5 Core i3 11th Gen    \n",
       "16    ₹36,057    4.245                      DELL Vostro Core i3 10th Gen    \n",
       "17    ₹41,150    4.223                      DELL Vostro Core i3 11th Gen    \n",
       "18    ₹44,490    4.324                 Lenovo IdeaPad 3 Core i3 11th Gen    \n",
       "19    ₹57,490    4.370               DELL Inspiron 3501 Core i5 11th Gen    \n",
       "20    ₹57,990    4.224        HP Pavilion Gaming Ryzen 5 Hexa Core 4600H    \n",
       "21  ₹1,54,990    4.860  ASUS ROG Strix G15 (2021) Advantage Edition Ry...   \n",
       "22    ₹59,490    4.210                    DELL Inspiron Core i5 11th Gen    \n",
       "23    ₹64,990    4.810               HP Pavilion Ryzen 5 Hexa Core 4600H    \n",
       "\n",
       "                                             Features  \n",
       "0   8 GB/512 GB SSD/Windows 10 Home/4 GB Graphics/...  \n",
       "1   8 GB/512 GB SSD/Windows 10 Home) 15s- EQ2042AU...  \n",
       "2   8 GB/1 TB HDD/Windows 10 Home) 15s-GR0011AU Th...  \n",
       "3   8 GB/1 TB HDD/Windows 10 Home) X515JA-EJ501T T...  \n",
       "4   4 GB/1 TB HDD/Windows 10 Home) X543MA-GQ1015T ...  \n",
       "5   8 GB/512 GB SSD/Windows 10 Home/4 GB Graphics/...  \n",
       "6   16 GB/512 GB SSD/Windows 10 Home/4 GB Graphics...  \n",
       "7   8 GB/512 GB SSD/Windows 10 Home/4 GB Graphics/...  \n",
       "8   8 GB/512 GB SSD/Windows 10 Home/4 GB Graphics/...  \n",
       "9   8 GB/1 TB HDD/Windows 10 Home) 15s-DU1066TU Th...  \n",
       "10  8 GB/256 GB SSD/Windows 10 Home) Vostro 3401 T...  \n",
       "11  8 GB/256 GB SSD/Windows 10 Home) 14 IML 05 Thi...  \n",
       "12  8 GB/512 GB SSD/Windows 10 Home/4 GB Graphics/...  \n",
       "13   8 GB/256 GB SSD/Windows 10) INSPIRON 3505 Laptop  \n",
       "14  8 GB/512 GB SSD/Windows 10 Home/4 GB Graphics/...  \n",
       "15  8 GB/1 TB HDD/Windows 10 Home) A514-54 Thin an...  \n",
       "16  4 GB/256 GB SSD/Windows 10 Home) Vostro 3401 T...  \n",
       "17  8 GB/256 GB SSD/Windows 10) VOSTRO 3400 Thin a...  \n",
       "18  8 GB/512 GB SSD/Windows 10 Home) 15ITL6 Thin a...  \n",
       "19  8 GB/1 TB HDD/256 GB SSD/Windows 10 Home) Insp...  \n",
       "20  8 GB/1 TB HDD/Windows 10 Home/4 GB Graphics/NV...  \n",
       "21                  16 GB/1 TB SSD/Windows 10 Home...  \n",
       "22  8 GB/1 TB HDD/256 GB SSD/Windows 10) INSPIRON ...  \n",
       "23  8 GB/1 TB HDD/256 GB SSD/Windows 10 Home/4 GB ...  "
      ]
     },
     "execution_count": 19,
     "metadata": {},
     "output_type": "execute_result"
    }
   ],
   "source": [
    "import pandas as pd\n",
    "laptops=pd.read_csv(\"Flipkart_Laptop.csv\")\n",
    "\n",
    "data_df=pd.DataFrame(laptops)\n",
    "\n",
    "data_df"
   ]
  },
  {
   "cell_type": "code",
   "execution_count": null,
   "id": "3e1afb43",
   "metadata": {
    "scrolled": true
   },
   "outputs": [],
   "source": []
  }
 ],
 "metadata": {
  "kernelspec": {
   "display_name": "Python 3",
   "language": "python",
   "name": "python3"
  },
  "language_info": {
   "codemirror_mode": {
    "name": "ipython",
    "version": 3
   },
   "file_extension": ".py",
   "mimetype": "text/x-python",
   "name": "python",
   "nbconvert_exporter": "python",
   "pygments_lexer": "ipython3",
   "version": "3.8.8"
  }
 },
 "nbformat": 4,
 "nbformat_minor": 5
}
